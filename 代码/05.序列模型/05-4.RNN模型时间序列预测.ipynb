{
 "cells": [
  {
   "cell_type": "code",
   "execution_count": 1,
   "id": "fcac24cc",
   "metadata": {},
   "outputs": [],
   "source": [
    "import torch\n",
    "# 需命令行执行：\n",
    "# pip install pytorch-nlp\n",
    "import torchnlp\n",
    "import torch.nn as nn\n",
    "from torchnlp.word_to_vector import GloVe\n",
    "import numpy as np\n",
    "import torch\n",
    "import torch.nn as nn\n",
    "import torch.optim as optim\n",
    "from matplotlib import pyplot as plt"
   ]
  },
  {
   "cell_type": "markdown",
   "id": "8e367f10",
   "metadata": {},
   "source": [
    "# 模型定义（RNN模型）"
   ]
  },
  {
   "cell_type": "code",
   "execution_count": 2,
   "id": "47e62494",
   "metadata": {},
   "outputs": [],
   "source": [
    "num_time_steps = 50\n",
    "input_size = 1\n",
    "hidden_size = 16\n",
    "output_size = 1\n",
    "lr = 0.01"
   ]
  },
  {
   "cell_type": "code",
   "execution_count": 3,
   "id": "4050558c",
   "metadata": {},
   "outputs": [],
   "source": [
    "class Net(nn.Module):\n",
    "    def __init__(self, ):\n",
    "        super(Net, self).__init__()\n",
    "        self.rnn = nn.RNN(\n",
    "            input_size=input_size,\n",
    "            hidden_size=hidden_size,\n",
    "            num_layers=1,\n",
    "            batch_first=True,\n",
    "        )\n",
    "        for p in self.rnn.parameters():\n",
    "            nn.init.normal_(p, mean=0.0, std=0.001)\n",
    "        self.linear = nn.Linear(hidden_size, output_size)\n",
    "\n",
    "    def forward(self, x, hidden_prev):\n",
    "        out, hidden_prev = self.rnn(x, hidden_prev)\n",
    "        # [batch_size, seq_len, hidden_size] -> [batch_size * seq_len, hidden_size]\n",
    "        out = out.view(-1, hidden_size)\n",
    "        # [batch_size * seq_len, hidden_size] -> [batch_size * seq_len, output_size]\n",
    "        out = self.linear(out)\n",
    "        # [batch_size * seq_len, output_size] -> [1, batch_size * seq_len, output_size] = [1, 1 * num_time_steps, output_size]\n",
    "        out = out.unsqueeze(dim=0)\n",
    "        return out, hidden_prev"
   ]
  },
  {
   "cell_type": "code",
   "execution_count": 4,
   "id": "212bf1cf",
   "metadata": {},
   "outputs": [],
   "source": [
    "model = Net()\n",
    "criterion = nn.MSELoss()\n",
    "optimizer = optim.Adam(model.parameters(), lr)\n",
    "# [num_layers: 1, batch_size: 1, hidden_size: 16]\n",
    "hidden_prev = torch.zeros(1, 1, hidden_size)"
   ]
  },
  {
   "cell_type": "markdown",
   "id": "90691b2d",
   "metadata": {},
   "source": [
    "# 模型训练"
   ]
  },
  {
   "cell_type": "code",
   "execution_count": 5,
   "id": "89bd2f6c",
   "metadata": {},
   "outputs": [
    {
     "name": "stdout",
     "output_type": "stream",
     "text": [
      "Iteration: 0 loss 0.5259910225868225\n",
      "Iteration: 100 loss 0.013296027667820454\n",
      "Iteration: 200 loss 0.003657276276499033\n",
      "Iteration: 300 loss 0.004061360377818346\n",
      "Iteration: 400 loss 0.002555051352828741\n",
      "Iteration: 500 loss 0.00138002447783947\n"
     ]
    }
   ],
   "source": [
    "# for iter in range(6000):\n",
    "for iter in range(600):\n",
    "    # np.random.randint(low, high=None, size=None, dtype='l')\n",
    "    # 如果high为None，则low为最大值，生成的随机整数范围是[0, low)\n",
    "    # 随机起始整数\n",
    "    start = np.random.randint(3, size=1)[0]\n",
    "    # 时间步\n",
    "    time_steps = np.linspace(start, start + 10, num_time_steps)\n",
    "    # 一维数据\n",
    "    data = np.sin(time_steps)\n",
    "    # 二维数据\n",
    "    data = data.reshape(num_time_steps, 1)\n",
    "    # 三维数据（上一个）[batch_size = 1, seq_len = num_time_steps - 1, word_vec = 1]\n",
    "    x = torch.tensor(data[:-1]).float().view(1, num_time_steps - 1, 1)\n",
    "    # 三维数据（下一个）[batch_size = 1, seq_len = num_time_steps - 1, word_vec = 1]\n",
    "    y = torch.tensor(data[1:]).float().view(1, num_time_steps - 1, 1)\n",
    "    # output: [1, 1 * num_time_steps - 1, 1]\n",
    "    # hidden_prev: [1, 1, 16]\n",
    "    output, hidden_prev = model(x, hidden_prev)\n",
    "    # requires_grad改为false\n",
    "    hidden_prev = hidden_prev.detach()\n",
    "    loss = criterion(output, y)\n",
    "    model.zero_grad()\n",
    "    loss.backward()\n",
    "    # for p in model.parameters():\n",
    "    #     print(p.grad.norm())\n",
    "    # torch.nn.utils.clip_grad_norm_(p, 10)\n",
    "    optimizer.step()\n",
    "    if iter % 100 == 0:\n",
    "        print(\"Iteration: {} loss {}\".format(iter, loss.item()))"
   ]
  },
  {
   "cell_type": "markdown",
   "id": "f4df746a",
   "metadata": {},
   "source": [
    "# 模型预测"
   ]
  },
  {
   "cell_type": "code",
   "execution_count": 6,
   "id": "6a4441ad",
   "metadata": {
    "scrolled": true
   },
   "outputs": [
    {
     "data": {
      "image/png": "[encoded data removed]",
      "text/plain": [
       "<Figure size 640x480 with 1 Axes>"
      ]
     },
     "metadata": {},
     "output_type": "display_data"
    }
   ],
   "source": [
    "# 生成的随机整数范围是[0, 3)\n",
    "start = np.random.randint(3, size=1)[0]\n",
    "# 均分数组\n",
    "time_steps = np.linspace(start, start + 10, num_time_steps)\n",
    "# 生成数据\n",
    "data = np.sin(time_steps)\n",
    "data = data.reshape(num_time_steps, 1)\n",
    "# 生成x（上一个数据）\n",
    "x = torch.tensor(data[:-1]).float().view(1, num_time_steps - 1, 1)\n",
    "# 生成y（下一个数据）\n",
    "y = torch.tensor(data[1:]).float().view(1, num_time_steps - 1, 1)\n",
    "predictions = []\n",
    "# 第一个预测输入值\n",
    "input = x[:, 0, :]\n",
    "for _ in range(x.shape[1]):\n",
    "    input = input.view(1, 1, 1)\n",
    "    (pred, hidden_prev) = model(input, hidden_prev)\n",
    "    # 上一个预测输出值，也是下一个预测输入值\n",
    "    input = pred\n",
    "    # 保存预测结果到predictions\n",
    "    # ravel函数用于将多维数组展平为一维数组\n",
    "    predictions.append(pred.detach().numpy().ravel()[0])\n",
    "x = x.data.numpy().ravel()\n",
    "y = y.data.numpy().ravel()\n",
    "# 绘制x散点图\n",
    "plt.scatter(time_steps[:-1], x.ravel(), s=90, c='r')\n",
    "# 绘制x折线图\n",
    "# plt.plot(time_steps[:-1], x.ravel())\n",
    "# 绘制y散点图\n",
    "# plt.scatter(time_steps[1:], y.ravel(), s=90, c='g')\n",
    "# 绘制预测结果散点图\n",
    "plt.scatter(time_steps[1:], predictions, s=90, c='b')\n",
    "plt.show()"
   ]
  },
  {
   "cell_type": "code",
   "execution_count": null,
   "id": "0e3e217f",
   "metadata": {},
   "outputs": [],
   "source": []
  }
 ],
 "metadata": {
  "kernelspec": {
   "display_name": "Python 3 (ipykernel)",
   "language": "python",
   "name": "python3"
  },
  "language_info": {
   "codemirror_mode": {
    "name": "ipython",
    "version": 3
   },
   "file_extension": ".py",
   "mimetype": "text/x-python",
   "name": "python",
   "nbconvert_exporter": "python",
   "pygments_lexer": "ipython3",
   "version": "3.9.21"
  },
  "toc": {
   "base_numbering": 1,
   "nav_menu": {},
   "number_sections": true,
   "sideBar": true,
   "skip_h1_title": false,
   "title_cell": "Table of Contents",
   "title_sidebar": "Contents",
   "toc_cell": false,
   "toc_position": {
    "height": "calc(100% - 180px)",
    "left": "10px",
    "top": "150px",
    "width": "232.784px"
   },
   "toc_section_display": true,
   "toc_window_display": true
  }
 },
 "nbformat": 4,
 "nbformat_minor": 5
}
