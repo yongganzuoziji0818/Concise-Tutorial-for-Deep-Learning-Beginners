{
 "cells": [
  {
   "cell_type": "code",
   "execution_count": 138,
   "id": "fcac24cc",
   "metadata": {},
   "outputs": [],
   "source": [
    "import torch\n",
    "import torch.nn as nn"
   ]
  },
  {
   "cell_type": "markdown",
   "id": "eb7fbcb8",
   "metadata": {},
   "source": [
    "# RNN"
   ]
  },
  {
   "cell_type": "markdown",
   "id": "bc764ab7",
   "metadata": {},
   "source": [
    "![title](image/rnn.png)"
   ]
  },
  {
   "cell_type": "markdown",
   "id": "c593d5d2",
   "metadata": {},
   "source": [
    "## nn.RNNCell"
   ]
  },
  {
   "cell_type": "code",
   "execution_count": 139,
   "id": "2aa4d540-003f-4c52-addc-e99e978993a9",
   "metadata": {},
   "outputs": [],
   "source": [
    "# 一次处理一个单词"
   ]
  },
  {
   "cell_type": "markdown",
   "id": "c240494d",
   "metadata": {},
   "source": [
    "### Single Cell"
   ]
  },
  {
   "cell_type": "code",
   "execution_count": 142,
   "id": "c60b3f83",
   "metadata": {},
   "outputs": [
    {
     "data": {
      "text/plain": [
       "torch.Size([10, 3, 100])"
      ]
     },
     "execution_count": 142,
     "metadata": {},
     "output_type": "execute_result"
    }
   ],
   "source": [
    "# x: [seq_len: 10, batch_size: 3, word_vec: 100]\n",
    "x.shape"
   ]
  },
  {
   "cell_type": "code",
   "execution_count": 143,
   "id": "2e3cfd8a",
   "metadata": {},
   "outputs": [
    {
     "data": {
      "text/plain": [
       "RNNCell(100, 20)"
      ]
     },
     "execution_count": 143,
     "metadata": {},
     "output_type": "execute_result"
    }
   ],
   "source": [
    "# input_size, hidden_size\n",
    "cell1 = nn.RNNCell(100, 20)\n",
    "cell1"
   ]
  },
  {
   "cell_type": "code",
   "execution_count": 144,
   "id": "54d9b2a7",
   "metadata": {},
   "outputs": [
    {
     "data": {
      "text/plain": [
       "odict_keys(['weight_ih', 'weight_hh', 'bias_ih', 'bias_hh'])"
      ]
     },
     "execution_count": 144,
     "metadata": {},
     "output_type": "execute_result"
    }
   ],
   "source": [
    "cell1._parameters.keys()"
   ]
  },
  {
   "cell_type": "code",
   "execution_count": 145,
   "id": "571a0cf4",
   "metadata": {},
   "outputs": [
    {
     "data": {
      "text/plain": [
       "(torch.Size([20, 100]),\n",
       " torch.Size([20, 20]),\n",
       " torch.Size([20]),\n",
       " torch.Size([20]))"
      ]
     },
     "execution_count": 145,
     "metadata": {},
     "output_type": "execute_result"
    }
   ],
   "source": [
    "cell1.weight_ih.shape, cell1.weight_hh.shape, cell1.bias_ih.shape, cell1.bias_hh.shape"
   ]
  },
  {
   "cell_type": "code",
   "execution_count": 146,
   "id": "e35c6c88",
   "metadata": {},
   "outputs": [],
   "source": [
    "# h1: [batch_size: 3, hidden_size: 20]\n",
    "h1 = torch.zeros(3, 20)"
   ]
  },
  {
   "cell_type": "code",
   "execution_count": 147,
   "id": "b8d7a866",
   "metadata": {},
   "outputs": [],
   "source": [
    "# x: torch.Size([10, 3, 100])\n",
    "# xt: torch.Size([3, 100])\n",
    "for xt in x:\n",
    "    # h1: [batch_size: 3, hidden_size: 20]\n",
    "    # cell1 = nn.RNNCell(100, 20)\n",
    "    h1 = cell1(xt, h1)"
   ]
  },
  {
   "cell_type": "code",
   "execution_count": 148,
   "id": "c427b963",
   "metadata": {},
   "outputs": [
    {
     "name": "stdout",
     "output_type": "stream",
     "text": [
      "torch.Size([3, 20])\n"
     ]
    }
   ],
   "source": [
    "print(h1.shape)"
   ]
  },
  {
   "cell_type": "markdown",
   "id": "e14b99b6",
   "metadata": {},
   "source": [
    "### Two Cells"
   ]
  },
  {
   "cell_type": "code",
   "execution_count": 149,
   "id": "747c2550",
   "metadata": {},
   "outputs": [],
   "source": [
    "# input_size, hidden_size\n",
    "cell1 = nn.RNNCell(100, 30)\n",
    "cell2 = nn.RNNCell(30, 20)"
   ]
  },
  {
   "cell_type": "code",
   "execution_count": 150,
   "id": "ff49de1c",
   "metadata": {},
   "outputs": [],
   "source": [
    "# h1: [batch_size: 3, hidden_size: 30]\n",
    "h1 = torch.zeros(3, 30)\n",
    "# h2: [batch_size: 3, hidden_size: 20]\n",
    "h2 = torch.zeros(3, 20)"
   ]
  },
  {
   "cell_type": "code",
   "execution_count": 151,
   "id": "41b41ec4",
   "metadata": {},
   "outputs": [],
   "source": [
    "# x: torch.Size([10, 3, 100])\n",
    "# xt: torch.Size([3, 100])\n",
    "for xt in x:\n",
    "    # h1: [batch_size: 3, hidden_size: 30]\n",
    "    h1 = cell1(xt, h1)\n",
    "    # h2: [batch_size: 3, hidden_size: 20]\n",
    "    h2 = cell2(h1, h2)"
   ]
  },
  {
   "cell_type": "code",
   "execution_count": 152,
   "id": "b3c7f14c",
   "metadata": {},
   "outputs": [
    {
     "data": {
      "text/plain": [
       "(torch.Size([3, 30]), torch.Size([3, 20]))"
      ]
     },
     "execution_count": 152,
     "metadata": {},
     "output_type": "execute_result"
    }
   ],
   "source": [
    "h1.shape, h2.shape"
   ]
  },
  {
   "cell_type": "markdown",
   "id": "9eb0356c",
   "metadata": {},
   "source": [
    "## nn.RNN"
   ]
  },
  {
   "cell_type": "code",
   "execution_count": 153,
   "id": "67d9986f-0573-4f99-ac94-26711ae7eb97",
   "metadata": {},
   "outputs": [],
   "source": [
    "# 一次处理一个句子"
   ]
  },
  {
   "cell_type": "code",
   "execution_count": 154,
   "id": "cfe4c85d",
   "metadata": {},
   "outputs": [
    {
     "data": {
      "text/plain": [
       "RNN(100, 10, num_layers=3)"
      ]
     },
     "execution_count": 154,
     "metadata": {},
     "output_type": "execute_result"
    }
   ],
   "source": [
    "# input_size, hidden_size, num_layers\n",
    "rnn = nn.RNN(100, 10, 3)\n",
    "rnn"
   ]
  },
  {
   "cell_type": "code",
   "execution_count": 155,
   "id": "3da845e3",
   "metadata": {},
   "outputs": [
    {
     "data": {
      "text/plain": [
       "odict_keys(['weight_ih_l0', 'weight_hh_l0', 'bias_ih_l0', 'bias_hh_l0', 'weight_ih_l1', 'weight_hh_l1', 'bias_ih_l1', 'bias_hh_l1', 'weight_ih_l2', 'weight_hh_l2', 'bias_ih_l2', 'bias_hh_l2'])"
      ]
     },
     "execution_count": 155,
     "metadata": {},
     "output_type": "execute_result"
    }
   ],
   "source": [
    "# 参数名称\n",
    "rnn._parameters.keys()"
   ]
  },
  {
   "cell_type": "code",
   "execution_count": 156,
   "id": "e1bb93be",
   "metadata": {},
   "outputs": [
    {
     "data": {
      "text/plain": [
       "(torch.Size([10, 100]),\n",
       " torch.Size([10, 10]),\n",
       " torch.Size([10]),\n",
       " torch.Size([10]))"
      ]
     },
     "execution_count": 156,
     "metadata": {},
     "output_type": "execute_result"
    }
   ],
   "source": [
    "# 第一层参数shape\n",
    "rnn.weight_ih_l0.shape, rnn.weight_hh_l0.shape, rnn.bias_ih_l0.shape, rnn.bias_hh_l0.shape"
   ]
  },
  {
   "cell_type": "code",
   "execution_count": 157,
   "id": "186ba75e",
   "metadata": {
    "scrolled": true
   },
   "outputs": [
    {
     "data": {
      "text/plain": [
       "(torch.Size([10, 10]),\n",
       " torch.Size([10, 10]),\n",
       " torch.Size([10]),\n",
       " torch.Size([10]))"
      ]
     },
     "execution_count": 157,
     "metadata": {},
     "output_type": "execute_result"
    }
   ],
   "source": [
    "# 第二层参数shape\n",
    "rnn.weight_ih_l1.shape, rnn.weight_hh_l1.shape, rnn.bias_ih_l1.shape, rnn.bias_hh_l1.shape"
   ]
  },
  {
   "cell_type": "code",
   "execution_count": 158,
   "id": "49341b61-72d4-4766-8d96-3064cadc5852",
   "metadata": {},
   "outputs": [
    {
     "data": {
      "text/plain": [
       "(torch.Size([10, 10]),\n",
       " torch.Size([10, 10]),\n",
       " torch.Size([10]),\n",
       " torch.Size([10]))"
      ]
     },
     "execution_count": 158,
     "metadata": {},
     "output_type": "execute_result"
    }
   ],
   "source": [
    "# 第三层参数shape\n",
    "rnn.weight_ih_l2.shape, rnn.weight_hh_l2.shape, rnn.bias_ih_l2.shape, rnn.bias_hh_l2.shape"
   ]
  },
  {
   "cell_type": "markdown",
   "id": "4c1c06c4",
   "metadata": {},
   "source": [
    "### Single Layer RNN"
   ]
  },
  {
   "cell_type": "code",
   "execution_count": 159,
   "id": "6abc9904",
   "metadata": {},
   "outputs": [
    {
     "data": {
      "text/plain": [
       "RNN(100, 20)"
      ]
     },
     "execution_count": 159,
     "metadata": {},
     "output_type": "execute_result"
    }
   ],
   "source": [
    "rnn = nn.RNN(input_size=100, hidden_size=20, num_layers=1)\n",
    "rnn"
   ]
  },
  {
   "cell_type": "code",
   "execution_count": 160,
   "id": "b8078f2d",
   "metadata": {},
   "outputs": [],
   "source": [
    "# x: [seq_len: 10, batch_size: 3, word_vec: 100]\n",
    "# seq_len：句子长度\n",
    "# batch_size：批量大小\n",
    "# word_vec：每个单词向量长度\n",
    "x = torch.randn(10, 3, 100)"
   ]
  },
  {
   "cell_type": "code",
   "execution_count": 161,
   "id": "8afe7c76",
   "metadata": {},
   "outputs": [
    {
     "name": "stdout",
     "output_type": "stream",
     "text": [
      "torch.Size([10, 3, 20]) torch.Size([1, 3, 20])\n"
     ]
    }
   ],
   "source": [
    "# out: [seq_len: 10, batch_size:3, hidden_size: 20]\n",
    "# ht: [num_layers: 1, batch_size: 3, hidden_size: 20]\n",
    "out, ht = rnn(x)\n",
    "print(out.shape, ht.shape)"
   ]
  },
  {
   "cell_type": "code",
   "execution_count": 162,
   "id": "f95cb118",
   "metadata": {},
   "outputs": [],
   "source": [
    "# h0: [num_layers: 1, batch_size: 3, hidden_size: 20]\n",
    "# num_layers：隐藏层层数\n",
    "# batch_size：批量大小\n",
    "# hidden_size：隐藏层大小\n",
    "h0 = torch.zeros(1, 3, 20)"
   ]
  },
  {
   "cell_type": "code",
   "execution_count": 163,
   "id": "439cdf8b",
   "metadata": {},
   "outputs": [
    {
     "name": "stdout",
     "output_type": "stream",
     "text": [
      "torch.Size([10, 3, 20]) torch.Size([1, 3, 20])\n"
     ]
    }
   ],
   "source": [
    "# out: [seq_len: 10, batch_size:3, hidden_size: 20]\n",
    "# ht: [num_layers: 1, batch_size: 3, hidden_size: 20]\n",
    "out, ht = rnn(x, h0)\n",
    "print(out.shape, ht.shape)"
   ]
  },
  {
   "cell_type": "markdown",
   "id": "6c78a357",
   "metadata": {},
   "source": [
    "### Multi Layer RNN"
   ]
  },
  {
   "cell_type": "code",
   "execution_count": 164,
   "id": "4b45a42c",
   "metadata": {},
   "outputs": [
    {
     "data": {
      "text/plain": [
       "RNN(100, 20, num_layers=4)"
      ]
     },
     "execution_count": 164,
     "metadata": {},
     "output_type": "execute_result"
    }
   ],
   "source": [
    "rnn = nn.RNN(input_size=100, hidden_size=20, num_layers=4)\n",
    "rnn"
   ]
  },
  {
   "cell_type": "code",
   "execution_count": 165,
   "id": "c0dac03c",
   "metadata": {},
   "outputs": [],
   "source": [
    "# x: [seq_len: 10, batch_size: 3, word_vec: 100]\n",
    "# seq_len：句子长度\n",
    "# batch_size：批量大小\n",
    "# word_vec：每个单词向量长度\n",
    "x = torch.randn(10, 3, 100)"
   ]
  },
  {
   "cell_type": "code",
   "execution_count": 166,
   "id": "1268282a",
   "metadata": {},
   "outputs": [
    {
     "name": "stdout",
     "output_type": "stream",
     "text": [
      "torch.Size([10, 3, 20]) torch.Size([4, 3, 20])\n"
     ]
    }
   ],
   "source": [
    "# out: [seq_len: 10, batch_size:3, hidden_size: 20]\n",
    "# ht: [num_layers: 4, batch_size: 3, hidden_size: 20]\n",
    "out, ht = rnn(x)\n",
    "print(out.shape, ht.shape)"
   ]
  },
  {
   "cell_type": "code",
   "execution_count": 167,
   "id": "d0788a1f",
   "metadata": {},
   "outputs": [],
   "source": [
    "# h0: [num_layers: 4, batch_size: 3, hidden_size: 20]\n",
    "# num_layers：隐藏层层数\n",
    "# batch_size：批量大小\n",
    "# hidden_size：隐藏层大小\n",
    "h0 = torch.zeros(4, 3, 20)"
   ]
  },
  {
   "cell_type": "code",
   "execution_count": 168,
   "id": "48764b06",
   "metadata": {},
   "outputs": [
    {
     "name": "stdout",
     "output_type": "stream",
     "text": [
      "torch.Size([10, 3, 20]) torch.Size([4, 3, 20])\n"
     ]
    }
   ],
   "source": [
    "# out: [seq_len: 10, batch_size:3, hidden_size: 20]\n",
    "# ht: [num_layers: 4, batch_size: 3, hidden_size: 20]\n",
    "out, ht = rnn(x, h0)\n",
    "print(out.shape, ht.shape)"
   ]
  },
  {
   "cell_type": "markdown",
   "id": "817250b2-a405-410d-9190-7faaeb69f99e",
   "metadata": {},
   "source": [
    "### 双向Multi Layer RNN"
   ]
  },
  {
   "cell_type": "code",
   "execution_count": 169,
   "id": "c1612390-176b-4377-bc86-65353e547797",
   "metadata": {},
   "outputs": [
    {
     "data": {
      "text/plain": [
       "RNN(100, 20, num_layers=4, bidirectional=True)"
      ]
     },
     "execution_count": 169,
     "metadata": {},
     "output_type": "execute_result"
    }
   ],
   "source": [
    "rnn = nn.RNN(input_size=100, hidden_size=20, num_layers=4, bidirectional=True)\n",
    "rnn"
   ]
  },
  {
   "cell_type": "code",
   "execution_count": 170,
   "id": "fb3e0425-3358-482b-b1db-fc9f63eb5f88",
   "metadata": {},
   "outputs": [],
   "source": [
    "# [seq_len, batch_size, word_vec]\n",
    "x = torch.randn(10, 3, 100)"
   ]
  },
  {
   "cell_type": "code",
   "execution_count": 171,
   "id": "f9cae88d-24ab-4810-9e7d-2a36a30dabe2",
   "metadata": {},
   "outputs": [
    {
     "data": {
      "text/plain": [
       "(torch.Size([10, 3, 40]), torch.Size([8, 3, 20]))"
      ]
     },
     "execution_count": 171,
     "metadata": {},
     "output_type": "execute_result"
    }
   ],
   "source": [
    "# out: [seq_len: 10, batch_size: 3, hidden_size: 20]\n",
    "# h: [num_layers: 4, batch_size: 3, hidden_size: 20]\n",
    "# c: [num_layers: 4, batch_size: 3, hidden_size: 20]\n",
    "out, ht = rnn(x)\n",
    "out.shape, ht.shape"
   ]
  },
  {
   "cell_type": "markdown",
   "id": "67ba4505",
   "metadata": {},
   "source": [
    "# LSTM"
   ]
  },
  {
   "cell_type": "markdown",
   "id": "6172cbe7",
   "metadata": {},
   "source": [
    "## nn.LSTMCell"
   ]
  },
  {
   "cell_type": "code",
   "execution_count": 172,
   "id": "db123f89-8967-47e4-9189-6f190b9c7eca",
   "metadata": {},
   "outputs": [],
   "source": [
    "# 一次处理一个单词"
   ]
  },
  {
   "cell_type": "markdown",
   "id": "ab1372cd",
   "metadata": {},
   "source": [
    "### Single Cell"
   ]
  },
  {
   "cell_type": "code",
   "execution_count": 173,
   "id": "6cf67cfc",
   "metadata": {},
   "outputs": [
    {
     "data": {
      "text/plain": [
       "torch.Size([10, 3, 100])"
      ]
     },
     "execution_count": 173,
     "metadata": {},
     "output_type": "execute_result"
    }
   ],
   "source": [
    "x = torch.randn(10, 3, 100)\n",
    "# x: [seq_len: 10, batch_size: 3, word_vec: 100]\n",
    "x.shape"
   ]
  },
  {
   "cell_type": "code",
   "execution_count": 174,
   "id": "72eb2980",
   "metadata": {},
   "outputs": [],
   "source": [
    "cell = nn.LSTMCell(input_size=100, hidden_size=20)"
   ]
  },
  {
   "cell_type": "code",
   "execution_count": 175,
   "id": "74e50890",
   "metadata": {},
   "outputs": [
    {
     "data": {
      "text/plain": [
       "odict_keys(['weight_ih', 'weight_hh', 'bias_ih', 'bias_hh'])"
      ]
     },
     "execution_count": 175,
     "metadata": {},
     "output_type": "execute_result"
    }
   ],
   "source": [
    "cell._parameters.keys()"
   ]
  },
  {
   "cell_type": "code",
   "execution_count": 176,
   "id": "37846ae6",
   "metadata": {},
   "outputs": [
    {
     "data": {
      "text/plain": [
       "(torch.Size([80, 100]),\n",
       " torch.Size([80, 20]),\n",
       " torch.Size([80]),\n",
       " torch.Size([80]))"
      ]
     },
     "execution_count": 176,
     "metadata": {},
     "output_type": "execute_result"
    }
   ],
   "source": [
    "cell.weight_ih.shape, cell.weight_hh.shape, cell.bias_ih.shape, cell.bias_hh.shape"
   ]
  },
  {
   "cell_type": "code",
   "execution_count": 180,
   "id": "d665ff16",
   "metadata": {},
   "outputs": [],
   "source": [
    "h = torch.randn(3, 20)\n",
    "c = torch.randn(3, 20)"
   ]
  },
  {
   "cell_type": "code",
   "execution_count": 181,
   "id": "03886831",
   "metadata": {},
   "outputs": [],
   "source": [
    "for xt in x:\n",
    "    h, c = cell(xt, (h, c))"
   ]
  },
  {
   "cell_type": "code",
   "execution_count": 182,
   "id": "95a6ad1f",
   "metadata": {},
   "outputs": [
    {
     "data": {
      "text/plain": [
       "(torch.Size([3, 20]), torch.Size([3, 20]))"
      ]
     },
     "execution_count": 182,
     "metadata": {},
     "output_type": "execute_result"
    }
   ],
   "source": [
    "h.shape, c.shape"
   ]
  },
  {
   "cell_type": "markdown",
   "id": "ca72865f",
   "metadata": {},
   "source": [
    "### Two Cells"
   ]
  },
  {
   "cell_type": "code",
   "execution_count": 183,
   "id": "595d8f05",
   "metadata": {},
   "outputs": [
    {
     "data": {
      "text/plain": [
       "torch.Size([10, 3, 100])"
      ]
     },
     "execution_count": 183,
     "metadata": {},
     "output_type": "execute_result"
    }
   ],
   "source": [
    "x = torch.randn(10, 3, 100)\n",
    "# x: [seq_len: 10, batch_size: 3, word_vec: 100]\n",
    "x.shape"
   ]
  },
  {
   "cell_type": "code",
   "execution_count": 184,
   "id": "b7067387",
   "metadata": {},
   "outputs": [],
   "source": [
    "cell1 = nn.LSTMCell(input_size=100, hidden_size=30)\n",
    "cell2 = nn.LSTMCell(input_size=30, hidden_size=20)"
   ]
  },
  {
   "cell_type": "code",
   "execution_count": 185,
   "id": "260281b7",
   "metadata": {},
   "outputs": [],
   "source": [
    "h1 = torch.randn(3, 30)\n",
    "c1 = torch.randn(3, 30)\n",
    "h2 = torch.randn(3, 20)\n",
    "c2 = torch.randn(3, 20)"
   ]
  },
  {
   "cell_type": "code",
   "execution_count": 186,
   "id": "04ccbf5d",
   "metadata": {},
   "outputs": [],
   "source": [
    "for xt in x:\n",
    "    h1, c1 = cell1(xt, (h1, c1))\n",
    "    h2, c2 = cell2(h1, (h2, c2))"
   ]
  },
  {
   "cell_type": "code",
   "execution_count": 187,
   "id": "d884f337",
   "metadata": {
    "scrolled": true
   },
   "outputs": [
    {
     "data": {
      "text/plain": [
       "(torch.Size([3, 30]),\n",
       " torch.Size([3, 30]),\n",
       " torch.Size([3, 20]),\n",
       " torch.Size([3, 20]))"
      ]
     },
     "execution_count": 187,
     "metadata": {},
     "output_type": "execute_result"
    }
   ],
   "source": [
    "h1.shape, c1.shape, h2.shape, c2.shape"
   ]
  },
  {
   "cell_type": "markdown",
   "id": "94cfb4d5",
   "metadata": {},
   "source": [
    "## nn.LSTM"
   ]
  },
  {
   "cell_type": "code",
   "execution_count": 188,
   "id": "2887bd91-a499-4b13-b7be-8fb2d652e06a",
   "metadata": {},
   "outputs": [],
   "source": [
    "# 一次处理一个句子"
   ]
  },
  {
   "cell_type": "code",
   "execution_count": 189,
   "id": "3aaf9e63",
   "metadata": {},
   "outputs": [
    {
     "data": {
      "text/plain": [
       "LSTM(100, 10, num_layers=3)"
      ]
     },
     "execution_count": 189,
     "metadata": {},
     "output_type": "execute_result"
    }
   ],
   "source": [
    "# input_size, hidden_size, num_layers\n",
    "lstm = nn.LSTM(100, 10, 3)\n",
    "lstm"
   ]
  },
  {
   "cell_type": "code",
   "execution_count": 190,
   "id": "e8a514e4",
   "metadata": {},
   "outputs": [
    {
     "data": {
      "text/plain": [
       "odict_keys(['weight_ih_l0', 'weight_hh_l0', 'bias_ih_l0', 'bias_hh_l0', 'weight_ih_l1', 'weight_hh_l1', 'bias_ih_l1', 'bias_hh_l1', 'weight_ih_l2', 'weight_hh_l2', 'bias_ih_l2', 'bias_hh_l2'])"
      ]
     },
     "execution_count": 190,
     "metadata": {},
     "output_type": "execute_result"
    }
   ],
   "source": [
    "# 参数名称\n",
    "lstm._parameters.keys()"
   ]
  },
  {
   "cell_type": "code",
   "execution_count": 191,
   "id": "3b2bc482",
   "metadata": {},
   "outputs": [
    {
     "data": {
      "text/plain": [
       "(torch.Size([40, 100]),\n",
       " torch.Size([40, 10]),\n",
       " torch.Size([40]),\n",
       " torch.Size([40]))"
      ]
     },
     "execution_count": 191,
     "metadata": {},
     "output_type": "execute_result"
    }
   ],
   "source": [
    "# 第一层参数shape\n",
    "lstm.weight_ih_l0.shape, lstm.weight_hh_l0.shape, lstm.bias_ih_l0.shape, lstm.bias_hh_l0.shape"
   ]
  },
  {
   "cell_type": "code",
   "execution_count": 192,
   "id": "ef1a35d7",
   "metadata": {
    "scrolled": true
   },
   "outputs": [
    {
     "data": {
      "text/plain": [
       "(torch.Size([40, 10]),\n",
       " torch.Size([40, 10]),\n",
       " torch.Size([40]),\n",
       " torch.Size([40]))"
      ]
     },
     "execution_count": 192,
     "metadata": {},
     "output_type": "execute_result"
    }
   ],
   "source": [
    "# 第二层参数shape\n",
    "lstm.weight_ih_l1.shape, lstm.weight_hh_l1.shape, lstm.bias_ih_l1.shape, lstm.bias_hh_l1.shape"
   ]
  },
  {
   "cell_type": "code",
   "execution_count": 193,
   "id": "71f5fbdc-7cda-412b-bcf2-6006386fb706",
   "metadata": {},
   "outputs": [
    {
     "data": {
      "text/plain": [
       "(torch.Size([40, 10]),\n",
       " torch.Size([40, 10]),\n",
       " torch.Size([40]),\n",
       " torch.Size([40]))"
      ]
     },
     "execution_count": 193,
     "metadata": {},
     "output_type": "execute_result"
    }
   ],
   "source": [
    "# 第三层参数shape\n",
    "lstm.weight_ih_l2.shape, lstm.weight_hh_l2.shape, lstm.bias_ih_l2.shape, lstm.bias_hh_l2.shape"
   ]
  },
  {
   "cell_type": "markdown",
   "id": "c67edfd5",
   "metadata": {},
   "source": [
    "### Single Layer LSTM"
   ]
  },
  {
   "cell_type": "code",
   "execution_count": 194,
   "id": "116a79cf",
   "metadata": {},
   "outputs": [
    {
     "data": {
      "text/plain": [
       "LSTM(100, 20)"
      ]
     },
     "execution_count": 194,
     "metadata": {},
     "output_type": "execute_result"
    }
   ],
   "source": [
    "lstm = nn.LSTM(input_size=100, hidden_size=20, num_layers=1)\n",
    "lstm"
   ]
  },
  {
   "cell_type": "code",
   "execution_count": 195,
   "id": "7fb33f57",
   "metadata": {},
   "outputs": [],
   "source": [
    "# [seq_len, batch_size, word_vec]\n",
    "x = torch.randn(10, 3, 100)"
   ]
  },
  {
   "cell_type": "code",
   "execution_count": 196,
   "id": "2da5fc9e",
   "metadata": {},
   "outputs": [
    {
     "data": {
      "text/plain": [
       "(torch.Size([10, 3, 20]), torch.Size([1, 3, 20]), torch.Size([1, 3, 20]))"
      ]
     },
     "execution_count": 196,
     "metadata": {},
     "output_type": "execute_result"
    }
   ],
   "source": [
    "# out: [seq_len: 10, batch_size: 3, hidden_size: 20]\n",
    "# h: [num_layers: 1, batch_size: 3, hidden_size: 20]\n",
    "# c: [num_layers: 1, batch_size: 3, hidden_size: 20]\n",
    "out, (h, c) = lstm(x)\n",
    "out.shape, h.shape, c.shape"
   ]
  },
  {
   "cell_type": "markdown",
   "id": "689a704b",
   "metadata": {},
   "source": [
    "### Multi Layer LSTM"
   ]
  },
  {
   "cell_type": "code",
   "execution_count": 198,
   "id": "aeeccd70",
   "metadata": {},
   "outputs": [
    {
     "data": {
      "text/plain": [
       "LSTM(100, 20, num_layers=4)"
      ]
     },
     "execution_count": 198,
     "metadata": {},
     "output_type": "execute_result"
    }
   ],
   "source": [
    "lstm = nn.LSTM(input_size=100, hidden_size=20, num_layers=4)\n",
    "lstm"
   ]
  },
  {
   "cell_type": "code",
   "execution_count": 199,
   "id": "565d90f3",
   "metadata": {},
   "outputs": [],
   "source": [
    "# [seq_len, batch_size, word_vec]\n",
    "x = torch.randn(10, 3, 100)"
   ]
  },
  {
   "cell_type": "code",
   "execution_count": 200,
   "id": "1f05522c",
   "metadata": {},
   "outputs": [
    {
     "data": {
      "text/plain": [
       "(torch.Size([10, 3, 20]), torch.Size([4, 3, 20]), torch.Size([4, 3, 20]))"
      ]
     },
     "execution_count": 200,
     "metadata": {},
     "output_type": "execute_result"
    }
   ],
   "source": [
    "# out: [seq_len: 10, batch_size: 3, hidden_size: 20]\n",
    "# h: [num_layers: 4, batch_size: 3, hidden_size: 20]\n",
    "# c: [num_layers: 4, batch_size: 3, hidden_size: 20]\n",
    "out, (h, c) = lstm(x)\n",
    "out.shape, h.shape, c.shape"
   ]
  },
  {
   "cell_type": "markdown",
   "id": "47b407d6",
   "metadata": {},
   "source": [
    "### 双向Multi Layer LSTM"
   ]
  },
  {
   "cell_type": "code",
   "execution_count": 201,
   "id": "7f9bdfd4",
   "metadata": {},
   "outputs": [
    {
     "data": {
      "text/plain": [
       "LSTM(100, 20, num_layers=4, bidirectional=True)"
      ]
     },
     "execution_count": 201,
     "metadata": {},
     "output_type": "execute_result"
    }
   ],
   "source": [
    "lstm = nn.LSTM(input_size=100, hidden_size=20, num_layers=4, bidirectional=True)\n",
    "lstm"
   ]
  },
  {
   "cell_type": "code",
   "execution_count": 202,
   "id": "02fc9ec5",
   "metadata": {},
   "outputs": [],
   "source": [
    "# [seq_len, batch_size, word_vec]\n",
    "x = torch.randn(10, 3, 100)"
   ]
  },
  {
   "cell_type": "code",
   "execution_count": 203,
   "id": "9315ef7f",
   "metadata": {},
   "outputs": [
    {
     "data": {
      "text/plain": [
       "(torch.Size([10, 3, 40]), torch.Size([8, 3, 20]), torch.Size([8, 3, 20]))"
      ]
     },
     "execution_count": 203,
     "metadata": {},
     "output_type": "execute_result"
    }
   ],
   "source": [
    "# out: [seq_len: 10, batch_size: 3, hidden_size: 20]\n",
    "# h: [num_layers: 4, batch_size: 3, hidden_size: 20]\n",
    "# c: [num_layers: 4, batch_size: 3, hidden_size: 20]\n",
    "out, (h, c) = lstm(x)\n",
    "out.shape, h.shape, c.shape"
   ]
  },
  {
   "cell_type": "code",
   "execution_count": null,
   "id": "e2ff6d60-3bdf-44f3-ac08-9e1939a73adf",
   "metadata": {},
   "outputs": [],
   "source": []
  }
 ],
 "metadata": {
  "kernelspec": {
   "display_name": "Python 3 (ipykernel)",
   "language": "python",
   "name": "python3"
  },
  "language_info": {
   "codemirror_mode": {
    "name": "ipython",
    "version": 3
   },
   "file_extension": ".py",
   "mimetype": "text/x-python",
   "name": "python",
   "nbconvert_exporter": "python",
   "pygments_lexer": "ipython3",
   "version": "3.9.21"
  },
  "toc": {
   "base_numbering": 1,
   "nav_menu": {},
   "number_sections": true,
   "sideBar": true,
   "skip_h1_title": false,
   "title_cell": "Table of Contents",
   "title_sidebar": "Contents",
   "toc_cell": false,
   "toc_position": {
    "height": "calc(100% - 180px)",
    "left": "10px",
    "top": "150px",
    "width": "232.784px"
   },
   "toc_section_display": true,
   "toc_window_display": true
  }
 },
 "nbformat": 4,
 "nbformat_minor": 5
}
