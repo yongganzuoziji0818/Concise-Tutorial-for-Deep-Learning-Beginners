{
 "cells": [
  {
   "cell_type": "code",
   "execution_count": 1,
   "id": "0fe7265a-e852-4ada-b9a9-28e20076b3e2",
   "metadata": {},
   "outputs": [],
   "source": [
    "import torch\n",
    "import torch.nn as nn\n",
    "import random\n",
    "from collections import Counter    # 计数类\n",
    "from torch.utils.data import DataLoader, TensorDataset\n",
    "from tqdm import tqdm\n",
    "import matplotlib.pyplot as plt\n",
    "from torch.nn import functional as F\n",
    "import numpy as np"
   ]
  },
  {
   "cell_type": "markdown",
   "id": "39d3d25b-eaa5-4fe1-8de1-c2d7617ad366",
   "metadata": {},
   "source": [
    "# 数据集定义"
   ]
  },
  {
   "cell_type": "markdown",
   "id": "e201d03a-5855-472f-881c-5fe7c117d44e",
   "metadata": {},
   "source": [
    "## 原始数据集"
   ]
  },
  {
   "cell_type": "markdown",
   "id": "761ed8bc-966c-46d9-8f70-5b51f6190bc3",
   "metadata": {},
   "source": [
    "### 语音数据集"
   ]
  },
  {
   "cell_type": "code",
   "execution_count": 2,
   "id": "4c381f80-e417-4b7f-994c-135f10ffa0ef",
   "metadata": {},
   "outputs": [],
   "source": [
    "soundmark = ['ei', 'bi:', 'si:', 'di:', 'i:',  \n",
    "             'ef', 'dʒi:', 'eit∫', 'ai', 'dʒei', \n",
    "             'kei', 'el', 'em', 'en', 'əu', \n",
    "             'pi:', 'kju:', 'ɑ:', 'es', 'ti:', \n",
    "             'ju:', 'vi:', 'd∧blju:', 'eks', 'wai', \n",
    "             'zi:']"
   ]
  },
  {
   "cell_type": "markdown",
   "id": "221fd5cf-43c2-4e72-9b3e-87ebdd59e81e",
   "metadata": {},
   "source": [
    "### 字母数据集"
   ]
  },
  {
   "cell_type": "code",
   "execution_count": 3,
   "id": "70a56f24",
   "metadata": {},
   "outputs": [],
   "source": [
    "alphabet = ['a', 'b', 'c', 'd', 'e',\n",
    "            'f', 'g', 'h', 'i', 'j',\n",
    "            'k', 'l', 'm', 'n', 'o',\n",
    "            'p', 'q', 'r', 's', 't',\n",
    "            'u', 'v', 'w', 'x', 'y',\n",
    "            'z']"
   ]
  },
  {
   "cell_type": "markdown",
   "id": "9b31f705-a359-4f9a-ae8d-7fccae01fc7f",
   "metadata": {},
   "source": [
    "## 序列数据集"
   ]
  },
  {
   "cell_type": "code",
   "execution_count": 4,
   "id": "544bc183",
   "metadata": {},
   "outputs": [],
   "source": [
    "t = 10000 # 序列总条数\n",
    "seq_len = 6  # 序列长度\n",
    "r = 0.9   # 扰动项\n",
    "# 原始序列（语音序列），目标序列（字母序列）\n",
    "src_tokens, tgt_tokens = [], [] "
   ]
  },
  {
   "cell_type": "code",
   "execution_count": 5,
   "id": "d16e6caa",
   "metadata": {},
   "outputs": [],
   "source": [
    "for i in range(t):\n",
    "    src, tgt = [], []\n",
    "    for j in range(seq_len):\n",
    "        ind = random.randint(0, 25)\n",
    "        src.append(soundmark[ind])\n",
    "        if random.random() < r:\n",
    "            tgt.append(alphabet[ind])\n",
    "        else:\n",
    "            tgt.append(alphabet[random.randint(0, 25)])\n",
    "    src_tokens.append(src)\n",
    "    tgt_tokens.append(tgt)"
   ]
  },
  {
   "cell_type": "markdown",
   "id": "8f3f50a3-be85-4145-89c0-3ea9123eaeb7",
   "metadata": {},
   "source": [
    "### 语音序列数据集"
   ]
  },
  {
   "cell_type": "code",
   "execution_count": 6,
   "id": "f5911a8c",
   "metadata": {},
   "outputs": [
    {
     "data": {
      "text/plain": [
       "[['em', 'em', 'en', 'ai', 'vi:', 'wai'],\n",
       " ['vi:', 'ti:', 'zi:', 'eit∫', 'es', 'si:'],\n",
       " ['kei', 'dʒi:', 'di:', 'kju:', 'en', 'kju:'],\n",
       " ['dʒi:', 'ɑ:', 'bi:', 'ɑ:', 'si:', 'kju:'],\n",
       " ['di:', 'i:', 'wai', 'i:', 'em', 'pi:']]"
      ]
     },
     "execution_count": 6,
     "metadata": {},
     "output_type": "execute_result"
    }
   ],
   "source": [
    "src_tokens[0:5]"
   ]
  },
  {
   "cell_type": "markdown",
   "id": "c1f8d7ae-a372-43fc-896b-aa1a60b89921",
   "metadata": {},
   "source": [
    "### 字母序列数据集"
   ]
  },
  {
   "cell_type": "code",
   "execution_count": 7,
   "id": "016ed101-5c1b-4fda-a434-2cfad004bc4d",
   "metadata": {},
   "outputs": [
    {
     "data": {
      "text/plain": [
       "[['j', 'm', 'n', 'i', 'v', 'y'],\n",
       " ['i', 't', 'z', 'h', 'q', 'c'],\n",
       " ['k', 'g', 'd', 'q', 'n', 'q'],\n",
       " ['g', 's', 'b', 'r', 'c', 'q'],\n",
       " ['d', 'e', 'y', 'u', 'm', 'p']]"
      ]
     },
     "execution_count": 7,
     "metadata": {},
     "output_type": "execute_result"
    }
   ],
   "source": [
    "tgt_tokens[0:5]"
   ]
  },
  {
   "cell_type": "markdown",
   "id": "f0e7b616-ccbc-464e-880c-6b364bc55ffe",
   "metadata": {},
   "source": [
    "## 字典数据集"
   ]
  },
  {
   "cell_type": "code",
   "execution_count": 8,
   "id": "c62dfd56-9953-4286-9710-c80b0dfa95bf",
   "metadata": {},
   "outputs": [],
   "source": [
    "flatten = lambda li: [item for sublist in li for item in sublist]      # 展平二维数组"
   ]
  },
  {
   "cell_type": "code",
   "execution_count": 9,
   "id": "7380696a",
   "metadata": {},
   "outputs": [],
   "source": [
    "class Vocab:\n",
    "    def __init__(self, tokens):\n",
    "        self.tokens = tokens  # 传入的tokens是二维列表\n",
    "        self.token2index = {'<bos>': 0, '<eos>': 1}  # 先存好特殊词元\n",
    "        # 将token按词频逆序排序后生成token到index字典\n",
    "        self.token2index.update({\n",
    "            token: index + 2\n",
    "            for index, (token, freq) in enumerate(\n",
    "                sorted(Counter(flatten(self.tokens)).items(), key=lambda x: x[1], reverse=True))\n",
    "        }) \n",
    "        # index到token字典\n",
    "        self.index2token = {index: token for token, index in self.token2index.items()}\n",
    " \n",
    "    def __getitem__(self, query):\n",
    "        # 单一索引\n",
    "        if isinstance(query, (str, int)):\n",
    "            if isinstance(query, str):\n",
    "                return self.token2index.get(query, 0)\n",
    "            elif isinstance(query, (int)):\n",
    "                return self.index2token.get(query, '<unk>')\n",
    "        # 数组索引\n",
    "        elif isinstance(query, (list, tuple)):\n",
    "            return [self.__getitem__(item) for item in query]\n",
    " \n",
    "    def __len__(self):\n",
    "        return len(self.index2token)"
   ]
  },
  {
   "cell_type": "markdown",
   "id": "7fe000c4-0805-4db9-9bb5-9c8c4fb82f3f",
   "metadata": {},
   "source": [
    "### 语音字典数据集"
   ]
  },
  {
   "cell_type": "code",
   "execution_count": 10,
   "id": "2ccd276c-d3a1-431d-bb03-fd4f961f6b30",
   "metadata": {},
   "outputs": [],
   "source": [
    "# 实例化语音字典数据集\n",
    "src_vocab = Vocab(src_tokens)"
   ]
  },
  {
   "cell_type": "code",
   "execution_count": 11,
   "id": "636892c3-3312-4445-bf83-10567b92d60a",
   "metadata": {},
   "outputs": [
    {
     "data": {
      "text/plain": [
       "'ti:'"
      ]
     },
     "execution_count": 11,
     "metadata": {},
     "output_type": "execute_result"
    }
   ],
   "source": [
    "src_vocab[20]"
   ]
  },
  {
   "cell_type": "code",
   "execution_count": 12,
   "id": "de2b0cdf-f538-4b66-9b2c-36881a924c0b",
   "metadata": {},
   "outputs": [
    {
     "data": {
      "text/plain": [
       "28"
      ]
     },
     "execution_count": 12,
     "metadata": {},
     "output_type": "execute_result"
    }
   ],
   "source": [
    "len(src_vocab)"
   ]
  },
  {
   "cell_type": "markdown",
   "id": "73cdf621-c217-48f8-9269-aa7165333750",
   "metadata": {},
   "source": [
    "### 字母字典数据集"
   ]
  },
  {
   "cell_type": "code",
   "execution_count": 13,
   "id": "fc7c9f82-bcfe-41e3-b9c4-d995719e7c69",
   "metadata": {},
   "outputs": [],
   "source": [
    "# 实例化字母字典数据集\n",
    "tgt_vocab = Vocab(tgt_tokens)"
   ]
  },
  {
   "cell_type": "code",
   "execution_count": 14,
   "id": "cd9f4f97-ddff-4e8b-846f-a36a475322f9",
   "metadata": {
    "scrolled": true
   },
   "outputs": [
    {
     "data": {
      "text/plain": [
       "'v'"
      ]
     },
     "execution_count": 14,
     "metadata": {},
     "output_type": "execute_result"
    }
   ],
   "source": [
    "tgt_vocab[20]"
   ]
  },
  {
   "cell_type": "code",
   "execution_count": 15,
   "id": "75ee95c6-b52b-4455-bb16-0fe24833835b",
   "metadata": {},
   "outputs": [
    {
     "data": {
      "text/plain": [
       "28"
      ]
     },
     "execution_count": 15,
     "metadata": {},
     "output_type": "execute_result"
    }
   ],
   "source": [
    "len(tgt_vocab)"
   ]
  },
  {
   "cell_type": "markdown",
   "id": "fcb64851-f9e6-454d-81f1-5159e9f43030",
   "metadata": {},
   "source": [
    "## 序列张量数据集"
   ]
  },
  {
   "cell_type": "markdown",
   "id": "cd12c45a-fcb9-4487-959d-cc2799451dbe",
   "metadata": {},
   "source": [
    "### 语音序列张量数据集"
   ]
  },
  {
   "cell_type": "code",
   "execution_count": 16,
   "id": "3d20e50b-6924-4e25-a85d-d2fc05e538ac",
   "metadata": {},
   "outputs": [],
   "source": [
    "# 语音序列结尾增加结束标识<eos>，并转换为语音序列张量数据集\n",
    "src_data = torch.tensor([src_vocab[line + ['<eos>']] for line in src_tokens])"
   ]
  },
  {
   "cell_type": "code",
   "execution_count": 17,
   "id": "f0c4fdcd-df97-4638-9f19-4169fa618c23",
   "metadata": {},
   "outputs": [
    {
     "data": {
      "text/plain": [
       "torch.Size([10000, 7])"
      ]
     },
     "execution_count": 17,
     "metadata": {},
     "output_type": "execute_result"
    }
   ],
   "source": [
    "src_data.size()"
   ]
  },
  {
   "cell_type": "markdown",
   "id": "60744a8f-f729-4f88-a6d7-94c15efa3ede",
   "metadata": {},
   "source": [
    "### 字母序列张量数据集"
   ]
  },
  {
   "cell_type": "code",
   "execution_count": 18,
   "id": "a170ae73-3591-498e-a815-874d5a3180df",
   "metadata": {},
   "outputs": [],
   "source": [
    "# 字母序列结尾增加结束标识<eos>，并转换为字母序列张量数据集\n",
    "tgt_data = torch.tensor([tgt_vocab[line + ['<eos>']] for line in tgt_tokens])"
   ]
  },
  {
   "cell_type": "code",
   "execution_count": 19,
   "id": "8479f41e-c062-4a6a-a301-90aafc91a5f8",
   "metadata": {},
   "outputs": [
    {
     "data": {
      "text/plain": [
       "torch.Size([10000, 7])"
      ]
     },
     "execution_count": 19,
     "metadata": {},
     "output_type": "execute_result"
    }
   ],
   "source": [
    "tgt_data.size()"
   ]
  },
  {
   "cell_type": "markdown",
   "id": "92d20a93-3e4d-4783-9a71-705e6b7da59f",
   "metadata": {},
   "source": [
    "## 训练集和测试集"
   ]
  },
  {
   "cell_type": "code",
   "execution_count": 20,
   "id": "1196b5d7-8342-4bd1-94cc-649303663ae9",
   "metadata": {},
   "outputs": [],
   "source": [
    "# 训练集和测试集比例8比2\n",
    "train_size = int(len(src_data) * 0.8)\n",
    "test_size = len(src_data) - train_size"
   ]
  },
  {
   "cell_type": "code",
   "execution_count": 21,
   "id": "c8b9df96-7d68-4f5c-bc86-0d49ef6a097f",
   "metadata": {},
   "outputs": [],
   "source": [
    "train_dataset = TensorDataset(src_data[:train_size], tgt_data[:train_size])\n",
    "test_dataset = TensorDataset(src_data[-test_size:], tgt_data[-test_size:])"
   ]
  },
  {
   "cell_type": "code",
   "execution_count": 22,
   "id": "0c04a343-02b3-43ad-80ff-403df01ac444",
   "metadata": {},
   "outputs": [],
   "source": [
    "batch_size = 16"
   ]
  },
  {
   "cell_type": "code",
   "execution_count": 23,
   "id": "427fe85c",
   "metadata": {},
   "outputs": [],
   "source": [
    "train_loader = DataLoader(train_dataset, batch_size=batch_size)\n",
    "test_loader = DataLoader(test_dataset, batch_size=1)"
   ]
  },
  {
   "cell_type": "code",
   "execution_count": 24,
   "id": "9ecb6af4-5fe2-480d-ad25-bf5cfd95fd67",
   "metadata": {},
   "outputs": [],
   "source": [
    "encoder_input, decoder_target = next(iter(train_loader))"
   ]
  },
  {
   "cell_type": "code",
   "execution_count": 25,
   "id": "86c02483-7609-4e42-967a-a5f4a1df4c7e",
   "metadata": {},
   "outputs": [
    {
     "data": {
      "text/plain": [
       "torch.Size([16, 7])"
      ]
     },
     "execution_count": 25,
     "metadata": {},
     "output_type": "execute_result"
    }
   ],
   "source": [
    "encoder_input.size()  # torch.Size([16, 7])：batch_size和seq_len（即src_data.size()[1]）"
   ]
  },
  {
   "cell_type": "markdown",
   "id": "8eb1e188-d5ef-45ac-9a7f-736a732a5f42",
   "metadata": {},
   "source": [
    "# 模型定义"
   ]
  },
  {
   "cell_type": "code",
   "execution_count": 26,
   "id": "ede6a564-aca6-4405-83dc-2dfa7610aa38",
   "metadata": {},
   "outputs": [],
   "source": [
    "vocab_size = len(src_vocab) # 28\n",
    "ebd_size = len(src_vocab) # 28\n",
    "hidden_size = 128\n",
    "num_layers = 2"
   ]
  },
  {
   "cell_type": "markdown",
   "id": "eeb581cf-4f3d-44b3-82f1-d91fde9f9fa3",
   "metadata": {},
   "source": [
    "## 编码器模块"
   ]
  },
  {
   "cell_type": "code",
   "execution_count": 28,
   "id": "625fb454-9d84-47ab-a426-19118a51dc99",
   "metadata": {},
   "outputs": [],
   "source": [
    "class Encoder(nn.Module):\n",
    "    def __init__(self, vocab_size, ebd_size, hidden_size, num_layers):\n",
    "        super().__init__()\n",
    "        self.embedding = nn.Embedding(vocab_size, ebd_size)  # 将字典项（语音或字母）表示为embedding\n",
    "        self.rnn = nn.RNN(ebd_size, hidden_size, num_layers=num_layers)\n",
    " \n",
    "    def forward(self, encoder_input):\n",
    "        # encoder_input从(batch_size, seq_len)变成(batch_size, seq_len, ebd_size)\n",
    "        encoder_input = self.embedding(encoder_input)\n",
    "        # encoder_input从(batch_size, seq_len, ebd_size)变成(seq_len, batch_size, ebd_size)\n",
    "        encoder_input = encoder_input.permute(1, 0, 2)\n",
    "        # output: RNN输出的序列，(seq_len, batch_size, hidden_size)\n",
    "        # hidden: RNN输出的隐藏状态，(num_layers, batch_size, hidden_size)\n",
    "        output, hidden = self.rnn(encoder_input)\n",
    "        return hidden"
   ]
  },
  {
   "cell_type": "code",
   "execution_count": 29,
   "id": "4ea045d1-633c-4ca1-a644-d8122dd8343c",
   "metadata": {},
   "outputs": [],
   "source": [
    "encoder = Encoder(vocab_size=vocab_size, ebd_size=ebd_size, hidden_size=hidden_size, num_layers=num_layers)"
   ]
  },
  {
   "cell_type": "code",
   "execution_count": 30,
   "id": "87d03bb9-9214-44f3-a6eb-6aeaab3f79ee",
   "metadata": {},
   "outputs": [
    {
     "data": {
      "text/plain": [
       "tensor([[[ 0.1292,  0.3639,  0.0377,  ...,  0.3189,  0.4545,  0.0670],\n",
       "         [ 0.3458,  0.4553, -0.1267,  ...,  0.3607,  0.2716, -0.0677],\n",
       "         [-0.0193,  0.4401,  0.2169,  ...,  0.3692,  0.3610, -0.2553],\n",
       "         ...,\n",
       "         [ 0.1998,  0.4283,  0.0101,  ...,  0.3384,  0.2852, -0.0732],\n",
       "         [ 0.3575,  0.1654,  0.1335,  ...,  0.6270,  0.1248,  0.0163],\n",
       "         [ 0.2721,  0.3411, -0.2058,  ...,  0.4664,  0.1825,  0.1272]],\n",
       "\n",
       "        [[ 0.1282,  0.1139, -0.4947,  ...,  0.0155, -0.3880, -0.0642],\n",
       "         [-0.3080,  0.0375, -0.3650,  ...,  0.3122, -0.2413,  0.0711],\n",
       "         [ 0.1413,  0.0608, -0.4948,  ...,  0.0909, -0.5764,  0.0345],\n",
       "         ...,\n",
       "         [ 0.0705,  0.0323, -0.3737,  ..., -0.0881, -0.2745, -0.0033],\n",
       "         [ 0.1758,  0.0128, -0.5891,  ...,  0.0275, -0.1932, -0.1739],\n",
       "         [-0.1475,  0.0371, -0.4316,  ...,  0.1462, -0.2914,  0.0533]]],\n",
       "       grad_fn=<StackBackward0>)"
      ]
     },
     "execution_count": 30,
     "metadata": {},
     "output_type": "execute_result"
    }
   ],
   "source": [
    "encoder(encoder_input)"
   ]
  },
  {
   "cell_type": "markdown",
   "id": "bbdaf509-12e9-4dfd-bd4e-ab6212193e40",
   "metadata": {},
   "source": [
    "## 注意力"
   ]
  },
  {
   "cell_type": "code",
   "execution_count": 31,
   "id": "ce639131-3b9d-406f-9595-ae4eaa37038b",
   "metadata": {},
   "outputs": [],
   "source": [
    "class Attention(nn.Module):\n",
    "    def __init__(self):\n",
    "        super(Attention, self).__init__()\n",
    "    def forward(self, Q, K, V):\n",
    "        '''\n",
    "        Q: [batch_size, len_q, d_q]  # d_q = d_k\n",
    "        K: [batch_size, len_k, d_k]\n",
    "        V: [batch_size, len_v, d_v]  # len_v = len_k\n",
    "        '''\n",
    "        d_k = K.size(-1)\n",
    "        # scores: [batch_size, len_q, len_k]\n",
    "        scores = torch.matmul(Q, K.transpose(-1, -2)) / np.sqrt(d_k) \n",
    "        # attn: [batch_size, len_q, len_k]\n",
    "        attn = nn.Softmax(dim=-1)(scores)\n",
    "        # context: [batch_size, len_q, d_v]\n",
    "        context = torch.matmul(attn, V) \n",
    "        # context: [batch_size, len_q, d_v], attn: [batch_size, len_q, len_k]\n",
    "        return context, attn"
   ]
  },
  {
   "cell_type": "markdown",
   "id": "72774302-cc05-44e7-8d68-d51ca14aa63a",
   "metadata": {},
   "source": [
    "## 解码器模块"
   ]
  },
  {
   "cell_type": "code",
   "execution_count": 32,
   "id": "c14aa020-198e-424d-af90-c70a5ac2075a",
   "metadata": {},
   "outputs": [],
   "source": [
    "class Decoder(nn.Module):\n",
    "    def __init__(self, vocab_size, ebd_size, hidden_size, num_layers, use_attention):\n",
    "        super().__init__()\n",
    "        self.embedding = nn.Embedding(vocab_size, ebd_size)\n",
    "        # 拼接维度ebd_size + hidden_size\n",
    "        self.rnn = nn.RNN(ebd_size + hidden_size, hidden_size, num_layers=num_layers)\n",
    "        self.linear = nn.Linear(hidden_size, vocab_size)\n",
    "        self.use_attention = use_attention\n",
    " \n",
    "    def forward(self, decoder_input, encoder_state):\n",
    "        # 训练时：decoder_input是decoder_target向右偏移一位，左边第一位补<bos>，右边最后一位去掉，序列长度不变\n",
    "        # 测试时：decoder_input为预测序列中最后一个数据，形状为(batch_size, seq_len) = (1, 1)\n",
    "        # decoder_input从(batch_size, seq_len)变成(batch_size, seq_len, ebd_size)\n",
    "        decoder_input = self.embedding(decoder_input)\n",
    "        # decoder_input从(batch_size, seq_len, ebd_size)变成(seq_len, batch_size, ebd_size)\n",
    "        decoder_input = decoder_input.permute(1, 0, 2)\n",
    "        # encoder_state为编码器输出的隐藏状态，size: (num_layers, batch_size, hidden_size)\n",
    "        # context为编码器输出的最后一层隐藏状态，size: (batch_size, hidden_size)\n",
    "        context = encoder_state[-1] \n",
    "        # context初始形状为(batch_size, hidden_size)，为下一步连接，需repeat为(seq_len, batch_size, hidden_size) \n",
    "        context = context.repeat(decoder_input.shape[0], 1, 1)\n",
    "        # decoder_input从(seq_len, batch_size, ebd_size)变成(seq_len, batch_size, ebd_size + hidden_size)\n",
    "        decoder_input = torch.cat((decoder_input, context), -1)\n",
    "        if self.use_attention:\n",
    "            # 使用注意力\n",
    "            # context: (seq_len, batch_size, ebd_size + hidden_size) \n",
    "            context = nn.Linear(context.size()[-1], decoder_input.size()[-1])(context)\n",
    "            # decoder_input: (seq_len, batch_size, ebd_size + hidden_size)\n",
    "            decoder_input, _ = Attention()(decoder_input, context, context)\n",
    "        # output: RNN输出的序列，(seq_len, batch_size, hidden_size])\n",
    "        # hidden: RNN输出的隐藏状态，(num_layers, batch_size, hidden_size])\n",
    "        output, hidden = self.rnn(decoder_input, encoder_state)\n",
    "        # logits的形状为(seq_len, batch_size, vocab_size)\n",
    "        logits = self.linear(output)\n",
    "        return logits, hidden"
   ]
  },
  {
   "cell_type": "code",
   "execution_count": 45,
   "id": "dcb33ddb-3cbb-4764-be3e-6aefd44dfe69",
   "metadata": {},
   "outputs": [],
   "source": [
    "use_attention = True\n",
    "decoder = Decoder(vocab_size=vocab_size, ebd_size=ebd_size, hidden_size=hidden_size, num_layers=num_layers, use_attention=use_attention)"
   ]
  },
  {
   "cell_type": "markdown",
   "id": "1d427769-921d-48cf-b9e2-29c7f0b67908",
   "metadata": {},
   "source": [
    "## seq2seq类"
   ]
  },
  {
   "cell_type": "code",
   "execution_count": 46,
   "id": "662f5eda",
   "metadata": {},
   "outputs": [],
   "source": [
    "class Seq2Seq(nn.Module):\n",
    "    def __init__(self, encoder, decoder):\n",
    "        super().__init__()\n",
    "        self.encoder = encoder\n",
    "        self.decoder = decoder\n",
    " \n",
    "    def forward(self, encoder_input, decoder_input):\n",
    "        encoder_state = self.encoder(encoder_input)\n",
    "        return self.decoder(decoder_input, encoder_state)"
   ]
  },
  {
   "cell_type": "code",
   "execution_count": 47,
   "id": "e89f8da5-71b8-41b8-839b-1cd94ca217e4",
   "metadata": {},
   "outputs": [],
   "source": [
    "# 建立模型\n",
    "model = Seq2Seq(encoder, decoder)"
   ]
  },
  {
   "cell_type": "markdown",
   "id": "78f75a01-c355-46fa-b13b-e5a59ad15646",
   "metadata": {},
   "source": [
    "# 模型训练"
   ]
  },
  {
   "cell_type": "code",
   "execution_count": 48,
   "id": "3dc021c7-48a8-4cf7-8b76-16c84573df03",
   "metadata": {},
   "outputs": [],
   "source": [
    "# 设置超参数\n",
    "lr = 0.001\n",
    "num_epochs = 20"
   ]
  },
  {
   "cell_type": "code",
   "execution_count": 49,
   "id": "13fb3c25-4b56-4c11-a37d-7bf1d227cf83",
   "metadata": {},
   "outputs": [],
   "source": [
    "# 交叉熵损失及adam优化器\n",
    "criterion = nn.CrossEntropyLoss(reduction='none')\n",
    "optimizer = torch.optim.Adam(model.parameters(), lr=lr)"
   ]
  },
  {
   "cell_type": "code",
   "execution_count": 50,
   "id": "b41d36ce-b019-414e-a964-b60ce317aa29",
   "metadata": {},
   "outputs": [],
   "source": [
    "# 记录损失变化\n",
    "loss_history = []"
   ]
  },
  {
   "cell_type": "code",
   "execution_count": 51,
   "id": "ca11a977",
   "metadata": {},
   "outputs": [
    {
     "name": "stderr",
     "output_type": "stream",
     "text": [
      "100%|██████████████████████████████████████████████████████████████████████████████████| 20/20 [03:59<00:00, 11.97s/it]\n"
     ]
    }
   ],
   "source": [
    "# 开始训练\n",
    "model.train()\n",
    "for epoch in tqdm(range(num_epochs)):\n",
    "    for encoder_input, decoder_target in train_loader:\n",
    "        bos_column = torch.tensor([tgt_vocab['<bos>']] * decoder_target.shape[0]).reshape(-1, 1)\n",
    "        # 训练时：decoder_input是decoder_target向右偏移一位，左边第一位补<bos>，右边最后一位去掉，序列长度不变\n",
    "        decoder_input = torch.cat((bos_column, decoder_target[:, :-1]), dim=1)\n",
    "        # pred的形状为(seq_len, batch_size, vocab_size)\n",
    "        pred, _ = model(encoder_input, decoder_input)\n",
    "        # decoder_target的形状为 (batch_size, seq_len)，我们需要改变pred的形状以保证它能够正确输入\n",
    "        # pred的形状变为(batch_size, vocab_size, seq_len)\n",
    "        pred = pred.permute(1, 2, 0)\n",
    "        # loss的形状为(batch_size, seq_len)，其中每个元素都代表了一个词元的损失\n",
    "        loss = criterion(pred, decoder_target).mean()\n",
    "        # 反向传播\n",
    "        optimizer.zero_grad()\n",
    "        loss.backward()\n",
    "        optimizer.step()\n",
    "        loss_history.append(loss.item())"
   ]
  },
  {
   "cell_type": "code",
   "execution_count": 52,
   "id": "e45b12bd",
   "metadata": {},
   "outputs": [
    {
     "data": {
      "image/png": "[encoded data removed]",
      "text/plain": [
       "<Figure size 640x480 with 1 Axes>"
      ]
     },
     "metadata": {},
     "output_type": "display_data"
    }
   ],
   "source": [
    "plt.plot(loss_history)\n",
    "plt.ylabel('train loss')\n",
    "plt.show()"
   ]
  },
  {
   "cell_type": "markdown",
   "id": "f48d5812-d73b-4b04-93fc-36ac7f6b646a",
   "metadata": {},
   "source": [
    "# 模型测试"
   ]
  },
  {
   "cell_type": "code",
   "execution_count": 53,
   "id": "e60819ad",
   "metadata": {},
   "outputs": [],
   "source": [
    "model.eval()\n",
    "translation_results = []\n",
    "correct = 0\n",
    "error = 0\n",
    "# 因为batch_size是1，所以每次取出来的都是单个句子\n",
    "# 从test_loader中加载源序列和目标序列\n",
    "for src_seq, tgt_seq in test_loader:\n",
    "    encoder_input = src_seq\n",
    "    # encoder_output: (seq_len, batch_size, hidden_size)\n",
    "    # hidden: (num_layers: 2, batch_size: 16, hidden_size: 128])\n",
    "    hidden = model.encoder(encoder_input)\n",
    "    # 初始化预测序列\n",
    "    pred_seq = [tgt_vocab['<bos>']]\n",
    "    # 循环预测，一次预测一个数据，不断增加预测序列的长度\n",
    "    for _ in range(seq_len):\n",
    "        # 测试时：decoder_input为预测序列中最后一个数据，形状为(batch_size, seq_len) = (1, 1)\n",
    "        decoder_input = torch.tensor(pred_seq[-1]).reshape(1, 1)\n",
    "        # pred为新预测的数据，形状为 (seq_len, batch_size, vocab_size) = (1, 1, vocab_size)\n",
    "        pred, hidden = model.decoder(decoder_input, hidden)\n",
    "        next_token_index = pred.squeeze().argmax().item()\n",
    "        if next_token_index == tgt_vocab['<eos>']:\n",
    "            break\n",
    "        pred_seq.append(next_token_index)  \n",
    "    # 去掉开头的<bos>\n",
    "    pred_seq = tgt_vocab[pred_seq[1:]]\n",
    "    \n",
    "    # src_seq的形状为(1, seq_len)，将其转化成seq_len的列表\n",
    "    src_seq = src_seq.squeeze().tolist()\n",
    "    # 需要注意在<eos>之前截断\n",
    "    if src_vocab['<eos>'] in src_seq:\n",
    "        eos_idx = src_seq.index(src_vocab['<eos>'])\n",
    "        src_seq = src_vocab[src_seq[:eos_idx]]\n",
    "    else:\n",
    "        src_seq = src_vocab[src_seq]\n",
    "        \n",
    "    # tgt_seq的形状为(1, seq_len)，将其转化成seq_len的列表\n",
    "    tgt_seq = tgt_seq.squeeze().tolist()\n",
    "    # 需要注意在<eos>之前截断\n",
    "    if tgt_vocab['<eos>'] in tgt_seq:\n",
    "        eos_idx = tgt_seq.index(tgt_vocab['<eos>'])\n",
    "        tgt_seq = tgt_vocab[tgt_seq[:eos_idx]]\n",
    "    else:\n",
    "        tgt_seq = tgt_vocab[tgt_seq]\n",
    "        \n",
    "    translation_results.append(('输入：' + ' '.join(src_seq), '输出：' + ' '.join(tgt_seq), '预测：' + ' '.join(pred_seq)))\n",
    "    for i in range(len(tgt_seq)):\n",
    "        if i >= len(pred_seq) or pred_seq[i] != tgt_seq[i]:\n",
    "            error += 1\n",
    "        else:\n",
    "            correct += 1"
   ]
  },
  {
   "cell_type": "code",
   "execution_count": 54,
   "id": "9a3e41c0-7a28-4153-a7a5-e218b3b51a44",
   "metadata": {},
   "outputs": [
    {
     "name": "stdout",
     "output_type": "stream",
     "text": [
      "0.8136666666666666\n"
     ]
    }
   ],
   "source": [
    "print(correct / (correct + error))\n",
    "# 不使用注意力：约0.53\n",
    "# 使用注意力：约0.83"
   ]
  },
  {
   "cell_type": "code",
   "execution_count": 55,
   "id": "f4be7871",
   "metadata": {},
   "outputs": [
    {
     "data": {
      "text/plain": [
       "[('输入：vi: ɑ: dʒei dʒi: ɑ: d∧blju:', '输出：v r j w r w', '预测：v r j g r w'),\n",
       " ('输入：ju: zi: ai ef i: ai', '输出：u z i f e i', '预测：u z i f e h'),\n",
       " ('输入：vi: ɑ: zi: i: kei kei', '输出：v r z e k k', '预测：v r z e k k'),\n",
       " ('输入：eks d∧blju: ai wai ti: ef', '输出：x w i y t f', '预测：x w q y e f'),\n",
       " ('输入：eit∫ ai d∧blju: vi: em zi:', '输出：h i w v m z', '预测：h u w v q z'),\n",
       " ('输入：en bi: zi: dʒei es bi:', '输出：m b z j s b', '预测：n b z j s b'),\n",
       " ('输入：d∧blju: el dʒi: ai eit∫ pi:', '输出：w l g i z p', '预测：w l l i h p'),\n",
       " ('输入：si: ti: en i: el dʒei', '输出：c t n e l j', '预测：c t n e l j'),\n",
       " ('输入：si: eit∫ əu es zi: dʒi:', '输出：c h o s z g', '预测：m g o s z l'),\n",
       " ('输入：ti: əu dʒi: kei dʒi: eks', '输出：t o g k g x', '预测：t o g k g x')]"
      ]
     },
     "execution_count": 55,
     "metadata": {},
     "output_type": "execute_result"
    }
   ],
   "source": [
    "translation_results[-10:]"
   ]
  },
  {
   "cell_type": "code",
   "execution_count": null,
   "id": "dd369fec-88d6-41ba-8142-88132bb96ea9",
   "metadata": {},
   "outputs": [],
   "source": []
  }
 ],
 "metadata": {
  "kernelspec": {
   "display_name": "Python 3 (ipykernel)",
   "language": "python",
   "name": "python3"
  },
  "language_info": {
   "codemirror_mode": {
    "name": "ipython",
    "version": 3
   },
   "file_extension": ".py",
   "mimetype": "text/x-python",
   "name": "python",
   "nbconvert_exporter": "python",
   "pygments_lexer": "ipython3",
   "version": "3.9.21"
  }
 },
 "nbformat": 4,
 "nbformat_minor": 5
}
