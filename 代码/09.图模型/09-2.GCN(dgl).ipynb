{
 "cells": [
  {
   "cell_type": "code",
   "execution_count": 1,
   "id": "573dd101-1be3-44d1-b815-0ee30c553877",
   "metadata": {},
   "outputs": [],
   "source": [
    "# dgl安装命令：\n",
    "# !pip install dgl-2.0.0-cp39-cp39-win_amd64.whl"
   ]
  },
  {
   "cell_type": "code",
   "execution_count": 2,
   "id": "0e6ec06a-e263-47f9-b64c-ad27f2216988",
   "metadata": {},
   "outputs": [],
   "source": [
    "import dgl\n",
    "import torch\n",
    "import torch.nn as nn\n",
    "import dgl.nn as dglnn\n",
    "import torch.optim as optim\n",
    "import networkx as nx\n",
    "import matplotlib.pyplot as plt\n",
    "from torch_geometric.utils import to_networkx\n",
    "from sklearn.manifold import TSNE\n",
    "import import_ipynb\n",
    "from util import utils"
   ]
  },
  {
   "cell_type": "markdown",
   "id": "df1b3a3e-cec2-4d52-8527-3a522359d019",
   "metadata": {},
   "source": [
    "# 图数据加载"
   ]
  },
  {
   "cell_type": "code",
   "execution_count": 3,
   "id": "14a2ac7a-9742-458d-8e91-75606de5ed0a",
   "metadata": {},
   "outputs": [
    {
     "name": "stdout",
     "output_type": "stream",
     "text": [
      "  NumNodes: 2708\n",
      "  NumEdges: 10556\n",
      "  NumFeats: 1433\n",
      "  NumClasses: 7\n",
      "  NumTrainingSamples: 140\n",
      "  NumValidationSamples: 500\n",
      "  NumTestSamples: 1000\n",
      "Done loading data from cached files.\n"
     ]
    }
   ],
   "source": [
    "# 加载Cora数据集\n",
    "data = dgl.data.CoraGraphDataset()"
   ]
  },
  {
   "cell_type": "code",
   "execution_count": 4,
   "id": "eb7f42d1-0714-4491-a913-4d45cc8f0654",
   "metadata": {},
   "outputs": [
    {
     "name": "stdout",
     "output_type": "stream",
     "text": [
      "1433 7 2708 10556\n"
     ]
    }
   ],
   "source": [
    "# 查看图的基本信息\n",
    "graph = data[0]\n",
    "features = graph.ndata['feat']\n",
    "labels = graph.ndata['label']\n",
    "in_features = features.shape[1]\n",
    "num_classes = data.num_classes \n",
    "num_nodes = graph.num_nodes()\n",
    "num_edges = graph.num_edges()\n",
    "print(in_features, num_classes, num_nodes, num_edges)"
   ]
  },
  {
   "cell_type": "markdown",
   "id": "b4d3fe90-93dd-4cb0-92a5-b1ace083572a",
   "metadata": {},
   "source": [
    "# 定义图神经网络模型"
   ]
  },
  {
   "cell_type": "markdown",
   "id": "076cd4c0-6268-4029-a1db-b0bb5ec308c3",
   "metadata": {},
   "source": [
    "## GCN"
   ]
  },
  {
   "cell_type": "code",
   "execution_count": 6,
   "id": "2d70ea93-f3ed-4e19-a865-0ce991324abf",
   "metadata": {},
   "outputs": [],
   "source": [
    "class GCN(nn.Module):\n",
    "    \n",
    "    def __init__(self, in_features, hidden_features, out_features):\n",
    "        super(GCN,self).__init__()\n",
    "        torch.manual_seed(1234567)\n",
    "        self.conv1 = dglnn.GraphConv(in_features, hidden_features)\n",
    "        self.conv2 = dglnn.GraphConv(hidden_features, out_features)\n",
    "        \n",
    "    def forward(self, graph, features):\n",
    "        x = self.conv1(graph, features)\n",
    "        x = torch.relu(x)\n",
    "        x = self.conv2(graph, x)\n",
    "        return x"
   ]
  },
  {
   "cell_type": "markdown",
   "id": "f3e4a2c9-08b7-4884-a16b-5bf4b7189f4d",
   "metadata": {},
   "source": [
    "# 初始化"
   ]
  },
  {
   "cell_type": "code",
   "execution_count": 8,
   "id": "0e4f3b2c-e04e-4d95-95d9-1773a565c0b7",
   "metadata": {},
   "outputs": [],
   "source": [
    "hidden_features = 32"
   ]
  },
  {
   "cell_type": "code",
   "execution_count": 9,
   "id": "46c1f2bf-af74-4d5d-9c7a-edb04b6cf655",
   "metadata": {},
   "outputs": [],
   "source": [
    "model = GCN(in_features, hidden_features, num_classes)"
   ]
  },
  {
   "cell_type": "markdown",
   "id": "10ee03bf-1de0-40ef-b48e-ea527717ad09",
   "metadata": {},
   "source": [
    "# 可视化分析（训练前）"
   ]
  },
  {
   "cell_type": "markdown",
   "id": "70e61327-9a74-4e71-8585-e17933feb155",
   "metadata": {},
   "source": [
    "## 绘制混淆矩阵"
   ]
  },
  {
   "cell_type": "code",
   "execution_count": null,
   "id": "7c5d25b8-84b7-4de2-bec3-ba76004766e3",
   "metadata": {},
   "outputs": [],
   "source": [
    "def show_confusion_matrix(model, graph, features, labels):\n",
    "    output = model(graph, features)\n",
    "    _, pred = torch.max(output, 1)\n",
    "    cm = confusion_matrix(labels, pred)\n",
    "    print(\"Confusion Matrix:\")\n",
    "    print(cm)"
   ]
  },
  {
   "cell_type": "code",
   "execution_count": 10,
   "id": "f6556ab9-9185-4b48-af7d-4b45bbb38f6b",
   "metadata": {},
   "outputs": [
    {
     "name": "stdout",
     "output_type": "stream",
     "text": [
      "Confusion Matrix:\n",
      "[[ 29 267   1  35   1  17   1]\n",
      " [ 12 185   0   4   0   8   8]\n",
      " [ 11 218   3  11   1  10 164]\n",
      " [ 75 564   1  87   4  57  30]\n",
      " [ 27 302   0  45   4  37  11]\n",
      " [ 43 194   0  32   0  17  12]\n",
      " [  6 111   0  32   0  22   9]]\n"
     ]
    }
   ],
   "source": [
    "show_confusion_matrix(model, graph, features, labels)"
   ]
  },
  {
   "cell_type": "markdown",
   "id": "d0b9f3e2-49da-4231-a4b7-9da33fd6ad29",
   "metadata": {},
   "source": [
    "# 模型训练"
   ]
  },
  {
   "cell_type": "markdown",
   "id": "dd4472bd-192f-4d57-bff1-063f9c46be8b",
   "metadata": {},
   "source": [
    "## 训练过程"
   ]
  },
  {
   "cell_type": "code",
   "execution_count": 11,
   "id": "d6673e69-8697-4948-a93c-710ac4b9e530",
   "metadata": {},
   "outputs": [],
   "source": [
    "# 定义损失函数和优化器\n",
    "criterion = nn.CrossEntropyLoss()\n",
    "optimizer = optim.Adam(model.parameters(), lr=0.01)"
   ]
  },
  {
   "cell_type": "code",
   "execution_count": 12,
   "id": "f3fbbd54-8cbb-49db-afcf-f77f266f9422",
   "metadata": {},
   "outputs": [],
   "source": [
    "num_epochs = 200"
   ]
  },
  {
   "cell_type": "code",
   "execution_count": 13,
   "id": "42e50a7e-9c86-42a6-b4e0-15bf697c5ffa",
   "metadata": {},
   "outputs": [],
   "source": [
    "def train(model, graph, features, criterion, optimizer, labels):\n",
    "    model.train()\n",
    "    train_losses = []\n",
    "    for epoch in range(num_epochs):\n",
    "        optimizer.zero_grad()\n",
    "        output = model(graph, features)\n",
    "        loss = criterion(output, labels)\n",
    "        loss.backward()\n",
    "        optimizer.step()\n",
    "        train_losses.append(loss.item())\n",
    "        if (epoch + 1) % 10 == 0:\n",
    "            print(f'Epoch {epoch+1}, Train Loss: {loss.item()}') \n",
    "    return train_losses"
   ]
  },
  {
   "cell_type": "code",
   "execution_count": 14,
   "id": "dd8e3731-bace-40ff-91e0-f6cb4704bd8e",
   "metadata": {},
   "outputs": [
    {
     "name": "stdout",
     "output_type": "stream",
     "text": [
      "Epoch 10, Train Loss: 1.765895962715149\n",
      "Epoch 20, Train Loss: 1.567604422569275\n",
      "Epoch 30, Train Loss: 1.2953604459762573\n",
      "Epoch 40, Train Loss: 0.9958522319793701\n",
      "Epoch 50, Train Loss: 0.7280400395393372\n",
      "Epoch 60, Train Loss: 0.5351551175117493\n",
      "Epoch 70, Train Loss: 0.411327987909317\n",
      "Epoch 80, Train Loss: 0.3344149589538574\n",
      "Epoch 90, Train Loss: 0.28502312302589417\n",
      "Epoch 100, Train Loss: 0.2505844235420227\n",
      "Epoch 110, Train Loss: 0.22455959022045135\n",
      "Epoch 120, Train Loss: 0.20372025668621063\n",
      "Epoch 130, Train Loss: 0.18640819191932678\n",
      "Epoch 140, Train Loss: 0.17166943848133087\n",
      "Epoch 150, Train Loss: 0.15895859897136688\n",
      "Epoch 160, Train Loss: 0.14787784218788147\n",
      "Epoch 170, Train Loss: 0.13811320066452026\n",
      "Epoch 180, Train Loss: 0.12943410873413086\n",
      "Epoch 190, Train Loss: 0.12167162448167801\n",
      "Epoch 200, Train Loss: 0.11469440907239914\n"
     ]
    }
   ],
   "source": [
    "train_losses = train(model, graph, features, criterion, optimizer, labels)"
   ]
  },
  {
   "cell_type": "markdown",
   "id": "af56d13a-6be6-47a8-877a-63e30cbf085c",
   "metadata": {},
   "source": [
    "## 绘制训练曲线"
   ]
  },
  {
   "cell_type": "code",
   "execution_count": 15,
   "id": "84a91f2b-3b57-4331-9f1a-0283fefb5354",
   "metadata": {
    "scrolled": true
   },
   "outputs": [
    {
     "data": {
      "image/png": "[encoded data removed]",
      "text/plain": [
       "<Figure size 640x480 with 1 Axes>"
      ]
     },
     "metadata": {},
     "output_type": "display_data"
    }
   ],
   "source": [
    "utils.show_train_loss(train_losses)"
   ]
  },
  {
   "cell_type": "markdown",
   "id": "b1928ea1-244a-42be-9682-2b5e2acb51df",
   "metadata": {},
   "source": [
    "# 模型测试"
   ]
  },
  {
   "cell_type": "code",
   "execution_count": 16,
   "id": "f22915a9-e6ec-43d9-8254-2f1456f6b466",
   "metadata": {},
   "outputs": [],
   "source": [
    "def test(model, graph, features, labels):\n",
    "    model.eval()\n",
    "    with torch.no_grad():\n",
    "        output = model(graph, features)\n",
    "        _, pred = torch.max(output, 1)\n",
    "        accuracy = (pred==labels).sum().item() / len(labels) \n",
    "    return accuracy"
   ]
  },
  {
   "cell_type": "code",
   "execution_count": 17,
   "id": "a9b66e16-0dba-4df8-8955-19aa4e2d5bab",
   "metadata": {},
   "outputs": [
    {
     "name": "stdout",
     "output_type": "stream",
     "text": [
      "Accuracy: 0.9704579025110783\n"
     ]
    }
   ],
   "source": [
    "accuracy = test(model, graph, features, labels)\n",
    "print(f\"Accuracy: {accuracy}\")"
   ]
  },
  {
   "cell_type": "markdown",
   "id": "10707eb7-06a7-4589-8438-f0993fe13581",
   "metadata": {},
   "source": [
    "# 可视化分析（训练后）"
   ]
  },
  {
   "cell_type": "markdown",
   "id": "ae75051e-fd1e-431f-a122-136bf2e09a7e",
   "metadata": {},
   "source": [
    "## 绘制混淆矩阵"
   ]
  },
  {
   "cell_type": "code",
   "execution_count": 19,
   "id": "256fd73a-d3bc-4929-8508-6426f1b226a9",
   "metadata": {},
   "outputs": [
    {
     "name": "stdout",
     "output_type": "stream",
     "text": [
      "Confusion Matrix:\n",
      "[[337   1   1   5   1   5   1]\n",
      " [  1 209   3   2   1   1   0]\n",
      " [  0   1 415   2   0   0   0]\n",
      " [  6   2   2 800   5   3   0]\n",
      " [  4   1   0   9 412   0   0]\n",
      " [  4   1   3   1   2 283   4]\n",
      " [  3   0   0   0   0   5 172]]\n"
     ]
    }
   ],
   "source": [
    "show_confusion_matrix(model, graph, features, labels)"
   ]
  },
  {
   "cell_type": "code",
   "execution_count": null,
   "id": "65487408-510c-43c6-8d2d-255c39cc93f6",
   "metadata": {},
   "outputs": [],
   "source": []
  }
 ],
 "metadata": {
  "kernelspec": {
   "display_name": "Python 3 (ipykernel)",
   "language": "python",
   "name": "python3"
  },
  "language_info": {
   "codemirror_mode": {
    "name": "ipython",
    "version": 3
   },
   "file_extension": ".py",
   "mimetype": "text/x-python",
   "name": "python",
   "nbconvert_exporter": "python",
   "pygments_lexer": "ipython3",
   "version": "3.9.21"
  }
 },
 "nbformat": 4,
 "nbformat_minor": 5
}
