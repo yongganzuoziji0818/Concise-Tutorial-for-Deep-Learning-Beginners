{
 "cells": [
  {
   "cell_type": "code",
   "execution_count": 4,
   "id": "cb7c1084-2547-4e0c-aaac-2f289ae65ca0",
   "metadata": {},
   "outputs": [],
   "source": [
    "import torch\n",
    "import matplotlib.pyplot as plt\n",
    "from sklearn.metrics import confusion_matrix\n",
    "import scipy.sparse as sp\n",
    "import numpy as np\n",
    "from torch_geometric.utils import to_dense_adj"
   ]
  },
  {
   "cell_type": "markdown",
   "id": "48a05693-758b-4c4f-a96e-6d9e993905f2",
   "metadata": {},
   "source": [
    "# 绘制训练曲线"
   ]
  },
  {
   "cell_type": "code",
   "execution_count": 5,
   "id": "83b48b16-b4c7-481c-8fea-c03226ed7158",
   "metadata": {},
   "outputs": [],
   "source": [
    "def show_train_loss(train_losses):\n",
    "    plt.plot(train_losses, label='Train Loss')\n",
    "    plt.xlabel('Epoch')\n",
    "    plt.ylabel('Loss')\n",
    "    plt.legend()\n",
    "    plt.show()"
   ]
  },
  {
   "cell_type": "markdown",
   "id": "58eb9752-820f-43ae-ad99-7377e89169d2",
   "metadata": {},
   "source": [
    "# 邻接矩阵转edge_index"
   ]
  },
  {
   "cell_type": "code",
   "execution_count": 6,
   "id": "3dbea6a1-0b92-44fd-837f-d2894d15615b",
   "metadata": {},
   "outputs": [],
   "source": [
    "def adjacency_matrix_2_edge_index(adjacency_matrix):\n",
    "    # 稀疏矩阵\n",
    "    sparse_matrix = sp.coo_matrix(adjacency_matrix)\n",
    "    edge_index = torch.LongTensor(np.vstack((sparse_matrix.row, sparse_matrix.col)))  \n",
    "    return edge_index"
   ]
  },
  {
   "cell_type": "markdown",
   "id": "505aa5e4-05c9-4064-86e7-e5d676b254f2",
   "metadata": {},
   "source": [
    "# edge_index转邻接矩阵"
   ]
  },
  {
   "cell_type": "code",
   "execution_count": null,
   "id": "9691cc1c-61f4-47f2-89d7-150b35d65740",
   "metadata": {},
   "outputs": [],
   "source": [
    "def edge_index_2_adjacency_matrix(edge_index):\n",
    "    adjacency_matrix = to_dense_adj(edge_index)[0]\n",
    "    return adjacency_matrix"
   ]
  }
 ],
 "metadata": {
  "kernelspec": {
   "display_name": "Python 3 (ipykernel)",
   "language": "python",
   "name": "python3"
  },
  "language_info": {
   "codemirror_mode": {
    "name": "ipython",
    "version": 3
   },
   "file_extension": ".py",
   "mimetype": "text/x-python",
   "name": "python",
   "nbconvert_exporter": "python",
   "pygments_lexer": "ipython3",
   "version": "3.9.21"
  },
  "toc": {
   "base_numbering": 1,
   "nav_menu": {},
   "number_sections": true,
   "sideBar": true,
   "skip_h1_title": false,
   "title_cell": "Table of Contents",
   "title_sidebar": "Contents",
   "toc_cell": false,
   "toc_position": {},
   "toc_section_display": true,
   "toc_window_display": false
  }
 },
 "nbformat": 4,
 "nbformat_minor": 5
}
