{
 "cells": [
  {
   "cell_type": "code",
   "execution_count": 11,
   "id": "5a1416d6-9070-4437-a4f5-4616d6a63157",
   "metadata": {},
   "outputs": [],
   "source": [
    "from transformers import AutoFeatureExtractor, SwinForImageClassification\n",
    "from PIL import Image\n",
    "import requests"
   ]
  },
  {
   "cell_type": "code",
   "execution_count": 12,
   "id": "56393324-4e24-4bf7-942b-d0ff4aa9c864",
   "metadata": {},
   "outputs": [],
   "source": [
    "# 预训练Swin模型特征提取器\n",
    "feature_extractor = AutoFeatureExtractor.from_pretrained(\"microsoft/swin-large-patch4-window12-384-in22k\")"
   ]
  },
  {
   "cell_type": "code",
   "execution_count": 13,
   "id": "7832e430-9acd-4486-b1a2-301511068cb9",
   "metadata": {},
   "outputs": [],
   "source": [
    "# 预训练Swin模型\n",
    "model = SwinForImageClassification.from_pretrained(\"microsoft/swin-large-patch4-window12-384-in22k\")"
   ]
  },
  {
   "cell_type": "code",
   "execution_count": 14,
   "id": "237dd090-0e5f-4106-8a21-804295f4ce93",
   "metadata": {},
   "outputs": [],
   "source": [
    "# 打开图片\n",
    "url = \"http://images.cocodataset.org/val2017/000000039769.jpg\"\n",
    "image = Image.open(requests.get(url, stream=True).raw)"
   ]
  },
  {
   "cell_type": "code",
   "execution_count": 15,
   "id": "507b0533-eaa5-4afa-80d2-b4eb13a9f629",
   "metadata": {},
   "outputs": [],
   "source": [
    "# Swin模型输入\n",
    "inputs = feature_extractor(images=image, \n",
    "                           return_tensors=\"pt\")  # 返回pytorch张量"
   ]
  },
  {
   "cell_type": "code",
   "execution_count": 16,
   "id": "b81ddba4-fe29-417b-af90-f68b7fc73038",
   "metadata": {},
   "outputs": [],
   "source": [
    "# Swin模型输出\n",
    "outputs = model(**inputs)"
   ]
  },
  {
   "cell_type": "code",
   "execution_count": 17,
   "id": "8e03b36d-1bb0-40fe-81f1-329df727af6d",
   "metadata": {},
   "outputs": [
    {
     "data": {
      "text/plain": [
       "tensor([[ 1.4358, -0.7969,  0.1404,  ...,  0.9741, -0.3413,  0.1212]],\n",
       "       grad_fn=<AddmmBackward0>)"
      ]
     },
     "execution_count": 17,
     "metadata": {},
     "output_type": "execute_result"
    }
   ],
   "source": [
    "logits = outputs.logits\n",
    "logits"
   ]
  },
  {
   "cell_type": "code",
   "execution_count": 18,
   "id": "cd6a063c-d642-44a7-9d96-4ca140d9e787",
   "metadata": {},
   "outputs": [
    {
     "data": {
      "text/plain": [
       "9778"
      ]
     },
     "execution_count": 18,
     "metadata": {},
     "output_type": "execute_result"
    }
   ],
   "source": [
    "# model predicts one of the 1000 ImageNet classes\n",
    "predicted_class_idx = logits.argmax(-1).item()\n",
    "predicted_class_idx"
   ]
  },
  {
   "cell_type": "code",
   "execution_count": 19,
   "id": "9bda12c4-d901-49eb-a08f-799a4f5d07f5",
   "metadata": {},
   "outputs": [
    {
     "data": {
      "text/plain": [
       "'remote_control, remote'"
      ]
     },
     "execution_count": 19,
     "metadata": {},
     "output_type": "execute_result"
    }
   ],
   "source": [
    "predicted_class = model.config.id2label[predicted_class_idx]\n",
    "predicted_class"
   ]
  },
  {
   "cell_type": "code",
   "execution_count": null,
   "id": "77b2e9b1-e5f9-48dc-86f0-31fff31c3f06",
   "metadata": {},
   "outputs": [],
   "source": []
  }
 ],
 "metadata": {
  "kernelspec": {
   "display_name": "Python 3 (ipykernel)",
   "language": "python",
   "name": "python3"
  },
  "language_info": {
   "codemirror_mode": {
    "name": "ipython",
    "version": 3
   },
   "file_extension": ".py",
   "mimetype": "text/x-python",
   "name": "python",
   "nbconvert_exporter": "python",
   "pygments_lexer": "ipython3",
   "version": "3.9.21"
  }
 },
 "nbformat": 4,
 "nbformat_minor": 5
}
