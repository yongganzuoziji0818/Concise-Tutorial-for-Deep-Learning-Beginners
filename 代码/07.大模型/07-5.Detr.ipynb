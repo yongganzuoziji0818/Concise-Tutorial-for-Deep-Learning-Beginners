{
 "cells": [
  {
   "cell_type": "code",
   "execution_count": 16,
   "id": "066a3056-856b-486d-8847-d364d843ee1a",
   "metadata": {},
   "outputs": [],
   "source": [
    "from transformers import DetrImageProcessor, DetrForObjectDetection\n",
    "import torch\n",
    "from PIL import Image\n",
    "import requests"
   ]
  },
  {
   "cell_type": "code",
   "execution_count": 17,
   "id": "79f91826-c43c-4995-902c-e958b09378bc",
   "metadata": {},
   "outputs": [],
   "source": [
    "url = \"http://images.cocodataset.org/val2017/000000039769.jpg\""
   ]
  },
  {
   "cell_type": "code",
   "execution_count": 18,
   "id": "41171f62-419e-4f16-a10e-43a535723cd7",
   "metadata": {},
   "outputs": [],
   "source": [
    "image = Image.open(requests.get(url, stream=True).raw)"
   ]
  },
  {
   "cell_type": "code",
   "execution_count": 19,
   "id": "a14a5a9c-674f-4276-8577-e4581405ae9c",
   "metadata": {},
   "outputs": [
    {
     "data": {
      "application/vnd.jupyter.widget-view+json": {
       "model_id": "e09f5da42e534329ab2980962a5098e7",
       "version_major": 2,
       "version_minor": 0
      },
      "text/plain": [
       "preprocessor_config.json:   0%|          | 0.00/401 [00:00<?, ?B/s]"
      ]
     },
     "metadata": {},
     "output_type": "display_data"
    }
   ],
   "source": [
    "# you can specify the revision tag if you don't want the timm dependency\n",
    "processor = DetrImageProcessor.from_pretrained(\"facebook/detr-resnet-101\", revision=\"no_timm\")"
   ]
  },
  {
   "cell_type": "code",
   "execution_count": 20,
   "id": "ab411e2a-e3c6-4d78-acd5-6933c03fde08",
   "metadata": {},
   "outputs": [
    {
     "data": {
      "application/vnd.jupyter.widget-view+json": {
       "model_id": "9d7103260c4d403ba8cb5b8efebe2fb6",
       "version_major": 2,
       "version_minor": 0
      },
      "text/plain": [
       "config.json:   0%|          | 0.00/79.6k [00:00<?, ?B/s]"
      ]
     },
     "metadata": {},
     "output_type": "display_data"
    },
    {
     "data": {
      "application/vnd.jupyter.widget-view+json": {
       "model_id": "e1aed5359ef84c1f89bf67b83f13b90c",
       "version_major": 2,
       "version_minor": 0
      },
      "text/plain": [
       "pytorch_model.bin:   0%|          | 0.00/243M [00:00<?, ?B/s]"
      ]
     },
     "metadata": {},
     "output_type": "display_data"
    }
   ],
   "source": [
    "# you can specify the revision tag if you don't want the timm dependency\n",
    "model = DetrForObjectDetection.from_pretrained(\"facebook/detr-resnet-101\", revision=\"no_timm\")"
   ]
  },
  {
   "cell_type": "code",
   "execution_count": 21,
   "id": "4f0c3ff6-bdc7-4bb1-96e0-4493d1dfb970",
   "metadata": {},
   "outputs": [],
   "source": [
    "inputs = processor(images=image, return_tensors=\"pt\")"
   ]
  },
  {
   "cell_type": "code",
   "execution_count": 22,
   "id": "dc3b8ace-019b-4176-b00d-3737887a15a2",
   "metadata": {},
   "outputs": [],
   "source": [
    "outputs = model(**inputs)"
   ]
  },
  {
   "cell_type": "code",
   "execution_count": 23,
   "id": "ae9be79c-3f03-4a7f-908f-5453216f562e",
   "metadata": {},
   "outputs": [],
   "source": [
    "# convert outputs (bounding boxes and class logits) to COCO API\n",
    "# let's only keep detections with score > 0.9\n",
    "target_sizes = torch.tensor([image.size[::-1]])\n",
    "results = processor.post_process_object_detection(outputs, target_sizes=target_sizes, threshold=0.9)[0]"
   ]
  },
  {
   "cell_type": "code",
   "execution_count": 24,
   "id": "815bb52c-3b19-4d68-949c-79a6af657589",
   "metadata": {},
   "outputs": [
    {
     "name": "stdout",
     "output_type": "stream",
     "text": [
      "Detected cat with confidence 0.998 at location [344.06, 24.85, 640.34, 373.74]\n",
      "Detected remote with confidence 0.997 at location [328.13, 75.93, 372.81, 187.66]\n",
      "Detected remote with confidence 0.997 at location [39.34, 70.13, 175.56, 118.78]\n",
      "Detected cat with confidence 0.998 at location [15.36, 51.75, 316.89, 471.16]\n",
      "Detected couch with confidence 0.995 at location [-0.19, 0.71, 639.73, 474.17]\n"
     ]
    }
   ],
   "source": [
    "for score, label, box in zip(results[\"scores\"], results[\"labels\"], results[\"boxes\"]):\n",
    "    box = [round(i, 2) for i in box.tolist()]\n",
    "    print(\n",
    "            f\"Detected {model.config.id2label[label.item()]} with confidence \"\n",
    "            f\"{round(score.item(), 3)} at location {box}\"\n",
    "    )"
   ]
  },
  {
   "cell_type": "code",
   "execution_count": null,
   "id": "e078424d-07eb-44a3-b4a3-182bba35a235",
   "metadata": {},
   "outputs": [],
   "source": []
  }
 ],
 "metadata": {
  "kernelspec": {
   "display_name": "Python 3 (ipykernel)",
   "language": "python",
   "name": "python3"
  },
  "language_info": {
   "codemirror_mode": {
    "name": "ipython",
    "version": 3
   },
   "file_extension": ".py",
   "mimetype": "text/x-python",
   "name": "python",
   "nbconvert_exporter": "python",
   "pygments_lexer": "ipython3",
   "version": "3.9.21"
  }
 },
 "nbformat": 4,
 "nbformat_minor": 5
}
