{
 "cells": [
  {
   "cell_type": "code",
   "execution_count": 1,
   "id": "0ad28e6a-037a-4b2d-9986-4e5f49de6b3c",
   "metadata": {},
   "outputs": [],
   "source": [
    "from torch.utils.data import DataLoader, TensorDataset\n",
    "import torch\n",
    "import torch.nn as nn\n",
    "import random\n",
    "from collections import Counter    # 计数类\n",
    "from torch.utils.data import DataLoader, TensorDataset\n",
    "from tqdm import tqdm\n",
    "import matplotlib.pyplot as plt\n",
    "import torch.utils.data as Data\n",
    "import numpy as np\n",
    "from torch import optim"
   ]
  },
  {
   "cell_type": "markdown",
   "id": "e0aa90cc-2589-47e5-9e6d-b2fd4accf612",
   "metadata": {},
   "source": [
    "# 数据集定义"
   ]
  },
  {
   "cell_type": "markdown",
   "id": "b0a6413f-7e5c-44dd-a05b-4f88b6465ed3",
   "metadata": {},
   "source": [
    "## 原始数据集"
   ]
  },
  {
   "cell_type": "markdown",
   "id": "7f4bcdb0-f4fc-400e-8db7-cc0d3cb2f7a3",
   "metadata": {},
   "source": [
    "### 语音数据集"
   ]
  },
  {
   "cell_type": "code",
   "execution_count": 2,
   "id": "7677fe54-d7dd-4060-9e05-d665d1785267",
   "metadata": {},
   "outputs": [],
   "source": [
    "soundmark = ['ei', 'bi:', 'si:', 'di:', 'i:',  \n",
    "             'ef', 'dʒi:', 'eit∫', 'ai', 'dʒei', \n",
    "             'kei', 'el', 'em', 'en', 'əu', \n",
    "             'pi:', 'kju:', 'ɑ:', 'es', 'ti:', \n",
    "             'ju:', 'vi:', 'd∧blju:', 'eks', 'wai', \n",
    "             'zi:']"
   ]
  },
  {
   "cell_type": "markdown",
   "id": "e2332538-f8b0-45c0-ba35-2b23683af93e",
   "metadata": {},
   "source": [
    "### 字母数据集"
   ]
  },
  {
   "cell_type": "code",
   "execution_count": 3,
   "id": "5917518b-051f-43a0-b079-aa607ef09b62",
   "metadata": {},
   "outputs": [],
   "source": [
    "alphabet = ['a', 'b', 'c', 'd', 'e',\n",
    "            'f', 'g', 'h', 'i', 'j',\n",
    "            'k', 'l', 'm', 'n', 'o',\n",
    "            'p', 'q', 'r', 's', 't',\n",
    "            'u', 'v', 'w', 'x', 'y',\n",
    "            'z']"
   ]
  },
  {
   "cell_type": "markdown",
   "id": "4617ba75-3785-496a-bfc0-3094a998ffb5",
   "metadata": {},
   "source": [
    "## 序列数据集"
   ]
  },
  {
   "cell_type": "code",
   "execution_count": 4,
   "id": "3e3570f2-9496-4aa8-835a-795cb6aa11ec",
   "metadata": {},
   "outputs": [],
   "source": [
    "t = 10000 # 序列总条数\n",
    "seq_len = 6  # 序列长度\n",
    "r = 0.9   # 扰动项\n",
    "# 原始序列（语音序列），目标序列（字母序列）\n",
    "src_tokens, tgt_tokens = [], [] "
   ]
  },
  {
   "cell_type": "code",
   "execution_count": 5,
   "id": "7ed77485-99fe-450d-99a3-2552b1007766",
   "metadata": {},
   "outputs": [],
   "source": [
    "for i in range(t):\n",
    "    src, tgt = [], []\n",
    "    for j in range(seq_len):\n",
    "        ind = random.randint(0, 25)\n",
    "        src.append(soundmark[ind])\n",
    "        if random.random() < r:\n",
    "            tgt.append(alphabet[ind])\n",
    "        else:\n",
    "            tgt.append(alphabet[random.randint(0, 25)])\n",
    "    src_tokens.append(src)\n",
    "    tgt_tokens.append(tgt)"
   ]
  },
  {
   "cell_type": "markdown",
   "id": "f2d5a041-48d8-4901-9cc0-7f66c0865f85",
   "metadata": {},
   "source": [
    "### 语音序列数据集"
   ]
  },
  {
   "cell_type": "code",
   "execution_count": 6,
   "id": "91eb9aed-6584-4f7e-8d8b-cdea7e61a826",
   "metadata": {},
   "outputs": [
    {
     "data": {
      "text/plain": [
       "[['ɑ:', 'əu', 'kju:', 'bi:', 'di:', 'zi:'],\n",
       " ['dʒi:', 'si:', 'dʒi:', 'wai', 'eks', 'kju:'],\n",
       " ['eit∫', 'wai', 'ti:', 'dʒi:', 'ei', 'ei'],\n",
       " ['el', 'pi:', 'ef', 'kju:', 'ti:', 'si:'],\n",
       " ['es', 'zi:', 'bi:', 'en', 'ai', 'wai']]"
      ]
     },
     "execution_count": 6,
     "metadata": {},
     "output_type": "execute_result"
    }
   ],
   "source": [
    "src_tokens[0:5]"
   ]
  },
  {
   "cell_type": "markdown",
   "id": "10422e2d-68a1-4556-9eb6-8cfb80e9c466",
   "metadata": {},
   "source": [
    "### 字母序列数据集"
   ]
  },
  {
   "cell_type": "code",
   "execution_count": 7,
   "id": "4c7687bd-7b02-4d2a-be0a-e4312d7a7851",
   "metadata": {},
   "outputs": [
    {
     "data": {
      "text/plain": [
       "[['r', 'o', 'q', 'b', 'm', 'z'],\n",
       " ['g', 'c', 'g', 'y', 'x', 'q'],\n",
       " ['h', 'y', 't', 'g', 'a', 'n'],\n",
       " ['b', 'p', 'a', 'q', 't', 'c'],\n",
       " ['s', 'z', 'b', 'n', 'i', 'y']]"
      ]
     },
     "execution_count": 7,
     "metadata": {},
     "output_type": "execute_result"
    }
   ],
   "source": [
    "tgt_tokens[0:5]"
   ]
  },
  {
   "cell_type": "markdown",
   "id": "8e3871d3-8013-45cb-b071-25ed236b3ad4",
   "metadata": {},
   "source": [
    "## 字典数据集"
   ]
  },
  {
   "cell_type": "code",
   "execution_count": 8,
   "id": "c5708ca9-b1fe-471a-9963-747f8af8a4aa",
   "metadata": {},
   "outputs": [],
   "source": [
    "flatten = lambda li: [item for sublist in li for item in sublist]      # 展平二维数组"
   ]
  },
  {
   "cell_type": "code",
   "execution_count": 9,
   "id": "97a102bf-d8b8-4f4c-a7ff-269bd6700178",
   "metadata": {},
   "outputs": [],
   "source": [
    "class Vocab:\n",
    "    def __init__(self, tokens):\n",
    "        self.tokens = tokens  # 传入的tokens是二维列表\n",
    "        self.token2index = {'<bos>': 0, '<eos>': 1}  # 先存好特殊词元\n",
    "        # 将token按词频逆序排序后生成token到index字典\n",
    "        self.token2index.update({\n",
    "            token: index + 2\n",
    "            for index, (token, freq) in enumerate(\n",
    "                sorted(Counter(flatten(self.tokens)).items(), key=lambda x: x[1], reverse=True))\n",
    "        }) \n",
    "        # index到token字典\n",
    "        self.index2token = {index: token for token, index in self.token2index.items()}\n",
    " \n",
    "    def __getitem__(self, query):\n",
    "        # 单一索引\n",
    "        if isinstance(query, (str, int)):\n",
    "            if isinstance(query, str):\n",
    "                return self.token2index.get(query, 0)\n",
    "            elif isinstance(query, (int)):\n",
    "                return self.index2token.get(query, '<unk>')\n",
    "        # 数组索引\n",
    "        elif isinstance(query, (list, tuple)):\n",
    "            return [self.__getitem__(item) for item in query]\n",
    " \n",
    "    def __len__(self):\n",
    "        return len(self.index2token)"
   ]
  },
  {
   "cell_type": "markdown",
   "id": "cdde4a5c-9195-435c-aac1-ccd20c40e85c",
   "metadata": {},
   "source": [
    "### 语音字典数据集"
   ]
  },
  {
   "cell_type": "code",
   "execution_count": 10,
   "id": "49b1eaa4-de1e-4671-8357-8f6dccb4f8d2",
   "metadata": {},
   "outputs": [
    {
     "name": "stdout",
     "output_type": "stream",
     "text": [
      "src_vocab_size: 28\n"
     ]
    }
   ],
   "source": [
    "# 实例化语音字典数据集\n",
    "src_vocab = Vocab(src_tokens)\n",
    "# 语音字典数据集大小\n",
    "print(\"src_vocab_size: {}\".format(len(src_vocab)))"
   ]
  },
  {
   "cell_type": "markdown",
   "id": "961c54b5-a7b7-4ec9-aeae-2ee28a2817cf",
   "metadata": {},
   "source": [
    "### 字母字典数据集"
   ]
  },
  {
   "cell_type": "code",
   "execution_count": 11,
   "id": "1a96a16a-17f4-4a87-b37b-35725616a166",
   "metadata": {},
   "outputs": [
    {
     "name": "stdout",
     "output_type": "stream",
     "text": [
      "tgt_vocab_size: 28\n"
     ]
    }
   ],
   "source": [
    "# 实例化字母字典数据集\n",
    "tgt_vocab = Vocab(tgt_tokens)\n",
    "# 字母字典数据集大小\n",
    "print(\"tgt_vocab_size: {}\".format(len(tgt_vocab)))"
   ]
  },
  {
   "cell_type": "markdown",
   "id": "a3499d05-949e-4ad0-aaed-f61395582306",
   "metadata": {},
   "source": [
    "## 序列张量数据集"
   ]
  },
  {
   "cell_type": "code",
   "execution_count": 12,
   "id": "3b4104a2-2d39-47ca-a366-f713a204881d",
   "metadata": {},
   "outputs": [],
   "source": [
    "# 语音序列结尾增加填充标识<pad>，并转换为语音序列张量数据集\n",
    "encoder_input = torch.tensor([src_vocab[line + ['<pad>']] for line in src_tokens])"
   ]
  },
  {
   "cell_type": "code",
   "execution_count": 13,
   "id": "f65771e5-91cf-417b-9d85-0d0492addf63",
   "metadata": {},
   "outputs": [],
   "source": [
    "# 语音序列开头增加开始标识<bos>，并转换为语音序列张量数据集\n",
    "decoder_input = torch.tensor([src_vocab[['<bos>'] + line] for line in src_tokens])"
   ]
  },
  {
   "cell_type": "code",
   "execution_count": 14,
   "id": "fb31901d-c3d0-4a05-aee7-20e855bb4298",
   "metadata": {},
   "outputs": [],
   "source": [
    "# 字母序列结尾增加结束标识<eos>，并转换为字母序列张量数据集\n",
    "decoder_output = torch.tensor([tgt_vocab[line + ['<eos>']] for line in tgt_tokens])"
   ]
  },
  {
   "cell_type": "markdown",
   "id": "9cd54df5-9470-4c91-964a-86ef4e20b041",
   "metadata": {},
   "source": [
    "## 训练集和测试集"
   ]
  },
  {
   "cell_type": "code",
   "execution_count": 15,
   "id": "b000320b-f322-46d0-bf60-8666a527b61d",
   "metadata": {},
   "outputs": [
    {
     "name": "stdout",
     "output_type": "stream",
     "text": [
      "8000 2000\n"
     ]
    }
   ],
   "source": [
    "# 训练集和测试集比例8比2\n",
    "train_size = int(len(encoder_input) * 0.8)\n",
    "test_size = len(encoder_input) - train_size\n",
    "print(train_size, test_size)"
   ]
  },
  {
   "cell_type": "code",
   "execution_count": 16,
   "id": "32a4f168-0c0b-41d2-83da-89eb477da5b4",
   "metadata": {},
   "outputs": [],
   "source": [
    "BATCH_SIZE = 16"
   ]
  },
  {
   "cell_type": "code",
   "execution_count": 17,
   "id": "5187f440-5118-498a-bff8-9ff7a54d69db",
   "metadata": {},
   "outputs": [],
   "source": [
    "# 自定义数据集函数\n",
    "class MyDataSet(Data.Dataset):\n",
    "    def __init__(self, enc_input, dec_input, dec_output):\n",
    "        super(MyDataSet, self).__init__()\n",
    "        self.enc_input = enc_input\n",
    "        self.dec_input = dec_input\n",
    "        self.dec_output = dec_output\n",
    "\n",
    "    def __len__(self):\n",
    "        return self.enc_input.shape[0]\n",
    "\n",
    "    def __getitem__(self, idx):\n",
    "        return self.enc_input[idx], self.dec_input[idx], self.dec_output[idx]"
   ]
  },
  {
   "cell_type": "code",
   "execution_count": 18,
   "id": "e475220c-84e5-4e1d-a30d-d553ced42576",
   "metadata": {},
   "outputs": [],
   "source": [
    "train_dataset = MyDataSet(encoder_input[:train_size], decoder_input[:train_size], decoder_output[:train_size])\n",
    "test_dataset = MyDataSet(encoder_input[-test_size:], decoder_input[-test_size:], decoder_output[-test_size:])"
   ]
  },
  {
   "cell_type": "code",
   "execution_count": 19,
   "id": "246e630e",
   "metadata": {},
   "outputs": [],
   "source": [
    "train_loader = DataLoader(train_dataset, batch_size=BATCH_SIZE)\n",
    "test_loader = DataLoader(test_dataset, batch_size=1)"
   ]
  },
  {
   "cell_type": "markdown",
   "id": "d976ae9a-557e-4c08-bb60-0db13c1b1bf2",
   "metadata": {},
   "source": [
    "# 模型定义"
   ]
  },
  {
   "cell_type": "markdown",
   "id": "765ae716-7126-412e-a6e3-08e42b2edb4e",
   "metadata": {},
   "source": [
    "## mask没有意义(=0)的占位符"
   ]
  },
  {
   "cell_type": "code",
   "execution_count": 20,
   "id": "32265c92-ec84-4098-a573-d08c0ebe0271",
   "metadata": {},
   "outputs": [],
   "source": [
    "def get_attn_pad_mask(seq_q, seq_k):  \n",
    "    # seq_q: [batch_size, len_q], seq_k: [batch_size, len_k]\n",
    "    batch_size, len_q = seq_q.size()\n",
    "    batch_size, len_k = seq_k.size()\n",
    "    # eq: 比较两个tensor中，每一个对应位置上的元素是否相等。相等则对应位置置True，不等则对应位置置False\n",
    "    # 判断值为0（没有意义的占位符）的位置, 用True标记。 \n",
    "    # pad_attn_mask: [batch_size, len_k]\n",
    "    pad_attn_mask = seq_k.data.eq(0)\n",
    "    # pad_attn_mask: [batch_size, 1, len_k]\n",
    "    pad_attn_mask = pad_attn_mask.unsqueeze(1)  \n",
    "    # expand: 参数是扩展的目标，repeat: 参数是重复的次数\n",
    "    # pad_attn_mask: [batch_size, len_q, len_k]\n",
    "    pad_attn_mask = pad_attn_mask.expand(batch_size, len_q, len_k)\n",
    "    return pad_attn_mask"
   ]
  },
  {
   "cell_type": "markdown",
   "id": "f21212f0-863f-4527-b411-7e525992d2c3",
   "metadata": {},
   "source": [
    "## mask未来信息"
   ]
  },
  {
   "cell_type": "code",
   "execution_count": 21,
   "id": "16f45380",
   "metadata": {},
   "outputs": [],
   "source": [
    "def get_attn_subsequence_mask(seq):   \n",
    "    # seq: [batch_size, seq_len]\n",
    "    # attn_shape: [batch_size, seq_len, seq_len]\n",
    "    attn_shape = [seq.size(0), seq.size(1), seq.size(1)]\n",
    "    # 生成右上三角矩阵（不包括主对角线）：[batch_size, seq_len, seq_len]\n",
    "    # 右上三角矩阵中元素为1，其余位置元素为0\n",
    "    # subsequence_mask: [batch_size, seq_len, seq_len]\n",
    "    subsequence_mask = np.triu(np.ones(attn_shape), k=1)  \n",
    "    # self.byte() is equivalent to self.to(torch.uint8)\n",
    "    # subsequence_mask: [batch_size, seq_len, seq_len]\n",
    "    subsequence_mask = torch.from_numpy(subsequence_mask).byte()  \n",
    "    return subsequence_mask "
   ]
  },
  {
   "cell_type": "markdown",
   "id": "3dad8055-d94b-4019-87fd-59e93aca0d4a",
   "metadata": {},
   "source": [
    "## 正余弦位置编码"
   ]
  },
  {
   "cell_type": "code",
   "execution_count": 22,
   "id": "8ad8a03f",
   "metadata": {},
   "outputs": [],
   "source": [
    "def get_sinusoid_positional_encoding(n_position, d_model):\n",
    "    def cal_angle(position, hid_idx):\n",
    "        return position / np.power(10000, 2 * (hid_idx // 2) / d_model)\n",
    "    def get_posi_angle_vec(position):\n",
    "        return [cal_angle(position, hid_idx) for hid_idx in range(d_model)]\n",
    "    # sinusoid_positional_encoding: [n_position, d_model]\n",
    "    sinusoid_positional_encoding = np.array([get_posi_angle_vec(pos_i) for pos_i in range(n_position)])\n",
    "    sinusoid_positional_encoding[:, 0::2] = np.sin(sinusoid_positional_encoding[:, 0::2]) # 偶数位用正弦函数\n",
    "    sinusoid_positional_encoding[:, 1::2] = np.cos(sinusoid_positional_encoding[:, 1::2]) # 奇数位用余弦函数\n",
    "    # sinusoid_positional_encoding: [n_position, d_model]\n",
    "    return torch.FloatTensor(sinusoid_positional_encoding)"
   ]
  },
  {
   "cell_type": "markdown",
   "id": "7a74610a-6a51-4d51-bd7a-129511a1d641",
   "metadata": {},
   "source": [
    "## 缩放点积注意力"
   ]
  },
  {
   "cell_type": "code",
   "execution_count": 23,
   "id": "0e7fb2ee",
   "metadata": {},
   "outputs": [],
   "source": [
    "class ScaledDotProductAttention(nn.Module):\n",
    "    def __init__(self):\n",
    "        super(ScaledDotProductAttention, self).__init__()\n",
    "    def forward(self, Q, K, V, attn_mask):\n",
    "        '''\n",
    "        Q: [batch_size, n_heads, len_q, d_q]  # d_q = d_k\n",
    "        K: [batch_size, n_heads, len_k, d_k]\n",
    "        V: [batch_size, n_heads, len_v, d_v]  # len_v = len_k\n",
    "        attn_mask: [batch_size, n_heads, len_q, len_k]\n",
    "        '''\n",
    "        d_k = K.size(-1)\n",
    "        # scores: [batch_size, n_heads, len_q, len_k]\n",
    "        scores = torch.matmul(Q, K.transpose(-1, -2)) / np.sqrt(d_k) \n",
    "        # scores: [batch_size, n_heads, len_q, len_k]\n",
    "        scores.masked_fill_(attn_mask, -1e9) # Fills elements of self tensor with value where mask is True.\n",
    "        # attn: [batch_size, n_heads, len_q, len_k]\n",
    "        attn = nn.Softmax(dim=-1)(scores)\n",
    "        # context: [batch_size, n_heads, len_q, d_v]\n",
    "        context = torch.matmul(attn, V) \n",
    "        # context: [batch_size, n_heads, len_q, d_v], attn: [batch_size, n_heads, len_q, len_k]\n",
    "        return context, attn"
   ]
  },
  {
   "cell_type": "markdown",
   "id": "b1e1ade7-6839-409d-a761-c9f149478a8e",
   "metadata": {},
   "source": [
    "## 多头注意力"
   ]
  },
  {
   "cell_type": "code",
   "execution_count": 24,
   "id": "676a4bc2",
   "metadata": {},
   "outputs": [],
   "source": [
    "class MultiHeadAttention(nn.Module):\n",
    "    def __init__(self, n_heads, d_model, d_k, d_v):\n",
    "        super(MultiHeadAttention, self).__init__()\n",
    "        self.n_heads = n_heads\n",
    "        self.d_model = d_model\n",
    "        self.d_k = d_k\n",
    "        self.d_v = d_v\n",
    "        # bias用于指定是否在线性变换后添加偏置项\n",
    "        self.W_Q = nn.Linear(d_model, d_k * n_heads, bias=False)\n",
    "        self.W_K = nn.Linear(d_model, d_k * n_heads, bias=False)\n",
    "        self.W_V = nn.Linear(d_model, d_v * n_heads, bias=False)\n",
    "        self.fc = nn.Linear(n_heads * d_v, d_model, bias=False)\n",
    "    def forward(self, input_Q, input_K, input_V, attn_mask):\n",
    "        '''\n",
    "        input_Q: [batch_size, len_q, d_model]\n",
    "        input_K: [batch_size, len_k, d_model]\n",
    "        input_V: [batch_size, len_v, d_model]  # len_v = len_k\n",
    "        attn_mask: [batch_size, len_q, len_k]\n",
    "        '''\n",
    "        residual, batch_size = input_Q, input_Q.size(0)\n",
    "        # Q: [batch_size, len_q, d_model]变为[batch_size, n_heads, len_q, d_k]\n",
    "        Q = self.W_Q(input_Q).view(batch_size, -1, self.n_heads, self.d_k).transpose(1,2) \n",
    "        # K: [batch_size, len_k, d_model]变为[batch_size, n_heads, len_k, d_k]\n",
    "        K = self.W_K(input_K).view(batch_size, -1, self.n_heads, self.d_k).transpose(1,2) \n",
    "        # V: [batch_size, len_v, d_model]变为[batch_size, n_heads, len_v, d_v]\n",
    "        V = self.W_V(input_V).view(batch_size, -1, self.n_heads, self.d_v).transpose(1,2) \n",
    "        # expand: 参数是扩展的目标，repeat: 参数是重复的次数\n",
    "        # attn_mask : [batch_size, len_q, len_k]变为[batch_size, n_heads, len_q, len_k]\n",
    "        attn_mask = attn_mask.unsqueeze(1).repeat(1, self.n_heads, 1, 1) \n",
    "        # context: [batch_size, n_heads, len_q, d_v]\n",
    "        # attn: [batch_size, n_heads, len_q, len_k]\n",
    "        context, attn = ScaledDotProductAttention()(Q, K, V, attn_mask)\n",
    "        # context: [batch_size, len_q, n_heads * d_v]\n",
    "        context = context.transpose(1, 2).reshape(batch_size, -1, self.n_heads * self.d_v) \n",
    "        # output: [batch_size, len_q, d_model]\n",
    "        output = self.fc(context) \n",
    "        # 对应元素相加，不改变size，output: [batch_size, len_q, d_model]\n",
    "        output = output + residual\n",
    "        # 层归一化，不改变size，output: [batch_size, len_q, d_model]\n",
    "        output = nn.LayerNorm(self.d_model)(output)\n",
    "        # output: [batch_size, len_q, d_model]，attn: [batch_size, n_heads, len_q, len_k]\n",
    "        return output, attn"
   ]
  },
  {
   "cell_type": "markdown",
   "id": "f02e3414-4699-473e-b5f1-9262e9c07657",
   "metadata": {},
   "source": [
    "## 前馈网络"
   ]
  },
  {
   "cell_type": "code",
   "execution_count": 25,
   "id": "b68eb3bc",
   "metadata": {},
   "outputs": [],
   "source": [
    "class FeedForwardNet(nn.Module):\n",
    "    def __init__(self, d_model, d_ff):\n",
    "        super(FeedForwardNet, self).__init__()\n",
    "        self.d_model = d_model\n",
    "        self.fc = nn.Sequential(\n",
    "            nn.Linear(d_model, d_ff, bias=False),\n",
    "            nn.ReLU(),\n",
    "            nn.Linear(d_ff, d_model, bias=False)\n",
    "        )\n",
    "        \n",
    "    def forward(self, input):    \n",
    "        # input: [batch_size, seq_len, d_model]\n",
    "        residual = input\n",
    "        # output: [batch_size, seq_len, d_model]\n",
    "        output = self.fc(input)\n",
    "        # 残差 + LayerNorm\n",
    "        # output: [batch_size, seq_len, d_model]\n",
    "        output = nn.LayerNorm(self.d_model)(output + residual)   \n",
    "        return output"
   ]
  },
  {
   "cell_type": "markdown",
   "id": "3f59ca10-84e3-45ba-84c6-1315b3409bdb",
   "metadata": {},
   "source": [
    "## 编码器层"
   ]
  },
  {
   "cell_type": "code",
   "execution_count": 26,
   "id": "f10f6d79-b516-4529-af23-b063b4f50c12",
   "metadata": {},
   "outputs": [],
   "source": [
    "class EncoderLayer(nn.Module):\n",
    "    def __init__(self, n_heads, d_model, d_ff, d_k, d_v):\n",
    "        super(EncoderLayer, self).__init__()\n",
    "        self.enc_self_attn = MultiHeadAttention(n_heads, d_model, d_k, d_v)  # 多头注意力\n",
    "        self.ffn = FeedForwardNet(d_model, d_ff)  # 前馈网络\n",
    "    def forward(self, enc_input, enc_self_attn_mask):\n",
    "        '''\n",
    "        enc_input: [batch_size, src_len, d_model]\n",
    "        enc_self_attn_mask: [batch_size, src_len, src_len]\n",
    "        '''\n",
    "        # enc_input to same Q, K, V\n",
    "        # enc_output: [batch_size, src_len, d_model], attn: [batch_size, n_heads, src_len, src_len]\n",
    "        enc_output, attn = self.enc_self_attn(enc_input, enc_input, enc_input, enc_self_attn_mask) \n",
    "        # enc_output: [batch_size, src_len, d_model]\n",
    "        enc_output = self.ffn(enc_output) \n",
    "        # enc_output: [batch_size, src_len, d_model], attn: [batch_size, n_heads, src_len, src_len]\n",
    "        return enc_output, attn"
   ]
  },
  {
   "cell_type": "markdown",
   "id": "40de45b0-890e-4868-8731-052ce45df6b2",
   "metadata": {},
   "source": [
    "## 编码器模块"
   ]
  },
  {
   "cell_type": "code",
   "execution_count": 27,
   "id": "eae1e01c",
   "metadata": {},
   "outputs": [],
   "source": [
    "class Encoder(nn.Module):\n",
    "    def __init__(self, n_layers, n_heads, src_vocab_size, d_model, d_ff, d_k, d_v):\n",
    "        super(Encoder, self).__init__()\n",
    "        self.src_emb = nn.Embedding(src_vocab_size, d_model)\n",
    "        self.pos_emb = nn.Embedding.from_pretrained(get_sinusoid_positional_encoding(src_vocab_size, d_model), freeze=True)\n",
    "        self.layers = nn.ModuleList([EncoderLayer(n_heads, d_model, d_ff, d_k, d_v) for _ in range(n_layers)])\n",
    "    def forward(self, enc_input):\n",
    "        '''\n",
    "        enc_input: [batch_size, src_len]\n",
    "        '''\n",
    "        # word_emb: [batch_size, src_len, d_model]\n",
    "        word_emb = self.src_emb(enc_input) \n",
    "        # pos_emb: [batch_size, src_len, d_model]\n",
    "        pos_emb = self.pos_emb(enc_input) \n",
    "        # enc_output: [batch_size, src_len, d_model]\n",
    "        enc_output = word_emb + pos_emb\n",
    "        # enc_self_attn_mask: [batch_size, src_len, src_len]\n",
    "        enc_self_attn_mask = get_attn_pad_mask(enc_input, enc_input) \n",
    "        enc_output_list = []\n",
    "        enc_self_attn_list = []\n",
    "        for layer in self.layers:\n",
    "            # enc_output: [batch_size, src_len, d_model], enc_self_attn: [batch_size, n_heads, src_len, src_len]\n",
    "            enc_output, enc_self_attn = layer(enc_output, enc_self_attn_mask)\n",
    "            enc_output_list.append(enc_output)\n",
    "            enc_self_attn_list.append(enc_self_attn)\n",
    "        # enc_output_list: [n_layers, batch_size, src_len, d_model]\n",
    "        # enc_self_attn_list: [n_layers, batch_size, n_heads, src_len, src_len]\n",
    "        return enc_output_list, enc_self_attn_list"
   ]
  },
  {
   "cell_type": "markdown",
   "id": "e18da099-27f5-46ae-931d-158aaf73071b",
   "metadata": {},
   "source": [
    "## 解码器层"
   ]
  },
  {
   "cell_type": "code",
   "execution_count": 28,
   "id": "e1b220e6-afce-492d-87c9-32f0bd96848f",
   "metadata": {},
   "outputs": [],
   "source": [
    "class DecoderLayer(nn.Module):\n",
    "    def __init__(self, n_heads, d_model, d_ff, d_k, d_v):\n",
    "        super(DecoderLayer, self).__init__()\n",
    "        self.dec_self_attn = MultiHeadAttention(n_heads, d_model, d_k, d_v)\n",
    "        self.dec_enc_attn = MultiHeadAttention(n_heads, d_model, d_k, d_v)\n",
    "        self.ffn = FeedForwardNet(d_model, d_ff)\n",
    "    def forward(self, dec_input, enc_output, dec_self_attn_mask, dec_enc_attn_mask):\n",
    "        '''\n",
    "        dec_input: [batch_size, tgt_len, d_model]\n",
    "        enc_output: [batch_size, src_len, d_model]\n",
    "        dec_self_attn_mask: [batch_size, tgt_len, tgt_len]\n",
    "        dec_enc_attn_mask: [batch_size, tgt_len, src_len]\n",
    "        '''       \n",
    "        # dec_output: [batch_size, tgt_len, d_model], dec_self_attn: [batch_size, n_heads, tgt_len, tgt_len]\n",
    "        dec_output, dec_self_attn = self.dec_self_attn(dec_input, dec_input, dec_input, dec_self_attn_mask)\n",
    "        # dec_output: [batch_size, tgt_len, d_model], dec_enc_attn: [batch_size, h_heads, tgt_len, src_len]\n",
    "        dec_output, dec_enc_attn = self.dec_enc_attn(dec_output, enc_output, enc_output, dec_enc_attn_mask)\n",
    "        # dec_output: [batch_size, tgt_len, d_model]\n",
    "        dec_output = self.ffn(dec_output) \n",
    "        # dec_output: [batch_size, tgt_len, d_model]\n",
    "        # dec_self_attn: [batch_size, n_heads, tgt_len, tgt_len]\n",
    "        # dec_enc_attn: [batch_size, h_heads, tgt_len, src_len]\n",
    "        return dec_output, dec_self_attn, dec_enc_attn"
   ]
  },
  {
   "cell_type": "markdown",
   "id": "2c6b9d8f-0744-4417-94ed-0ed223f4cb73",
   "metadata": {},
   "source": [
    "## 解码器模块"
   ]
  },
  {
   "cell_type": "code",
   "execution_count": 29,
   "id": "416d9b38",
   "metadata": {},
   "outputs": [],
   "source": [
    "class Decoder(nn.Module):\n",
    "    def __init__(self, n_layers, n_heads, tgt_vocab_size, d_model, d_ff, d_k, d_v):\n",
    "        super(Decoder, self).__init__()\n",
    "        self.tgt_emb = nn.Embedding(tgt_vocab_size, d_model)\n",
    "        self.pos_emb = nn.Embedding.from_pretrained(get_sinusoid_positional_encoding(tgt_vocab_size, d_model), freeze=True)\n",
    "        self.layers = nn.ModuleList([DecoderLayer(n_heads, d_model, d_ff, d_k, d_v) for _ in range(n_layers)])\n",
    "    def forward(self, dec_input, enc_input, enc_output_list):\n",
    "        '''\n",
    "        dec_input: [batch_size, tgt_len]\n",
    "        enc_input: [batch_size, src_len]\n",
    "        enc_output: [batsh_size, src_len, d_model]\n",
    "        '''\n",
    "        # word_emb: [batch_size, tgt_len, d_model]\n",
    "        word_emb = self.tgt_emb(dec_input) \n",
    "        # pos_emb: [batch_size, tgt_len, d_model]\n",
    "        pos_emb = self.pos_emb(dec_input) \n",
    "        # dec_output: [batch_size, tgt_len, d_model]\n",
    "        dec_output = word_emb + pos_emb\n",
    "        # dec_self_attn_pad_mask: [batch_size, tgt_len, tgt_len]\n",
    "        dec_self_attn_pad_mask = get_attn_pad_mask(dec_input, dec_input) \n",
    "        # dec_self_attn_subsequent_mask: [batch_size, tgt_len, tgt_len]\n",
    "        dec_self_attn_subsequent_mask = get_attn_subsequence_mask(dec_input) \n",
    "        # dec_self_attn_mask: [batch_size, tgt_len, tgt_len]\n",
    "        dec_self_attn_mask = torch.gt((dec_self_attn_pad_mask + dec_self_attn_subsequent_mask), 0) \n",
    "        # dec_enc_attn_mask: [batc_size, tgt_len, src_len]\n",
    "        dec_enc_attn_mask = get_attn_pad_mask(dec_input, enc_input) \n",
    "        dec_self_attn_list, dec_enc_attn_list = [], []\n",
    "        for i in range(len(self.layers)):\n",
    "            layer = self.layers[i]\n",
    "            enc_output = enc_output_list[i]\n",
    "            # dec_output: [batch_size, tgt_len, d_model], dec_self_attn: [batch_size, n_heads, tgt_len, tgt_len], dec_enc_attn: [batch_size, h_heads, tgt_len, src_len]\n",
    "            dec_output, dec_self_attn, dec_enc_attn = layer(dec_output, enc_output, dec_self_attn_mask, dec_enc_attn_mask)\n",
    "            dec_self_attn_list.append(dec_self_attn)\n",
    "            dec_enc_attn_list.append(dec_enc_attn)\n",
    "        # dec_output: [batch_size, tgt_len, d_model], dec_self_attn: [n_layers, batch_size, n_heads, tgt_len, tgt_len], dec_enc_attn: [n_layers, batch_size, h_heads, tgt_len, src_len]\n",
    "        return dec_output, dec_self_attn_list, dec_enc_attn_list"
   ]
  },
  {
   "cell_type": "markdown",
   "id": "bca4e83a-52a6-4044-8e36-b1a18ff759a2",
   "metadata": {},
   "source": [
    "## Transformer类"
   ]
  },
  {
   "cell_type": "code",
   "execution_count": 30,
   "id": "5461ca2c",
   "metadata": {},
   "outputs": [],
   "source": [
    "class Transformer(nn.Module):\n",
    "    def __init__(self, n_layers, n_heads, src_vocab_size, tgt_vocab_size, d_model, d_ff, d_k, d_v):\n",
    "        super(Transformer, self).__init__()\n",
    "        self.encoder = Encoder(n_layers, n_heads, src_vocab_size, d_model, d_ff, d_k, d_v)\n",
    "        self.decoder = Decoder(n_layers, n_heads, tgt_vocab_size, d_model, d_ff, d_k, d_v)\n",
    "        self.projection = nn.Linear(d_model, tgt_vocab_size, bias=False)\n",
    "    def forward(self, enc_input, dec_input):\n",
    "        '''\n",
    "        enc_input: [batch_size, src_len]\n",
    "        dec_input: [batch_size, tgt_len]\n",
    "        '''\n",
    "        # enc_output_list: [n_layers, batch_size, src_len, d_model]\n",
    "        # enc_self_attn_list: [n_layers, batch_size, n_heads, src_len, src_len]\n",
    "        enc_output_list, enc_self_attn_list = self.encoder(enc_input)\n",
    "        # dec_output: [batch_size, tgt_len, d_model], dec_self_attn_list: [n_layers, batch_size, n_heads, tgt_len, tgt_len], dec_enc_attn_list: [n_layers, batch_size, h_heads, tgt_len, src_len]\n",
    "        dec_output, dec_self_attn_list, dec_enc_attn_list = self.decoder(dec_input, enc_input, enc_output_list)\n",
    "        # dec_logits: [batch_size, tgt_len, tgt_vocab_size]\n",
    "        dec_logits = self.projection(dec_output) \n",
    "        # dec_logits: [batch_size * tgt_len, tgt_vocab_size]\n",
    "        dec_logits = dec_logits.view(-1, dec_logits.size(-1))\n",
    "        # dec_logits: [batch_size * tgt_len, tgt_vocab_size]\n",
    "        # enc_self_attn_list: [n_layers, batch_size, n_heads, src_len, src_len]\n",
    "        # dec_self_attn_list: [n_layers, batch_size, n_heads, tgt_len, tgt_len]\n",
    "        # dec_enc_attn_list: [n_layers, batch_size, h_heads, tgt_len, src_len]\n",
    "        return dec_logits, enc_self_attn_list, dec_self_attn_list, dec_enc_attn_list"
   ]
  },
  {
   "cell_type": "code",
   "execution_count": 31,
   "id": "fcac0d8e-7e57-4226-b2bb-54fc617a4927",
   "metadata": {},
   "outputs": [],
   "source": [
    "# n_layers: 有多少个encoder和decoder\n",
    "# n_heads: Multi-Head Self Attention设置为8\n",
    "# d_model: Embedding的维度\n",
    "# d_ff: 前馈网络隐藏层维度\n",
    "# d_k: K(=Q)的维度 \n",
    "# d_v: V的维度 \n",
    "model = Transformer(n_layers=6, n_heads=8, d_model=512, d_ff=2048, d_k=64, d_v=64, src_vocab_size=len(src_vocab), tgt_vocab_size=len(tgt_vocab))"
   ]
  },
  {
   "cell_type": "markdown",
   "id": "add0a7e0-3269-4799-85bf-1b07f2f80e7a",
   "metadata": {},
   "source": [
    "# 模型训练"
   ]
  },
  {
   "cell_type": "code",
   "execution_count": 32,
   "id": "fae933c9-ff8b-455d-b795-52f657a25888",
   "metadata": {},
   "outputs": [],
   "source": [
    "criterion = nn.CrossEntropyLoss(ignore_index=0)\n",
    "optimizer = optim.SGD(model.parameters(), lr=0.001, momentum=0.99)\n",
    "# num_epochs = 50 # 训练50轮\n",
    "num_epochs = 2"
   ]
  },
  {
   "cell_type": "code",
   "execution_count": 33,
   "id": "6f2cf469",
   "metadata": {},
   "outputs": [
    {
     "name": "stderr",
     "output_type": "stream",
     "text": [
      " 50%|█████████████████████████████████████████▌                                         | 1/2 [04:13<04:13, 253.72s/it]"
     ]
    },
    {
     "name": "stdout",
     "output_type": "stream",
     "text": [
      "Epoch: 1 loss = 2.103910\n"
     ]
    },
    {
     "name": "stderr",
     "output_type": "stream",
     "text": [
      "100%|███████████████████████████████████████████████████████████████████████████████████| 2/2 [07:43<00:00, 231.82s/it]"
     ]
    },
    {
     "name": "stdout",
     "output_type": "stream",
     "text": [
      "Epoch: 2 loss = 1.488285\n"
     ]
    },
    {
     "name": "stderr",
     "output_type": "stream",
     "text": [
      "\n"
     ]
    }
   ],
   "source": [
    "# 记录损失变化\n",
    "loss_history = []\n",
    "model.train()\n",
    "for epoch in tqdm(range(num_epochs)):\n",
    "    total_loss = 0\n",
    "    for enc_input, dec_input, dec_output in train_loader:\n",
    "        '''\n",
    "        enc_input: [batch_size, src_len]\n",
    "        dec_input: [batch_size, tgt_len]\n",
    "        dec_output: [batch_size, tgt_len]\n",
    "        '''\n",
    "        # enc_input, dec_input, dec_output = enc_input.to(device), dec_input.to(device), dec_output.to(device)\n",
    "        # output: [batch_size * tgt_len, tgt_vocab_size]\n",
    "        # enc_self_attn_list: [n_layers, batch_size, n_heads, src_len, src_len]\n",
    "        # dec_self_attn_list: [n_layers, batch_size, n_heads, tgt_len, tgt_len]\n",
    "        # dec_enc_attn_list: [n_layers, batch_size, h_heads, tgt_len, src_len]\n",
    "        output, enc_self_attn_list, dec_self_attn_list, dec_enc_attn_list = model(enc_input, dec_input)\n",
    "        loss = criterion(output, dec_output.view(-1))\n",
    "        optimizer.zero_grad()\n",
    "        loss.backward()\n",
    "        optimizer.step()\n",
    "        total_loss += loss.item()\n",
    "    avg_loss = total_loss / len(train_loader)\n",
    "    loss_history.append(avg_loss)\n",
    "    print('Epoch:', '%d' % (epoch + 1), 'loss =', '{:.6f}'.format(avg_loss))"
   ]
  },
  {
   "cell_type": "code",
   "execution_count": 34,
   "id": "6c7f102c",
   "metadata": {},
   "outputs": [
    {
     "data": {
      "image/png": "[encoded data removed]",
      "text/plain": [
       "<Figure size 640x480 with 1 Axes>"
      ]
     },
     "metadata": {},
     "output_type": "display_data"
    }
   ],
   "source": [
    "plt.plot(loss_history)\n",
    "plt.ylabel('train loss')\n",
    "plt.show()"
   ]
  },
  {
   "cell_type": "markdown",
   "id": "240691bf-630c-4e56-b8d5-d173bcc3fe50",
   "metadata": {},
   "source": [
    "# 模型测试"
   ]
  },
  {
   "cell_type": "code",
   "execution_count": 35,
   "id": "2c99ea7d",
   "metadata": {},
   "outputs": [],
   "source": [
    "translation_results = []\n",
    "correct = 0\n",
    "error = 0\n",
    "model.eval()\n",
    "for enc_input, dec_input, dec_output in test_loader:\n",
    "    '''\n",
    "    enc_input: [batch_size=1, src_len]\n",
    "    dec_input: [batch_size=1, tgt_len]\n",
    "    dec_output: [batch_size=1, tgt_len]\n",
    "    '''\n",
    "    # enc_input, dec_input, dec_output = enc_input.to(device), dec_input.to(device), dec_output.to(device)\n",
    "    # output: [batch_size * tgt_len, tgt_vocab_size]，即[tgt_len, tgt_vocab_size]\n",
    "    output, enc_self_attn, dec_self_attn, dec_enc_attn = model(enc_input, dec_input)\n",
    "    # squeeze(): 移除所有大小为1的维度\n",
    "    # output: [tgt_len, tgt_vocab_size]\n",
    "    output = output.squeeze()\n",
    "    pred_seq = []\n",
    "    for out in output:\n",
    "        next_token_index = out.argmax().item()\n",
    "        if next_token_index == tgt_vocab['<eos>']:\n",
    "            break\n",
    "        pred_seq.append(next_token_index)\n",
    "    pred_seq = tgt_vocab[pred_seq]\n",
    "\n",
    "    src_seq = enc_input.squeeze().tolist()  \n",
    "    # 需要注意在<pad>之前截断\n",
    "    if src_vocab['<pad>'] in src_seq:\n",
    "        eos_idx = src_seq.index(src_vocab['<pad>'])\n",
    "        src_seq = src_vocab[src_seq[:eos_idx]]\n",
    "    else:\n",
    "        src_seq = src_vocab[src_seq]\n",
    "    \n",
    "    tgt_seq = dec_output.squeeze().tolist()  \n",
    "    # 需要注意在<eos>之前截断\n",
    "    if tgt_vocab['<eos>'] in tgt_seq:\n",
    "        eos_idx = tgt_seq.index(tgt_vocab['<eos>'])\n",
    "        tgt_seq = tgt_vocab[tgt_seq[:eos_idx]]\n",
    "    else:\n",
    "        tgt_seq = tgt_vocab[tgt_seq]\n",
    "        \n",
    "    translation_results.append(('输入：' + ' '.join(src_seq), '输出：' + ' '.join(tgt_seq), '预测：' + ' '.join(pred_seq)))\n",
    "    for i in range(len(tgt_seq)):\n",
    "        if i >= len(pred_seq) or pred_seq[i] != tgt_seq[i]:\n",
    "            error += 1\n",
    "        else:\n",
    "            correct += 1"
   ]
  },
  {
   "cell_type": "code",
   "execution_count": 36,
   "id": "3ff62b4d-2492-40f4-8fe2-e30e607f9726",
   "metadata": {},
   "outputs": [
    {
     "name": "stdout",
     "output_type": "stream",
     "text": [
      "correct: 5991, error: 6009, correct_ratio: 0.49925\n"
     ]
    }
   ],
   "source": [
    "print(\"correct: {}, error: {}, correct_ratio: {}\".format(correct, error, correct / (correct + error)))\n",
    "# correct: 5991, error: 6009, correct_ratio: 0.49925"
   ]
  },
  {
   "cell_type": "code",
   "execution_count": 37,
   "id": "87a19f24",
   "metadata": {},
   "outputs": [
    {
     "data": {
      "text/plain": [
       "[('输入：d∧blju: es di: ju: bi: es', '输出：w s d u y p', '预测：w b b b b'),\n",
       " ('输入：ti: si: d∧blju: d∧blju: zi: el', '输出：t c w w z l', '预测：t w w z l l'),\n",
       " ('输入：en vi: i: ai vi: vi:', '输出：n v e i v k', '预测：i v i v v'),\n",
       " ('输入：kju: əu en bi: em vi:', '输出：q w n b m v', '预测：q v b b m'),\n",
       " ('输入：vi: en kei kju: pi: ei', '输出：z n k q p a', '预测：v a a a a a'),\n",
       " ('输入：zi: ɑ: kei eks ai bi:', '输出：z r k x i g', '预测：z b b b b b'),\n",
       " ('输入：kei em wai vi: bi: zi:', '输出：k m y v b z', '预测：k z b b z z'),\n",
       " ('输入：en vi: ti: vi: kei bi:', '输出：n v t v k b', '预测：n v k k k b'),\n",
       " ('输入：bi: kei eks wai kju: es', '输出：b k x y q s', '预测：b q x q q'),\n",
       " ('输入：ti: zi: vi: el əu dʒi:', '输出：t z v l o g', '预测：t o o o g g')]"
      ]
     },
     "execution_count": 37,
     "metadata": {},
     "output_type": "execute_result"
    }
   ],
   "source": [
    "translation_results[0:10]"
   ]
  },
  {
   "cell_type": "code",
   "execution_count": null,
   "id": "e4cd7641-ebc2-4c1a-8739-a83302f37b31",
   "metadata": {},
   "outputs": [],
   "source": []
  }
 ],
 "metadata": {
  "kernelspec": {
   "display_name": "Python 3 (ipykernel)",
   "language": "python",
   "name": "python3"
  },
  "language_info": {
   "codemirror_mode": {
    "name": "ipython",
    "version": 3
   },
   "file_extension": ".py",
   "mimetype": "text/x-python",
   "name": "python",
   "nbconvert_exporter": "python",
   "pygments_lexer": "ipython3",
   "version": "3.9.21"
  },
  "toc": {
   "base_numbering": 1,
   "nav_menu": {},
   "number_sections": true,
   "sideBar": true,
   "skip_h1_title": false,
   "title_cell": "Table of Contents",
   "title_sidebar": "Contents",
   "toc_cell": false,
   "toc_position": {},
   "toc_section_display": true,
   "toc_window_display": false
  }
 },
 "nbformat": 4,
 "nbformat_minor": 5
}
