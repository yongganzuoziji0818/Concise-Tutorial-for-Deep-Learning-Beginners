{
 "cells": [
  {
   "cell_type": "code",
   "execution_count": 57,
   "id": "242c4995-d79a-4d20-acb7-d7696065e31a",
   "metadata": {},
   "outputs": [],
   "source": [
    "from openai import OpenAI"
   ]
  },
  {
   "cell_type": "code",
   "execution_count": 58,
   "id": "3c7c31b9-d215-478b-a7db-4dc7d5c71e02",
   "metadata": {},
   "outputs": [],
   "source": [
    "DASHSCOPE_API_KEY = \"sk-a390490ef3f647c2881c55b0db85f9c9\""
   ]
  },
  {
   "cell_type": "code",
   "execution_count": 59,
   "id": "f972a175-4cbe-46ce-97a6-dc58c085eb3a",
   "metadata": {},
   "outputs": [],
   "source": [
    "base_url=\"https://dashscope.aliyuncs.com/compatible-mode/v1\""
   ]
  },
  {
   "cell_type": "code",
   "execution_count": 60,
   "id": "da0f59e7-947f-44fe-9031-8611012d02c6",
   "metadata": {},
   "outputs": [],
   "source": [
    "client = OpenAI(\n",
    "    # 若没有配置环境变量，请用百炼API Key将下行替换为：api_key=\"sk-xxx\",\n",
    "    api_key=DASHSCOPE_API_KEY,\n",
    "    base_url=base_url,\n",
    ")"
   ]
  },
  {
   "cell_type": "code",
   "execution_count": 61,
   "id": "f50bf18f-6259-4dda-b31d-bcf3e3ac152f",
   "metadata": {},
   "outputs": [],
   "source": [
    "def chat(message):\n",
    "    completion = client.chat.completions.create(\n",
    "        # 模型列表：https://help.aliyun.com/zh/model-studio/getting-started/models\n",
    "        model=\"qwen-plus\",\n",
    "        messages=[\n",
    "            {\"role\": \"system\", \"content\": \"You are a helpful assistant.\"},\n",
    "            {\"role\": \"user\", \"content\": message},\n",
    "        ],\n",
    "        stream=False\n",
    "        # Qwen3模型通过enable_thinking参数控制思考过程（开源版默认True，商业版默认False）\n",
    "        # 使用Qwen3开源版模型时，若未启用流式输出，请将下行取消注释，否则会报错\n",
    "        # extra_body={\"enable_thinking\": False},\n",
    "    )\n",
    "    # print(completion.model_dump_json())\n",
    "    print(completion.choices[0].message.content)"
   ]
  },
  {
   "cell_type": "code",
   "execution_count": 62,
   "id": "e55e32fd-c30d-4104-b666-b44916405f61",
   "metadata": {},
   "outputs": [
    {
     "name": "stdout",
     "output_type": "stream",
     "text": [
      "Hello! How can I assist you today? If you have any questions or need help with anything, just let me know! 😊\n"
     ]
    }
   ],
   "source": [
    "chat(\"Hello\")"
   ]
  },
  {
   "cell_type": "code",
   "execution_count": 63,
   "id": "1c8de1b2-3c60-4538-bc66-a72baf4e0234",
   "metadata": {},
   "outputs": [
    {
     "name": "stdout",
     "output_type": "stream",
     "text": [
      "Bits flow like rivers,  \n",
      "Minds born of code dream and learn,  \n",
      "Future's silent song.\n"
     ]
    }
   ],
   "source": [
    "chat(\"write a haiku about ai\")  # haiku：俳句"
   ]
  },
  {
   "cell_type": "code",
   "execution_count": null,
   "id": "346abfd0-4635-454c-8751-0183714905e8",
   "metadata": {},
   "outputs": [],
   "source": []
  }
 ],
 "metadata": {
  "kernelspec": {
   "display_name": "Python 3 (ipykernel)",
   "language": "python",
   "name": "python3"
  },
  "language_info": {
   "codemirror_mode": {
    "name": "ipython",
    "version": 3
   },
   "file_extension": ".py",
   "mimetype": "text/x-python",
   "name": "python",
   "nbconvert_exporter": "python",
   "pygments_lexer": "ipython3",
   "version": "3.9.21"
  }
 },
 "nbformat": 4,
 "nbformat_minor": 5
}
