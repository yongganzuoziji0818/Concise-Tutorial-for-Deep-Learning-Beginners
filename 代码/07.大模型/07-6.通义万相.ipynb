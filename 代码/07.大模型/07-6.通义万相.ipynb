{
 "cells": [
  {
   "cell_type": "code",
   "execution_count": 6,
   "id": "fe12e709-0c0f-473d-b686-53aee5444267",
   "metadata": {},
   "outputs": [],
   "source": [
    "from http import HTTPStatus\n",
    "from urllib.parse import urlparse, unquote\n",
    "from pathlib import PurePosixPath\n",
    "import requests\n",
    "from dashscope import ImageSynthesis\n",
    "import os"
   ]
  },
  {
   "cell_type": "code",
   "execution_count": 7,
   "id": "a80aa020-0dba-432f-98d6-b0641ab38f96",
   "metadata": {},
   "outputs": [],
   "source": [
    "DASHSCOPE_API_KEY = \"sk-a390490ef3f647c2881c55b0db85f9c9\"\n",
    "model = \"wanx2.1-t2i-turbo\"\n",
    "prompt = \"一间有着精致窗户的花店，漂亮的木质门，摆放着花朵，门口站着一位美丽的姑娘\"\n",
    "n = 1\n",
    "size = '1024*1024'\n",
    "IMAGE_PATH = 'image/通义万相/'"
   ]
  },
  {
   "cell_type": "code",
   "execution_count": 10,
   "id": "b65e159b-fc9e-4b04-8c20-ed6d77cce2a5",
   "metadata": {},
   "outputs": [],
   "source": [
    "def generate_image(model, prompt, n, size):\n",
    "    print('----sync call, please wait a moment----')\n",
    "    rsp = ImageSynthesis.call(api_key=DASHSCOPE_API_KEY,\n",
    "                              model=MODEL,\n",
    "                              prompt=prompt,\n",
    "                              n=1,\n",
    "                              size=size)\n",
    "    print('response: %s' % rsp)\n",
    "    if rsp.status_code == HTTPStatus.OK:\n",
    "        # 在当前目录下保存图片\n",
    "        for result in rsp.output.results:\n",
    "            file_name = PurePosixPath(unquote(urlparse(result.url).path)).parts[-1]\n",
    "            with open(IMAGE_PATH + '%s' % file_name, 'wb+') as f:\n",
    "                f.write(requests.get(result.url).content)\n",
    "    else:\n",
    "        print('sync_call Failed, status_code: %s, code: %s, message: %s' %\n",
    "              (rsp.status_code, rsp.code, rsp.message))"
   ]
  },
  {
   "cell_type": "code",
   "execution_count": 11,
   "id": "501d28e4-5372-4d20-b538-07208b0ca809",
   "metadata": {},
   "outputs": [
    {
     "name": "stdout",
     "output_type": "stream",
     "text": [
      "----sync call, please wait a moment----\n",
      "response: {\"status_code\": 200, \"request_id\": \"825925c1-1d12-90d5-9437-8115f68276b8\", \"code\": null, \"message\": \"\", \"output\": {\"task_id\": \"48fe5e93-c3c2-4a5d-8fbc-8f4e5023af42\", \"task_status\": \"SUCCEEDED\", \"results\": [{\"url\": \"https://dashscope-result-wlcb-acdr-1.oss-cn-wulanchabu-acdr-1.aliyuncs.com/1d/b4/20250506/8928fb36/48fe5e93-c3c2-4a5d-8fbc-8f4e5023af421059349807.png?Expires=1746608669&OSSAccessKeyId=LTAI5tKPD3TMqf2Lna1fASuh&Signature=%2BPrVSJl%2BLib6A%2Flvhsk1V8YzNpw%3D\", \"orig_prompt\": \"一间有着精致窗户的花店，漂亮的木质门，摆放着花朵，门口站着一位美丽的姑娘\", \"actual_prompt\": \"写实风格花卉商店场景，一家充满欧式风情的花店门前站着一位优雅的年轻女子。花店拥有雕刻精美的拱形窗户，窗台上摆放着各色新鲜花朵，如玫瑰、郁金香和满天星等。漂亮的深色木质大门上有着精致的铜制把手，门旁悬挂着手绘招牌。女孩身穿浅绿色碎花连衣裙，长发披肩，手持一束刚摘下的百合花，微笑着望向镜头。阳光洒在她身上，营造出温暖柔和的氛围。画面采用自然光线下高清摄影，色彩饱和度适中，近景人物与中景店铺相结合，构图均衡和谐。\"}], \"submit_time\": \"2025-05-06 17:04:20.958\", \"scheduled_time\": \"2025-05-06 17:04:20.984\", \"end_time\": \"2025-05-06 17:04:30.319\", \"task_metrics\": {\"TOTAL\": 1, \"SUCCEEDED\": 1, \"FAILED\": 0}}, \"usage\": {\"image_count\": 1}}\n"
     ]
    }
   ],
   "source": [
    "generate_image(model=model, prompt=prompt, n=n, size=size)"
   ]
  },
  {
   "cell_type": "code",
   "execution_count": null,
   "id": "98679702-607d-4d62-9841-09506dd3366c",
   "metadata": {},
   "outputs": [],
   "source": []
  }
 ],
 "metadata": {
  "kernelspec": {
   "display_name": "Python 3 (ipykernel)",
   "language": "python",
   "name": "python3"
  },
  "language_info": {
   "codemirror_mode": {
    "name": "ipython",
    "version": 3
   },
   "file_extension": ".py",
   "mimetype": "text/x-python",
   "name": "python",
   "nbconvert_exporter": "python",
   "pygments_lexer": "ipython3",
   "version": "3.9.21"
  }
 },
 "nbformat": 4,
 "nbformat_minor": 5
}
