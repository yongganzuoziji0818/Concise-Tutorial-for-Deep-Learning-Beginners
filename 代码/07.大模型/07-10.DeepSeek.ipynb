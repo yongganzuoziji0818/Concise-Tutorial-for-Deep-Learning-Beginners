{
 "cells": [
  {
   "cell_type": "code",
   "execution_count": 1,
   "id": "266c8666-862b-43c9-8bfa-e453dfd0effc",
   "metadata": {},
   "outputs": [],
   "source": [
    "# Please install OpenAI SDK first: `pip3 install openai`"
   ]
  },
  {
   "cell_type": "code",
   "execution_count": 2,
   "id": "40af4e1d-fc96-485d-b3e1-82825faf1c55",
   "metadata": {},
   "outputs": [],
   "source": [
    "from openai import OpenAI"
   ]
  },
  {
   "cell_type": "code",
   "execution_count": 3,
   "id": "2a0a3878-d142-45c0-bcb6-c08c49ea790d",
   "metadata": {},
   "outputs": [],
   "source": [
    "api_key=\"sk-2f09fb17c1cd41f089adb7c1408b6b60\""
   ]
  },
  {
   "cell_type": "code",
   "execution_count": 4,
   "id": "20629e90-221a-4d36-9858-7069d9d82910",
   "metadata": {},
   "outputs": [],
   "source": [
    "base_url=\"https://api.deepseek.com\""
   ]
  },
  {
   "cell_type": "code",
   "execution_count": 5,
   "id": "cdbe9f4f-ec6c-4759-ad63-7eb1226225b9",
   "metadata": {},
   "outputs": [],
   "source": [
    "client = OpenAI(api_key=api_key, base_url=base_url)"
   ]
  },
  {
   "cell_type": "code",
   "execution_count": 6,
   "id": "3d53d292-69d8-4bd2-957a-837fc9e9b462",
   "metadata": {},
   "outputs": [],
   "source": [
    "def chat(message):\n",
    "    completion = client.chat.completions.create(\n",
    "        model=\"deepseek-chat\",\n",
    "        messages=[\n",
    "            {\"role\": \"system\", \"content\": \"You are a helpful assistant\"},\n",
    "            {\"role\": \"user\", \"content\": message},\n",
    "        ],\n",
    "        stream=False\n",
    "    )\n",
    "    print(completion.choices[0].message.content)"
   ]
  },
  {
   "cell_type": "code",
   "execution_count": 7,
   "id": "4a5cb448-8c4e-4159-81f8-38d48372cf97",
   "metadata": {},
   "outputs": [
    {
     "name": "stdout",
     "output_type": "stream",
     "text": [
      "Hello! How can I assist you today? 😊\n"
     ]
    }
   ],
   "source": [
    "chat(\"Hello\")"
   ]
  },
  {
   "cell_type": "code",
   "execution_count": 8,
   "id": "52c276a5-6845-4cb7-81a8-373fe6b4ad1d",
   "metadata": {},
   "outputs": [
    {
     "name": "stdout",
     "output_type": "stream",
     "text": [
      "Circuits hum so soft,  \n",
      "learning fast with endless thought—  \n",
      "new minds light the dark.\n"
     ]
    }
   ],
   "source": [
    "chat(\"write a haiku about ai\")  # haiku：俳句"
   ]
  },
  {
   "cell_type": "code",
   "execution_count": null,
   "id": "3cac3441-bc41-4a6d-932a-618efc0c276c",
   "metadata": {},
   "outputs": [],
   "source": []
  }
 ],
 "metadata": {
  "kernelspec": {
   "display_name": "Python 3 (ipykernel)",
   "language": "python",
   "name": "python3"
  },
  "language_info": {
   "codemirror_mode": {
    "name": "ipython",
    "version": 3
   },
   "file_extension": ".py",
   "mimetype": "text/x-python",
   "name": "python",
   "nbconvert_exporter": "python",
   "pygments_lexer": "ipython3",
   "version": "3.9.21"
  }
 },
 "nbformat": 4,
 "nbformat_minor": 5
}
