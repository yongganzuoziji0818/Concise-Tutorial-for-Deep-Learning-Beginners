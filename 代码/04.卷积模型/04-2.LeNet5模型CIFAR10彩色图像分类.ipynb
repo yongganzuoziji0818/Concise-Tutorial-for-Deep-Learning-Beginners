{
 "cells": [
  {
   "cell_type": "code",
   "execution_count": 39,
   "id": "587bf12e",
   "metadata": {},
   "outputs": [],
   "source": [
    "import torch\n",
    "from torch.nn import functional as F\n",
    "from torch.utils.data import DataLoader\n",
    "from torchvision import datasets\n",
    "from torchvision import transforms\n",
    "from torch import nn, optim\n",
    "from model.lenet5 import Lenet5\n",
    "from model.resnet import ResNet18\n",
    "from torchvision.models import resnet18\n",
    "from torchvision.models import vgg16\n",
    "from torchvision.models import vgg19\n",
    "from torchvision.models import inception_v3\n",
    "from torchvision.models import mobilenet_v3_large"
   ]
  },
  {
   "cell_type": "markdown",
   "id": "92c87220",
   "metadata": {},
   "source": [
    "# 数据加载"
   ]
  },
  {
   "cell_type": "code",
   "execution_count": 40,
   "id": "5c2beee4",
   "metadata": {},
   "outputs": [],
   "source": [
    "batchsz = 32"
   ]
  },
  {
   "cell_type": "code",
   "execution_count": 41,
   "id": "d94dbbac",
   "metadata": {},
   "outputs": [
    {
     "name": "stdout",
     "output_type": "stream",
     "text": [
      "Files already downloaded and verified\n"
     ]
    }
   ],
   "source": [
    "cifar_train = datasets.CIFAR10(\n",
    "    'data/cifar', \n",
    "    train=True, \n",
    "    transform=transforms.Compose([\n",
    "        transforms.Resize((32, 32)),\n",
    "        transforms.ToTensor(),\n",
    "        transforms.Normalize(mean=[0.485, 0.456, 0.406],\n",
    "                             std=[0.229, 0.224, 0.225])\n",
    "    ]), \n",
    "    download=True\n",
    ")\n",
    "cifar_train = DataLoader(\n",
    "    cifar_train, \n",
    "    batch_size=batchsz, \n",
    "    shuffle=True\n",
    ")"
   ]
  },
  {
   "cell_type": "code",
   "execution_count": 42,
   "id": "808a90f9",
   "metadata": {},
   "outputs": [
    {
     "name": "stdout",
     "output_type": "stream",
     "text": [
      "Files already downloaded and verified\n"
     ]
    }
   ],
   "source": [
    "cifar_test = datasets.CIFAR10(\n",
    "    'data/cifar', \n",
    "    train=False, \n",
    "    transform=transforms.Compose([\n",
    "        transforms.Resize((32, 32)),\n",
    "        transforms.ToTensor(),\n",
    "        transforms.Normalize(mean=[0.485, 0.456, 0.406],\n",
    "                             std=[0.229, 0.224, 0.225])\n",
    "    ]), \n",
    "    download=True\n",
    ")\n",
    "cifar_test = DataLoader(\n",
    "    cifar_test, \n",
    "    batch_size=batchsz, \n",
    "    shuffle=True\n",
    ")"
   ]
  },
  {
   "cell_type": "code",
   "execution_count": 43,
   "id": "ef0ef6ed-6cd8-46e1-999b-740219db704f",
   "metadata": {},
   "outputs": [
    {
     "name": "stdout",
     "output_type": "stream",
     "text": [
      "x: torch.Size([32, 3, 32, 32]) label: torch.Size([32])\n"
     ]
    }
   ],
   "source": [
    "# x, label = iter(cifar_train).next()\n",
    "x, label = next(iter(cifar_train))\n",
    "print('x:', x.shape, 'label:', label.shape)\n",
    "device = torch.device('cuda')"
   ]
  },
  {
   "cell_type": "markdown",
   "id": "f24e7f10",
   "metadata": {},
   "source": [
    "# 模型定义"
   ]
  },
  {
   "cell_type": "markdown",
   "id": "12a7fc33-e6a6-4faa-93af-db3bc1abc8e0",
   "metadata": {},
   "source": [
    "## 自定义模型"
   ]
  },
  {
   "cell_type": "code",
   "execution_count": 44,
   "id": "b7683120-1939-4635-846f-e6d0e5175a45",
   "metadata": {},
   "outputs": [],
   "source": [
    "class MyLeNet5(nn.Module):\n",
    "    def __init__(self):\n",
    "        super(MyLeNet5,self).__init__()\n",
    "        # 卷积层1：输入图像深度=3，输出图像深度=16，卷积核大小=5*5，卷积步长=1;16表示输出维度，也表示卷积核个数\n",
    "        self.conv1 = nn.Conv2d(in_channels=3,out_channels=16,kernel_size=5,stride=1)\n",
    "        # 池化层1：采用最大池化，区域集大小=2*2.池化步长=2\n",
    "        self.pool1 = nn.MaxPool2d(kernel_size=2,stride=2)\n",
    "        # 卷积层2\n",
    "        self.conv2 = nn.Conv2d(in_channels=16,out_channels=32,kernel_size=5,stride=1)\n",
    "        # 池化层2\n",
    "        self.pool2 = nn.MaxPool2d(kernel_size=2, stride=2)\n",
    "        # 全连接层1：输入大小=32*5*5，输出大小=120\n",
    "        self.fc1 = nn.Linear(32*5*5,120)\n",
    "        # 全连接层2\n",
    "        self.fc2 = nn.Linear(120,84)\n",
    "        # 全连接层3\n",
    "        self.fc3 = nn.Linear(84,10)\n",
    "\n",
    "    def forward(self,x):\n",
    "        x = F.relu(self.conv1(x))  # input(3, 32, 32) output(16, 28, 28)\n",
    "        x = self.pool1(x)  # output(16, 14, 14)\n",
    "        x = F.relu(self.conv2(x))  # output(32, 10, 10)\n",
    "        x = self.pool2(x)  # output(32, 5, 5)\n",
    "        x = x.view(-1, 32 * 5 * 5)  # output(32*5*5)\n",
    "        x = F.relu(self.fc1(x))  # output(120)\n",
    "        x = F.relu(self.fc2(x))  # output(84)\n",
    "        x = self.fc3(x)  # output(10)\n",
    "        return x\n"
   ]
  },
  {
   "cell_type": "code",
   "execution_count": 45,
   "id": "a6bba78c-ec70-464d-80b6-127ebf52f02a",
   "metadata": {},
   "outputs": [],
   "source": [
    "model = MyLeNet5().to(device)"
   ]
  },
  {
   "cell_type": "markdown",
   "id": "76edbb16-2c97-4a9c-b07f-6df74f3f8efe",
   "metadata": {},
   "source": [
    "## 已定义模型"
   ]
  },
  {
   "cell_type": "code",
   "execution_count": 46,
   "id": "409de12b",
   "metadata": {},
   "outputs": [],
   "source": [
    "# model = Lenet5().to(device)\n",
    "# model = ResNet18().to(device)\n",
    "# model = resnet18(pretrained=False).to(device)\n",
    "# model = vgg16(pretrained=False).to(device)\n",
    "# model = vgg19(pretrained=False).to(device)\n",
    "# model = inception_v3(pretrained=False).to(device)\n",
    "# model = mobilenet_v3_large(pretrained=False).to(device)"
   ]
  },
  {
   "cell_type": "code",
   "execution_count": 47,
   "id": "34b5dd7b-6818-44b2-ae91-eb8f9bcfbbc8",
   "metadata": {},
   "outputs": [
    {
     "name": "stdout",
     "output_type": "stream",
     "text": [
      "MyLeNet5(\n",
      "  (conv1): Conv2d(3, 16, kernel_size=(5, 5), stride=(1, 1))\n",
      "  (pool1): MaxPool2d(kernel_size=2, stride=2, padding=0, dilation=1, ceil_mode=False)\n",
      "  (conv2): Conv2d(16, 32, kernel_size=(5, 5), stride=(1, 1))\n",
      "  (pool2): MaxPool2d(kernel_size=2, stride=2, padding=0, dilation=1, ceil_mode=False)\n",
      "  (fc1): Linear(in_features=800, out_features=120, bias=True)\n",
      "  (fc2): Linear(in_features=120, out_features=84, bias=True)\n",
      "  (fc3): Linear(in_features=84, out_features=10, bias=True)\n",
      ")\n"
     ]
    }
   ],
   "source": [
    "print(model)"
   ]
  },
  {
   "cell_type": "markdown",
   "id": "afa12e46",
   "metadata": {},
   "source": [
    "# 模型训练"
   ]
  },
  {
   "cell_type": "code",
   "execution_count": 48,
   "id": "3dc91889-046e-4be3-9cd8-f2772531c6c6",
   "metadata": {},
   "outputs": [],
   "source": [
    "criteron = nn.CrossEntropyLoss().to(device)\n",
    "optimizer = optim.Adam(model.parameters(), lr=1e-3)"
   ]
  },
  {
   "cell_type": "code",
   "execution_count": 49,
   "id": "d5a8467a",
   "metadata": {},
   "outputs": [],
   "source": [
    "def train(model, optimizer, criteron, epoch):\n",
    "    model.train()\n",
    "    for batchidx, (x, label) in enumerate(cifar_train):\n",
    "        # x: [b, 3, 32, 32]\n",
    "        # lable: [b]\n",
    "        x, label = x.to(device), label.to(device)\n",
    "        # logits: [b, 10]\n",
    "        logits = model(x)\n",
    "        # loss: tensor scalar\n",
    "        loss = criteron(logits, label)\n",
    "        # 梯度清零\n",
    "        optimizer.zero_grad()\n",
    "        # 反向传播\n",
    "        loss.backward()\n",
    "        # 更新网络参数\n",
    "        optimizer.step()\n",
    "        if batchidx % 100 == 0:\n",
    "            print('epoch:', epoch, 'batchidx:', batchidx, 'loss:', loss.item())"
   ]
  },
  {
   "cell_type": "markdown",
   "id": "cfb0ad25",
   "metadata": {},
   "source": [
    "# 模型评估"
   ]
  },
  {
   "cell_type": "code",
   "execution_count": 50,
   "id": "f72dbcc4",
   "metadata": {},
   "outputs": [],
   "source": [
    "def eval(model, criteron, epoch):\n",
    "    model.eval()\n",
    "    with torch.no_grad():\n",
    "        total_correct = 0\n",
    "        total_num = 0\n",
    "        for x, label in cifar_test:\n",
    "            # x: [b, 3, 32, 32]\n",
    "            # label: [b]\n",
    "            x, label = x.to(device), label.to(device)\n",
    "            # logits: [b, 10]\n",
    "            logits = model(x)\n",
    "            # pred: [b]\n",
    "            pred = logits.argmax(dim=1)\n",
    "            # [b] vs [b] => scalar tensor\n",
    "            correct = torch.eq(pred, label).float().sum().item()\n",
    "            total_correct += correct\n",
    "            total_num += x.size(0)\n",
    "            # print(correct)\n",
    "        acc = total_correct / total_num\n",
    "        print('epoch:', epoch, 'acc:', acc)"
   ]
  },
  {
   "cell_type": "code",
   "execution_count": 51,
   "id": "9a12acbb",
   "metadata": {},
   "outputs": [],
   "source": [
    "def main():\n",
    "    # for epoch in range(1000):\n",
    "    for epoch in range(5):\n",
    "        train(model, optimizer, criteron, epoch)\n",
    "        eval(model, criteron, epoch)"
   ]
  },
  {
   "cell_type": "code",
   "execution_count": 52,
   "id": "d8ebe489",
   "metadata": {},
   "outputs": [
    {
     "name": "stdout",
     "output_type": "stream",
     "text": [
      "epoch: 0 batchidx: 0 loss: 2.297548294067383\n",
      "epoch: 0 batchidx: 100 loss: 1.68293297290802\n",
      "epoch: 0 batchidx: 200 loss: 1.4933511018753052\n",
      "epoch: 0 batchidx: 300 loss: 1.564423680305481\n",
      "epoch: 0 batchidx: 400 loss: 1.4148838520050049\n",
      "epoch: 0 batchidx: 500 loss: 1.8905407190322876\n",
      "epoch: 0 batchidx: 600 loss: 1.2580304145812988\n",
      "epoch: 0 batchidx: 700 loss: 1.503340482711792\n",
      "epoch: 0 batchidx: 800 loss: 1.7086248397827148\n",
      "epoch: 0 batchidx: 900 loss: 1.5118569135665894\n",
      "epoch: 0 batchidx: 1000 loss: 1.3862837553024292\n",
      "epoch: 0 batchidx: 1100 loss: 0.9959393739700317\n",
      "epoch: 0 batchidx: 1200 loss: 1.449727177619934\n",
      "epoch: 0 batchidx: 1300 loss: 1.2866764068603516\n",
      "epoch: 0 batchidx: 1400 loss: 1.1549031734466553\n",
      "epoch: 0 batchidx: 1500 loss: 1.3130391836166382\n",
      "epoch: 0 acc: 0.5828\n",
      "epoch: 1 batchidx: 0 loss: 1.0471978187561035\n",
      "epoch: 1 batchidx: 100 loss: 1.0342128276824951\n",
      "epoch: 1 batchidx: 200 loss: 0.9745177030563354\n",
      "epoch: 1 batchidx: 300 loss: 1.0224632024765015\n",
      "epoch: 1 batchidx: 400 loss: 1.1082937717437744\n",
      "epoch: 1 batchidx: 500 loss: 1.0386455059051514\n",
      "epoch: 1 batchidx: 600 loss: 1.1126166582107544\n",
      "epoch: 1 batchidx: 700 loss: 1.1717641353607178\n",
      "epoch: 1 batchidx: 800 loss: 1.1141453981399536\n",
      "epoch: 1 batchidx: 900 loss: 0.9947413802146912\n",
      "epoch: 1 batchidx: 1000 loss: 1.4266220331192017\n",
      "epoch: 1 batchidx: 1100 loss: 1.089889645576477\n",
      "epoch: 1 batchidx: 1200 loss: 0.9210864901542664\n",
      "epoch: 1 batchidx: 1300 loss: 1.0641746520996094\n",
      "epoch: 1 batchidx: 1400 loss: 0.8658162355422974\n",
      "epoch: 1 batchidx: 1500 loss: 0.8167761564254761\n",
      "epoch: 1 acc: 0.6402\n",
      "epoch: 2 batchidx: 0 loss: 1.0862168073654175\n",
      "epoch: 2 batchidx: 100 loss: 1.4236104488372803\n",
      "epoch: 2 batchidx: 200 loss: 1.6252597570419312\n",
      "epoch: 2 batchidx: 300 loss: 1.0754501819610596\n",
      "epoch: 2 batchidx: 400 loss: 0.8339880108833313\n",
      "epoch: 2 batchidx: 500 loss: 1.0426520109176636\n",
      "epoch: 2 batchidx: 600 loss: 0.8996935486793518\n",
      "epoch: 2 batchidx: 700 loss: 0.6581519842147827\n",
      "epoch: 2 batchidx: 800 loss: 1.043850064277649\n",
      "epoch: 2 batchidx: 900 loss: 0.7268781661987305\n",
      "epoch: 2 batchidx: 1000 loss: 0.9918858408927917\n",
      "epoch: 2 batchidx: 1100 loss: 0.6708783507347107\n",
      "epoch: 2 batchidx: 1200 loss: 1.2823206186294556\n",
      "epoch: 2 batchidx: 1300 loss: 0.906370997428894\n",
      "epoch: 2 batchidx: 1400 loss: 0.8832852840423584\n",
      "epoch: 2 batchidx: 1500 loss: 0.9599318504333496\n",
      "epoch: 2 acc: 0.653\n",
      "epoch: 3 batchidx: 0 loss: 1.042001724243164\n",
      "epoch: 3 batchidx: 100 loss: 0.6593371629714966\n",
      "epoch: 3 batchidx: 200 loss: 0.8980954885482788\n",
      "epoch: 3 batchidx: 300 loss: 0.834193229675293\n",
      "epoch: 3 batchidx: 400 loss: 1.1174393892288208\n",
      "epoch: 3 batchidx: 500 loss: 1.3039053678512573\n",
      "epoch: 3 batchidx: 600 loss: 0.7976786494255066\n",
      "epoch: 3 batchidx: 700 loss: 0.7656527161598206\n",
      "epoch: 3 batchidx: 800 loss: 0.6734136343002319\n",
      "epoch: 3 batchidx: 900 loss: 1.0123473405838013\n",
      "epoch: 3 batchidx: 1000 loss: 0.886622428894043\n",
      "epoch: 3 batchidx: 1100 loss: 0.6712677478790283\n",
      "epoch: 3 batchidx: 1200 loss: 0.8306218981742859\n",
      "epoch: 3 batchidx: 1300 loss: 1.077359676361084\n",
      "epoch: 3 batchidx: 1400 loss: 0.9846495389938354\n",
      "epoch: 3 batchidx: 1500 loss: 0.888329267501831\n",
      "epoch: 3 acc: 0.6618\n",
      "epoch: 4 batchidx: 0 loss: 0.974854052066803\n",
      "epoch: 4 batchidx: 100 loss: 1.0610096454620361\n",
      "epoch: 4 batchidx: 200 loss: 0.8785055875778198\n",
      "epoch: 4 batchidx: 300 loss: 0.5685746073722839\n",
      "epoch: 4 batchidx: 400 loss: 0.7994106411933899\n",
      "epoch: 4 batchidx: 500 loss: 0.7837786674499512\n",
      "epoch: 4 batchidx: 600 loss: 1.0410573482513428\n",
      "epoch: 4 batchidx: 700 loss: 0.6723630428314209\n",
      "epoch: 4 batchidx: 800 loss: 0.6032940745353699\n",
      "epoch: 4 batchidx: 900 loss: 0.6606117486953735\n",
      "epoch: 4 batchidx: 1000 loss: 0.7666516304016113\n",
      "epoch: 4 batchidx: 1100 loss: 0.806249737739563\n",
      "epoch: 4 batchidx: 1200 loss: 0.9904469847679138\n",
      "epoch: 4 batchidx: 1300 loss: 0.672599196434021\n",
      "epoch: 4 batchidx: 1400 loss: 0.762592077255249\n",
      "epoch: 4 batchidx: 1500 loss: 0.6187326908111572\n",
      "epoch: 4 acc: 0.6699\n"
     ]
    }
   ],
   "source": [
    "if __name__ == '__main__':\n",
    "    main()"
   ]
  },
  {
   "cell_type": "code",
   "execution_count": null,
   "id": "be029515",
   "metadata": {},
   "outputs": [],
   "source": []
  }
 ],
 "metadata": {
  "kernelspec": {
   "display_name": "Python 3 (ipykernel)",
   "language": "python",
   "name": "python3"
  },
  "language_info": {
   "codemirror_mode": {
    "name": "ipython",
    "version": 3
   },
   "file_extension": ".py",
   "mimetype": "text/x-python",
   "name": "python",
   "nbconvert_exporter": "python",
   "pygments_lexer": "ipython3",
   "version": "3.9.21"
  },
  "toc": {
   "base_numbering": 1,
   "nav_menu": {},
   "number_sections": true,
   "sideBar": true,
   "skip_h1_title": false,
   "title_cell": "Table of Contents",
   "title_sidebar": "Contents",
   "toc_cell": false,
   "toc_position": {},
   "toc_section_display": true,
   "toc_window_display": true
  }
 },
 "nbformat": 4,
 "nbformat_minor": 5
}
