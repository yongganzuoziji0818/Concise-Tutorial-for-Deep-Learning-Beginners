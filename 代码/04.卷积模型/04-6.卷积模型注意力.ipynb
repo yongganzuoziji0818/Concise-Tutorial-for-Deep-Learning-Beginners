{
 "cells": [
  {
   "cell_type": "code",
   "execution_count": 1,
   "id": "325a7705-5d71-4b71-aa52-d7e235eae2d3",
   "metadata": {},
   "outputs": [],
   "source": [
    "import torch\n",
    "import torch.nn as nn"
   ]
  },
  {
   "cell_type": "markdown",
   "id": "d9bd7953-d49e-4003-8e6e-bb9e87813996",
   "metadata": {},
   "source": [
    "# SE注意力"
   ]
  },
  {
   "cell_type": "code",
   "execution_count": null,
   "id": "246d8a83-2898-4401-8107-e12f52f6358c",
   "metadata": {},
   "outputs": [],
   "source": [
    "class SEAttention(nn.Module):\n",
    "    def __init__(self, in_channels, ratio=16):\n",
    "        super(se_block, self).__init__()\n",
    "        self.avg_pool = nn.AdaptiveAvgPool2d(1)\n",
    "        self.fc = nn.Sequential(\n",
    "                nn.Linear(in_channels, in_channels//ratio, bias=False),\n",
    "                nn.ReLU(inplace=True),\n",
    "                nn.Linear(in_channels//ratio, in_channels, bias=False),\n",
    "                nn.Sigmoid()\n",
    "        )\n",
    "\n",
    "    def forward(self, x):\n",
    "        # x: [b, c, h, w]\n",
    "        b, c, _, _ = x.size()\n",
    "        # x: [b, c, h, w] -> [b, c, 1, 1]\n",
    "        # [b, c, 1, 1] -> y: [b, c]\n",
    "        y = self.avg_pool(x).view(b, c)\n",
    "        # y: [b, c] -> [b, c]\n",
    "        # [b, c] -> [b, c, 1, 1]\n",
    "        y = self.fc(y).view(b, c, 1, 1)\n",
    "        # [b, c, 1, 1]\n",
    "        return x * y"
   ]
  },
  {
   "cell_type": "markdown",
   "id": "13c2e766-dffa-4291-baa4-33064e712db6",
   "metadata": {},
   "source": [
    "# CBAM注意力"
   ]
  },
  {
   "cell_type": "markdown",
   "id": "3b796d59-185f-4eef-a9f1-1e6f1d1350f0",
   "metadata": {},
   "source": [
    "## 通道注意力"
   ]
  },
  {
   "cell_type": "code",
   "execution_count": 2,
   "id": "05d97479-8c6f-46f9-80d6-d1ca567a3653",
   "metadata": {},
   "outputs": [],
   "source": [
    "class ChannelAttention(nn.Module):\n",
    "    def __init__(self, in_channels, ratio=8):\n",
    "        super(ChannelAttention, self).__init__()\n",
    "        self.avg_pool = nn.AdaptiveAvgPool2d(1)\n",
    "        self.max_pool = nn.AdaptiveMaxPool2d(1)\n",
    "        # 利用1x1卷积代替全连接\n",
    "        self.fc1   = nn.Conv2d(in_channels, out_channels=in_channels//ratio, kernel_size=1, bias=False)\n",
    "        self.relu1 = nn.ReLU()\n",
    "        self.fc2   = nn.Conv2d(in_channels//ratio, in_channels, kernel_size=1, bias=False)\n",
    "        self.sigmoid = nn.Sigmoid()\n",
    "\n",
    "    def forward(self, x):\n",
    "        # x: [b, in_channels, h, w] -> [b, in_channels, 1, 1]\n",
    "        # [b, in_channels, 1, 1] -> [b, in_channels//ratio, 1, 1]\n",
    "        # [b, in_channels//ratio, 1, 1] -> avg_out: [b, in_channels, 1, 1]\n",
    "        avg_out = self.fc2(self.relu1(self.fc1(self.avg_pool(x))))\n",
    "        # x: [b, in_channels, h, w] -> [b, in_channels, 1, 1]\n",
    "        # [b, in_channels, 1, 1] -> [b, in_channels//ratio, 1, 1]\n",
    "        # [b, in_channels//ratio, 1, 1] -> max_out: [b, in_channels, 1, 1]\n",
    "        max_out = self.fc2(self.relu1(self.fc1(self.max_pool(x))))\n",
    "        # out: [b, in_channels, 1, 1]\n",
    "        out = avg_out + max_out\n",
    "        return self.sigmoid(out)"
   ]
  },
  {
   "cell_type": "markdown",
   "id": "8afb82ee-67fb-4a42-a129-574b5273c29e",
   "metadata": {},
   "source": [
    "## 空间注意力"
   ]
  },
  {
   "cell_type": "code",
   "execution_count": 3,
   "id": "d2f45f0b-052c-45bc-aa42-5f90fc3bf915",
   "metadata": {},
   "outputs": [],
   "source": [
    "class SpatialAttention(nn.Module):\n",
    "    def __init__(self, kernel_size=7):\n",
    "        super(SpatialAttention, self).__init__()\n",
    "        assert kernel_size in (3, 7), 'kernel size must be 3 or 7'\n",
    "        padding = 3 if kernel_size == 7 else 1\n",
    "        self.conv = nn.Conv2d(in_channels=2, out_channels=1, kernel_size=kernel_size, padding=padding, bias=False)\n",
    "        self.sigmoid = nn.Sigmoid()\n",
    "\n",
    "    def forward(self, x):\n",
    "        # x: [b, c, h, w] -> avg_out: [b, 1, h, w]\n",
    "        avg_out = torch.mean(x, dim=1, keepdim=True)\n",
    "        # x: [b, c, h, w] -> max_out: [b, 1, h, w]\n",
    "        max_out, _ = torch.max(x, dim=1, keepdim=True)\n",
    "        # x: [b, 2, h, w]\n",
    "        x = torch.cat([avg_out, max_out], dim=1)\n",
    "        # x: [b, 1, h, w]\n",
    "        x = self.conv(x)\n",
    "        return self.sigmoid(x)"
   ]
  },
  {
   "cell_type": "markdown",
   "id": "63894573-bd74-4acb-aa47-357aa0a1d2bf",
   "metadata": {},
   "source": [
    "## CBAM模块"
   ]
  },
  {
   "cell_type": "code",
   "execution_count": 4,
   "id": "54b08753-fa40-4d3d-9f66-b5a55e5b89c6",
   "metadata": {},
   "outputs": [],
   "source": [
    "class CBAM(nn.Module):\n",
    "    def __init__(self, in_channels, ratio=8, kernel_size=7):\n",
    "        super(CBAM, self).__init__()\n",
    "        self.ca = ChannelAttention(in_channels, ratio=ratio)\n",
    "        self.sa = SpatialAttention(kernel_size=kernel_size)\n",
    "\n",
    "    def forward(self, x):\n",
    "        # [b, in_channels, h, w] * [b, in_channels, 1, 1] = [b, in_channels, h, w]\n",
    "        x = x * self.ca(x)\n",
    "        # [b, in_channels, h, w] * [b, 1, h, w] = [b, in_channels, h, w]\n",
    "        x = x * self.sa(x)\n",
    "        return x"
   ]
  },
  {
   "cell_type": "code",
   "execution_count": null,
   "id": "4e2b784a-c46c-40e8-a199-3befc866dc64",
   "metadata": {},
   "outputs": [],
   "source": []
  }
 ],
 "metadata": {
  "kernelspec": {
   "display_name": "Python 3 (ipykernel)",
   "language": "python",
   "name": "python3"
  },
  "language_info": {
   "codemirror_mode": {
    "name": "ipython",
    "version": 3
   },
   "file_extension": ".py",
   "mimetype": "text/x-python",
   "name": "python",
   "nbconvert_exporter": "python",
   "pygments_lexer": "ipython3",
   "version": "3.9.21"
  }
 },
 "nbformat": 4,
 "nbformat_minor": 5
}
