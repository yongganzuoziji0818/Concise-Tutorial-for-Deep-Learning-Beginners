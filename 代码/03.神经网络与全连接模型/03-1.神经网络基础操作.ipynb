{
 "cells": [
  {
   "cell_type": "code",
   "execution_count": 258,
   "id": "857ad7c7-42cd-40b9-9eb8-163e666cdbb5",
   "metadata": {},
   "outputs": [],
   "source": [
    "# 导包\n",
    "import torch\n",
    "from torch.nn import functional as F\n",
    "from torch import nn\n",
    "from torch import optim\n",
    "from torchvision import datasets, transforms\n",
    "# import torchvision\n",
    "from matplotlib import pyplot as plt\n",
    "import import_ipynb"
   ]
  },
  {
   "cell_type": "markdown",
   "id": "dfcbf86f",
   "metadata": {},
   "source": [
    "# 激活函数"
   ]
  },
  {
   "cell_type": "markdown",
   "id": "b701e73a",
   "metadata": {},
   "source": [
    "## sigmoid"
   ]
  },
  {
   "cell_type": "code",
   "execution_count": 259,
   "id": "c2bb1bda",
   "metadata": {},
   "outputs": [
    {
     "data": {
      "text/plain": [
       "tensor([-1.0000, -0.7778, -0.5556, -0.3333, -0.1111,  0.1111,  0.3333,  0.5556,\n",
       "         0.7778,  1.0000])"
      ]
     },
     "execution_count": 259,
     "metadata": {},
     "output_type": "execute_result"
    }
   ],
   "source": [
    "a = torch.linspace(-1, 1, 10)\n",
    "a"
   ]
  },
  {
   "cell_type": "code",
   "execution_count": 260,
   "id": "c8ef2e15",
   "metadata": {},
   "outputs": [
    {
     "data": {
      "text/plain": [
       "tensor([0.2689, 0.3148, 0.3646, 0.4174, 0.4723, 0.5277, 0.5826, 0.6354, 0.6852,\n",
       "        0.7311])"
      ]
     },
     "execution_count": 260,
     "metadata": {},
     "output_type": "execute_result"
    }
   ],
   "source": [
    "torch.sigmoid(a)"
   ]
  },
  {
   "cell_type": "code",
   "execution_count": 261,
   "id": "511393a7",
   "metadata": {},
   "outputs": [
    {
     "data": {
      "text/plain": [
       "tensor([0.2689, 0.3148, 0.3646, 0.4174, 0.4723, 0.5277, 0.5826, 0.6354, 0.6852,\n",
       "        0.7311])"
      ]
     },
     "execution_count": 261,
     "metadata": {},
     "output_type": "execute_result"
    }
   ],
   "source": [
    "F.sigmoid(a)"
   ]
  },
  {
   "cell_type": "code",
   "execution_count": 262,
   "id": "45c426a3-2491-4556-b181-36355645fdc2",
   "metadata": {},
   "outputs": [
    {
     "data": {
      "text/plain": [
       "tensor([0.2689, 0.3148, 0.3646, 0.4174, 0.4723, 0.5277, 0.5826, 0.6354, 0.6852,\n",
       "        0.7311])"
      ]
     },
     "execution_count": 262,
     "metadata": {},
     "output_type": "execute_result"
    }
   ],
   "source": [
    "nn.Sigmoid().forward(a)"
   ]
  },
  {
   "cell_type": "markdown",
   "id": "8be98831",
   "metadata": {},
   "source": [
    "## tanh"
   ]
  },
  {
   "cell_type": "code",
   "execution_count": 263,
   "id": "dce4184c",
   "metadata": {},
   "outputs": [
    {
     "data": {
      "text/plain": [
       "tensor([-1.0000, -0.7778, -0.5556, -0.3333, -0.1111,  0.1111,  0.3333,  0.5556,\n",
       "         0.7778,  1.0000])"
      ]
     },
     "execution_count": 263,
     "metadata": {},
     "output_type": "execute_result"
    }
   ],
   "source": [
    "a = torch.linspace(-1, 1, 10)\n",
    "a"
   ]
  },
  {
   "cell_type": "code",
   "execution_count": 264,
   "id": "0c37be67",
   "metadata": {},
   "outputs": [
    {
     "data": {
      "text/plain": [
       "tensor([-0.7616, -0.6514, -0.5047, -0.3215, -0.1107,  0.1107,  0.3215,  0.5047,\n",
       "         0.6514,  0.7616])"
      ]
     },
     "execution_count": 264,
     "metadata": {},
     "output_type": "execute_result"
    }
   ],
   "source": [
    "torch.tanh(a)"
   ]
  },
  {
   "cell_type": "code",
   "execution_count": 265,
   "id": "f3d69e09",
   "metadata": {},
   "outputs": [
    {
     "data": {
      "text/plain": [
       "tensor([-0.7616, -0.6514, -0.5047, -0.3215, -0.1107,  0.1107,  0.3215,  0.5047,\n",
       "         0.6514,  0.7616])"
      ]
     },
     "execution_count": 265,
     "metadata": {},
     "output_type": "execute_result"
    }
   ],
   "source": [
    "F.tanh(a)"
   ]
  },
  {
   "cell_type": "code",
   "execution_count": 266,
   "id": "5ad5502d-1978-4cda-a00b-8a70095ce628",
   "metadata": {},
   "outputs": [
    {
     "data": {
      "text/plain": [
       "tensor([-0.7616, -0.6514, -0.5047, -0.3215, -0.1107,  0.1107,  0.3215,  0.5047,\n",
       "         0.6514,  0.7616])"
      ]
     },
     "execution_count": 266,
     "metadata": {},
     "output_type": "execute_result"
    }
   ],
   "source": [
    "nn.Tanh().forward(a)"
   ]
  },
  {
   "cell_type": "markdown",
   "id": "f3e1ce53",
   "metadata": {},
   "source": [
    "## relu"
   ]
  },
  {
   "cell_type": "code",
   "execution_count": 267,
   "id": "94245a13",
   "metadata": {},
   "outputs": [
    {
     "data": {
      "text/plain": [
       "tensor([-1.0000, -0.7778, -0.5556, -0.3333, -0.1111,  0.1111,  0.3333,  0.5556,\n",
       "         0.7778,  1.0000])"
      ]
     },
     "execution_count": 267,
     "metadata": {},
     "output_type": "execute_result"
    }
   ],
   "source": [
    "a = torch.linspace(-1, 1, 10)\n",
    "a"
   ]
  },
  {
   "cell_type": "code",
   "execution_count": 268,
   "id": "69c92317",
   "metadata": {},
   "outputs": [
    {
     "data": {
      "text/plain": [
       "tensor([0.0000, 0.0000, 0.0000, 0.0000, 0.0000, 0.1111, 0.3333, 0.5556, 0.7778,\n",
       "        1.0000])"
      ]
     },
     "execution_count": 268,
     "metadata": {},
     "output_type": "execute_result"
    }
   ],
   "source": [
    "torch.relu(a)"
   ]
  },
  {
   "cell_type": "code",
   "execution_count": 269,
   "id": "32007a8d",
   "metadata": {},
   "outputs": [
    {
     "data": {
      "text/plain": [
       "tensor([0.0000, 0.0000, 0.0000, 0.0000, 0.0000, 0.1111, 0.3333, 0.5556, 0.7778,\n",
       "        1.0000])"
      ]
     },
     "execution_count": 269,
     "metadata": {},
     "output_type": "execute_result"
    }
   ],
   "source": [
    "F.relu(a)"
   ]
  },
  {
   "cell_type": "code",
   "execution_count": 270,
   "id": "db215895-f38c-4c78-9396-6175167e6849",
   "metadata": {},
   "outputs": [
    {
     "data": {
      "text/plain": [
       "tensor([0.0000, 0.0000, 0.0000, 0.0000, 0.0000, 0.1111, 0.3333, 0.5556, 0.7778,\n",
       "        1.0000])"
      ]
     },
     "execution_count": 270,
     "metadata": {},
     "output_type": "execute_result"
    }
   ],
   "source": [
    "nn.ReLU().forward(a)"
   ]
  },
  {
   "cell_type": "markdown",
   "id": "2e354472-e29b-4102-91ce-5846a0f994f3",
   "metadata": {},
   "source": [
    "## leaky_relu"
   ]
  },
  {
   "cell_type": "code",
   "execution_count": 271,
   "id": "b3014afd-6090-4d94-ae84-e72667528c6e",
   "metadata": {},
   "outputs": [
    {
     "data": {
      "text/plain": [
       "tensor([-1.0000, -0.7778, -0.5556, -0.3333, -0.1111,  0.1111,  0.3333,  0.5556,\n",
       "         0.7778,  1.0000])"
      ]
     },
     "execution_count": 271,
     "metadata": {},
     "output_type": "execute_result"
    }
   ],
   "source": [
    "a = torch.linspace(-1, 1, 10)\n",
    "a"
   ]
  },
  {
   "cell_type": "code",
   "execution_count": 272,
   "id": "fc136bb9-b4e3-47e5-9553-2d16e7f264e7",
   "metadata": {},
   "outputs": [
    {
     "data": {
      "text/plain": [
       "tensor([-0.0100, -0.0078, -0.0056, -0.0033, -0.0011,  0.1111,  0.3333,  0.5556,\n",
       "         0.7778,  1.0000])"
      ]
     },
     "execution_count": 272,
     "metadata": {},
     "output_type": "execute_result"
    }
   ],
   "source": [
    "F.leaky_relu(a)"
   ]
  },
  {
   "cell_type": "code",
   "execution_count": 273,
   "id": "fad41602-f2c4-4dc1-a3b7-1954ae6e21bc",
   "metadata": {},
   "outputs": [
    {
     "data": {
      "text/plain": [
       "tensor([-0.0100, -0.0078, -0.0056, -0.0033, -0.0011,  0.1111,  0.3333,  0.5556,\n",
       "         0.7778,  1.0000])"
      ]
     },
     "execution_count": 273,
     "metadata": {},
     "output_type": "execute_result"
    }
   ],
   "source": [
    "nn.LeakyReLU().forward(a)"
   ]
  },
  {
   "cell_type": "markdown",
   "id": "dba52439",
   "metadata": {},
   "source": [
    "## softmax"
   ]
  },
  {
   "cell_type": "code",
   "execution_count": 274,
   "id": "041f8fa8",
   "metadata": {},
   "outputs": [
    {
     "data": {
      "text/plain": [
       "tensor([-1.0000, -0.7778, -0.5556, -0.3333, -0.1111,  0.1111,  0.3333,  0.5556,\n",
       "         0.7778,  1.0000])"
      ]
     },
     "execution_count": 274,
     "metadata": {},
     "output_type": "execute_result"
    }
   ],
   "source": [
    "a = torch.linspace(-1, 1, 10)\n",
    "a"
   ]
  },
  {
   "cell_type": "code",
   "execution_count": 275,
   "id": "845609a9",
   "metadata": {},
   "outputs": [
    {
     "data": {
      "text/plain": [
       "tensor([0.0302, 0.0378, 0.0472, 0.0589, 0.0736, 0.0919, 0.1147, 0.1433, 0.1789,\n",
       "        0.2235])"
      ]
     },
     "execution_count": 275,
     "metadata": {},
     "output_type": "execute_result"
    }
   ],
   "source": [
    "torch.softmax(a, dim=0)"
   ]
  },
  {
   "cell_type": "code",
   "execution_count": 276,
   "id": "38672740",
   "metadata": {
    "scrolled": true
   },
   "outputs": [
    {
     "data": {
      "text/plain": [
       "tensor([0.0302, 0.0378, 0.0472, 0.0589, 0.0736, 0.0919, 0.1147, 0.1433, 0.1789,\n",
       "        0.2235])"
      ]
     },
     "execution_count": 276,
     "metadata": {},
     "output_type": "execute_result"
    }
   ],
   "source": [
    "F.softmax(a, dim=0)"
   ]
  },
  {
   "cell_type": "code",
   "execution_count": 277,
   "id": "618f6de3-fdd9-4c3b-b91a-54ab6f5a1962",
   "metadata": {},
   "outputs": [
    {
     "data": {
      "text/plain": [
       "tensor([0.0302, 0.0378, 0.0472, 0.0589, 0.0736, 0.0919, 0.1147, 0.1433, 0.1789,\n",
       "        0.2235])"
      ]
     },
     "execution_count": 277,
     "metadata": {},
     "output_type": "execute_result"
    }
   ],
   "source": [
    "nn.Softmax(dim=0).forward(a)"
   ]
  },
  {
   "cell_type": "markdown",
   "id": "6aafba60",
   "metadata": {},
   "source": [
    "# 计算损失"
   ]
  },
  {
   "cell_type": "code",
   "execution_count": 278,
   "id": "59aeeb3e",
   "metadata": {},
   "outputs": [],
   "source": [
    "x = torch.randn(1, 784)\n",
    "w = torch.randn(10, 784)"
   ]
  },
  {
   "cell_type": "code",
   "execution_count": 279,
   "id": "f719ab1a",
   "metadata": {},
   "outputs": [
    {
     "data": {
      "text/plain": [
       "tensor([[ 19.3992,  35.2730,  36.3524,  19.2576, -15.0187, -14.3509,  52.9445,\n",
       "          -8.9378,  39.2892,  12.7513]])"
      ]
     },
     "execution_count": 279,
     "metadata": {},
     "output_type": "execute_result"
    }
   ],
   "source": [
    "logits = x @ w.t()\n",
    "logits"
   ]
  },
  {
   "cell_type": "code",
   "execution_count": 280,
   "id": "2a665e2b",
   "metadata": {},
   "outputs": [
    {
     "data": {
      "text/plain": [
       "tensor([[2.7005e-15, 2.1153e-08, 6.2249e-08, 2.3439e-15, 3.0474e-30, 5.9428e-30,\n",
       "         1.0000e+00, 1.3330e-27, 1.1737e-06, 3.5019e-18]])"
      ]
     },
     "execution_count": 280,
     "metadata": {},
     "output_type": "execute_result"
    }
   ],
   "source": [
    "pred = F.softmax(logits, dim = 1)\n",
    "pred"
   ]
  },
  {
   "cell_type": "code",
   "execution_count": 281,
   "id": "1555a2c0",
   "metadata": {},
   "outputs": [
    {
     "data": {
      "text/plain": [
       "tensor([[-3.3545e+01, -1.7671e+01, -1.6592e+01, -3.3687e+01, -6.7963e+01,\n",
       "         -6.7295e+01, -1.3113e-06, -6.1882e+01, -1.3655e+01, -4.0193e+01]])"
      ]
     },
     "execution_count": 281,
     "metadata": {},
     "output_type": "execute_result"
    }
   ],
   "source": [
    "pred_log = torch.log(pred)\n",
    "pred_log"
   ]
  },
  {
   "cell_type": "code",
   "execution_count": 282,
   "id": "4380b3ad",
   "metadata": {},
   "outputs": [],
   "source": [
    "y = torch.tensor([5])"
   ]
  },
  {
   "cell_type": "markdown",
   "id": "d0bf9686",
   "metadata": {},
   "source": [
    "## mse损失"
   ]
  },
  {
   "cell_type": "code",
   "execution_count": 283,
   "id": "1e30c3b5",
   "metadata": {},
   "outputs": [
    {
     "name": "stderr",
     "output_type": "stream",
     "text": [
      "C:\\Users\\Administrator\\AppData\\Local\\Temp\\ipykernel_8976\\353255066.py:1: UserWarning: Using a target size (torch.Size([1])) that is different to the input size (torch.Size([1, 10])). This will likely lead to incorrect results due to broadcasting. Please ensure they have the same size.\n",
      "  F.mse_loss(logits, y)\n"
     ]
    },
    {
     "data": {
      "text/plain": [
       "tensor(681.4020)"
      ]
     },
     "execution_count": 283,
     "metadata": {},
     "output_type": "execute_result"
    }
   ],
   "source": [
    "F.mse_loss(logits, y)"
   ]
  },
  {
   "cell_type": "code",
   "execution_count": 284,
   "id": "44a56310",
   "metadata": {},
   "outputs": [
    {
     "name": "stderr",
     "output_type": "stream",
     "text": [
      "C:\\Users\\Administrator\\AppData\\Local\\Temp\\ipykernel_8976\\3525572963.py:1: UserWarning: Using a target size (torch.Size([1])) that is different to the input size (torch.Size([1, 10])). This will likely lead to incorrect results due to broadcasting. Please ensure they have the same size.\n",
      "  F.mse_loss(pred, y)\n"
     ]
    },
    {
     "data": {
      "text/plain": [
       "tensor(24.1000)"
      ]
     },
     "execution_count": 284,
     "metadata": {},
     "output_type": "execute_result"
    }
   ],
   "source": [
    "F.mse_loss(pred, y)"
   ]
  },
  {
   "cell_type": "code",
   "execution_count": 285,
   "id": "7a5dd52b",
   "metadata": {},
   "outputs": [
    {
     "name": "stderr",
     "output_type": "stream",
     "text": [
      "C:\\Users\\Administrator\\AppData\\Local\\Temp\\ipykernel_8976\\99524341.py:1: UserWarning: Using a target size (torch.Size([1])) that is different to the input size (torch.Size([1, 10])). This will likely lead to incorrect results due to broadcasting. Please ensure they have the same size.\n",
      "  F.mse_loss(pred_log, y)\n"
     ]
    },
    {
     "data": {
      "text/plain": [
       "tensor(2140.1594)"
      ]
     },
     "execution_count": 285,
     "metadata": {},
     "output_type": "execute_result"
    }
   ],
   "source": [
    "F.mse_loss(pred_log, y)"
   ]
  },
  {
   "cell_type": "markdown",
   "id": "1909c588",
   "metadata": {},
   "source": [
    "## 交叉熵损失"
   ]
  },
  {
   "cell_type": "code",
   "execution_count": 286,
   "id": "8bfdafcd",
   "metadata": {},
   "outputs": [
    {
     "data": {
      "text/plain": [
       "tensor(67.2954)"
      ]
     },
     "execution_count": 286,
     "metadata": {},
     "output_type": "execute_result"
    }
   ],
   "source": [
    "F.cross_entropy(logits, y)"
   ]
  },
  {
   "cell_type": "code",
   "execution_count": 287,
   "id": "60a0df93",
   "metadata": {},
   "outputs": [
    {
     "data": {
      "text/plain": [
       "tensor(2.4611)"
      ]
     },
     "execution_count": 287,
     "metadata": {},
     "output_type": "execute_result"
    }
   ],
   "source": [
    "F.cross_entropy(pred, y)"
   ]
  },
  {
   "cell_type": "code",
   "execution_count": 288,
   "id": "1965f62c",
   "metadata": {
    "scrolled": true
   },
   "outputs": [
    {
     "data": {
      "text/plain": [
       "tensor(67.2954)"
      ]
     },
     "execution_count": 288,
     "metadata": {},
     "output_type": "execute_result"
    }
   ],
   "source": [
    "F.cross_entropy(pred_log, y)"
   ]
  },
  {
   "cell_type": "markdown",
   "id": "1224db2a",
   "metadata": {},
   "source": [
    "# 反向传播"
   ]
  },
  {
   "cell_type": "markdown",
   "id": "1a79c9cc",
   "metadata": {},
   "source": [
    "## 输出mse"
   ]
  },
  {
   "cell_type": "code",
   "execution_count": 289,
   "id": "f428f61a",
   "metadata": {},
   "outputs": [],
   "source": [
    "x = torch.ones(1)"
   ]
  },
  {
   "cell_type": "code",
   "execution_count": 290,
   "id": "5323f3db",
   "metadata": {},
   "outputs": [
    {
     "data": {
      "text/plain": [
       "tensor([1.])"
      ]
     },
     "execution_count": 290,
     "metadata": {},
     "output_type": "execute_result"
    }
   ],
   "source": [
    "x"
   ]
  },
  {
   "cell_type": "code",
   "execution_count": 291,
   "id": "251df6ab",
   "metadata": {},
   "outputs": [],
   "source": [
    "# w = torch.full([1], 2.0)\n",
    "w = torch.full([1], 2.0, requires_grad=True)"
   ]
  },
  {
   "cell_type": "code",
   "execution_count": 292,
   "id": "728f18cb",
   "metadata": {},
   "outputs": [],
   "source": [
    "# w.requires_grad_()"
   ]
  },
  {
   "cell_type": "code",
   "execution_count": 293,
   "id": "05c2f325",
   "metadata": {},
   "outputs": [
    {
     "data": {
      "text/plain": [
       "tensor([2.], requires_grad=True)"
      ]
     },
     "execution_count": 293,
     "metadata": {},
     "output_type": "execute_result"
    }
   ],
   "source": [
    "w"
   ]
  },
  {
   "cell_type": "code",
   "execution_count": 294,
   "id": "b91617bf",
   "metadata": {},
   "outputs": [],
   "source": [
    "mse = F.mse_loss(torch.ones(1), x * w)"
   ]
  },
  {
   "cell_type": "code",
   "execution_count": 295,
   "id": "30f1ed92",
   "metadata": {},
   "outputs": [
    {
     "data": {
      "text/plain": [
       "tensor(1., grad_fn=<MseLossBackward0>)"
      ]
     },
     "execution_count": 295,
     "metadata": {},
     "output_type": "execute_result"
    }
   ],
   "source": [
    "mse"
   ]
  },
  {
   "cell_type": "code",
   "execution_count": 296,
   "id": "c720781f",
   "metadata": {},
   "outputs": [
    {
     "data": {
      "text/plain": [
       "(tensor([2.]),)"
      ]
     },
     "execution_count": 296,
     "metadata": {},
     "output_type": "execute_result"
    }
   ],
   "source": [
    "# torch.autograd.grad(mse, [w])\n",
    "torch.autograd.grad(mse, [w], retain_graph=True)"
   ]
  },
  {
   "cell_type": "code",
   "execution_count": 297,
   "id": "457997f6",
   "metadata": {},
   "outputs": [],
   "source": [
    "w.grad"
   ]
  },
  {
   "cell_type": "code",
   "execution_count": 298,
   "id": "ef988ad5",
   "metadata": {},
   "outputs": [],
   "source": [
    "mse.backward()"
   ]
  },
  {
   "cell_type": "code",
   "execution_count": 299,
   "id": "93d15425",
   "metadata": {},
   "outputs": [
    {
     "data": {
      "text/plain": [
       "tensor([2.])"
      ]
     },
     "execution_count": 299,
     "metadata": {},
     "output_type": "execute_result"
    }
   ],
   "source": [
    "w.grad"
   ]
  },
  {
   "cell_type": "markdown",
   "id": "b1938797",
   "metadata": {},
   "source": [
    "## 输出softmax"
   ]
  },
  {
   "cell_type": "code",
   "execution_count": 300,
   "id": "242c921d",
   "metadata": {},
   "outputs": [
    {
     "data": {
      "text/plain": [
       "tensor([0.7402, 0.0440, 0.5227])"
      ]
     },
     "execution_count": 300,
     "metadata": {},
     "output_type": "execute_result"
    }
   ],
   "source": [
    "a = torch.rand(3)\n",
    "a"
   ]
  },
  {
   "cell_type": "code",
   "execution_count": 301,
   "id": "b823099f",
   "metadata": {},
   "outputs": [
    {
     "data": {
      "text/plain": [
       "tensor([0.7402, 0.0440, 0.5227], requires_grad=True)"
      ]
     },
     "execution_count": 301,
     "metadata": {},
     "output_type": "execute_result"
    }
   ],
   "source": [
    "a.requires_grad_()"
   ]
  },
  {
   "cell_type": "code",
   "execution_count": 302,
   "id": "62e0ffdc",
   "metadata": {},
   "outputs": [],
   "source": [
    "p = F.softmax(a, dim=0)"
   ]
  },
  {
   "cell_type": "code",
   "execution_count": 303,
   "id": "cc7214d9",
   "metadata": {},
   "outputs": [
    {
     "data": {
      "text/plain": [
       "tensor([0.4342, 0.2164, 0.3493], grad_fn=<SoftmaxBackward0>)"
      ]
     },
     "execution_count": 303,
     "metadata": {},
     "output_type": "execute_result"
    }
   ],
   "source": [
    "p"
   ]
  },
  {
   "cell_type": "code",
   "execution_count": 304,
   "id": "26ef0ad2",
   "metadata": {},
   "outputs": [
    {
     "data": {
      "text/plain": [
       "(tensor([ 0.2457, -0.0940, -0.1517]),)"
      ]
     },
     "execution_count": 304,
     "metadata": {},
     "output_type": "execute_result"
    }
   ],
   "source": [
    "torch.autograd.grad(p[0], a, retain_graph=True)"
   ]
  },
  {
   "cell_type": "code",
   "execution_count": 305,
   "id": "5c4bec54",
   "metadata": {},
   "outputs": [
    {
     "data": {
      "text/plain": [
       "(tensor([-0.0940,  0.1696, -0.0756]),)"
      ]
     },
     "execution_count": 305,
     "metadata": {},
     "output_type": "execute_result"
    }
   ],
   "source": [
    "torch.autograd.grad(p[1], a, retain_graph=True)"
   ]
  },
  {
   "cell_type": "code",
   "execution_count": 306,
   "id": "7273b65c",
   "metadata": {},
   "outputs": [
    {
     "data": {
      "text/plain": [
       "(tensor([-0.1517, -0.0756,  0.2273]),)"
      ]
     },
     "execution_count": 306,
     "metadata": {},
     "output_type": "execute_result"
    }
   ],
   "source": [
    "torch.autograd.grad(p[2], a, retain_graph=True)"
   ]
  },
  {
   "cell_type": "code",
   "execution_count": 307,
   "id": "01046947",
   "metadata": {},
   "outputs": [],
   "source": [
    "a.grad"
   ]
  },
  {
   "cell_type": "code",
   "execution_count": 308,
   "id": "ca78fc27-2589-4158-911a-1850badf76e9",
   "metadata": {},
   "outputs": [
    {
     "data": {
      "text/plain": [
       "torch.Size([3])"
      ]
     },
     "execution_count": 308,
     "metadata": {},
     "output_type": "execute_result"
    }
   ],
   "source": [
    "p.shape"
   ]
  },
  {
   "cell_type": "code",
   "execution_count": 309,
   "id": "59dfb0ad-d4c1-421e-9616-8f3c519cd47c",
   "metadata": {},
   "outputs": [
    {
     "ename": "RuntimeError",
     "evalue": "grad can be implicitly created only for scalar outputs",
     "output_type": "error",
     "traceback": [
      "\u001b[1;31m---------------------------------------------------------------------------\u001b[0m",
      "\u001b[1;31mRuntimeError\u001b[0m                              Traceback (most recent call last)",
      "Cell \u001b[1;32mIn[309], line 2\u001b[0m\n\u001b[0;32m      1\u001b[0m \u001b[38;5;66;03m# 以下语句会报错，p不是标量\u001b[39;00m\n\u001b[1;32m----> 2\u001b[0m \u001b[43mp\u001b[49m\u001b[38;5;241;43m.\u001b[39;49m\u001b[43mbackward\u001b[49m\u001b[43m(\u001b[49m\u001b[43mretain_graph\u001b[49m\u001b[38;5;241;43m=\u001b[39;49m\u001b[38;5;28;43;01mTrue\u001b[39;49;00m\u001b[43m)\u001b[49m\n",
      "File \u001b[1;32md:\\ProgramData\\Anaconda3\\envs\\DL_Basic\\lib\\site-packages\\torch\\_tensor.py:648\u001b[0m, in \u001b[0;36mTensor.backward\u001b[1;34m(self, gradient, retain_graph, create_graph, inputs)\u001b[0m\n\u001b[0;32m    638\u001b[0m \u001b[38;5;28;01mif\u001b[39;00m has_torch_function_unary(\u001b[38;5;28mself\u001b[39m):\n\u001b[0;32m    639\u001b[0m     \u001b[38;5;28;01mreturn\u001b[39;00m handle_torch_function(\n\u001b[0;32m    640\u001b[0m         Tensor\u001b[38;5;241m.\u001b[39mbackward,\n\u001b[0;32m    641\u001b[0m         (\u001b[38;5;28mself\u001b[39m,),\n\u001b[1;32m   (...)\u001b[0m\n\u001b[0;32m    646\u001b[0m         inputs\u001b[38;5;241m=\u001b[39minputs,\n\u001b[0;32m    647\u001b[0m     )\n\u001b[1;32m--> 648\u001b[0m \u001b[43mtorch\u001b[49m\u001b[38;5;241;43m.\u001b[39;49m\u001b[43mautograd\u001b[49m\u001b[38;5;241;43m.\u001b[39;49m\u001b[43mbackward\u001b[49m\u001b[43m(\u001b[49m\n\u001b[0;32m    649\u001b[0m \u001b[43m    \u001b[49m\u001b[38;5;28;43mself\u001b[39;49m\u001b[43m,\u001b[49m\u001b[43m \u001b[49m\u001b[43mgradient\u001b[49m\u001b[43m,\u001b[49m\u001b[43m \u001b[49m\u001b[43mretain_graph\u001b[49m\u001b[43m,\u001b[49m\u001b[43m \u001b[49m\u001b[43mcreate_graph\u001b[49m\u001b[43m,\u001b[49m\u001b[43m \u001b[49m\u001b[43minputs\u001b[49m\u001b[38;5;241;43m=\u001b[39;49m\u001b[43minputs\u001b[49m\n\u001b[0;32m    650\u001b[0m \u001b[43m\u001b[49m\u001b[43m)\u001b[49m\n",
      "File \u001b[1;32md:\\ProgramData\\Anaconda3\\envs\\DL_Basic\\lib\\site-packages\\torch\\autograd\\__init__.py:346\u001b[0m, in \u001b[0;36mbackward\u001b[1;34m(tensors, grad_tensors, retain_graph, create_graph, grad_variables, inputs)\u001b[0m\n\u001b[0;32m    337\u001b[0m inputs \u001b[38;5;241m=\u001b[39m (\n\u001b[0;32m    338\u001b[0m     (inputs,)\n\u001b[0;32m    339\u001b[0m     \u001b[38;5;28;01mif\u001b[39;00m \u001b[38;5;28misinstance\u001b[39m(inputs, (torch\u001b[38;5;241m.\u001b[39mTensor, graph\u001b[38;5;241m.\u001b[39mGradientEdge))\n\u001b[1;32m   (...)\u001b[0m\n\u001b[0;32m    342\u001b[0m     \u001b[38;5;28;01melse\u001b[39;00m ()\n\u001b[0;32m    343\u001b[0m )\n\u001b[0;32m    345\u001b[0m grad_tensors_ \u001b[38;5;241m=\u001b[39m _tensor_or_tensors_to_tuple(grad_tensors, \u001b[38;5;28mlen\u001b[39m(tensors))\n\u001b[1;32m--> 346\u001b[0m grad_tensors_ \u001b[38;5;241m=\u001b[39m \u001b[43m_make_grads\u001b[49m\u001b[43m(\u001b[49m\u001b[43mtensors\u001b[49m\u001b[43m,\u001b[49m\u001b[43m \u001b[49m\u001b[43mgrad_tensors_\u001b[49m\u001b[43m,\u001b[49m\u001b[43m \u001b[49m\u001b[43mis_grads_batched\u001b[49m\u001b[38;5;241;43m=\u001b[39;49m\u001b[38;5;28;43;01mFalse\u001b[39;49;00m\u001b[43m)\u001b[49m\n\u001b[0;32m    347\u001b[0m \u001b[38;5;28;01mif\u001b[39;00m retain_graph \u001b[38;5;129;01mis\u001b[39;00m \u001b[38;5;28;01mNone\u001b[39;00m:\n\u001b[0;32m    348\u001b[0m     retain_graph \u001b[38;5;241m=\u001b[39m create_graph\n",
      "File \u001b[1;32md:\\ProgramData\\Anaconda3\\envs\\DL_Basic\\lib\\site-packages\\torch\\autograd\\__init__.py:199\u001b[0m, in \u001b[0;36m_make_grads\u001b[1;34m(outputs, grads, is_grads_batched)\u001b[0m\n\u001b[0;32m    197\u001b[0m     out_numel_is_1 \u001b[38;5;241m=\u001b[39m out\u001b[38;5;241m.\u001b[39mnumel() \u001b[38;5;241m==\u001b[39m \u001b[38;5;241m1\u001b[39m\n\u001b[0;32m    198\u001b[0m \u001b[38;5;28;01mif\u001b[39;00m \u001b[38;5;129;01mnot\u001b[39;00m out_numel_is_1:\n\u001b[1;32m--> 199\u001b[0m     \u001b[38;5;28;01mraise\u001b[39;00m \u001b[38;5;167;01mRuntimeError\u001b[39;00m(\n\u001b[0;32m    200\u001b[0m         \u001b[38;5;124m\"\u001b[39m\u001b[38;5;124mgrad can be implicitly created only for scalar outputs\u001b[39m\u001b[38;5;124m\"\u001b[39m\n\u001b[0;32m    201\u001b[0m     )\n\u001b[0;32m    202\u001b[0m \u001b[38;5;28;01mif\u001b[39;00m \u001b[38;5;129;01mnot\u001b[39;00m out_dtype\u001b[38;5;241m.\u001b[39mis_floating_point:\n\u001b[0;32m    203\u001b[0m     msg \u001b[38;5;241m=\u001b[39m (\n\u001b[0;32m    204\u001b[0m         \u001b[38;5;124m\"\u001b[39m\u001b[38;5;124mgrad can be implicitly created only for real scalar outputs\u001b[39m\u001b[38;5;124m\"\u001b[39m\n\u001b[0;32m    205\u001b[0m         \u001b[38;5;124mf\u001b[39m\u001b[38;5;124m\"\u001b[39m\u001b[38;5;124m but got \u001b[39m\u001b[38;5;132;01m{\u001b[39;00mout_dtype\u001b[38;5;132;01m}\u001b[39;00m\u001b[38;5;124m\"\u001b[39m\n\u001b[0;32m    206\u001b[0m     )\n",
      "\u001b[1;31mRuntimeError\u001b[0m: grad can be implicitly created only for scalar outputs"
     ]
    }
   ],
   "source": [
    "# 以下语句会报错，因为p不是标量\n",
    "p.backward(retain_graph=True)"
   ]
  },
  {
   "cell_type": "code",
   "execution_count": 310,
   "id": "0679d9a6",
   "metadata": {},
   "outputs": [],
   "source": [
    "p.backward(gradient=torch.Tensor([1, 1, 1]), retain_graph=True)"
   ]
  },
  {
   "cell_type": "code",
   "execution_count": 311,
   "id": "bec140e9",
   "metadata": {},
   "outputs": [],
   "source": [
    "p[0].backward(retain_graph=True)"
   ]
  },
  {
   "cell_type": "code",
   "execution_count": 312,
   "id": "4e288526",
   "metadata": {
    "scrolled": true
   },
   "outputs": [
    {
     "data": {
      "text/plain": [
       "tensor([ 0.2457, -0.0940, -0.1517])"
      ]
     },
     "execution_count": 312,
     "metadata": {},
     "output_type": "execute_result"
    }
   ],
   "source": [
    "a.grad"
   ]
  },
  {
   "cell_type": "markdown",
   "id": "6029a659-519f-4da7-88a9-0bcc15723d1c",
   "metadata": {},
   "source": [
    "# 自动求导"
   ]
  },
  {
   "cell_type": "code",
   "execution_count": 313,
   "id": "d6fdc199",
   "metadata": {},
   "outputs": [],
   "source": [
    "x = torch.tensor(1.)"
   ]
  },
  {
   "cell_type": "code",
   "execution_count": 314,
   "id": "34b364a8",
   "metadata": {},
   "outputs": [],
   "source": [
    "w1 = torch.tensor(2., requires_grad = True)"
   ]
  },
  {
   "cell_type": "code",
   "execution_count": 315,
   "id": "ea33bb3e",
   "metadata": {},
   "outputs": [],
   "source": [
    "b1 = torch.tensor(1.)"
   ]
  },
  {
   "cell_type": "code",
   "execution_count": 316,
   "id": "6c556383",
   "metadata": {},
   "outputs": [],
   "source": [
    "w2 = torch.tensor(2., requires_grad = True)"
   ]
  },
  {
   "cell_type": "code",
   "execution_count": 317,
   "id": "fb4b698a",
   "metadata": {},
   "outputs": [],
   "source": [
    "b2 = torch.tensor(1.)"
   ]
  },
  {
   "cell_type": "code",
   "execution_count": 318,
   "id": "e1b4a8c6",
   "metadata": {},
   "outputs": [],
   "source": [
    "y1 = x * w1 + b1"
   ]
  },
  {
   "cell_type": "code",
   "execution_count": 319,
   "id": "d532675d",
   "metadata": {},
   "outputs": [],
   "source": [
    "y2 = y1 * w2 + b2"
   ]
  },
  {
   "cell_type": "code",
   "execution_count": 320,
   "id": "ecbf0da3",
   "metadata": {},
   "outputs": [
    {
     "data": {
      "text/plain": [
       "tensor(2.)"
      ]
     },
     "execution_count": 320,
     "metadata": {},
     "output_type": "execute_result"
    }
   ],
   "source": [
    "dy2_dy1 = torch.autograd.grad(y2, [y1], retain_graph=True)[0]\n",
    "dy2_dy1"
   ]
  },
  {
   "cell_type": "code",
   "execution_count": 321,
   "id": "292a2b8a",
   "metadata": {},
   "outputs": [
    {
     "data": {
      "text/plain": [
       "tensor(1.)"
      ]
     },
     "execution_count": 321,
     "metadata": {},
     "output_type": "execute_result"
    }
   ],
   "source": [
    "dy1_dw1 = torch.autograd.grad(y1, [w1], retain_graph=True)[0]\n",
    "dy1_dw1"
   ]
  },
  {
   "cell_type": "code",
   "execution_count": 322,
   "id": "0346ba56",
   "metadata": {},
   "outputs": [
    {
     "data": {
      "text/plain": [
       "tensor(2.)"
      ]
     },
     "execution_count": 322,
     "metadata": {},
     "output_type": "execute_result"
    }
   ],
   "source": [
    "dy2_dw1 = torch.autograd.grad(y2, [w1], retain_graph=True)[0]\n",
    "dy2_dw1"
   ]
  },
  {
   "cell_type": "code",
   "execution_count": 323,
   "id": "cea772c5",
   "metadata": {},
   "outputs": [
    {
     "data": {
      "text/plain": [
       "tensor(2.)"
      ]
     },
     "execution_count": 323,
     "metadata": {},
     "output_type": "execute_result"
    }
   ],
   "source": [
    "# 链式法则\n",
    "dy2_dy1 * dy1_dw1"
   ]
  },
  {
   "cell_type": "markdown",
   "id": "55297fe3-dda1-4fb1-a176-fd8b6f11eed6",
   "metadata": {},
   "source": [
    "# 批量归一化"
   ]
  },
  {
   "cell_type": "markdown",
   "id": "aec1f468-3e8e-443b-8e01-ec2349514446",
   "metadata": {},
   "source": [
    "## BatchNorm1d"
   ]
  },
  {
   "cell_type": "code",
   "execution_count": 324,
   "id": "ba582017-f249-4f1d-8db1-841a761c41d6",
   "metadata": {},
   "outputs": [
    {
     "data": {
      "text/plain": [
       "tensor([[ 1.8675,  1.9806,  0.9805,  ...,  1.2771,  0.6296,  1.5349],\n",
       "        [ 0.5114,  2.5285,  0.0570,  ...,  0.9811,  0.2258,  0.8736],\n",
       "        [-0.3233,  1.5619,  0.3369,  ...,  0.4006,  0.0830,  0.2949],\n",
       "        ...,\n",
       "        [-1.0686, -0.0543,  1.2975,  ...,  0.2451,  1.5405,  1.6171],\n",
       "        [ 0.8320,  0.1894, -0.1935,  ...,  0.8054, -0.0485,  0.6304],\n",
       "        [ 0.2236,  1.6610,  1.2537,  ..., -1.5012,  2.4325,  0.5867]])"
      ]
     },
     "execution_count": 324,
     "metadata": {},
     "output_type": "execute_result"
    }
   ],
   "source": [
    "x = torch.randn(100, 16) + 0.5\n",
    "x"
   ]
  },
  {
   "cell_type": "code",
   "execution_count": 325,
   "id": "bde49c94-f05a-420a-9f83-7926cb6a73c2",
   "metadata": {},
   "outputs": [
    {
     "data": {
      "text/plain": [
       "(tensor([0., 0., 0., 0., 0., 0., 0., 0., 0., 0., 0., 0., 0., 0., 0., 0.]),\n",
       " tensor([1., 1., 1., 1., 1., 1., 1., 1., 1., 1., 1., 1., 1., 1., 1., 1.]))"
      ]
     },
     "execution_count": 325,
     "metadata": {},
     "output_type": "execute_result"
    }
   ],
   "source": [
    "layer = torch.nn.BatchNorm1d(16)\n",
    "layer.running_mean, layer.running_var"
   ]
  },
  {
   "cell_type": "code",
   "execution_count": 326,
   "id": "f7e506d7-a110-488e-a7ef-81a28731a307",
   "metadata": {},
   "outputs": [],
   "source": [
    "out = layer(x)"
   ]
  },
  {
   "cell_type": "code",
   "execution_count": 327,
   "id": "28f3f42b-96a0-4af0-8794-f620dff433e2",
   "metadata": {},
   "outputs": [
    {
     "data": {
      "text/plain": [
       "(tensor([0.0592, 0.0684, 0.0568, 0.0527, 0.0351, 0.0322, 0.0477, 0.0433, 0.0475,\n",
       "         0.0554, 0.0514, 0.0397, 0.0466, 0.0565, 0.0504, 0.0491]),\n",
       " tensor([0.9813, 0.9885, 1.0009, 0.9986, 1.0239, 1.0054, 0.9899, 0.9919, 0.9882,\n",
       "         1.0152, 1.0001, 0.9942, 0.9946, 1.0167, 1.0032, 0.9711]))"
      ]
     },
     "execution_count": 327,
     "metadata": {},
     "output_type": "execute_result"
    }
   ],
   "source": [
    "layer.running_mean, layer.running_var"
   ]
  },
  {
   "cell_type": "code",
   "execution_count": 328,
   "id": "4630b57e-26b0-4ff7-a835-147b157c9c38",
   "metadata": {
    "scrolled": true
   },
   "outputs": [
    {
     "data": {
      "text/plain": [
       "tensor([[ 1.4219,  1.3853,  0.4125,  ...,  0.6623,  0.1241,  1.2445],\n",
       "        [-0.0895,  1.9707, -0.5114,  ...,  0.3870, -0.2755,  0.4562],\n",
       "        [-1.0197,  0.9378, -0.2313,  ..., -0.1530, -0.4168, -0.2335],\n",
       "        ...,\n",
       "        [-1.8504, -0.7893,  0.7296,  ..., -0.2976,  1.0252,  1.3425],\n",
       "        [ 0.2679, -0.5289, -0.7620,  ...,  0.2235, -0.5469,  0.1664],\n",
       "        [-0.4102,  1.0437,  0.6859,  ..., -1.9220,  1.9077,  0.1143]],\n",
       "       grad_fn=<NativeBatchNormBackward0>)"
      ]
     },
     "execution_count": 328,
     "metadata": {},
     "output_type": "execute_result"
    }
   ],
   "source": [
    "out"
   ]
  },
  {
   "cell_type": "code",
   "execution_count": 329,
   "id": "5340c3c0-a6d2-4bab-85a0-78a29f842036",
   "metadata": {},
   "outputs": [
    {
     "data": {
      "text/plain": [
       "tensor([[-0.1894,  0.8917,  1.3734,  ...,  1.6801,  1.1105,  1.4125],\n",
       "        [-0.7515, -0.5617,  0.3293,  ...,  0.7114, -0.5263,  1.5549],\n",
       "        [ 0.2396,  0.5883,  0.7397,  ...,  0.4416, -0.3359,  1.0442],\n",
       "        ...,\n",
       "        [-0.4652,  0.1237,  2.8926,  ...,  0.6552,  0.9746, -0.2108],\n",
       "        [ 0.2339,  0.4720,  1.3371,  ...,  0.4799,  0.3950,  0.7181],\n",
       "        [ 1.2692,  1.3602,  0.7448,  ...,  0.0789,  0.0786,  1.1722]])"
      ]
     },
     "execution_count": 329,
     "metadata": {},
     "output_type": "execute_result"
    }
   ],
   "source": [
    "x = torch.randn(100, 16) + 0.5\n",
    "x"
   ]
  },
  {
   "cell_type": "code",
   "execution_count": 330,
   "id": "9ca9ab54-50ea-4669-b5f4-c717e5e2a63f",
   "metadata": {},
   "outputs": [
    {
     "data": {
      "text/plain": [
       "(tensor([0., 0., 0., 0., 0., 0., 0., 0., 0., 0., 0., 0., 0., 0., 0., 0.]),\n",
       " tensor([1., 1., 1., 1., 1., 1., 1., 1., 1., 1., 1., 1., 1., 1., 1., 1.]))"
      ]
     },
     "execution_count": 330,
     "metadata": {},
     "output_type": "execute_result"
    }
   ],
   "source": [
    "layer = torch.nn.BatchNorm1d(16)\n",
    "layer.running_mean, layer.running_var"
   ]
  },
  {
   "cell_type": "code",
   "execution_count": 331,
   "id": "229718c4-ba5e-411f-a07d-7092ffc61e2c",
   "metadata": {},
   "outputs": [],
   "source": [
    "for i in range(100):\n",
    "    out = layer(x)"
   ]
  },
  {
   "cell_type": "code",
   "execution_count": 332,
   "id": "f959934d-fe13-49b1-8758-eaa5a44bdc50",
   "metadata": {},
   "outputs": [
    {
     "data": {
      "text/plain": [
       "(tensor([0.5851, 0.5268, 0.5786, 0.7449, 0.6238, 0.6497, 0.3891, 0.5055, 0.5723,\n",
       "         0.5089, 0.4230, 0.3449, 0.4960, 0.6784, 0.4411, 0.6644]),\n",
       " tensor([1.1663, 0.8200, 1.1400, 1.1094, 0.9198, 0.9109, 0.7415, 0.8679, 0.7836,\n",
       "         0.9721, 1.1410, 0.6822, 1.0490, 0.9748, 1.0174, 0.8632]))"
      ]
     },
     "execution_count": 332,
     "metadata": {},
     "output_type": "execute_result"
    }
   ],
   "source": [
    "layer.running_mean, layer.running_var"
   ]
  },
  {
   "cell_type": "code",
   "execution_count": 333,
   "id": "dbdc750c-1eb2-42ae-941f-67325d5a2e3b",
   "metadata": {},
   "outputs": [
    {
     "data": {
      "text/plain": [
       "tensor([[-0.7208,  0.4050,  0.7480,  ...,  1.0196,  0.6670,  0.8093],\n",
       "        [-1.2439, -1.2081, -0.2347,  ...,  0.0336, -0.9639,  0.9633],\n",
       "        [-0.3215,  0.0683,  0.1516,  ..., -0.2410, -0.7742,  0.4109],\n",
       "        ...,\n",
       "        [-0.9774, -0.4474,  2.1781,  ..., -0.0236,  0.5316, -0.9468],\n",
       "        [-0.3269, -0.0609,  0.7139,  ..., -0.2020, -0.0459,  0.0581],\n",
       "        [ 0.6366,  0.9250,  0.1564,  ..., -0.6102, -0.3611,  0.5493]],\n",
       "       grad_fn=<NativeBatchNormBackward0>)"
      ]
     },
     "execution_count": 333,
     "metadata": {},
     "output_type": "execute_result"
    }
   ],
   "source": [
    "out"
   ]
  },
  {
   "cell_type": "markdown",
   "id": "c50a7216-46f9-4144-a9b0-74e1dfbe7ea6",
   "metadata": {},
   "source": [
    "## BatchNorm2d"
   ]
  },
  {
   "cell_type": "code",
   "execution_count": 334,
   "id": "962b22e0-d4d6-4c61-97e4-f2347fe451f6",
   "metadata": {},
   "outputs": [
    {
     "data": {
      "text/plain": [
       "tensor([[[[-8.6433e-01,  2.5760e-01, -6.0987e-01, -9.4031e-01,  5.0252e-01,\n",
       "           -3.1104e+00,  9.6969e-01],\n",
       "          [ 5.4721e-01, -6.0126e-02,  5.7507e-01, -7.4753e-02,  1.2376e+00,\n",
       "            2.3730e+00, -3.4283e-01],\n",
       "          [ 6.5160e-01, -9.8249e-02,  5.1830e-01, -3.0101e-01, -6.7043e-02,\n",
       "            9.6310e-01,  2.2584e+00],\n",
       "          [-1.0419e-01, -3.9921e-01, -6.7649e-01,  2.5129e-02,  5.3785e-01,\n",
       "            3.4260e-02, -1.4752e+00],\n",
       "          [ 2.2513e-01,  1.6955e+00, -7.5580e-01, -7.0869e-01, -3.0546e-01,\n",
       "            6.3584e-01, -9.3750e-02],\n",
       "          [ 7.9574e-01, -1.2708e+00,  1.0778e+00, -1.9464e-01, -4.3560e-01,\n",
       "            8.8137e-01,  3.8837e-01],\n",
       "          [-8.7019e-01, -3.7184e-01, -7.3647e-01,  1.3877e-01,  7.6785e-01,\n",
       "           -4.0344e-01, -1.0887e+00]],\n",
       "\n",
       "         [[ 1.1927e+00, -4.7552e-01,  1.7837e+00, -7.7612e-01,  1.7168e-01,\n",
       "            3.6007e-02,  2.2103e-01],\n",
       "          [ 2.6679e-01,  1.3628e+00,  1.1225e-02,  1.3406e+00,  5.4410e-01,\n",
       "           -1.3064e-02,  3.8207e-01],\n",
       "          [ 1.3215e+00,  1.7841e-01, -3.8870e-01, -9.0209e-01, -7.4332e-01,\n",
       "            5.3662e-02,  1.4147e-01],\n",
       "          [-1.0303e+00, -7.3139e-01,  1.2750e+00,  1.3760e-01,  7.1815e-01,\n",
       "           -1.1343e+00,  8.1275e-02],\n",
       "          [ 7.4490e-01, -1.6557e+00,  9.4145e-01, -3.5602e-01, -1.5757e+00,\n",
       "           -2.8247e-02, -4.8796e-01],\n",
       "          [ 1.3054e+00, -3.6408e-01,  2.7705e-02, -1.6742e+00,  2.0770e-01,\n",
       "            1.0343e+00, -6.5062e-01],\n",
       "          [-1.1732e+00, -1.7316e+00,  5.9161e-01,  1.1061e+00, -7.6890e-01,\n",
       "            5.1362e-01, -1.0741e+00]],\n",
       "\n",
       "         [[ 1.0455e-01,  6.2512e-01, -4.2939e-01, -9.2434e-02,  3.8442e-02,\n",
       "           -3.8638e-01,  3.5674e-01],\n",
       "          [-3.2931e-02,  1.6978e+00, -1.0212e+00, -7.1116e-01, -3.0419e-01,\n",
       "            6.0077e-01,  5.8007e-01],\n",
       "          [ 3.9374e-01,  5.0413e-01, -6.1213e-01, -6.4272e-01,  5.2988e-01,\n",
       "            1.0807e+00, -1.0440e+00],\n",
       "          [ 3.8637e-01,  1.0847e+00,  1.3560e+00,  1.1982e+00,  2.2155e+00,\n",
       "           -1.0317e+00, -2.7095e-01],\n",
       "          [-3.2709e-02, -2.1164e-01,  3.4441e-01, -2.0745e-01,  4.3680e-01,\n",
       "           -3.3376e-01, -9.8113e-01],\n",
       "          [ 5.3369e-01,  1.0613e+00, -4.4109e-01, -1.1723e+00, -1.6936e+00,\n",
       "           -2.5367e-01, -9.7242e-01],\n",
       "          [-7.8688e-01,  9.8869e-01, -5.8778e-02, -2.9521e-01, -1.7516e+00,\n",
       "           -2.1496e-01,  6.2821e-02]],\n",
       "\n",
       "         [[ 9.5441e-01,  4.7151e-01,  5.6744e-01,  1.6647e+00, -8.4498e-01,\n",
       "           -1.1187e-01,  2.3543e-01],\n",
       "          [-1.5716e+00,  6.8099e-02, -8.2032e-01, -2.1833e+00, -2.5967e+00,\n",
       "           -2.2053e+00, -8.9996e-01],\n",
       "          [ 1.3401e+00,  7.9835e-01,  1.4185e-01,  1.9484e+00, -8.5911e-02,\n",
       "            2.6848e-01, -5.7053e-01],\n",
       "          [ 9.2090e-01, -4.0523e-01,  8.6251e-01, -1.2231e-01, -8.5777e-01,\n",
       "           -2.8151e-01, -1.6254e+00],\n",
       "          [ 1.3923e+00, -1.7151e-01,  3.5214e-01,  5.3066e-01,  8.9623e-01,\n",
       "            4.5721e-01, -3.7893e-01],\n",
       "          [ 1.3504e+00,  6.6762e-01, -3.0845e-01, -1.8797e+00, -1.9470e+00,\n",
       "            3.9469e-01, -1.0979e+00],\n",
       "          [-9.0491e-01,  3.3682e-01,  1.1903e+00,  3.7581e-01,  2.0856e+00,\n",
       "            9.6571e-02,  1.7287e+00]],\n",
       "\n",
       "         [[-7.9783e-01,  3.2910e-01,  6.5454e-01,  4.9721e-01, -6.7740e-03,\n",
       "           -9.3108e-02, -6.0521e-01],\n",
       "          [-7.0485e-01,  2.0746e-01, -2.4948e-01,  1.7794e+00,  5.7823e-01,\n",
       "           -1.0761e+00,  4.3275e-01],\n",
       "          [-9.5254e-01,  1.2394e+00, -7.8734e-01, -8.5892e-01,  1.9299e-01,\n",
       "           -2.6708e-01, -6.2892e-01],\n",
       "          [-3.5377e-01, -1.3321e+00, -4.1606e-01,  8.2097e-02, -6.6611e-01,\n",
       "           -5.4045e-01, -1.2327e+00],\n",
       "          [ 1.3226e-01,  6.2229e-01,  1.8295e+00,  9.4988e-01, -1.3493e+00,\n",
       "            1.8476e+00, -6.8608e-01],\n",
       "          [-6.6755e-01, -1.4171e+00, -9.0139e-01,  1.3826e-01, -4.6163e-01,\n",
       "            1.1841e+00, -9.5786e-01],\n",
       "          [ 2.1831e+00,  3.2739e-01,  1.3342e+00, -4.8277e-01, -4.0441e-01,\n",
       "           -2.3402e+00,  2.6840e-01]],\n",
       "\n",
       "         [[ 1.4963e+00, -1.0988e-01,  1.2785e+00,  1.2954e-01,  8.8269e-01,\n",
       "            1.2824e+00, -2.6630e-01],\n",
       "          [-1.1451e+00,  2.9113e-01, -5.0180e-01, -6.0487e-01, -7.7751e-01,\n",
       "            1.7648e+00,  3.3746e-01],\n",
       "          [-5.3996e-01, -8.5087e-01,  1.0722e+00,  7.2132e-01, -3.8774e-01,\n",
       "            2.5711e-01,  5.0327e-02],\n",
       "          [ 5.8869e-01,  1.6199e-01,  1.1400e-01,  6.8907e-01,  1.7859e+00,\n",
       "            3.8034e-01, -3.9990e-01],\n",
       "          [-3.3319e-01,  1.6415e+00,  6.4057e-01, -7.8465e-01,  1.1750e+00,\n",
       "            9.3068e-01, -1.0129e+00],\n",
       "          [-6.0140e-01, -6.3917e-01,  1.8393e+00, -1.7598e+00,  6.8676e-01,\n",
       "           -1.1144e+00, -7.4846e-01],\n",
       "          [-2.0489e+00, -7.0025e-02,  1.2844e+00,  1.3310e+00, -5.8340e-01,\n",
       "           -5.7296e-01, -1.1252e+00]],\n",
       "\n",
       "         [[ 7.3345e-01,  7.9642e-01,  7.4689e-01, -1.5809e+00, -1.5347e+00,\n",
       "            1.9114e+00,  6.1573e-01],\n",
       "          [-1.1983e+00, -5.8707e-02, -4.7214e-01, -2.7419e-01, -2.9061e-01,\n",
       "           -1.7160e-01, -2.1716e+00],\n",
       "          [ 2.1100e+00, -5.3163e-01, -4.7611e-01,  4.7843e-01, -8.6611e-01,\n",
       "            5.6190e-01,  2.9717e+00],\n",
       "          [-6.1235e-01, -1.5057e+00,  3.3593e-01, -1.3405e+00,  9.9081e-01,\n",
       "           -4.3403e-02,  1.4500e+00],\n",
       "          [ 1.0410e+00,  7.3054e-01,  5.0448e-01,  1.2254e+00,  4.1073e-01,\n",
       "           -6.2733e-01, -5.0645e-01],\n",
       "          [-7.3442e-01, -4.7726e-01,  6.5309e-01, -2.2502e+00,  3.9270e-01,\n",
       "            4.2398e-01, -1.1041e+00],\n",
       "          [ 8.0367e-01, -9.9968e-02,  1.6087e-02, -1.0394e+00,  2.6864e-01,\n",
       "            2.0348e-01, -2.6833e-01]],\n",
       "\n",
       "         [[ 1.2928e+00, -1.0112e+00, -1.0441e-01, -2.1467e-01,  1.8467e+00,\n",
       "           -1.0337e+00,  3.1257e-02],\n",
       "          [ 4.0724e-01, -9.7815e-02,  2.9290e-02, -4.3651e-02, -1.3778e+00,\n",
       "           -6.9246e-01,  1.4305e-01],\n",
       "          [-5.3825e-01, -1.7197e-01,  1.3107e+00,  1.3031e+00,  1.4345e+00,\n",
       "            4.0706e-01,  1.2603e-01],\n",
       "          [-1.1608e+00,  2.0853e-01, -8.3815e-01, -2.9733e-01,  1.7558e+00,\n",
       "           -9.5785e-01,  6.5309e-01],\n",
       "          [-1.1716e+00,  1.3443e+00, -2.7381e-01,  1.6363e+00,  5.9354e-01,\n",
       "            1.2234e-01, -1.5907e+00],\n",
       "          [-8.6019e-01,  6.7850e-01, -1.9998e-01,  8.6836e-01, -1.2908e+00,\n",
       "            1.1244e+00,  1.0160e-01],\n",
       "          [ 8.8379e-01, -1.1001e+00, -1.1746e+00,  3.5932e-01,  1.1501e+00,\n",
       "           -1.2725e+00,  1.0912e+00]],\n",
       "\n",
       "         [[-1.3894e-01, -2.4159e-02,  8.3299e-01, -1.0433e+00,  2.1253e-01,\n",
       "           -5.4537e-01, -4.3337e-01],\n",
       "          [-1.3202e+00,  7.3515e-02, -2.6074e-02,  9.0239e-01, -1.2584e+00,\n",
       "            1.1576e+00,  1.3642e-01],\n",
       "          [-7.1998e-01, -8.0443e-01,  6.6442e-01, -8.0463e-01,  1.2126e+00,\n",
       "            2.3656e-01,  6.9812e-01],\n",
       "          [ 3.3724e-01,  1.3688e+00,  1.7081e+00,  1.8637e+00,  3.0078e-01,\n",
       "            6.7644e-01,  1.6839e+00],\n",
       "          [ 6.8577e-01, -1.3005e+00,  6.0857e-01,  6.9005e-01,  2.5560e-01,\n",
       "            4.1713e-01,  6.6518e-01],\n",
       "          [ 2.8610e-01,  3.9762e-01,  7.5560e-01,  2.4353e-01, -1.5849e+00,\n",
       "           -2.3348e+00, -9.8201e-01],\n",
       "          [ 3.8720e-01, -2.5014e-01,  2.5002e-01, -3.1423e-01,  8.7437e-01,\n",
       "            3.9335e-01,  2.2072e+00]],\n",
       "\n",
       "         [[-6.2299e-01,  4.2741e-01, -1.1667e+00, -7.4992e-01,  5.3862e-01,\n",
       "           -1.8342e+00, -4.1702e-01],\n",
       "          [ 2.0941e-01, -1.2061e+00,  1.3345e+00, -1.0315e+00,  3.9543e-01,\n",
       "            8.3591e-01,  4.6943e-01],\n",
       "          [ 3.1369e-01, -4.1179e-01,  8.0828e-01,  2.1450e-01, -1.0055e+00,\n",
       "            1.1118e+00,  8.4080e-01],\n",
       "          [ 3.3054e-01,  1.9846e-01,  6.8731e-01,  5.5544e-01, -1.3183e+00,\n",
       "           -7.2091e-01,  3.6554e-01],\n",
       "          [-1.9439e+00,  8.7668e-01, -7.9331e-01,  7.4999e-01, -5.6643e-01,\n",
       "           -4.3399e-01, -1.6010e+00],\n",
       "          [ 4.1939e-01,  8.5482e-02,  2.0244e-01, -1.5824e+00, -1.1503e+00,\n",
       "            2.7000e-01, -7.5733e-01],\n",
       "          [ 1.0675e+00,  3.5052e-01,  8.7369e-01, -5.8514e-01,  3.8315e-01,\n",
       "            1.7028e+00, -5.9148e-01]],\n",
       "\n",
       "         [[ 4.1276e-01,  4.2824e-01,  7.4074e-01, -2.9586e-01, -7.2464e-01,\n",
       "            1.4585e+00,  1.2707e-01],\n",
       "          [ 5.4714e-01, -1.0680e-01, -2.8949e-01,  3.1331e-02, -9.8073e-01,\n",
       "           -7.7451e-01,  1.4232e+00],\n",
       "          [-2.0886e-01, -2.6803e-01, -1.5096e-02, -5.8478e-01,  2.1262e-01,\n",
       "           -4.4422e-02,  1.4918e-01],\n",
       "          [-6.4027e-01,  3.2413e-01, -7.2887e-02,  7.7818e-02, -8.9377e-01,\n",
       "           -6.9353e-01, -1.2733e+00],\n",
       "          [ 2.7693e-01, -1.6753e+00, -1.2303e+00, -2.6915e-01, -5.9158e-01,\n",
       "           -7.0698e-01, -3.9805e-01],\n",
       "          [-7.4382e-01, -8.3186e-01,  3.5220e-02, -1.0120e+00,  6.0903e-01,\n",
       "           -6.4361e-01, -1.4198e+00],\n",
       "          [-7.2392e-02, -4.8400e-01, -2.2996e-01, -1.0660e-02, -5.7711e-01,\n",
       "            3.1876e-01, -1.2306e+00]],\n",
       "\n",
       "         [[ 8.8323e-01, -2.2604e-01, -2.0124e-01, -1.5493e-01, -1.2742e+00,\n",
       "           -2.9603e-01,  7.2306e-01],\n",
       "          [ 3.3801e-01,  1.3234e+00, -1.4166e+00, -1.1488e+00, -5.1517e-01,\n",
       "            1.1195e+00,  1.5425e+00],\n",
       "          [-9.9117e-01, -3.2129e-02, -3.6663e+00, -1.0451e+00,  3.8966e-01,\n",
       "           -1.7495e+00,  2.3626e-01],\n",
       "          [-2.5346e-01,  3.6130e-01, -1.6167e+00, -7.3441e-01,  6.1815e-01,\n",
       "           -5.6842e-01,  9.6135e-01],\n",
       "          [ 1.0263e+00,  3.9974e-01, -2.1973e-01, -2.3077e-01,  6.4931e-01,\n",
       "            7.1314e-02,  4.1467e-02],\n",
       "          [ 7.4166e-01,  6.2696e-01, -2.1103e+00,  2.5348e-01, -8.3522e-01,\n",
       "           -1.3583e+00,  9.4667e-01],\n",
       "          [ 1.5064e+00, -3.4053e-01,  8.2817e-01,  1.8674e+00,  7.0481e-02,\n",
       "            1.3087e+00, -4.7307e-01]],\n",
       "\n",
       "         [[ 1.1240e+00,  7.0139e-01, -7.9660e-01,  3.3125e-04, -8.9005e-01,\n",
       "            2.2367e+00, -1.4070e+00],\n",
       "          [-6.2230e-01, -1.8568e-01,  9.6681e-01,  1.5347e+00,  5.0072e-01,\n",
       "            2.2293e-01, -1.1790e+00],\n",
       "          [ 1.6289e-01,  4.1115e-01, -2.0087e-01,  1.4813e-01,  1.1250e-02,\n",
       "            1.9748e+00, -3.9917e-01],\n",
       "          [-4.5716e-01, -2.7091e+00,  1.6396e-01,  1.2342e+00, -4.8094e-02,\n",
       "            4.0126e-01,  2.7215e-01],\n",
       "          [ 1.1637e-01, -6.1216e-01, -1.6506e+00, -1.4943e+00,  2.5686e-01,\n",
       "           -1.3525e+00,  5.2755e-02],\n",
       "          [ 3.8412e-02,  1.0516e+00,  3.8126e-01, -7.2190e-01, -1.4947e+00,\n",
       "           -2.5028e-01,  4.6073e-01],\n",
       "          [-3.9506e-01,  5.1003e-02,  6.3214e-01, -1.8335e-01,  3.0519e-01,\n",
       "           -2.2569e-01, -1.4551e+00]],\n",
       "\n",
       "         [[-9.2960e-01, -1.1150e+00,  1.5140e+00, -1.2280e+00,  7.4086e-01,\n",
       "            3.1445e-01, -4.8759e-01],\n",
       "          [-3.8470e-01,  1.2933e-01, -1.3119e+00,  1.4699e+00,  7.5136e-01,\n",
       "            2.7225e-01,  1.5249e+00],\n",
       "          [ 1.1808e-01,  1.0656e+00, -1.5438e+00,  3.2408e-01,  1.3767e+00,\n",
       "           -3.8724e-01,  5.7804e-01],\n",
       "          [-6.5853e-01, -1.7023e+00, -6.3732e-01,  2.7430e-01, -1.7117e+00,\n",
       "            6.6909e-01, -1.1952e+00],\n",
       "          [ 4.4661e-01,  1.0541e+00, -8.3183e-01,  3.3374e-01,  1.0788e+00,\n",
       "           -3.4981e-01, -1.0770e+00],\n",
       "          [ 1.1296e+00, -1.7021e-01, -1.8370e-01, -3.8537e-01, -7.7799e-01,\n",
       "            2.6257e-01, -5.3321e-01],\n",
       "          [ 1.6935e+00, -8.9005e-01, -2.5333e-04, -1.6356e-01,  8.9122e-01,\n",
       "            1.2125e+00, -7.5689e-01]],\n",
       "\n",
       "         [[ 5.7611e-01, -1.4243e+00,  4.8893e-01,  1.1198e+00, -1.1667e+00,\n",
       "           -8.1948e-01, -1.9133e-01],\n",
       "          [-2.9379e-01, -1.2761e+00,  1.8845e-01, -2.2564e-01, -1.9505e-01,\n",
       "           -3.4178e-01,  2.9234e-01],\n",
       "          [ 1.0665e+00,  1.5004e+00,  4.7179e-02, -2.1866e+00,  4.2760e-01,\n",
       "            4.2846e-01,  7.0736e-01],\n",
       "          [ 5.2527e-01, -6.5230e-01, -6.0350e-01, -9.6894e-01,  7.6640e-01,\n",
       "           -8.3013e-02,  6.4906e-01],\n",
       "          [ 8.1671e-02, -9.7140e-01, -1.3216e+00, -4.3490e-01, -1.0864e+00,\n",
       "            1.0273e+00,  6.4449e-01],\n",
       "          [-2.6121e+00, -4.1787e-01, -1.1309e+00,  7.2946e-01,  8.7746e-01,\n",
       "           -2.3040e-01,  1.3895e+00],\n",
       "          [-7.2803e-01,  4.3272e-02,  6.0129e-01, -7.6023e-01,  2.8708e-01,\n",
       "           -2.3302e-01, -1.6203e-03]],\n",
       "\n",
       "         [[ 6.3647e-01,  7.8932e-01,  1.2273e+00, -6.1631e-01,  6.6717e-01,\n",
       "           -1.1224e+00, -7.5081e-01],\n",
       "          [ 1.3704e+00, -3.0823e-01,  1.5009e+00, -8.6805e-01,  4.0926e-01,\n",
       "            2.6802e+00, -5.3065e-01],\n",
       "          [-6.9657e-02, -4.0506e-01, -4.5294e-01, -7.8897e-01, -7.5091e-01,\n",
       "           -9.0426e-02, -4.6794e-01],\n",
       "          [ 6.0840e-01, -3.5385e-02, -5.2557e-01, -4.6256e-01,  4.8978e-02,\n",
       "            3.8896e-01, -6.2526e-02],\n",
       "          [-3.6576e-01, -5.9840e-01,  1.2552e+00, -7.9392e-01, -3.4593e-01,\n",
       "           -4.0169e-01, -9.2916e-01],\n",
       "          [ 3.0299e-01,  7.3033e-01, -4.0115e-01,  9.6983e-01, -2.3577e+00,\n",
       "           -2.2305e-01, -1.0336e+00],\n",
       "          [-1.1796e+00, -1.4483e+00, -6.7876e-01, -6.4027e-01,  1.2319e-01,\n",
       "           -1.0035e+00,  1.6335e-01]]]])"
      ]
     },
     "execution_count": 334,
     "metadata": {},
     "output_type": "execute_result"
    }
   ],
   "source": [
    "x = torch.randn(1, 16, 7, 7)\n",
    "x"
   ]
  },
  {
   "cell_type": "code",
   "execution_count": 335,
   "id": "fddd8850-7922-4ef8-b6b8-99403fc68400",
   "metadata": {},
   "outputs": [
    {
     "data": {
      "text/plain": [
       "(tensor([0., 0., 0., 0., 0., 0., 0., 0., 0., 0., 0., 0., 0., 0., 0., 0.]),\n",
       " tensor([1., 1., 1., 1., 1., 1., 1., 1., 1., 1., 1., 1., 1., 1., 1., 1.]))"
      ]
     },
     "execution_count": 335,
     "metadata": {},
     "output_type": "execute_result"
    }
   ],
   "source": [
    "layer = nn.BatchNorm2d(16)\n",
    "layer.running_mean, layer.running_var"
   ]
  },
  {
   "cell_type": "code",
   "execution_count": 336,
   "id": "c2c0f0d8-4e1a-41f7-b91d-a9fad79856d4",
   "metadata": {},
   "outputs": [],
   "source": [
    "out = layer(x)"
   ]
  },
  {
   "cell_type": "code",
   "execution_count": 337,
   "id": "ec53b258-8ab1-46f7-93fa-2b90aefbb568",
   "metadata": {},
   "outputs": [
    {
     "data": {
      "text/plain": [
       "(tensor([ 3.4658e-03, -8.6951e-05,  3.9590e-04,  4.6162e-04, -9.0358e-03,\n",
       "          1.1907e-02,  2.8666e-04,  6.9975e-03,  1.8976e-02, -7.9012e-03,\n",
       "         -2.6166e-02, -5.3544e-03, -6.7695e-03, -3.8197e-04, -1.2024e-02,\n",
       "         -1.3953e-02]),\n",
       " tensor([0.9900, 0.9817, 0.9700, 1.0284, 0.9922, 0.9937, 1.0122, 0.9907, 0.9870,\n",
       "         0.9791, 0.9438, 1.0146, 0.9904, 0.9874, 0.9792, 0.9777]))"
      ]
     },
     "execution_count": 337,
     "metadata": {},
     "output_type": "execute_result"
    }
   ],
   "source": [
    "layer.running_mean, layer.running_var"
   ]
  },
  {
   "cell_type": "code",
   "execution_count": 338,
   "id": "3b123eed-047b-49c9-bd1f-6fde3edbe78b",
   "metadata": {
    "scrolled": true
   },
   "outputs": [
    {
     "data": {
      "text/plain": [
       "tensor([[[[-9.5761e-01,  2.3748e-01, -6.8656e-01, -1.0385e+00,  4.9837e-01,\n",
       "           -3.3502e+00,  9.9600e-01],\n",
       "          [ 5.4598e-01, -1.0096e-01,  5.7565e-01, -1.1654e-01,  1.2813e+00,\n",
       "            2.4908e+00, -4.0211e-01],\n",
       "          [ 6.5717e-01, -1.4157e-01,  5.1518e-01, -3.5756e-01, -1.0833e-01,\n",
       "            9.8898e-01,  2.3688e+00],\n",
       "          [-1.4790e-01, -4.6216e-01, -7.5752e-01, -1.0150e-02,  5.3601e-01,\n",
       "           -4.2342e-04, -1.6083e+00],\n",
       "          [ 2.0290e-01,  1.7691e+00, -8.4200e-01, -7.9182e-01, -3.6230e-01,\n",
       "            6.4038e-01, -1.3678e-01],\n",
       "          [ 8.1071e-01, -1.3906e+00,  1.1112e+00, -2.4425e-01, -5.0093e-01,\n",
       "            9.0192e-01,  3.7678e-01],\n",
       "          [-9.6386e-01, -4.3301e-01, -8.2141e-01,  1.1090e-01,  7.8100e-01,\n",
       "           -4.6667e-01, -1.1966e+00]],\n",
       "\n",
       "         [[ 1.3342e+00, -5.3058e-01,  1.9948e+00, -8.6661e-01,  1.9288e-01,\n",
       "            4.1222e-02,  2.4805e-01],\n",
       "          [ 2.9921e-01,  1.5244e+00,  1.3520e-02,  1.4996e+00,  6.0919e-01,\n",
       "           -1.3631e-02,  4.2807e-01],\n",
       "          [ 1.4781e+00,  2.0040e-01, -4.3353e-01, -1.0074e+00, -8.2994e-01,\n",
       "            6.0958e-02,  1.5911e-01],\n",
       "          [-1.1507e+00, -8.1661e-01,  1.4262e+00,  1.5479e-01,  8.0375e-01,\n",
       "           -1.2670e+00,  9.1825e-02],\n",
       "          [ 8.3366e-01, -1.8499e+00,  1.0534e+00, -3.9700e-01, -1.7604e+00,\n",
       "           -3.0603e-02, -5.4449e-01],\n",
       "          [ 1.4602e+00, -4.0601e-01,  3.1941e-02, -1.8705e+00,  2.3314e-01,\n",
       "            1.1571e+00, -7.2631e-01],\n",
       "          [-1.3104e+00, -1.9347e+00,  6.6229e-01,  1.2374e+00, -8.5854e-01,\n",
       "            5.7511e-01, -1.1997e+00]],\n",
       "\n",
       "         [[ 1.2145e-01,  7.4998e-01, -5.2322e-01, -1.1638e-01,  4.1634e-02,\n",
       "           -4.7129e-01,  4.2595e-01],\n",
       "          [-4.4541e-02,  2.0451e+00, -1.2378e+00, -8.6343e-01, -3.7205e-01,\n",
       "            7.2058e-01,  6.9559e-01],\n",
       "          [ 4.7061e-01,  6.0390e-01, -7.4386e-01, -7.8079e-01,  6.3499e-01,\n",
       "            1.3001e+00, -1.2653e+00],\n",
       "          [ 4.6172e-01,  1.3049e+00,  1.6324e+00,  1.4419e+00,  2.6702e+00,\n",
       "           -1.2505e+00, -3.3193e-01],\n",
       "          [-4.4273e-02, -2.6031e-01,  4.1106e-01, -2.5525e-01,  5.2261e-01,\n",
       "           -4.0776e-01, -1.1894e+00],\n",
       "          [ 6.3959e-01,  1.2766e+00, -5.3734e-01, -1.4202e+00, -2.0496e+00,\n",
       "           -3.1106e-01, -1.1789e+00],\n",
       "          [-9.5485e-01,  1.1889e+00, -7.5747e-02, -3.6122e-01, -2.1197e+00,\n",
       "           -2.6432e-01,  7.1069e-02]],\n",
       "\n",
       "         [[ 8.4684e-01,  4.1629e-01,  5.0182e-01,  1.4801e+00, -7.5750e-01,\n",
       "           -1.0386e-01,  2.0579e-01],\n",
       "          [-1.4054e+00,  5.6602e-02, -7.3552e-01, -1.9507e+00, -2.3194e+00,\n",
       "           -1.9704e+00, -8.0653e-01],\n",
       "          [ 1.1907e+00,  7.0770e-01,  1.2236e-01,  1.7331e+00, -8.0715e-02,\n",
       "            2.3527e-01, -5.1281e-01],\n",
       "          [ 8.1696e-01, -3.6542e-01,  7.6490e-01, -1.1317e-01, -7.6891e-01,\n",
       "           -2.5511e-01, -1.4533e+00],\n",
       "          [ 1.2373e+00, -1.5703e-01,  3.0985e-01,  4.6903e-01,  7.9497e-01,\n",
       "            4.0354e-01, -3.4198e-01],\n",
       "          [ 1.1999e+00,  5.9114e-01, -2.7913e-01, -1.6800e+00, -1.7401e+00,\n",
       "            3.4779e-01, -9.8301e-01],\n",
       "          [-8.1094e-01,  2.9620e-01,  1.0572e+00,  3.3096e-01,  1.8555e+00,\n",
       "            8.1988e-02,  1.5372e+00]],\n",
       "\n",
       "         [[-7.4440e-01,  4.4136e-01,  7.8378e-01,  6.1824e-01,  8.7947e-02,\n",
       "           -2.8932e-03, -5.4173e-01],\n",
       "          [-6.4657e-01,  3.1336e-01, -1.6743e-01,  1.9673e+00,  7.0349e-01,\n",
       "           -1.0372e+00,  5.5042e-01],\n",
       "          [-9.0719e-01,  1.3992e+00, -7.3336e-01, -8.0868e-01,  2.9814e-01,\n",
       "           -1.8595e-01, -5.6668e-01],\n",
       "          [-2.7716e-01, -1.3065e+00, -3.4270e-01,  1.8146e-01, -6.0581e-01,\n",
       "           -4.7359e-01, -1.2020e+00],\n",
       "          [ 2.3424e-01,  7.4985e-01,  2.0200e+00,  1.0945e+00, -1.3246e+00,\n",
       "            2.0391e+00, -6.2681e-01],\n",
       "          [-6.0732e-01, -1.3960e+00, -8.5337e-01,  2.4055e-01, -3.9065e-01,\n",
       "            1.3409e+00, -9.1278e-01],\n",
       "          [ 2.3921e+00,  4.3956e-01,  1.4990e+00, -4.1290e-01, -3.3044e-01,\n",
       "           -2.3673e+00,  3.7748e-01]],\n",
       "\n",
       "         [[ 1.4372e+00, -2.3892e-01,  1.2099e+00,  1.0919e-02,  7.9688e-01,\n",
       "            1.2140e+00, -4.0216e-01],\n",
       "          [-1.3192e+00,  1.7955e-01, -6.4791e-01, -7.5548e-01, -9.3564e-01,\n",
       "            1.7174e+00,  2.2790e-01],\n",
       "          [-6.8774e-01, -1.0122e+00,  9.9462e-01,  6.2848e-01, -5.2889e-01,\n",
       "            1.4405e-01, -7.1740e-02],\n",
       "          [ 4.9008e-01,  4.4787e-02, -5.2941e-03,  5.9483e-01,  1.7394e+00,\n",
       "            2.7265e-01, -5.4158e-01],\n",
       "          [-4.7196e-01,  1.5888e+00,  5.4421e-01, -9.4308e-01,  1.1019e+00,\n",
       "            8.4696e-01, -1.1813e+00],\n",
       "          [-7.5186e-01, -7.9127e-01,  1.7951e+00, -1.9607e+00,  5.9242e-01,\n",
       "           -1.2872e+00, -9.0532e-01],\n",
       "          [-2.2624e+00, -1.9733e-01,  1.2161e+00,  1.2647e+00, -7.3307e-01,\n",
       "           -7.2217e-01, -1.2984e+00]],\n",
       "\n",
       "         [[ 6.9701e-01,  7.5709e-01,  7.0984e-01, -1.5110e+00, -1.4669e+00,\n",
       "            1.8209e+00,  5.8469e-01],\n",
       "          [-1.1460e+00, -5.8744e-02, -4.5318e-01, -2.6433e-01, -2.7999e-01,\n",
       "           -1.6645e-01, -2.0746e+00],\n",
       "          [ 2.0103e+00, -5.0993e-01, -4.5696e-01,  4.5370e-01, -8.2904e-01,\n",
       "            5.3334e-01,  2.8324e+00],\n",
       "          [-5.8694e-01, -1.4393e+00,  3.1776e-01, -1.2816e+00,  9.4255e-01,\n",
       "           -4.4143e-02,  1.3806e+00],\n",
       "          [ 9.9046e-01,  6.9423e-01,  4.7856e-01,  1.1663e+00,  3.8912e-01,\n",
       "           -6.0124e-01, -4.8591e-01],\n",
       "          [-7.0340e-01, -4.5806e-01,  6.2034e-01, -2.1495e+00,  3.7192e-01,\n",
       "            4.0176e-01, -1.0561e+00],\n",
       "          [ 7.6400e-01, -9.8109e-02,  1.2613e-02, -9.9441e-01,  2.5356e-01,\n",
       "            1.9140e-01, -2.5873e-01]],\n",
       "\n",
       "         [[ 1.2971e+00, -1.1468e+00, -1.8498e-01, -3.0194e-01,  1.8847e+00,\n",
       "           -1.1707e+00, -4.1070e-02],\n",
       "          [ 3.5775e-01, -1.7798e-01, -4.3157e-02, -1.2053e-01, -1.5358e+00,\n",
       "           -8.0875e-01,  7.7513e-02],\n",
       "          [-6.4517e-01, -2.5664e-01,  1.3161e+00,  1.3081e+00,  1.4474e+00,\n",
       "            3.5756e-01,  5.9458e-02],\n",
       "          [-1.3055e+00,  1.4697e-01, -9.6328e-01, -3.8962e-01,  1.7883e+00,\n",
       "           -1.0903e+00,  6.1853e-01],\n",
       "          [-1.3170e+00,  1.3517e+00, -3.6466e-01,  1.6614e+00,  5.5536e-01,\n",
       "            5.5540e-02, -1.7615e+00],\n",
       "          [-9.8666e-01,  6.4549e-01, -2.8635e-01,  8.4688e-01, -1.4434e+00,\n",
       "            1.1185e+00,  3.3546e-02],\n",
       "          [ 8.6325e-01, -1.2412e+00, -1.3201e+00,  3.0692e-01,  1.1458e+00,\n",
       "           -1.4240e+00,  1.0833e+00]],\n",
       "\n",
       "         [[-3.5607e-01, -2.3173e-01,  6.9679e-01, -1.3357e+00,  2.4669e-02,\n",
       "           -7.9634e-01, -6.7501e-01],\n",
       "          [-1.6357e+00, -1.2592e-01, -2.3380e-01,  7.7197e-01, -1.5687e+00,\n",
       "            1.0485e+00, -5.7781e-02],\n",
       "          [-9.8549e-01, -1.0770e+00,  5.1419e-01, -1.0772e+00,  1.1080e+00,\n",
       "            5.0704e-02,  5.5069e-01],\n",
       "          [ 1.5976e-01,  1.2772e+00,  1.6448e+00,  1.8133e+00,  1.2026e-01,\n",
       "            5.2720e-01,  1.6186e+00],\n",
       "          [ 5.3731e-01, -1.6143e+00,  4.5368e-01,  5.4195e-01,  7.1321e-02,\n",
       "            2.4630e-01,  5.1501e-01],\n",
       "          [ 1.0437e-01,  2.2517e-01,  6.1296e-01,  5.8251e-02, -1.9224e+00,\n",
       "           -2.7347e+00, -1.2693e+00],\n",
       "          [ 2.1388e-01, -4.7653e-01,  6.5280e-02, -5.4596e-01,  7.4162e-01,\n",
       "            2.2055e-01,  2.1855e+00]],\n",
       "\n",
       "         [[-6.1810e-01,  5.7543e-01, -1.2359e+00, -7.6233e-01,  7.0179e-01,\n",
       "           -1.9944e+00, -3.8406e-01],\n",
       "          [ 3.2773e-01, -1.2807e+00,  1.6061e+00, -1.0822e+00,  5.3909e-01,\n",
       "            1.0396e+00,  6.2318e-01],\n",
       "          [ 4.4622e-01, -3.7812e-01,  1.0082e+00,  3.3351e-01, -1.0527e+00,\n",
       "            1.3531e+00,  1.0451e+00],\n",
       "          [ 4.6536e-01,  3.1528e-01,  8.7074e-01,  7.2090e-01, -1.4082e+00,\n",
       "           -7.2936e-01,  5.0513e-01],\n",
       "          [-2.1190e+00,  1.0859e+00, -8.1163e-01,  9.4197e-01, -5.5384e-01,\n",
       "           -4.0335e-01, -1.7294e+00],\n",
       "          [ 5.6631e-01,  1.8691e-01,  3.1981e-01, -1.7083e+00, -1.2172e+00,\n",
       "            3.9656e-01, -7.7074e-01],\n",
       "          [ 1.3028e+00,  4.8806e-01,  1.0825e+00, -5.7509e-01,  5.2513e-01,\n",
       "            2.0246e+00, -5.8229e-01]],\n",
       "\n",
       "         [[ 1.0294e+00,  1.0530e+00,  1.5300e+00, -5.2195e-02, -7.0667e-01,\n",
       "            2.6256e+00,  5.9335e-01],\n",
       "          [ 1.2345e+00,  2.3638e-01, -4.2475e-02,  4.4721e-01, -1.0976e+00,\n",
       "           -7.8278e-01,  2.5717e+00],\n",
       "          [ 8.0599e-02, -9.7204e-03,  3.7635e-01, -4.9319e-01,  7.2393e-01,\n",
       "            3.3159e-01,  6.2709e-01],\n",
       "          [-5.7790e-01,  8.9414e-01,  2.8814e-01,  5.1817e-01, -9.6482e-01,\n",
       "           -6.5918e-01, -1.5441e+00],\n",
       "          [ 8.2208e-01, -2.1577e+00, -1.4785e+00, -1.1423e-02, -5.0357e-01,\n",
       "           -6.7972e-01, -2.0817e-01],\n",
       "          [-7.3594e-01, -8.7032e-01,  4.5315e-01, -1.1452e+00,  1.3290e+00,\n",
       "           -5.8300e-01, -1.7677e+00],\n",
       "          [ 2.8890e-01, -3.3937e-01,  4.8389e-02,  3.8312e-01, -4.8148e-01,\n",
       "            8.8593e-01, -1.4789e+00]],\n",
       "\n",
       "         [[ 8.8432e-01, -1.6284e-01, -1.3943e-01, -9.5709e-02, -1.1523e+00,\n",
       "           -2.2891e-01,  7.3312e-01],\n",
       "          [ 3.6963e-01,  1.2998e+00, -1.2867e+00, -1.0339e+00, -4.3578e-01,\n",
       "            1.1073e+00,  1.5067e+00],\n",
       "          [-8.8513e-01,  2.0216e-02, -3.4105e+00, -9.3603e-01,  4.1839e-01,\n",
       "           -1.6010e+00,  2.7358e-01],\n",
       "          [-1.8872e-01,  3.9162e-01, -1.4757e+00, -6.4275e-01,  6.3409e-01,\n",
       "           -4.8604e-01,  9.5807e-01],\n",
       "          [ 1.0194e+00,  4.2791e-01, -1.5688e-01, -1.6730e-01,  6.6350e-01,\n",
       "            1.1787e-01,  8.9692e-02],\n",
       "          [ 7.5068e-01,  6.4240e-01, -1.9416e+00,  2.8984e-01, -7.3791e-01,\n",
       "           -1.2317e+00,  9.4422e-01],\n",
       "          [ 1.4726e+00, -2.7092e-01,  8.3235e-01,  1.8134e+00,  1.1708e-01,\n",
       "            1.2859e+00, -3.9604e-01]],\n",
       "\n",
       "         [[ 1.2666e+00,  8.1742e-01, -7.7472e-01,  7.2302e-02, -8.7404e-01,\n",
       "            2.4493e+00, -1.4235e+00],\n",
       "          [-5.8946e-01, -1.2540e-01,  1.0995e+00,  1.7031e+00,  6.0414e-01,\n",
       "            3.0890e-01, -1.1812e+00],\n",
       "          [ 2.4508e-01,  5.0895e-01, -1.4154e-01,  2.2940e-01,  8.3908e-02,\n",
       "            2.1709e+00, -3.5231e-01],\n",
       "          [-4.1395e-01, -2.8075e+00,  2.4621e-01,  1.3837e+00,  2.0834e-02,\n",
       "            4.9843e-01,  3.6121e-01],\n",
       "          [ 1.9563e-01, -5.7869e-01, -1.6824e+00, -1.5163e+00,  3.4496e-01,\n",
       "           -1.3655e+00,  1.2802e-01],\n",
       "          [ 1.1278e-01,  1.1896e+00,  4.7718e-01, -6.9533e-01, -1.5167e+00,\n",
       "           -1.9406e-01,  5.6164e-01],\n",
       "          [-3.4794e-01,  1.2616e-01,  7.4382e-01, -1.2293e-01,  3.9632e-01,\n",
       "           -1.6793e-01, -1.4746e+00]],\n",
       "\n",
       "         [[-1.0003e+00, -1.2006e+00,  1.6400e+00, -1.3228e+00,  8.0463e-01,\n",
       "            3.4389e-01, -5.2272e-01],\n",
       "          [-4.1155e-01,  1.4387e-01, -1.4134e+00,  1.5924e+00,  8.1598e-01,\n",
       "            2.9830e-01,  1.6518e+00],\n",
       "          [ 1.3172e-01,  1.1555e+00, -1.6640e+00,  3.5430e-01,  1.4916e+00,\n",
       "           -4.1429e-01,  6.2871e-01],\n",
       "          [-7.0742e-01, -1.8352e+00, -6.8450e-01,  3.0051e-01, -1.8454e+00,\n",
       "            7.2709e-01, -1.2873e+00],\n",
       "          [ 4.8669e-01,  1.1431e+00, -8.9468e-01,  3.6474e-01,  1.1698e+00,\n",
       "           -3.7385e-01, -1.1596e+00],\n",
       "          [ 1.2246e+00, -1.7979e-01, -1.9437e-01, -4.1227e-01, -8.3650e-01,\n",
       "            2.8784e-01, -5.7201e-01],\n",
       "          [ 1.8340e+00, -9.5758e-01,  3.8535e-03, -1.7261e-01,  9.6710e-01,\n",
       "            1.3143e+00, -8.1370e-01]],\n",
       "\n",
       "         [[ 7.9050e-01, -1.4803e+00,  6.9153e-01,  1.4076e+00, -1.1880e+00,\n",
       "           -7.9378e-01, -8.0707e-02],\n",
       "          [-1.9702e-01, -1.3122e+00,  3.5043e-01, -1.1965e-01, -8.4920e-02,\n",
       "           -2.5150e-01,  4.6837e-01],\n",
       "          [ 1.3472e+00,  1.8397e+00,  1.9006e-01, -2.3458e+00,  6.2191e-01,\n",
       "            6.2288e-01,  9.3949e-01],\n",
       "          [ 7.3279e-01, -6.0399e-01, -5.4859e-01, -9.6345e-01,  1.0065e+00,\n",
       "            4.2261e-02,  8.7331e-01],\n",
       "          [ 2.2921e-01, -9.6624e-01, -1.3638e+00, -3.5720e-01, -1.0967e+00,\n",
       "            1.3027e+00,  8.6813e-01],\n",
       "          [-2.8288e+00, -3.3787e-01, -1.1473e+00,  9.6458e-01,  1.1326e+00,\n",
       "           -1.2505e-01,  1.7139e+00],\n",
       "          [-6.8997e-01,  1.8562e-01,  8.1909e-01, -7.2653e-01,  4.6239e-01,\n",
       "           -1.2803e-01,  1.3466e-01]],\n",
       "\n",
       "         [[ 8.8939e-01,  1.0646e+00,  1.5666e+00, -5.4645e-01,  9.2458e-01,\n",
       "           -1.1265e+00, -7.0061e-01],\n",
       "          [ 1.7306e+00, -1.9335e-01,  1.8802e+00, -8.3498e-01,  6.2899e-01,\n",
       "            3.2317e+00, -4.4827e-01],\n",
       "          [ 8.0084e-02, -3.0434e-01, -3.5920e-01, -7.4434e-01, -7.0071e-01,\n",
       "            5.6280e-02, -3.7640e-01],\n",
       "          [ 8.5722e-01,  1.1936e-01, -4.4245e-01, -3.7023e-01,  2.1605e-01,\n",
       "            6.0572e-01,  8.8257e-02],\n",
       "          [-2.5929e-01, -5.2592e-01,  1.5985e+00, -7.5001e-01, -2.3656e-01,\n",
       "           -3.0047e-01, -9.0501e-01],\n",
       "          [ 5.0719e-01,  9.9697e-01, -2.9984e-01,  1.2715e+00, -2.5423e+00,\n",
       "           -9.5720e-02, -1.0248e+00],\n",
       "          [-1.1921e+00, -1.5000e+00, -6.1803e-01, -5.7391e-01,  3.0111e-01,\n",
       "           -9.9025e-01,  3.4714e-01]]]], grad_fn=<NativeBatchNormBackward0>)"
      ]
     },
     "execution_count": 338,
     "metadata": {},
     "output_type": "execute_result"
    }
   ],
   "source": [
    "out"
   ]
  },
  {
   "cell_type": "code",
   "execution_count": null,
   "id": "f34a6748",
   "metadata": {},
   "outputs": [],
   "source": []
  }
 ],
 "metadata": {
  "kernelspec": {
   "display_name": "Python 3 (ipykernel)",
   "language": "python",
   "name": "python3"
  },
  "language_info": {
   "codemirror_mode": {
    "name": "ipython",
    "version": 3
   },
   "file_extension": ".py",
   "mimetype": "text/x-python",
   "name": "python",
   "nbconvert_exporter": "python",
   "pygments_lexer": "ipython3",
   "version": "3.9.21"
  },
  "toc": {
   "base_numbering": 1,
   "nav_menu": {},
   "number_sections": true,
   "sideBar": true,
   "skip_h1_title": false,
   "title_cell": "Table of Contents",
   "title_sidebar": "Contents",
   "toc_cell": false,
   "toc_position": {},
   "toc_section_display": true,
   "toc_window_display": true
  }
 },
 "nbformat": 4,
 "nbformat_minor": 5
}
