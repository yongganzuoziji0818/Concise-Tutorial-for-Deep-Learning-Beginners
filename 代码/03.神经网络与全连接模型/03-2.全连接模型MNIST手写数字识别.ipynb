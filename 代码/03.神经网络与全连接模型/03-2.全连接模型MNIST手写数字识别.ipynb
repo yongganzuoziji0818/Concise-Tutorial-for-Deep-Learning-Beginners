{
 "cells": [
  {
   "cell_type": "code",
   "execution_count": 1,
   "id": "db25cf5e",
   "metadata": {
    "scrolled": true
   },
   "outputs": [],
   "source": [
    "# 导包\n",
    "import numpy as np\n",
    "import import_ipynb\n",
    "import torch\n",
    "from torch import nn\n",
    "from torch.nn import functional as F\n",
    "from torch import optim\n",
    "from torchvision import datasets, transforms\n",
    "import torchvision\n",
    "from matplotlib import pyplot as plt\n",
    "from util.utils import plot_image, plot_curve, one_hot"
   ]
  },
  {
   "cell_type": "markdown",
   "id": "644abbf0",
   "metadata": {},
   "source": [
    "# 数据集加载"
   ]
  },
  {
   "cell_type": "code",
   "execution_count": 2,
   "id": "b224a70b",
   "metadata": {},
   "outputs": [],
   "source": [
    "# batch_size=200\n",
    "batch_size=20\n",
    "learning_rate=0.01\n",
    "# epochs=10\n",
    "epochs=2\n",
    "criteon = nn.CrossEntropyLoss()"
   ]
  },
  {
   "cell_type": "markdown",
   "id": "ec215834-7adb-4b3f-9160-70321818167b",
   "metadata": {},
   "source": [
    "## 加载训练集"
   ]
  },
  {
   "cell_type": "code",
   "execution_count": 3,
   "id": "07c47cfd",
   "metadata": {},
   "outputs": [
    {
     "name": "stdout",
     "output_type": "stream",
     "text": [
      "train_dataset: 60000\n",
      "train_dataset: 50000 val_dataset: 10000\n"
     ]
    }
   ],
   "source": [
    "train_dataset = datasets.MNIST('./data/mnist/', \n",
    "    train=True, \n",
    "    download=True,\n",
    "    transform=transforms.Compose([\n",
    "        transforms.RandomHorizontalFlip(),\n",
    "        transforms.RandomVerticalFlip(),\n",
    "        transforms.RandomRotation(15),\n",
    "        # transforms.RandomRotation([90, 180, 270]),\n",
    "        transforms.RandomRotation(degrees=(-90, 90)),\n",
    "        transforms.RandomRotation(degrees=(-180, 180)),\n",
    "        transforms.RandomRotation(degrees=(-270, 270)),\n",
    "        transforms.Resize([32, 32]),\n",
    "        transforms.RandomCrop([28, 28]),\n",
    "        transforms.ToTensor(),\n",
    "        transforms.Normalize((0.1307,), (0.3081,))\n",
    "    ]))\n",
    "print('train_dataset:', len(train_dataset))\n",
    "train_dataset, val_dataset = torch.utils.data.random_split(train_dataset, [50000, 10000])\n",
    "print('train_dataset:', len(train_dataset), 'val_dataset:', len(val_dataset))\n",
    "train_loader = torch.utils.data.DataLoader(\n",
    "    train_dataset,\n",
    "    batch_size=batch_size, \n",
    "    shuffle=True)\n",
    "val_loader = torch.utils.data.DataLoader(\n",
    "    val_dataset,\n",
    "    batch_size=batch_size, \n",
    "    shuffle=True)"
   ]
  },
  {
   "cell_type": "markdown",
   "id": "ccf8a1c6-19f1-48d2-9977-56844d04ff97",
   "metadata": {},
   "source": [
    "## 加载测试集"
   ]
  },
  {
   "cell_type": "code",
   "execution_count": 4,
   "id": "90373c37-815f-4053-8ad4-354b1ffce1bc",
   "metadata": {},
   "outputs": [],
   "source": [
    "test_dataset = datasets.MNIST('./data/mnist/', \n",
    "    train=False, \n",
    "    download=True,\n",
    "    transform=transforms.Compose([\n",
    "        transforms.ToTensor(),\n",
    "        transforms.Normalize((0.1307,), (0.3081,))\n",
    "    ]))\n",
    "test_loader = torch.utils.data.DataLoader(\n",
    "    test_dataset,\n",
    "    batch_size=batch_size, \n",
    "    shuffle=True)"
   ]
  },
  {
   "cell_type": "code",
   "execution_count": 5,
   "id": "c5549e95",
   "metadata": {},
   "outputs": [
    {
     "name": "stdout",
     "output_type": "stream",
     "text": [
      "torch.Size([20, 1, 28, 28]) torch.Size([20]) tensor(-0.4242) tensor(2.8215)\n"
     ]
    },
    {
     "data": {
      "image/png": "[encoded data removed]",
      "text/plain": [
       "<Figure size 640x480 with 6 Axes>"
      ]
     },
     "metadata": {},
     "output_type": "display_data"
    }
   ],
   "source": [
    "# 加载一批训练集数据\n",
    "x, y = next(iter(train_loader))\n",
    "print(x.shape, y.shape, x.min(), x.max())\n",
    "plot_image(x, y, 'image sample')"
   ]
  },
  {
   "cell_type": "markdown",
   "id": "cbb22b18",
   "metadata": {},
   "source": [
    "# 不使用nn.Module"
   ]
  },
  {
   "cell_type": "code",
   "execution_count": 6,
   "id": "a4740582",
   "metadata": {},
   "outputs": [],
   "source": [
    "w1, b1 = torch.randn(200, 784, requires_grad = True), torch.randn(200, requires_grad = True)\n",
    "w2, b2 = torch.randn(200, 200, requires_grad = True), torch.randn(200, requires_grad = True)\n",
    "w3, b3 = torch.randn(10, 200, requires_grad = True), torch.randn(10, requires_grad = True)"
   ]
  },
  {
   "cell_type": "code",
   "execution_count": 7,
   "id": "8078ded5",
   "metadata": {},
   "outputs": [
    {
     "data": {
      "text/plain": [
       "tensor([[ 0.1908,  0.1277,  0.1965,  ..., -0.1632, -0.1879,  0.1514],\n",
       "        [-0.0618, -0.0645, -0.1057,  ..., -0.1746,  0.0579,  0.2211],\n",
       "        [-0.1353,  0.1210,  0.2044,  ...,  0.0962, -0.0524,  0.0214],\n",
       "        ...,\n",
       "        [ 0.1856, -0.0605,  0.0502,  ...,  0.0324,  0.0962,  0.0266],\n",
       "        [-0.0734, -0.2716, -0.0917,  ...,  0.0020, -0.0008, -0.0826],\n",
       "        [ 0.0289,  0.0029, -0.0786,  ..., -0.1970,  0.0837,  0.1059]],\n",
       "       requires_grad=True)"
      ]
     },
     "execution_count": 7,
     "metadata": {},
     "output_type": "execute_result"
    }
   ],
   "source": [
    "torch.nn.init.kaiming_normal_(w1)\n",
    "torch.nn.init.kaiming_normal_(w2)\n",
    "torch.nn.init.kaiming_normal_(w3)"
   ]
  },
  {
   "cell_type": "markdown",
   "id": "1c01cf11-8c97-4944-b05f-307686a93429",
   "metadata": {},
   "source": [
    "## 定义forward函数"
   ]
  },
  {
   "cell_type": "code",
   "execution_count": 8,
   "id": "7d135d15",
   "metadata": {},
   "outputs": [],
   "source": [
    "def forward(x):\n",
    "    x = x @ w1.t() + b1\n",
    "    x = F.relu(x)\n",
    "    x = x @ w2.t() + b2\n",
    "    x = F.relu(x)\n",
    "    x = x @ w3.t() + b3\n",
    "    x = F.relu(x)\n",
    "    return x"
   ]
  },
  {
   "cell_type": "code",
   "execution_count": 9,
   "id": "d2ba7da9",
   "metadata": {},
   "outputs": [],
   "source": [
    "optimizer = optim.SGD([w1, b1, w2, b2, w3, b3], lr=learning_rate, weight_decay=0.01, momentum=0.9)\n",
    "# 损失\n",
    "train_loss = []"
   ]
  },
  {
   "cell_type": "markdown",
   "id": "5b9139ca-cee1-42a9-b0eb-afa5acac9c83",
   "metadata": {},
   "source": [
    "## 定义训练函数"
   ]
  },
  {
   "cell_type": "code",
   "execution_count": 10,
   "id": "3bd2dbe6",
   "metadata": {},
   "outputs": [],
   "source": [
    "def train_val(epochs, train_loader, val_loader):\n",
    "    for epoch in range(epochs):\n",
    "        for batch_idx, (data, target) in enumerate(train_loader):\n",
    "            data = data.view(-1, 28 * 28)\n",
    "            # 预测值\n",
    "            logits = forward(data)\n",
    "            # 损失值\n",
    "            loss = criteon(logits, target)\n",
    "            # 梯度清零\n",
    "            optimizer.zero_grad()\n",
    "            # 梯度反向传播\n",
    "            loss.backward()\n",
    "            # print(w1.grad.norm(), w2.grad.norm())\n",
    "            # 更新权重\n",
    "            optimizer.step()\n",
    "            train_loss.append(loss.item())\n",
    "            if batch_idx % 100 == 0:\n",
    "                print('Train Epoch: {} [{}/{} ({:.0f}%)]\\tLoss: {:.6f}'.format(\n",
    "                    epoch, batch_idx * len(data), len(train_loader.dataset),\n",
    "                           100. * batch_idx / len(train_loader), loss.item()))\n",
    "        val_loss = 0\n",
    "        correct = 0\n",
    "        for data, target in val_loader:\n",
    "            data = data.view(-1, 28 * 28)\n",
    "            logits = forward(data)\n",
    "            val_loss += criteon(logits, target).item()\n",
    "            pred = logits.data.max(1)[1]\n",
    "            correct += pred.eq(target.data).sum()\n",
    "        val_loss /= len(val_loader.dataset)\n",
    "        print('\\nVal set: Average loss: {:.4f}, Accuracy: {}/{} ({:.0f}%)\\n'.format(\n",
    "            val_loss, correct, len(val_loader.dataset),\n",
    "            100. * correct / len(val_loader.dataset)))"
   ]
  },
  {
   "cell_type": "code",
   "execution_count": 11,
   "id": "e99204fc",
   "metadata": {},
   "outputs": [
    {
     "name": "stdout",
     "output_type": "stream",
     "text": [
      "Train Epoch: 0 [0/50000 (0%)]\tLoss: 2.764081\n",
      "Train Epoch: 0 [2000/50000 (4%)]\tLoss: 2.302585\n",
      "Train Epoch: 0 [4000/50000 (8%)]\tLoss: 2.302585\n",
      "Train Epoch: 0 [6000/50000 (12%)]\tLoss: 2.279476\n",
      "Train Epoch: 0 [8000/50000 (16%)]\tLoss: 2.305878\n",
      "Train Epoch: 0 [10000/50000 (20%)]\tLoss: 2.310437\n",
      "Train Epoch: 0 [12000/50000 (24%)]\tLoss: 2.305886\n",
      "Train Epoch: 0 [14000/50000 (28%)]\tLoss: 2.299267\n",
      "Train Epoch: 0 [16000/50000 (32%)]\tLoss: 2.342372\n",
      "Train Epoch: 0 [18000/50000 (36%)]\tLoss: 2.154256\n",
      "Train Epoch: 0 [20000/50000 (40%)]\tLoss: 2.279072\n",
      "Train Epoch: 0 [22000/50000 (44%)]\tLoss: 2.304066\n",
      "Train Epoch: 0 [24000/50000 (48%)]\tLoss: 2.336269\n",
      "Train Epoch: 0 [26000/50000 (52%)]\tLoss: 2.354141\n",
      "Train Epoch: 0 [28000/50000 (56%)]\tLoss: 2.391592\n",
      "Train Epoch: 0 [30000/50000 (60%)]\tLoss: 2.379699\n",
      "Train Epoch: 0 [32000/50000 (64%)]\tLoss: 2.371996\n",
      "Train Epoch: 0 [34000/50000 (68%)]\tLoss: 2.142936\n",
      "Train Epoch: 0 [36000/50000 (72%)]\tLoss: 2.343226\n",
      "Train Epoch: 0 [38000/50000 (76%)]\tLoss: 2.147028\n",
      "Train Epoch: 0 [40000/50000 (80%)]\tLoss: 2.238396\n",
      "Train Epoch: 0 [42000/50000 (84%)]\tLoss: 2.152861\n",
      "Train Epoch: 0 [44000/50000 (88%)]\tLoss: 2.196838\n",
      "Train Epoch: 0 [46000/50000 (92%)]\tLoss: 2.198527\n",
      "Train Epoch: 0 [48000/50000 (96%)]\tLoss: 2.034227\n",
      "\n",
      "Val set: Average loss: 0.1064, Accuracy: 2275/10000 (23%)\n",
      "\n",
      "Train Epoch: 1 [0/50000 (0%)]\tLoss: 2.249151\n",
      "Train Epoch: 1 [2000/50000 (4%)]\tLoss: 2.117375\n",
      "Train Epoch: 1 [4000/50000 (8%)]\tLoss: 2.220806\n",
      "Train Epoch: 1 [6000/50000 (12%)]\tLoss: 2.056289\n",
      "Train Epoch: 1 [8000/50000 (16%)]\tLoss: 2.280765\n",
      "Train Epoch: 1 [10000/50000 (20%)]\tLoss: 2.015975\n",
      "Train Epoch: 1 [12000/50000 (24%)]\tLoss: 2.241191\n",
      "Train Epoch: 1 [14000/50000 (28%)]\tLoss: 2.288023\n",
      "Train Epoch: 1 [16000/50000 (32%)]\tLoss: 2.134347\n",
      "Train Epoch: 1 [18000/50000 (36%)]\tLoss: 2.186816\n",
      "Train Epoch: 1 [20000/50000 (40%)]\tLoss: 1.951786\n",
      "Train Epoch: 1 [22000/50000 (44%)]\tLoss: 2.198314\n",
      "Train Epoch: 1 [24000/50000 (48%)]\tLoss: 2.352190\n",
      "Train Epoch: 1 [26000/50000 (52%)]\tLoss: 2.130202\n",
      "Train Epoch: 1 [28000/50000 (56%)]\tLoss: 2.122423\n",
      "Train Epoch: 1 [30000/50000 (60%)]\tLoss: 2.005787\n",
      "Train Epoch: 1 [32000/50000 (64%)]\tLoss: 1.930816\n",
      "Train Epoch: 1 [34000/50000 (68%)]\tLoss: 2.143272\n",
      "Train Epoch: 1 [36000/50000 (72%)]\tLoss: 1.988309\n",
      "Train Epoch: 1 [38000/50000 (76%)]\tLoss: 2.058289\n",
      "Train Epoch: 1 [40000/50000 (80%)]\tLoss: 2.138932\n",
      "Train Epoch: 1 [42000/50000 (84%)]\tLoss: 2.341950\n",
      "Train Epoch: 1 [44000/50000 (88%)]\tLoss: 1.880289\n",
      "Train Epoch: 1 [46000/50000 (92%)]\tLoss: 2.142581\n",
      "Train Epoch: 1 [48000/50000 (96%)]\tLoss: 2.023858\n",
      "\n",
      "Val set: Average loss: 0.1042, Accuracy: 2574/10000 (26%)\n",
      "\n"
     ]
    }
   ],
   "source": [
    "train_val(epochs, train_loader, val_loader)"
   ]
  },
  {
   "cell_type": "code",
   "execution_count": 12,
   "id": "4bc55078",
   "metadata": {},
   "outputs": [
    {
     "data": {
      "image/png": "[encoded data removed]",
      "text/plain": [
       "<Figure size 640x480 with 1 Axes>"
      ]
     },
     "metadata": {},
     "output_type": "display_data"
    }
   ],
   "source": [
    "# 绘制损失曲线\n",
    "plot_curve(train_loss)"
   ]
  },
  {
   "cell_type": "markdown",
   "id": "4fdbc97e-3e56-43d9-b0fc-e21abaf3079e",
   "metadata": {},
   "source": [
    "## 定义测试函数"
   ]
  },
  {
   "cell_type": "code",
   "execution_count": 13,
   "id": "7978fd24",
   "metadata": {},
   "outputs": [],
   "source": [
    "def test(test_loader):\n",
    "    test_loss = 0\n",
    "    correct = 0\n",
    "    for data, target in test_loader:\n",
    "        data = data.view(-1, 28 * 28)\n",
    "        logits = forward(data)\n",
    "        test_loss += criteon(logits, target).item()\n",
    "        pred = logits.data.max(1)[1]\n",
    "        correct += pred.eq(target.data).sum()\n",
    "    test_loss /= len(test_loader.dataset)\n",
    "    print('\\nTest set: Average loss: {:.4f}, Accuracy: {}/{} ({:.0f}%)\\n'.format(\n",
    "        test_loss, correct, len(test_loader.dataset),\n",
    "        100. * correct / len(test_loader.dataset)))"
   ]
  },
  {
   "cell_type": "code",
   "execution_count": 14,
   "id": "8a2bf538",
   "metadata": {},
   "outputs": [
    {
     "name": "stdout",
     "output_type": "stream",
     "text": [
      "\n",
      "Test set: Average loss: 0.1104, Accuracy: 2218/10000 (22%)\n",
      "\n"
     ]
    }
   ],
   "source": [
    "test(test_loader)"
   ]
  },
  {
   "cell_type": "markdown",
   "id": "e892ec0e",
   "metadata": {},
   "source": [
    "# 使用nn.Module"
   ]
  },
  {
   "cell_type": "code",
   "execution_count": 15,
   "id": "1672b254",
   "metadata": {},
   "outputs": [
    {
     "data": {
      "text/plain": [
       "torch.Size([20, 1, 28, 28])"
      ]
     },
     "execution_count": 15,
     "metadata": {},
     "output_type": "execute_result"
    }
   ],
   "source": [
    "x.shape"
   ]
  },
  {
   "cell_type": "markdown",
   "id": "229e3ccb-5bc8-4d01-8cf7-7eb4faa7da0a",
   "metadata": {},
   "source": [
    "## 定义全连接神经网络（包含forward函数）"
   ]
  },
  {
   "cell_type": "code",
   "execution_count": 16,
   "id": "1c7a7db8",
   "metadata": {},
   "outputs": [],
   "source": [
    "class MLP1(nn.Module):\n",
    "    def __init__(self):\n",
    "        super(MLP1, self).__init__()\n",
    "        self.model = nn.Sequential(\n",
    "            nn.Linear(784, 200),\n",
    "            nn.BatchNorm1d(200),  # 使用BatchNorm2d\n",
    "            nn.ReLU(inplace=True),\n",
    "            # nn.LeakyReLU(inplace=True),\n",
    "            nn.Linear(200, 200),\n",
    "            nn.BatchNorm1d(200),  # 使用BatchNorm2d\n",
    "            nn.ReLU(inplace=True),\n",
    "            # nn.LeakyReLU(inplace=True),\n",
    "            nn.Linear(200, 10),\n",
    "            nn.BatchNorm1d(10),  # 使用BatchNorm2d\n",
    "            nn.ReLU(inplace=True),\n",
    "            # nn.LeakyReLU(inplace=True),\n",
    "        )\n",
    "    def forward(self, x):\n",
    "        x = self.model(x)\n",
    "        return x"
   ]
  },
  {
   "cell_type": "code",
   "execution_count": 17,
   "id": "9837443f",
   "metadata": {},
   "outputs": [],
   "source": [
    "class MLP2(nn.Module):\n",
    "    # 初始化\n",
    "    def __init__(self):\n",
    "        super(MLP2, self).__init__()\n",
    "        # w1x+b1\n",
    "        self.fc1 = nn.Linear(784, 256)\n",
    "        self.bn1 = nn.BatchNorm1d(256)\n",
    "        # w2x+b2\n",
    "        self.fc2 = nn.Linear(256, 64)\n",
    "        self.bn2 = nn.BatchNorm1d(64)\n",
    "        # w3x+b3\n",
    "        self.fc3 = nn.Linear(64, 10)\n",
    "        self.bn3 = nn.BatchNorm1d(10)\n",
    "    # 前向\n",
    "    def forward(self, x):\n",
    "        # x: [b, 1, 28, 28]\n",
    "        x = F.relu(self.bn1(self.fc1(x)))\n",
    "        x = F.relu(self.bn2(self.fc2(x)))\n",
    "        x = self.bn3(self.fc3(x))\n",
    "        return x"
   ]
  },
  {
   "cell_type": "code",
   "execution_count": 18,
   "id": "99e6c481",
   "metadata": {},
   "outputs": [],
   "source": [
    "# device = torch.device(\"cpu\")\n",
    "device = torch.device(\"cuda:0\")\n",
    "net = MLP2().to(device)\n",
    "optimizer = optim.SGD(net.parameters(), lr=learning_rate, weight_decay=0.01, momentum=0.9)\n",
    "# 损失\n",
    "train_loss = []\n",
    "criteron = nn.CrossEntropyLoss().to(device)"
   ]
  },
  {
   "cell_type": "markdown",
   "id": "19a41013-fb88-4c2b-95ab-01e9dbbd09b7",
   "metadata": {},
   "source": [
    "## 定义训练函数"
   ]
  },
  {
   "cell_type": "code",
   "execution_count": 19,
   "id": "3f90b855",
   "metadata": {},
   "outputs": [],
   "source": [
    "def train_val(epochs, train_loader, val_loader, net, device):\n",
    "    for epoch in range(epochs):\n",
    "        for batch_idx, (data, target) in enumerate(train_loader):\n",
    "            data = data.view(-1, 28 * 28)\n",
    "            data, target = data.to(device), target.to(device)\n",
    "            # 预测值\n",
    "            logits = net(data)\n",
    "            # 损失值\n",
    "            loss = criteon(logits, target)\n",
    "            # 梯度清零\n",
    "            optimizer.zero_grad()\n",
    "            # 梯度反向传播\n",
    "            loss.backward()\n",
    "            # print(w1.grad.norm(), w2.grad.norm())\n",
    "            # 更新网络参数\n",
    "            optimizer.step()\n",
    "            train_loss.append(loss.item())\n",
    "            if batch_idx % 100 == 0:\n",
    "                print('Train Epoch: {} [{}/{} ({:.0f}%)]\\tLoss: {:.6f}'.format(\n",
    "                    epoch, batch_idx * len(data), len(train_loader.dataset),\n",
    "                           100. * batch_idx / len(train_loader), loss.item()))\n",
    "        val_loss = 0\n",
    "        correct = 0\n",
    "        for data, target in val_loader:\n",
    "            data = data.view(-1, 28 * 28)\n",
    "            data, target = data.to(device), target.to(device)\n",
    "            logits = net(data)\n",
    "            val_loss += criteon(logits, target).item()\n",
    "            pred = logits.data.max(1)[1]\n",
    "            correct += pred.eq(target.data).sum()\n",
    "        val_loss /= len(val_loader.dataset)\n",
    "        print('\\nVal set: Average loss: {:.4f}, Accuracy: {}/{} ({:.0f}%)\\n'.format(\n",
    "            val_loss, correct, len(val_loader.dataset),\n",
    "            100. * correct / len(val_loader.dataset)))\n",
    "    torch.save(net.state_dict(), 'model/ckpt.mdl')"
   ]
  },
  {
   "cell_type": "code",
   "execution_count": 20,
   "id": "e58416c9",
   "metadata": {},
   "outputs": [
    {
     "name": "stdout",
     "output_type": "stream",
     "text": [
      "Train Epoch: 0 [0/50000 (0%)]\tLoss: 3.003771\n",
      "Train Epoch: 0 [2000/50000 (4%)]\tLoss: 1.807729\n",
      "Train Epoch: 0 [4000/50000 (8%)]\tLoss: 1.764304\n",
      "Train Epoch: 0 [6000/50000 (12%)]\tLoss: 1.903271\n",
      "Train Epoch: 0 [8000/50000 (16%)]\tLoss: 1.622461\n",
      "Train Epoch: 0 [10000/50000 (20%)]\tLoss: 1.535819\n",
      "Train Epoch: 0 [12000/50000 (24%)]\tLoss: 1.325863\n",
      "Train Epoch: 0 [14000/50000 (28%)]\tLoss: 1.534293\n",
      "Train Epoch: 0 [16000/50000 (32%)]\tLoss: 1.706233\n",
      "Train Epoch: 0 [18000/50000 (36%)]\tLoss: 1.414053\n",
      "Train Epoch: 0 [20000/50000 (40%)]\tLoss: 1.428542\n",
      "Train Epoch: 0 [22000/50000 (44%)]\tLoss: 1.886726\n",
      "Train Epoch: 0 [24000/50000 (48%)]\tLoss: 1.351868\n",
      "Train Epoch: 0 [26000/50000 (52%)]\tLoss: 1.508150\n",
      "Train Epoch: 0 [28000/50000 (56%)]\tLoss: 1.635309\n",
      "Train Epoch: 0 [30000/50000 (60%)]\tLoss: 1.416204\n",
      "Train Epoch: 0 [32000/50000 (64%)]\tLoss: 1.216959\n",
      "Train Epoch: 0 [34000/50000 (68%)]\tLoss: 1.492367\n",
      "Train Epoch: 0 [36000/50000 (72%)]\tLoss: 1.375567\n",
      "Train Epoch: 0 [38000/50000 (76%)]\tLoss: 2.040804\n",
      "Train Epoch: 0 [40000/50000 (80%)]\tLoss: 1.307603\n",
      "Train Epoch: 0 [42000/50000 (84%)]\tLoss: 1.278133\n",
      "Train Epoch: 0 [44000/50000 (88%)]\tLoss: 1.114101\n",
      "Train Epoch: 0 [46000/50000 (92%)]\tLoss: 1.375012\n",
      "Train Epoch: 0 [48000/50000 (96%)]\tLoss: 1.436877\n",
      "\n",
      "Val set: Average loss: 0.0748, Accuracy: 4857/10000 (49%)\n",
      "\n",
      "Train Epoch: 1 [0/50000 (0%)]\tLoss: 1.565413\n",
      "Train Epoch: 1 [2000/50000 (4%)]\tLoss: 1.444663\n",
      "Train Epoch: 1 [4000/50000 (8%)]\tLoss: 1.758443\n",
      "Train Epoch: 1 [6000/50000 (12%)]\tLoss: 1.738051\n",
      "Train Epoch: 1 [8000/50000 (16%)]\tLoss: 1.586110\n",
      "Train Epoch: 1 [10000/50000 (20%)]\tLoss: 1.349098\n",
      "Train Epoch: 1 [12000/50000 (24%)]\tLoss: 1.357216\n",
      "Train Epoch: 1 [14000/50000 (28%)]\tLoss: 1.418668\n",
      "Train Epoch: 1 [16000/50000 (32%)]\tLoss: 1.704065\n",
      "Train Epoch: 1 [18000/50000 (36%)]\tLoss: 1.267180\n",
      "Train Epoch: 1 [20000/50000 (40%)]\tLoss: 1.828053\n",
      "Train Epoch: 1 [22000/50000 (44%)]\tLoss: 1.534583\n",
      "Train Epoch: 1 [24000/50000 (48%)]\tLoss: 1.883772\n",
      "Train Epoch: 1 [26000/50000 (52%)]\tLoss: 1.565472\n",
      "Train Epoch: 1 [28000/50000 (56%)]\tLoss: 1.036212\n",
      "Train Epoch: 1 [30000/50000 (60%)]\tLoss: 1.341336\n",
      "Train Epoch: 1 [32000/50000 (64%)]\tLoss: 1.276582\n",
      "Train Epoch: 1 [34000/50000 (68%)]\tLoss: 1.432112\n",
      "Train Epoch: 1 [36000/50000 (72%)]\tLoss: 1.447456\n",
      "Train Epoch: 1 [38000/50000 (76%)]\tLoss: 1.607365\n",
      "Train Epoch: 1 [40000/50000 (80%)]\tLoss: 1.189673\n",
      "Train Epoch: 1 [42000/50000 (84%)]\tLoss: 1.514181\n",
      "Train Epoch: 1 [44000/50000 (88%)]\tLoss: 1.174561\n",
      "Train Epoch: 1 [46000/50000 (92%)]\tLoss: 1.809592\n",
      "Train Epoch: 1 [48000/50000 (96%)]\tLoss: 1.253026\n",
      "\n",
      "Val set: Average loss: 0.0727, Accuracy: 4987/10000 (50%)\n",
      "\n"
     ]
    }
   ],
   "source": [
    "train_val(epochs, train_loader, val_loader, net, device)"
   ]
  },
  {
   "cell_type": "code",
   "execution_count": 21,
   "id": "3ef2f8a2",
   "metadata": {},
   "outputs": [
    {
     "data": {
      "image/png": "[encoded data removed]",
      "text/plain": [
       "<Figure size 640x480 with 1 Axes>"
      ]
     },
     "metadata": {},
     "output_type": "display_data"
    }
   ],
   "source": [
    "# 绘制损失曲线\n",
    "plot_curve(train_loss)"
   ]
  },
  {
   "cell_type": "markdown",
   "id": "973cde07-2dfb-4640-a83e-7ecf9bbcb7ea",
   "metadata": {},
   "source": [
    "## 定义测试函数"
   ]
  },
  {
   "cell_type": "code",
   "execution_count": 22,
   "id": "e32ed354",
   "metadata": {},
   "outputs": [],
   "source": [
    "def test(test_loader, net, device):\n",
    "    net.load_state_dict(torch.load('model/ckpt.mdl'))\n",
    "    test_loss = 0\n",
    "    correct = 0\n",
    "    for data, target in test_loader:\n",
    "        data = data.view(-1, 28 * 28)\n",
    "        data, target = data.to(device), target.to(device)\n",
    "        logits = net(data)\n",
    "        test_loss += criteon(logits, target).item()\n",
    "        pred = logits.data.max(1)[1]\n",
    "        correct += pred.eq(target.data).sum()\n",
    "        # 以上两行也可改为以下两行\n",
    "        # pred = logits.argmax(dim=1)\n",
    "        # correct += pred.eq(target).float().sum().item()\n",
    "    test_loss /= len(test_loader.dataset)\n",
    "    print('\\nTest set: Average loss: {:.4f}, Accuracy: {}/{} ({:.0f}%)\\n'.format(\n",
    "        test_loss, correct, len(test_loader.dataset),\n",
    "        100. * correct / len(test_loader.dataset)))"
   ]
  },
  {
   "cell_type": "code",
   "execution_count": 23,
   "id": "4e86d82d",
   "metadata": {
    "jupyter": {
     "source_hidden": true
    }
   },
   "outputs": [
    {
     "name": "stdout",
     "output_type": "stream",
     "text": [
      "\n",
      "Test set: Average loss: 0.0784, Accuracy: 4507/10000 (45%)\n",
      "\n"
     ]
    }
   ],
   "source": [
    "test(test_loader, net, device)"
   ]
  },
  {
   "cell_type": "code",
   "execution_count": 24,
   "id": "39648b2b",
   "metadata": {
    "scrolled": true
   },
   "outputs": [
    {
     "data": {
      "image/png": "[encoded data removed]",
      "text/plain": [
       "<Figure size 640x480 with 6 Axes>"
      ]
     },
     "metadata": {},
     "output_type": "display_data"
    }
   ],
   "source": [
    "# 加载一批测试集数据\n",
    "x, y = next(iter(test_loader))\n",
    "# 调用模型\n",
    "out = net(x.to(device).view(x.size(0), 784))\n",
    "# 预测结果\n",
    "pred = out.argmax(dim=1)\n",
    "# 绘制测试集image\n",
    "plot_image(x, pred, 'test')"
   ]
  },
  {
   "cell_type": "code",
   "execution_count": null,
   "id": "ac02d032",
   "metadata": {},
   "outputs": [],
   "source": []
  }
 ],
 "metadata": {
  "kernelspec": {
   "display_name": "Python 3 (ipykernel)",
   "language": "python",
   "name": "python3"
  },
  "language_info": {
   "codemirror_mode": {
    "name": "ipython",
    "version": 3
   },
   "file_extension": ".py",
   "mimetype": "text/x-python",
   "name": "python",
   "nbconvert_exporter": "python",
   "pygments_lexer": "ipython3",
   "version": "3.9.21"
  },
  "toc": {
   "base_numbering": 1,
   "nav_menu": {},
   "number_sections": true,
   "sideBar": true,
   "skip_h1_title": false,
   "title_cell": "Table of Contents",
   "title_sidebar": "Contents",
   "toc_cell": false,
   "toc_position": {
    "height": "calc(100% - 180px)",
    "left": "10px",
    "top": "150px",
    "width": "284.318px"
   },
   "toc_section_display": true,
   "toc_window_display": true
  }
 },
 "nbformat": 4,
 "nbformat_minor": 5
}
