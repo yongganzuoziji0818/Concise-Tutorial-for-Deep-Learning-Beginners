{
 "cells": [
  {
   "cell_type": "markdown",
   "id": "9ccc2cc9-ee70-40b3-84bb-c91e5bdab0b2",
   "metadata": {},
   "source": [
    "# 开发环境安装"
   ]
  },
  {
   "cell_type": "code",
   "execution_count": 2,
   "id": "53fbf9f8",
   "metadata": {},
   "outputs": [],
   "source": [
    "# 导包\n",
    "import torch\n",
    "import time"
   ]
  },
  {
   "cell_type": "code",
   "execution_count": 6,
   "id": "18cba74a",
   "metadata": {},
   "outputs": [
    {
     "name": "stdout",
     "output_type": "stream",
     "text": [
      "2.7.1+cu128\n",
      "True\n",
      "True\n",
      "90701\n"
     ]
    }
   ],
   "source": [
    "# 输出版本\n",
    "print(torch.__version__)\n",
    "# 输出是否安装cuda\n",
    "print(torch.cuda.is_available())\n",
    "# 输出cudnn是否可用\n",
    "print(torch.backends.cudnn.is_available())\n",
    "# 输出cudnn版本\n",
    "print(torch.backends.cudnn.version())"
   ]
  },
  {
   "cell_type": "markdown",
   "id": "8e69ba2e",
   "metadata": {},
   "source": [
    "# 测试GPU加速"
   ]
  },
  {
   "cell_type": "markdown",
   "id": "4c725b62",
   "metadata": {},
   "source": [
    "## CPU"
   ]
  },
  {
   "cell_type": "code",
   "execution_count": 4,
   "id": "d18305b1",
   "metadata": {},
   "outputs": [],
   "source": [
    "# 定义变量\n",
    "a = torch.randn(10000, 1000)\n",
    "b = torch.randn(1000, 2000)"
   ]
  },
  {
   "cell_type": "code",
   "execution_count": 5,
   "id": "9ddf71b4",
   "metadata": {},
   "outputs": [
    {
     "name": "stdout",
     "output_type": "stream",
     "text": [
      "cpu 0.2563357353210449\n"
     ]
    }
   ],
   "source": [
    "# 计时开始\n",
    "t0 = time.time()\n",
    "# 矩阵乘法运算\n",
    "c = torch.matmul(a, b)\n",
    "# 计时结束\n",
    "t1 = time.time()\n",
    "# 输出设备，时间\n",
    "print(a.device, t1 - t0)"
   ]
  },
  {
   "cell_type": "markdown",
   "id": "8b8a3e60",
   "metadata": {},
   "source": [
    "## GPU"
   ]
  },
  {
   "cell_type": "code",
   "execution_count": 6,
   "id": "d6914156",
   "metadata": {},
   "outputs": [],
   "source": [
    "# 定义设备\n",
    "device = torch.device('cuda')\n",
    "# 变量指定设备\n",
    "a = a.to(device)\n",
    "# 变量指定设备\n",
    "b = b.to(device)"
   ]
  },
  {
   "cell_type": "code",
   "execution_count": 7,
   "id": "ed790b60",
   "metadata": {},
   "outputs": [
    {
     "name": "stdout",
     "output_type": "stream",
     "text": [
      "cuda:0 0.10937786102294922\n"
     ]
    }
   ],
   "source": [
    "# 计时开始\n",
    "t0 = time.time()\n",
    "# 矩阵乘法运算\n",
    "c = torch.matmul(a, b)\n",
    "# 计时结束\n",
    "t1 = time.time()\n",
    "# 输出设备，时间\n",
    "print(a.device, t1 - t0)"
   ]
  },
  {
   "cell_type": "code",
   "execution_count": 8,
   "id": "b650f92f",
   "metadata": {},
   "outputs": [
    {
     "name": "stdout",
     "output_type": "stream",
     "text": [
      "cuda:0 0.0009996891021728516\n"
     ]
    }
   ],
   "source": [
    "# 计时开始\n",
    "t0 = time.time()\n",
    "# 矩阵乘法运算\n",
    "c = torch.matmul(a, b)\n",
    "# 计时结束\n",
    "t1 = time.time()\n",
    "# 输出设备，时间\n",
    "print(a.device, t1 - t0)"
   ]
  },
  {
   "cell_type": "code",
   "execution_count": null,
   "id": "49c19779",
   "metadata": {},
   "outputs": [],
   "source": []
  }
 ],
 "metadata": {
  "kernelspec": {
   "display_name": "Python 3 (ipykernel)",
   "language": "python",
   "name": "python3"
  },
  "language_info": {
   "codemirror_mode": {
    "name": "ipython",
    "version": 3
   },
   "file_extension": ".py",
   "mimetype": "text/x-python",
   "name": "python",
   "nbconvert_exporter": "python",
   "pygments_lexer": "ipython3",
   "version": "3.9.21"
  },
  "toc": {
   "base_numbering": 1,
   "nav_menu": {},
   "number_sections": true,
   "sideBar": true,
   "skip_h1_title": false,
   "title_cell": "Table of Contents",
   "title_sidebar": "Contents",
   "toc_cell": false,
   "toc_position": {},
   "toc_section_display": true,
   "toc_window_display": false
  }
 },
 "nbformat": 4,
 "nbformat_minor": 5
}
