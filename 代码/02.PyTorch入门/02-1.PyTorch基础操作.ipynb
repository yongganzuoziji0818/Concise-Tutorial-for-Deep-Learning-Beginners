{
 "cells": [
  {
   "cell_type": "code",
   "execution_count": 374,
   "id": "db25cf5e",
   "metadata": {
    "scrolled": true
   },
   "outputs": [],
   "source": [
    "# 导包\n",
    "import numpy as np\n",
    "import import_ipynb\n",
    "import torch\n",
    "from torch import nn\n",
    "from torch.nn import functional as F\n",
    "from torch import optim\n",
    "from torchvision import datasets, transforms\n",
    "import torchvision\n",
    "from matplotlib import pyplot as plt"
   ]
  },
  {
   "cell_type": "markdown",
   "id": "fd8aa886",
   "metadata": {},
   "source": [
    "# 创建操作"
   ]
  },
  {
   "cell_type": "markdown",
   "id": "026af89e",
   "metadata": {},
   "source": [
    "## tensor, Tensor, IntTensor与FloatTensor"
   ]
  },
  {
   "cell_type": "code",
   "execution_count": 375,
   "id": "0317a8c5-290e-4273-bfa9-753aedd34500",
   "metadata": {},
   "outputs": [
    {
     "data": {
      "text/plain": [
       "tensor(1.3000)"
      ]
     },
     "execution_count": 375,
     "metadata": {},
     "output_type": "execute_result"
    }
   ],
   "source": [
    "torch.tensor(1.3)"
   ]
  },
  {
   "cell_type": "code",
   "execution_count": 376,
   "id": "7421a500",
   "metadata": {},
   "outputs": [
    {
     "data": {
      "text/plain": [
       "tensor([1.1000])"
      ]
     },
     "execution_count": 376,
     "metadata": {},
     "output_type": "execute_result"
    }
   ],
   "source": [
    "torch.tensor([1.1])"
   ]
  },
  {
   "cell_type": "code",
   "execution_count": 377,
   "id": "4e77d073",
   "metadata": {},
   "outputs": [
    {
     "data": {
      "text/plain": [
       "tensor([1.1000, 2.2000])"
      ]
     },
     "execution_count": 377,
     "metadata": {},
     "output_type": "execute_result"
    }
   ],
   "source": [
    "torch.tensor([1.1, 2.2])"
   ]
  },
  {
   "cell_type": "code",
   "execution_count": 378,
   "id": "f867c180",
   "metadata": {},
   "outputs": [
    {
     "data": {
      "text/plain": [
       "tensor([[-1.1058, -0.2031, -1.8725],\n",
       "        [ 0.0371,  0.0022,  0.4779]])"
      ]
     },
     "execution_count": 378,
     "metadata": {},
     "output_type": "execute_result"
    }
   ],
   "source": [
    "torch.Tensor(2, 3)"
   ]
  },
  {
   "cell_type": "code",
   "execution_count": 379,
   "id": "819ead85",
   "metadata": {},
   "outputs": [
    {
     "data": {
      "text/plain": [
       "tensor([[-1136519264,         587,           0],\n",
       "        [          0,           0,           0]], dtype=torch.int32)"
      ]
     },
     "execution_count": 379,
     "metadata": {},
     "output_type": "execute_result"
    }
   ],
   "source": [
    "torch.IntTensor(2, 3)"
   ]
  },
  {
   "cell_type": "code",
   "execution_count": 380,
   "id": "e4ac5369",
   "metadata": {},
   "outputs": [
    {
     "data": {
      "text/plain": [
       "tensor([[0., 0., 0.],\n",
       "        [0., 0., 0.]], dtype=torch.float32)"
      ]
     },
     "execution_count": 380,
     "metadata": {},
     "output_type": "execute_result"
    }
   ],
   "source": [
    "torch.FloatTensor(2, 3)"
   ]
  },
  {
   "cell_type": "markdown",
   "id": "c1f90164",
   "metadata": {},
   "source": [
    "## 从列表创建"
   ]
  },
  {
   "cell_type": "code",
   "execution_count": 381,
   "id": "24164f11",
   "metadata": {},
   "outputs": [
    {
     "data": {
      "text/plain": [
       "tensor([2.0000, 3.2000])"
      ]
     },
     "execution_count": 381,
     "metadata": {},
     "output_type": "execute_result"
    }
   ],
   "source": [
    "torch.tensor([2., 3.2])"
   ]
  },
  {
   "cell_type": "code",
   "execution_count": 382,
   "id": "f2965fcc",
   "metadata": {},
   "outputs": [
    {
     "data": {
      "text/plain": [
       "tensor([2.0000, 3.2000], dtype=torch.float32)"
      ]
     },
     "execution_count": 382,
     "metadata": {},
     "output_type": "execute_result"
    }
   ],
   "source": [
    "torch.FloatTensor([2., 3.2])"
   ]
  },
  {
   "cell_type": "code",
   "execution_count": 383,
   "id": "4ed6b8c0",
   "metadata": {
    "scrolled": true
   },
   "outputs": [
    {
     "data": {
      "text/plain": [
       "tensor([[ 2.0000,  3.2000],\n",
       "        [ 1.0000, 22.3000]])"
      ]
     },
     "execution_count": 383,
     "metadata": {},
     "output_type": "execute_result"
    }
   ],
   "source": [
    "torch.tensor([[2., 3.2], [1., 22.3]])"
   ]
  },
  {
   "cell_type": "markdown",
   "id": "9365b81b",
   "metadata": {},
   "source": [
    "## 设置默认类型"
   ]
  },
  {
   "cell_type": "code",
   "execution_count": 384,
   "id": "b98d124b",
   "metadata": {},
   "outputs": [
    {
     "data": {
      "text/plain": [
       "'torch.DoubleTensor'"
      ]
     },
     "execution_count": 384,
     "metadata": {},
     "output_type": "execute_result"
    }
   ],
   "source": [
    "torch.tensor([1.2, 3]).type()"
   ]
  },
  {
   "cell_type": "code",
   "execution_count": 385,
   "id": "41d74e12",
   "metadata": {},
   "outputs": [],
   "source": [
    "torch.set_default_tensor_type(torch.DoubleTensor)"
   ]
  },
  {
   "cell_type": "code",
   "execution_count": 386,
   "id": "d74876a2",
   "metadata": {},
   "outputs": [
    {
     "data": {
      "text/plain": [
       "'torch.DoubleTensor'"
      ]
     },
     "execution_count": 386,
     "metadata": {},
     "output_type": "execute_result"
    }
   ],
   "source": [
    "torch.tensor([1.2, 3]).type()"
   ]
  },
  {
   "cell_type": "markdown",
   "id": "6cacee64",
   "metadata": {},
   "source": [
    "## full（创建具有指定形状、填充值和数据类型的张量）"
   ]
  },
  {
   "cell_type": "code",
   "execution_count": 387,
   "id": "1cf3b2e3",
   "metadata": {},
   "outputs": [
    {
     "data": {
      "text/plain": [
       "tensor([[7, 7, 7],\n",
       "        [7, 7, 7]])"
      ]
     },
     "execution_count": 387,
     "metadata": {},
     "output_type": "execute_result"
    }
   ],
   "source": [
    "torch.full([2, 3], 7)"
   ]
  },
  {
   "cell_type": "code",
   "execution_count": 388,
   "id": "bed3d110",
   "metadata": {},
   "outputs": [
    {
     "data": {
      "text/plain": [
       "tensor(7)"
      ]
     },
     "execution_count": 388,
     "metadata": {},
     "output_type": "execute_result"
    }
   ],
   "source": [
    "torch.full([], 7)"
   ]
  },
  {
   "cell_type": "code",
   "execution_count": 389,
   "id": "1c6d8f1c",
   "metadata": {},
   "outputs": [
    {
     "data": {
      "text/plain": [
       "tensor([7])"
      ]
     },
     "execution_count": 389,
     "metadata": {},
     "output_type": "execute_result"
    }
   ],
   "source": [
    "torch.full([1], 7)"
   ]
  },
  {
   "cell_type": "markdown",
   "id": "3d7130b2",
   "metadata": {},
   "source": [
    "## normal（创建标准分布的随机数）"
   ]
  },
  {
   "cell_type": "code",
   "execution_count": 390,
   "id": "75e438b6",
   "metadata": {},
   "outputs": [
    {
     "data": {
      "text/plain": [
       "tensor([-0.6718, -0.7240, -1.3722,  1.1396,  0.5346, -0.1392,  0.4404,  0.6518,\n",
       "         0.0342,  0.0685])"
      ]
     },
     "execution_count": 390,
     "metadata": {},
     "output_type": "execute_result"
    }
   ],
   "source": [
    "torch.normal(mean=torch.full([10], 0.), std=torch.arange(1, 0, -0.1))"
   ]
  },
  {
   "cell_type": "code",
   "execution_count": 391,
   "id": "afbfc600",
   "metadata": {},
   "outputs": [
    {
     "data": {
      "text/plain": [
       "tensor([-0.7123, -0.6807, -0.5290,  0.4313, -0.1937, -0.7874, -0.2500,  0.1201,\n",
       "         0.4184, -0.0499])"
      ]
     },
     "execution_count": 391,
     "metadata": {},
     "output_type": "execute_result"
    }
   ],
   "source": [
    "torch.normal(mean=torch.full([10], 0.), std=torch.arange(1, 0, -0.1))"
   ]
  },
  {
   "cell_type": "markdown",
   "id": "cb123598",
   "metadata": {},
   "source": [
    "## arange与range(deprecated)（范围数组）"
   ]
  },
  {
   "cell_type": "code",
   "execution_count": 392,
   "id": "c6ace3e5",
   "metadata": {},
   "outputs": [
    {
     "data": {
      "text/plain": [
       "tensor([0, 1, 2, 3, 4, 5, 6, 7, 8, 9])"
      ]
     },
     "execution_count": 392,
     "metadata": {},
     "output_type": "execute_result"
    }
   ],
   "source": [
    "torch.arange(0, 10)"
   ]
  },
  {
   "cell_type": "code",
   "execution_count": 393,
   "id": "ed3a37b6",
   "metadata": {},
   "outputs": [
    {
     "data": {
      "text/plain": [
       "tensor([1.0000, 0.9000, 0.8000, 0.7000, 0.6000, 0.5000, 0.4000, 0.3000, 0.2000,\n",
       "        0.1000])"
      ]
     },
     "execution_count": 393,
     "metadata": {},
     "output_type": "execute_result"
    }
   ],
   "source": [
    "torch.arange(1, 0, -0.1)"
   ]
  },
  {
   "cell_type": "code",
   "execution_count": 394,
   "id": "96a5dc62",
   "metadata": {},
   "outputs": [
    {
     "data": {
      "text/plain": [
       "tensor([0, 2, 4, 6, 8])"
      ]
     },
     "execution_count": 394,
     "metadata": {},
     "output_type": "execute_result"
    }
   ],
   "source": [
    "torch.arange(0, 10, 2)"
   ]
  },
  {
   "cell_type": "code",
   "execution_count": 395,
   "id": "61d66429",
   "metadata": {},
   "outputs": [
    {
     "name": "stderr",
     "output_type": "stream",
     "text": [
      "C:\\Users\\Administrator\\AppData\\Local\\Temp\\ipykernel_13408\\1549641488.py:1: UserWarning: torch.range is deprecated and will be removed in a future release because its behavior is inconsistent with Python's range builtin. Instead, use torch.arange, which produces values in [start, end).\n",
      "  torch.range(0, 10)\n"
     ]
    },
    {
     "data": {
      "text/plain": [
       "tensor([ 0.,  1.,  2.,  3.,  4.,  5.,  6.,  7.,  8.,  9., 10.])"
      ]
     },
     "execution_count": 395,
     "metadata": {},
     "output_type": "execute_result"
    }
   ],
   "source": [
    "torch.range(0, 10)"
   ]
  },
  {
   "cell_type": "markdown",
   "id": "2aa6f824",
   "metadata": {},
   "source": [
    "## linspace（均分数组）与logspace（对数间隔数组）"
   ]
  },
  {
   "cell_type": "code",
   "execution_count": 396,
   "id": "1ed9c498",
   "metadata": {},
   "outputs": [
    {
     "data": {
      "text/plain": [
       "tensor([ 0.0000,  3.3333,  6.6667, 10.0000])"
      ]
     },
     "execution_count": 396,
     "metadata": {},
     "output_type": "execute_result"
    }
   ],
   "source": [
    "torch.linspace(0, 10, steps=4)"
   ]
  },
  {
   "cell_type": "code",
   "execution_count": 397,
   "id": "1c07acc0",
   "metadata": {},
   "outputs": [
    {
     "data": {
      "text/plain": [
       "tensor([ 0.0000,  1.1111,  2.2222,  3.3333,  4.4444,  5.5556,  6.6667,  7.7778,\n",
       "         8.8889, 10.0000])"
      ]
     },
     "execution_count": 397,
     "metadata": {},
     "output_type": "execute_result"
    }
   ],
   "source": [
    "torch.linspace(0, 10, steps=10)"
   ]
  },
  {
   "cell_type": "code",
   "execution_count": 398,
   "id": "db019ed3",
   "metadata": {},
   "outputs": [
    {
     "data": {
      "text/plain": [
       "tensor([ 0.,  1.,  2.,  3.,  4.,  5.,  6.,  7.,  8.,  9., 10.])"
      ]
     },
     "execution_count": 398,
     "metadata": {},
     "output_type": "execute_result"
    }
   ],
   "source": [
    "torch.linspace(0, 10, steps=11)"
   ]
  },
  {
   "cell_type": "code",
   "execution_count": 399,
   "id": "7ba8ad30",
   "metadata": {},
   "outputs": [
    {
     "data": {
      "text/plain": [
       "tensor([1.0000, 0.7743, 0.5995, 0.4642, 0.3594, 0.2783, 0.2154, 0.1668, 0.1292,\n",
       "        0.1000])"
      ]
     },
     "execution_count": 399,
     "metadata": {},
     "output_type": "execute_result"
    }
   ],
   "source": [
    "torch.logspace(0, -1, steps=10)"
   ]
  },
  {
   "cell_type": "code",
   "execution_count": 400,
   "id": "469e7ac4",
   "metadata": {},
   "outputs": [
    {
     "data": {
      "text/plain": [
       "tensor([1.0000, 0.7743, 0.5995, 0.4642, 0.3594, 0.2783, 0.2154, 0.1668, 0.1292,\n",
       "        0.1000])"
      ]
     },
     "execution_count": 400,
     "metadata": {},
     "output_type": "execute_result"
    }
   ],
   "source": [
    "# 输出结果与torch.logspace(0, -1, steps=10)等价\n",
    "10 ** (torch.linspace(0, -1, steps=10))"
   ]
  },
  {
   "cell_type": "code",
   "execution_count": 401,
   "id": "6b713020",
   "metadata": {},
   "outputs": [
    {
     "data": {
      "text/plain": [
       "tensor([ 1.0000,  1.2915,  1.6681,  2.1544,  2.7826,  3.5938,  4.6416,  5.9948,\n",
       "         7.7426, 10.0000])"
      ]
     },
     "execution_count": 401,
     "metadata": {},
     "output_type": "execute_result"
    }
   ],
   "source": [
    "torch.logspace(0, 1, steps=10)"
   ]
  },
  {
   "cell_type": "code",
   "execution_count": 402,
   "id": "a903c279",
   "metadata": {},
   "outputs": [
    {
     "data": {
      "text/plain": [
       "tensor([ 1.0000,  1.2915,  1.6681,  2.1544,  2.7826,  3.5938,  4.6416,  5.9948,\n",
       "         7.7426, 10.0000])"
      ]
     },
     "execution_count": 402,
     "metadata": {},
     "output_type": "execute_result"
    }
   ],
   "source": [
    "# 输出结果与torch.logspace(0, 1, steps=10)等价\n",
    "10 ** (torch.linspace(0, 1, steps=10))"
   ]
  },
  {
   "cell_type": "markdown",
   "id": "e23dd464-86af-47e0-a87c-1633960cdb25",
   "metadata": {},
   "source": [
    "## empty"
   ]
  },
  {
   "cell_type": "code",
   "execution_count": 403,
   "id": "5b9c5db6-a10f-40cb-bf5b-2ff6e73d2c8e",
   "metadata": {},
   "outputs": [
    {
     "data": {
      "text/plain": [
       "tensor([10.])"
      ]
     },
     "execution_count": 403,
     "metadata": {},
     "output_type": "execute_result"
    }
   ],
   "source": [
    "torch.empty(1)"
   ]
  },
  {
   "cell_type": "markdown",
   "id": "1d431787",
   "metadata": {},
   "source": [
    "## ones（全1）, zeros（全0）与eye（对角）"
   ]
  },
  {
   "cell_type": "code",
   "execution_count": 404,
   "id": "a804fbeb",
   "metadata": {},
   "outputs": [
    {
     "data": {
      "text/plain": [
       "tensor([[1., 1., 1.],\n",
       "        [1., 1., 1.],\n",
       "        [1., 1., 1.]])"
      ]
     },
     "execution_count": 404,
     "metadata": {},
     "output_type": "execute_result"
    }
   ],
   "source": [
    "torch.ones(3, 3)"
   ]
  },
  {
   "cell_type": "code",
   "execution_count": 405,
   "id": "271d92b8",
   "metadata": {},
   "outputs": [
    {
     "data": {
      "text/plain": [
       "tensor([[0., 0., 0.],\n",
       "        [0., 0., 0.],\n",
       "        [0., 0., 0.]])"
      ]
     },
     "execution_count": 405,
     "metadata": {},
     "output_type": "execute_result"
    }
   ],
   "source": [
    "torch.zeros(3, 3)"
   ]
  },
  {
   "cell_type": "code",
   "execution_count": 406,
   "id": "b104eaf9",
   "metadata": {},
   "outputs": [
    {
     "data": {
      "text/plain": [
       "tensor([[1., 0., 0., 0.],\n",
       "        [0., 1., 0., 0.],\n",
       "        [0., 0., 1., 0.]])"
      ]
     },
     "execution_count": 406,
     "metadata": {},
     "output_type": "execute_result"
    }
   ],
   "source": [
    "torch.eye(3, 4)"
   ]
  },
  {
   "cell_type": "code",
   "execution_count": 407,
   "id": "ffe7260f",
   "metadata": {},
   "outputs": [
    {
     "data": {
      "text/plain": [
       "tensor([[1., 0., 0.],\n",
       "        [0., 1., 0.],\n",
       "        [0., 0., 1.]])"
      ]
     },
     "execution_count": 407,
     "metadata": {},
     "output_type": "execute_result"
    }
   ],
   "source": [
    "torch.eye(3)"
   ]
  },
  {
   "cell_type": "code",
   "execution_count": 408,
   "id": "17fc2ef5",
   "metadata": {},
   "outputs": [],
   "source": [
    "a = torch.zeros(3, 3)"
   ]
  },
  {
   "cell_type": "code",
   "execution_count": 409,
   "id": "6810d786",
   "metadata": {},
   "outputs": [
    {
     "data": {
      "text/plain": [
       "tensor([[1., 1., 1.],\n",
       "        [1., 1., 1.],\n",
       "        [1., 1., 1.]])"
      ]
     },
     "execution_count": 409,
     "metadata": {},
     "output_type": "execute_result"
    }
   ],
   "source": [
    "torch.ones_like(a)"
   ]
  },
  {
   "cell_type": "markdown",
   "id": "df0dd90d",
   "metadata": {},
   "source": [
    "## rand"
   ]
  },
  {
   "cell_type": "code",
   "execution_count": 410,
   "id": "f294bbd6",
   "metadata": {},
   "outputs": [
    {
     "data": {
      "text/plain": [
       "tensor([[0.2750, 0.8243, 0.1779],\n",
       "        [0.3458, 0.3425, 0.5669],\n",
       "        [0.7354, 0.1036, 0.4110]])"
      ]
     },
     "execution_count": 410,
     "metadata": {},
     "output_type": "execute_result"
    }
   ],
   "source": [
    "torch.rand(3, 3)"
   ]
  },
  {
   "cell_type": "code",
   "execution_count": 411,
   "id": "0073fd5c",
   "metadata": {},
   "outputs": [],
   "source": [
    "a = torch.rand(3, 3)"
   ]
  },
  {
   "cell_type": "markdown",
   "id": "93c42ce3",
   "metadata": {},
   "source": [
    "## rand_like, ones_like, zeros_like"
   ]
  },
  {
   "cell_type": "code",
   "execution_count": 412,
   "id": "0244b6ab",
   "metadata": {},
   "outputs": [
    {
     "data": {
      "text/plain": [
       "tensor([[0.3916, 0.8007, 0.1900],\n",
       "        [0.9148, 0.5078, 0.2677],\n",
       "        [0.2077, 0.9748, 0.6119]])"
      ]
     },
     "execution_count": 412,
     "metadata": {},
     "output_type": "execute_result"
    }
   ],
   "source": [
    "torch.rand_like(a)"
   ]
  },
  {
   "cell_type": "code",
   "execution_count": 413,
   "id": "8f924f02-8d49-48c0-87df-a17d50a9598b",
   "metadata": {},
   "outputs": [
    {
     "data": {
      "text/plain": [
       "tensor([[1., 1., 1.],\n",
       "        [1., 1., 1.],\n",
       "        [1., 1., 1.]])"
      ]
     },
     "execution_count": 413,
     "metadata": {},
     "output_type": "execute_result"
    }
   ],
   "source": [
    "torch.ones_like(a)"
   ]
  },
  {
   "cell_type": "code",
   "execution_count": 414,
   "id": "c63a34a3-c8a5-4613-a7a4-19685818201b",
   "metadata": {},
   "outputs": [
    {
     "data": {
      "text/plain": [
       "tensor([[0., 0., 0.],\n",
       "        [0., 0., 0.],\n",
       "        [0., 0., 0.]])"
      ]
     },
     "execution_count": 414,
     "metadata": {},
     "output_type": "execute_result"
    }
   ],
   "source": [
    "torch.zeros_like(a)"
   ]
  },
  {
   "cell_type": "markdown",
   "id": "e92db34e",
   "metadata": {},
   "source": [
    "## randint"
   ]
  },
  {
   "cell_type": "code",
   "execution_count": 415,
   "id": "7af02a51",
   "metadata": {},
   "outputs": [
    {
     "data": {
      "text/plain": [
       "tensor([[7, 7, 5],\n",
       "        [7, 7, 7],\n",
       "        [4, 2, 8]])"
      ]
     },
     "execution_count": 415,
     "metadata": {},
     "output_type": "execute_result"
    }
   ],
   "source": [
    "torch.randint(1, 10, [3, 3])"
   ]
  },
  {
   "cell_type": "markdown",
   "id": "96f81b53",
   "metadata": {},
   "source": [
    "## randn（创建正态分布的随机数）"
   ]
  },
  {
   "cell_type": "code",
   "execution_count": 416,
   "id": "f356fb62",
   "metadata": {},
   "outputs": [
    {
     "data": {
      "text/plain": [
       "tensor([[ 1.1839,  0.3145, -0.1978],\n",
       "        [ 0.5748, -0.9419, -1.8410],\n",
       "        [ 0.7784, -0.8258, -0.1839]])"
      ]
     },
     "execution_count": 416,
     "metadata": {},
     "output_type": "execute_result"
    }
   ],
   "source": [
    "torch.randn(3, 3)"
   ]
  },
  {
   "cell_type": "markdown",
   "id": "c26ef18d",
   "metadata": {},
   "source": [
    "## randperm（创建随机排列的整数序列）"
   ]
  },
  {
   "cell_type": "code",
   "execution_count": 417,
   "id": "7804e515",
   "metadata": {},
   "outputs": [
    {
     "data": {
      "text/plain": [
       "tensor([[0.3303, 0.4691, 0.3560],\n",
       "        [0.8693, 0.6288, 0.6288]])"
      ]
     },
     "execution_count": 417,
     "metadata": {},
     "output_type": "execute_result"
    }
   ],
   "source": [
    "a = torch.rand(2, 3)\n",
    "a"
   ]
  },
  {
   "cell_type": "code",
   "execution_count": 418,
   "id": "0bb47eb0",
   "metadata": {},
   "outputs": [
    {
     "data": {
      "text/plain": [
       "tensor([[0.5677, 0.8430],\n",
       "        [0.1225, 0.7274]])"
      ]
     },
     "execution_count": 418,
     "metadata": {},
     "output_type": "execute_result"
    }
   ],
   "source": [
    "b = torch.rand(2, 2)\n",
    "b"
   ]
  },
  {
   "cell_type": "code",
   "execution_count": 419,
   "id": "8c49a8d6",
   "metadata": {},
   "outputs": [],
   "source": [
    "# 生成一个从0到n-1的随机排列的整数序列\n",
    "idx = torch.randperm(2)"
   ]
  },
  {
   "cell_type": "code",
   "execution_count": 420,
   "id": "547e3089",
   "metadata": {},
   "outputs": [
    {
     "data": {
      "text/plain": [
       "tensor([0, 1])"
      ]
     },
     "execution_count": 420,
     "metadata": {},
     "output_type": "execute_result"
    }
   ],
   "source": [
    "idx"
   ]
  },
  {
   "cell_type": "code",
   "execution_count": 421,
   "id": "87d4d839",
   "metadata": {},
   "outputs": [
    {
     "data": {
      "text/plain": [
       "tensor([[0.3303, 0.4691, 0.3560],\n",
       "        [0.8693, 0.6288, 0.6288]])"
      ]
     },
     "execution_count": 421,
     "metadata": {},
     "output_type": "execute_result"
    }
   ],
   "source": [
    "a[idx]"
   ]
  },
  {
   "cell_type": "code",
   "execution_count": 422,
   "id": "02c0eec7",
   "metadata": {},
   "outputs": [
    {
     "data": {
      "text/plain": [
       "tensor([[0.5677, 0.8430],\n",
       "        [0.1225, 0.7274]])"
      ]
     },
     "execution_count": 422,
     "metadata": {},
     "output_type": "execute_result"
    }
   ],
   "source": [
    "b[idx]"
   ]
  },
  {
   "cell_type": "code",
   "execution_count": 423,
   "id": "03792858",
   "metadata": {
    "scrolled": true
   },
   "outputs": [
    {
     "data": {
      "text/plain": [
       "tensor([7, 3, 8, 6, 9, 4, 5, 1, 2, 0])"
      ]
     },
     "execution_count": 423,
     "metadata": {},
     "output_type": "execute_result"
    }
   ],
   "source": [
    "torch.randperm(10)"
   ]
  },
  {
   "cell_type": "markdown",
   "id": "cef78e38-21e9-4d14-bbd5-aab702b7b561",
   "metadata": {},
   "source": [
    "# 查看操作"
   ]
  },
  {
   "cell_type": "code",
   "execution_count": 424,
   "id": "4f60b905",
   "metadata": {},
   "outputs": [],
   "source": [
    "a = torch.randn(2, 3)"
   ]
  },
  {
   "cell_type": "markdown",
   "id": "f910068e-768f-4a7c-bc91-897397eda2ff",
   "metadata": {},
   "source": [
    "## 查看Tensor的类型"
   ]
  },
  {
   "cell_type": "code",
   "execution_count": 425,
   "id": "6c26299d-8cb0-4d10-8a19-833db6ad6ee4",
   "metadata": {},
   "outputs": [
    {
     "data": {
      "text/plain": [
       "torch.float64"
      ]
     },
     "execution_count": 425,
     "metadata": {},
     "output_type": "execute_result"
    }
   ],
   "source": [
    "a.dtype"
   ]
  },
  {
   "cell_type": "code",
   "execution_count": 426,
   "id": "0226efad",
   "metadata": {},
   "outputs": [
    {
     "data": {
      "text/plain": [
       "'torch.DoubleTensor'"
      ]
     },
     "execution_count": 426,
     "metadata": {},
     "output_type": "execute_result"
    }
   ],
   "source": [
    "a.type()"
   ]
  },
  {
   "cell_type": "code",
   "execution_count": 427,
   "id": "f0b20612",
   "metadata": {},
   "outputs": [
    {
     "data": {
      "text/plain": [
       "torch.Tensor"
      ]
     },
     "execution_count": 427,
     "metadata": {},
     "output_type": "execute_result"
    }
   ],
   "source": [
    "type(a)"
   ]
  },
  {
   "cell_type": "code",
   "execution_count": 428,
   "id": "58d7159b",
   "metadata": {},
   "outputs": [
    {
     "data": {
      "text/plain": [
       "False"
      ]
     },
     "execution_count": 428,
     "metadata": {},
     "output_type": "execute_result"
    }
   ],
   "source": [
    "isinstance(a, torch.FloatTensor)"
   ]
  },
  {
   "cell_type": "code",
   "execution_count": 429,
   "id": "f1f90dc1",
   "metadata": {},
   "outputs": [
    {
     "data": {
      "text/plain": [
       "False"
      ]
     },
     "execution_count": 429,
     "metadata": {},
     "output_type": "execute_result"
    }
   ],
   "source": [
    "isinstance(a, torch.cuda.FloatTensor)"
   ]
  },
  {
   "cell_type": "code",
   "execution_count": 430,
   "id": "5d8c0cf4",
   "metadata": {},
   "outputs": [],
   "source": [
    "a = a.cuda()"
   ]
  },
  {
   "cell_type": "code",
   "execution_count": 431,
   "id": "c6e12cd5",
   "metadata": {
    "scrolled": true
   },
   "outputs": [
    {
     "data": {
      "text/plain": [
       "False"
      ]
     },
     "execution_count": 431,
     "metadata": {},
     "output_type": "execute_result"
    }
   ],
   "source": [
    "isinstance(a, torch.cuda.FloatTensor)"
   ]
  },
  {
   "cell_type": "markdown",
   "id": "f4fa814a-ba50-4fc7-9310-55fb49553f9d",
   "metadata": {},
   "source": [
    "## 查看Tensor的维度"
   ]
  },
  {
   "cell_type": "code",
   "execution_count": 432,
   "id": "a8af8228-5e14-4b33-9702-d1984bfcb74a",
   "metadata": {},
   "outputs": [
    {
     "data": {
      "text/plain": [
       "2"
      ]
     },
     "execution_count": 432,
     "metadata": {},
     "output_type": "execute_result"
    }
   ],
   "source": [
    "a.ndim                            "
   ]
  },
  {
   "cell_type": "markdown",
   "id": "7649107b-4af5-4fe6-b330-f8fb559fc308",
   "metadata": {},
   "source": [
    "## 查看Tensor的形状或尺寸"
   ]
  },
  {
   "cell_type": "code",
   "execution_count": 433,
   "id": "4e79ddcf-3641-4724-a130-3605df3b8041",
   "metadata": {},
   "outputs": [
    {
     "data": {
      "text/plain": [
       "torch.Size([2, 3])"
      ]
     },
     "execution_count": 433,
     "metadata": {},
     "output_type": "execute_result"
    }
   ],
   "source": [
    "a.shape                          "
   ]
  },
  {
   "cell_type": "code",
   "execution_count": 434,
   "id": "dd35db86-6585-4f69-9c9a-51089dd200a0",
   "metadata": {},
   "outputs": [
    {
     "data": {
      "text/plain": [
       "2"
      ]
     },
     "execution_count": 434,
     "metadata": {},
     "output_type": "execute_result"
    }
   ],
   "source": [
    "len(a.shape)"
   ]
  },
  {
   "cell_type": "code",
   "execution_count": 435,
   "id": "7a9e5b64-d129-49a0-bdce-b05d80797f7f",
   "metadata": {},
   "outputs": [
    {
     "data": {
      "text/plain": [
       "torch.Size([2, 3])"
      ]
     },
     "execution_count": 435,
     "metadata": {},
     "output_type": "execute_result"
    }
   ],
   "source": [
    "a.size()"
   ]
  },
  {
   "cell_type": "markdown",
   "id": "9b3af0ef-b250-4cf8-91e8-bf4303b88e02",
   "metadata": {},
   "source": [
    "## 查看Tensor元素的个数"
   ]
  },
  {
   "cell_type": "code",
   "execution_count": 436,
   "id": "048ad997-18c7-4aed-861f-3ad2f13c0fd2",
   "metadata": {},
   "outputs": [
    {
     "data": {
      "text/plain": [
       "6"
      ]
     },
     "execution_count": 436,
     "metadata": {},
     "output_type": "execute_result"
    }
   ],
   "source": [
    "a.numel()"
   ]
  },
  {
   "cell_type": "markdown",
   "id": "afc70397-ca40-4fcd-920a-fbf6b0d2bf51",
   "metadata": {},
   "source": [
    "## 查看Tensor的梯度"
   ]
  },
  {
   "cell_type": "code",
   "execution_count": 437,
   "id": "7a918346-adb0-48b4-a979-4008570a89f8",
   "metadata": {},
   "outputs": [],
   "source": [
    "# 没有梯度\n",
    "a.grad                          "
   ]
  },
  {
   "cell_type": "markdown",
   "id": "a87e1af4-1fff-47d8-abb3-2e9cf033b6f7",
   "metadata": {},
   "source": [
    "## 查看Tensor是否存储在GPU上"
   ]
  },
  {
   "cell_type": "code",
   "execution_count": 438,
   "id": "8cff4dce-dcd7-47de-8666-697fe22bd2a4",
   "metadata": {
    "scrolled": true
   },
   "outputs": [
    {
     "data": {
      "text/plain": [
       "True"
      ]
     },
     "execution_count": 438,
     "metadata": {},
     "output_type": "execute_result"
    }
   ],
   "source": [
    "a.is_cuda                      "
   ]
  },
  {
   "cell_type": "markdown",
   "id": "e613abb0-ab36-4b8d-8695-b502c561be7f",
   "metadata": {},
   "source": [
    "# 转换操作"
   ]
  },
  {
   "cell_type": "markdown",
   "id": "53ac158a-3397-4f14-bc75-6726c1948410",
   "metadata": {},
   "source": [
    "## Tensor在CPU和GPU之间转换"
   ]
  },
  {
   "cell_type": "markdown",
   "id": "7cf0b299-50b4-4df3-9d99-a5b59696f7b1",
   "metadata": {},
   "source": [
    "### CPU tensor转GPU tensor"
   ]
  },
  {
   "cell_type": "code",
   "execution_count": 439,
   "id": "55462fc8-da8e-42b1-9f92-11c44599086f",
   "metadata": {},
   "outputs": [
    {
     "data": {
      "text/plain": [
       "tensor([[-0.5876, -0.7937, -0.4501],\n",
       "        [-1.6437,  0.5519, -0.8420]], device='cuda:0')"
      ]
     },
     "execution_count": 439,
     "metadata": {},
     "output_type": "execute_result"
    }
   ],
   "source": [
    "a.cuda()"
   ]
  },
  {
   "cell_type": "markdown",
   "id": "ed8e528f-8f88-4549-81b6-e41c31b3e5ff",
   "metadata": {},
   "source": [
    "### GPU tensor 转CPU tensor"
   ]
  },
  {
   "cell_type": "code",
   "execution_count": 440,
   "id": "7788be24-595f-4c14-b412-dc186bdfca68",
   "metadata": {},
   "outputs": [
    {
     "data": {
      "text/plain": [
       "tensor([[-0.5876, -0.7937, -0.4501],\n",
       "        [-1.6437,  0.5519, -0.8420]])"
      ]
     },
     "execution_count": 440,
     "metadata": {},
     "output_type": "execute_result"
    }
   ],
   "source": [
    "a.cpu()"
   ]
  },
  {
   "cell_type": "markdown",
   "id": "26a69172-2c00-4fb3-9750-7dc7a7c3888a",
   "metadata": {},
   "source": [
    "## Tensor在CPU和numpy之间转换"
   ]
  },
  {
   "cell_type": "markdown",
   "id": "2e481188-6c82-4592-ba55-dd5f3cdd92f6",
   "metadata": {},
   "source": [
    "### numpy转为CPU tensor"
   ]
  },
  {
   "cell_type": "code",
   "execution_count": 441,
   "id": "b6c363e5-b386-4800-88cd-032d1dd1f725",
   "metadata": {},
   "outputs": [],
   "source": [
    "numpy_test = np.array([1, 2, 3])"
   ]
  },
  {
   "cell_type": "code",
   "execution_count": 442,
   "id": "96611cf6-ae0b-46cb-afff-963b19fbae07",
   "metadata": {},
   "outputs": [
    {
     "data": {
      "text/plain": [
       "tensor([1, 2, 3])"
      ]
     },
     "execution_count": 442,
     "metadata": {},
     "output_type": "execute_result"
    }
   ],
   "source": [
    "torch.from_numpy(numpy_test)"
   ]
  },
  {
   "cell_type": "markdown",
   "id": "ae886c65-2bf6-47dc-b2c0-9747511c77d6",
   "metadata": {},
   "source": [
    "### CPU tensor转为numpy数据"
   ]
  },
  {
   "cell_type": "code",
   "execution_count": 443,
   "id": "f678255a-d930-457f-981b-a07e2be5ac2b",
   "metadata": {},
   "outputs": [
    {
     "ename": "TypeError",
     "evalue": "can't convert cuda:0 device type tensor to numpy. Use Tensor.cpu() to copy the tensor to host memory first.",
     "output_type": "error",
     "traceback": [
      "\u001b[1;31m---------------------------------------------------------------------------\u001b[0m",
      "\u001b[1;31mTypeError\u001b[0m                                 Traceback (most recent call last)",
      "Cell \u001b[1;32mIn[443], line 2\u001b[0m\n\u001b[0;32m      1\u001b[0m \u001b[38;5;66;03m# 以下语句会报错，因为CUDA tensor不能直接转为numpy数据\u001b[39;00m\n\u001b[1;32m----> 2\u001b[0m \u001b[43ma\u001b[49m\u001b[38;5;241;43m.\u001b[39;49m\u001b[43mnumpy\u001b[49m\u001b[43m(\u001b[49m\u001b[43m)\u001b[49m\n",
      "\u001b[1;31mTypeError\u001b[0m: can't convert cuda:0 device type tensor to numpy. Use Tensor.cpu() to copy the tensor to host memory first."
     ]
    }
   ],
   "source": [
    "# 以下语句会报错，因为CUDA tensor不能直接转为numpy数据\n",
    "a.numpy()"
   ]
  },
  {
   "cell_type": "code",
   "execution_count": 444,
   "id": "5ee792df-b71e-463b-bc26-f1ee005b1913",
   "metadata": {},
   "outputs": [
    {
     "data": {
      "text/plain": [
       "array([[-0.58757804, -0.79370454, -0.45012108],\n",
       "       [-1.64374973,  0.55190247, -0.84198587]])"
      ]
     },
     "execution_count": 444,
     "metadata": {},
     "output_type": "execute_result"
    }
   ],
   "source": [
    "a.cpu().numpy()"
   ]
  },
  {
   "cell_type": "code",
   "execution_count": 445,
   "id": "e8ba7366-b2fe-420e-9b1b-e0642fc2abc3",
   "metadata": {},
   "outputs": [
    {
     "data": {
      "text/plain": [
       "tensor([-0.5876, -0.7937, -0.4501])"
      ]
     },
     "execution_count": 445,
     "metadata": {},
     "output_type": "execute_result"
    }
   ],
   "source": [
    "a.cpu()[0]"
   ]
  },
  {
   "cell_type": "code",
   "execution_count": 446,
   "id": "011b01f6-b848-4107-9492-41ada3f9980c",
   "metadata": {},
   "outputs": [
    {
     "data": {
      "text/plain": [
       "torch.Size([2, 3])"
      ]
     },
     "execution_count": 446,
     "metadata": {},
     "output_type": "execute_result"
    }
   ],
   "source": [
    "a.cpu().shape"
   ]
  },
  {
   "cell_type": "code",
   "execution_count": 447,
   "id": "b13a8ba6-c1de-4074-aac0-90faf0708e8e",
   "metadata": {},
   "outputs": [
    {
     "data": {
      "text/plain": [
       "[2, 3]"
      ]
     },
     "execution_count": 447,
     "metadata": {},
     "output_type": "execute_result"
    }
   ],
   "source": [
    "list(a.cpu().shape)"
   ]
  },
  {
   "cell_type": "markdown",
   "id": "36c5c3ab",
   "metadata": {},
   "source": [
    "# 选择操作"
   ]
  },
  {
   "cell_type": "markdown",
   "id": "e9ff81fe",
   "metadata": {},
   "source": [
    "## 索引"
   ]
  },
  {
   "cell_type": "code",
   "execution_count": 448,
   "id": "9421d25d",
   "metadata": {},
   "outputs": [],
   "source": [
    "a = torch.rand(4, 3, 28, 28)"
   ]
  },
  {
   "cell_type": "code",
   "execution_count": 449,
   "id": "48ae82ef",
   "metadata": {},
   "outputs": [
    {
     "data": {
      "text/plain": [
       "(torch.Size([3, 28, 28]),\n",
       " torch.Size([3, 28, 28]),\n",
       " torch.Size([3, 28, 28]),\n",
       " torch.Size([3, 28, 28]))"
      ]
     },
     "execution_count": 449,
     "metadata": {},
     "output_type": "execute_result"
    }
   ],
   "source": [
    "a[0].shape, a[1].shape, a[2].shape, a[3].shape"
   ]
  },
  {
   "cell_type": "code",
   "execution_count": 450,
   "id": "763d8827",
   "metadata": {},
   "outputs": [
    {
     "data": {
      "text/plain": [
       "(torch.Size([28, 28]), torch.Size([28, 28]), torch.Size([28, 28]))"
      ]
     },
     "execution_count": 450,
     "metadata": {},
     "output_type": "execute_result"
    }
   ],
   "source": [
    "a[0, 0].shape, a[0, 1].shape, a[0, 2].shape"
   ]
  },
  {
   "cell_type": "code",
   "execution_count": 451,
   "id": "a3346c90",
   "metadata": {},
   "outputs": [
    {
     "data": {
      "text/plain": [
       "tensor([0.6815, 0.1732, 0.3649, 0.4240, 0.4304, 0.1981, 0.5793, 0.1006, 0.8919,\n",
       "        0.5481, 0.1340, 0.5285, 0.3506, 0.9927, 0.7701, 0.7149, 0.2445, 0.6654,\n",
       "        0.0577, 0.6466, 0.6762, 0.8486, 0.2046, 0.8071, 0.3844, 0.4364, 0.9338,\n",
       "        0.5161])"
      ]
     },
     "execution_count": 451,
     "metadata": {},
     "output_type": "execute_result"
    }
   ],
   "source": [
    "a[0, 1, 2]"
   ]
  },
  {
   "cell_type": "markdown",
   "id": "eb523a3e",
   "metadata": {},
   "source": [
    "## 切片"
   ]
  },
  {
   "cell_type": "code",
   "execution_count": 452,
   "id": "269ea0c4",
   "metadata": {},
   "outputs": [
    {
     "data": {
      "text/plain": [
       "torch.Size([4, 3, 28, 28])"
      ]
     },
     "execution_count": 452,
     "metadata": {},
     "output_type": "execute_result"
    }
   ],
   "source": [
    "a.shape"
   ]
  },
  {
   "cell_type": "code",
   "execution_count": 453,
   "id": "40b883cc",
   "metadata": {},
   "outputs": [
    {
     "data": {
      "text/plain": [
       "torch.Size([2, 3, 28, 28])"
      ]
     },
     "execution_count": 453,
     "metadata": {},
     "output_type": "execute_result"
    }
   ],
   "source": [
    "a[:2].shape"
   ]
  },
  {
   "cell_type": "code",
   "execution_count": 454,
   "id": "3fcb5bd2",
   "metadata": {},
   "outputs": [
    {
     "data": {
      "text/plain": [
       "torch.Size([2, 1, 28, 28])"
      ]
     },
     "execution_count": 454,
     "metadata": {},
     "output_type": "execute_result"
    }
   ],
   "source": [
    "a[:2, :1, :, :].shape"
   ]
  },
  {
   "cell_type": "code",
   "execution_count": 455,
   "id": "8dc63307",
   "metadata": {},
   "outputs": [
    {
     "data": {
      "text/plain": [
       "torch.Size([2, 2, 28, 28])"
      ]
     },
     "execution_count": 455,
     "metadata": {},
     "output_type": "execute_result"
    }
   ],
   "source": [
    "a[:2, 1:, :, :].shape"
   ]
  },
  {
   "cell_type": "code",
   "execution_count": 456,
   "id": "d4168019",
   "metadata": {},
   "outputs": [
    {
     "data": {
      "text/plain": [
       "torch.Size([2, 1, 28, 28])"
      ]
     },
     "execution_count": 456,
     "metadata": {},
     "output_type": "execute_result"
    }
   ],
   "source": [
    "a[:2, -1:, :, :].shape"
   ]
  },
  {
   "cell_type": "code",
   "execution_count": 457,
   "id": "d7b88ec4",
   "metadata": {},
   "outputs": [
    {
     "data": {
      "text/plain": [
       "torch.Size([4, 3, 14, 14])"
      ]
     },
     "execution_count": 457,
     "metadata": {},
     "output_type": "execute_result"
    }
   ],
   "source": [
    "a[:, :, 0:28:2, 0:28:2].shape"
   ]
  },
  {
   "cell_type": "code",
   "execution_count": 458,
   "id": "d657509d",
   "metadata": {},
   "outputs": [
    {
     "data": {
      "text/plain": [
       "torch.Size([4, 3, 14, 14])"
      ]
     },
     "execution_count": 458,
     "metadata": {},
     "output_type": "execute_result"
    }
   ],
   "source": [
    "a[:, :, ::2, ::2].shape"
   ]
  },
  {
   "cell_type": "code",
   "execution_count": 459,
   "id": "d288cf82",
   "metadata": {},
   "outputs": [
    {
     "data": {
      "text/plain": [
       "torch.Size([4, 3, 5, 5])"
      ]
     },
     "execution_count": 459,
     "metadata": {},
     "output_type": "execute_result"
    }
   ],
   "source": [
    "a[:, :, 10:20:2, 10:20:2].shape"
   ]
  },
  {
   "cell_type": "markdown",
   "id": "ad078536",
   "metadata": {},
   "source": [
    "## take（根据索引选择）"
   ]
  },
  {
   "cell_type": "code",
   "execution_count": 460,
   "id": "e8341aab",
   "metadata": {},
   "outputs": [],
   "source": [
    "src = torch.tensor([[4, 3, 5], [6, 7, 8]])"
   ]
  },
  {
   "cell_type": "code",
   "execution_count": 461,
   "id": "f6308a9b",
   "metadata": {},
   "outputs": [
    {
     "data": {
      "text/plain": [
       "tensor([4, 5, 8])"
      ]
     },
     "execution_count": 461,
     "metadata": {},
     "output_type": "execute_result"
    }
   ],
   "source": [
    "torch.take(src, torch.tensor([0, 2, 5]))"
   ]
  },
  {
   "cell_type": "markdown",
   "id": "9f81b8ae",
   "metadata": {},
   "source": [
    "## index_select（选择指定索引的张量）"
   ]
  },
  {
   "cell_type": "code",
   "execution_count": 462,
   "id": "2cf7af61",
   "metadata": {},
   "outputs": [
    {
     "data": {
      "text/plain": [
       "torch.Size([4, 3, 28, 28])"
      ]
     },
     "execution_count": 462,
     "metadata": {},
     "output_type": "execute_result"
    }
   ],
   "source": [
    "a.shape"
   ]
  },
  {
   "cell_type": "code",
   "execution_count": 463,
   "id": "2f1d5be3",
   "metadata": {},
   "outputs": [
    {
     "data": {
      "text/plain": [
       "torch.Size([2, 3, 28, 28])"
      ]
     },
     "execution_count": 463,
     "metadata": {},
     "output_type": "execute_result"
    }
   ],
   "source": [
    "# index_select(dim, index) \n",
    "a.index_select(0, torch.tensor([1, 3])).shape"
   ]
  },
  {
   "cell_type": "code",
   "execution_count": 464,
   "id": "6e7c39a5",
   "metadata": {},
   "outputs": [
    {
     "data": {
      "text/plain": [
       "torch.Size([4, 2, 28, 28])"
      ]
     },
     "execution_count": 464,
     "metadata": {},
     "output_type": "execute_result"
    }
   ],
   "source": [
    "a.index_select(1, torch.tensor([0, 2])).shape"
   ]
  },
  {
   "cell_type": "code",
   "execution_count": 465,
   "id": "4a8d5e7e",
   "metadata": {},
   "outputs": [
    {
     "data": {
      "text/plain": [
       "tensor([ 0,  1,  2,  3,  4,  5,  6,  7,  8,  9, 10, 11, 12, 13, 14, 15, 16, 17,\n",
       "        18, 19])"
      ]
     },
     "execution_count": 465,
     "metadata": {},
     "output_type": "execute_result"
    }
   ],
   "source": [
    "torch.arange(20)"
   ]
  },
  {
   "cell_type": "code",
   "execution_count": 466,
   "id": "a57c04df",
   "metadata": {},
   "outputs": [
    {
     "data": {
      "text/plain": [
       "torch.Size([4, 3, 20, 28])"
      ]
     },
     "execution_count": 466,
     "metadata": {},
     "output_type": "execute_result"
    }
   ],
   "source": [
    "a.index_select(2, torch.arange(20)).shape"
   ]
  },
  {
   "cell_type": "code",
   "execution_count": 467,
   "id": "60c5a043",
   "metadata": {},
   "outputs": [
    {
     "data": {
      "text/plain": [
       "torch.Size([4, 3, 8, 28])"
      ]
     },
     "execution_count": 467,
     "metadata": {},
     "output_type": "execute_result"
    }
   ],
   "source": [
    "a.index_select(2, torch.arange(8)).shape"
   ]
  },
  {
   "cell_type": "code",
   "execution_count": 468,
   "id": "04691843",
   "metadata": {},
   "outputs": [
    {
     "data": {
      "text/plain": [
       "torch.Size([4, 3, 28, 28])"
      ]
     },
     "execution_count": 468,
     "metadata": {},
     "output_type": "execute_result"
    }
   ],
   "source": [
    "a.shape"
   ]
  },
  {
   "cell_type": "markdown",
   "id": "6cca93f9",
   "metadata": {},
   "source": [
    "## ...（Ellipsis，省略号，不改变其他维度）"
   ]
  },
  {
   "cell_type": "code",
   "execution_count": 469,
   "id": "6c1f8529",
   "metadata": {},
   "outputs": [
    {
     "data": {
      "text/plain": [
       "torch.Size([4, 3, 28, 28])"
      ]
     },
     "execution_count": 469,
     "metadata": {},
     "output_type": "execute_result"
    }
   ],
   "source": [
    "a[...].shape"
   ]
  },
  {
   "cell_type": "code",
   "execution_count": 470,
   "id": "22a16ca5",
   "metadata": {},
   "outputs": [
    {
     "data": {
      "text/plain": [
       "torch.Size([3, 28, 28])"
      ]
     },
     "execution_count": 470,
     "metadata": {},
     "output_type": "execute_result"
    }
   ],
   "source": [
    "a[0, ...].shape"
   ]
  },
  {
   "cell_type": "code",
   "execution_count": 471,
   "id": "a05a3cf3",
   "metadata": {},
   "outputs": [
    {
     "data": {
      "text/plain": [
       "torch.Size([4, 28, 28])"
      ]
     },
     "execution_count": 471,
     "metadata": {},
     "output_type": "execute_result"
    }
   ],
   "source": [
    "a[:, 1, ...].shape"
   ]
  },
  {
   "cell_type": "code",
   "execution_count": 472,
   "id": "2b9b6f5b",
   "metadata": {},
   "outputs": [
    {
     "data": {
      "text/plain": [
       "torch.Size([4, 3, 28, 2])"
      ]
     },
     "execution_count": 472,
     "metadata": {},
     "output_type": "execute_result"
    }
   ],
   "source": [
    "a[..., :2].shape"
   ]
  },
  {
   "cell_type": "markdown",
   "id": "3fb7ae32",
   "metadata": {},
   "source": [
    "## masked_select（选择满足条件的张量）"
   ]
  },
  {
   "cell_type": "code",
   "execution_count": 473,
   "id": "cd6ec402",
   "metadata": {},
   "outputs": [
    {
     "data": {
      "text/plain": [
       "tensor([[-0.8539, -1.1039, -1.3049, -0.8194],\n",
       "        [-1.7689, -0.7263,  0.4396,  0.0343],\n",
       "        [-1.2038, -0.7567, -0.4312,  0.5721]])"
      ]
     },
     "execution_count": 473,
     "metadata": {},
     "output_type": "execute_result"
    }
   ],
   "source": [
    "x = torch.randn(3, 4)\n",
    "x"
   ]
  },
  {
   "cell_type": "code",
   "execution_count": 474,
   "id": "63e36f6f",
   "metadata": {},
   "outputs": [
    {
     "data": {
      "text/plain": [
       "tensor([[False, False, False, False],\n",
       "        [False, False, False, False],\n",
       "        [False, False, False,  True]])"
      ]
     },
     "execution_count": 474,
     "metadata": {},
     "output_type": "execute_result"
    }
   ],
   "source": [
    "mask = x.ge(0.5)\n",
    "mask"
   ]
  },
  {
   "cell_type": "code",
   "execution_count": 475,
   "id": "8d8e7171",
   "metadata": {},
   "outputs": [
    {
     "data": {
      "text/plain": [
       "tensor([0.5721])"
      ]
     },
     "execution_count": 475,
     "metadata": {},
     "output_type": "execute_result"
    }
   ],
   "source": [
    "torch.masked_select(x, mask)"
   ]
  },
  {
   "cell_type": "code",
   "execution_count": 476,
   "id": "ac3d9815",
   "metadata": {},
   "outputs": [
    {
     "data": {
      "text/plain": [
       "torch.Size([1])"
      ]
     },
     "execution_count": 476,
     "metadata": {},
     "output_type": "execute_result"
    }
   ],
   "source": [
    "torch.masked_select(x, mask).shape"
   ]
  },
  {
   "cell_type": "markdown",
   "id": "3ede89e9-211e-4602-98f8-25b25fadc5c1",
   "metadata": {},
   "source": [
    "## where（条件筛选）"
   ]
  },
  {
   "cell_type": "code",
   "execution_count": 477,
   "id": "c9f73388",
   "metadata": {},
   "outputs": [],
   "source": [
    "cond = torch.tensor([[0.6769, 0.7271],\n",
    "                     [0.8884, 0.4163]])"
   ]
  },
  {
   "cell_type": "code",
   "execution_count": 478,
   "id": "44acadc8",
   "metadata": {},
   "outputs": [
    {
     "data": {
      "text/plain": [
       "tensor([[0., 0.],\n",
       "        [0., 0.]])"
      ]
     },
     "execution_count": 478,
     "metadata": {},
     "output_type": "execute_result"
    }
   ],
   "source": [
    "a = torch.zeros(2, 2)\n",
    "a"
   ]
  },
  {
   "cell_type": "code",
   "execution_count": 479,
   "id": "718ee4c2",
   "metadata": {},
   "outputs": [
    {
     "data": {
      "text/plain": [
       "tensor([[1., 1.],\n",
       "        [1., 1.]])"
      ]
     },
     "execution_count": 479,
     "metadata": {},
     "output_type": "execute_result"
    }
   ],
   "source": [
    "b = torch.ones(2, 2)\n",
    "b"
   ]
  },
  {
   "cell_type": "code",
   "execution_count": 480,
   "id": "790e258d",
   "metadata": {},
   "outputs": [
    {
     "data": {
      "text/plain": [
       "tensor([[ True,  True],\n",
       "        [ True, False]])"
      ]
     },
     "execution_count": 480,
     "metadata": {},
     "output_type": "execute_result"
    }
   ],
   "source": [
    "cond > 0.5"
   ]
  },
  {
   "cell_type": "code",
   "execution_count": 481,
   "id": "dce2b95e",
   "metadata": {},
   "outputs": [
    {
     "data": {
      "text/plain": [
       "tensor([[0., 0.],\n",
       "        [0., 1.]])"
      ]
     },
     "execution_count": 481,
     "metadata": {},
     "output_type": "execute_result"
    }
   ],
   "source": [
    "torch.where(cond > 0.5, a, b)"
   ]
  },
  {
   "cell_type": "markdown",
   "id": "e2c0fd8a-11f0-4fec-b37d-02b19c118f58",
   "metadata": {},
   "source": [
    "## gather（收集）"
   ]
  },
  {
   "cell_type": "code",
   "execution_count": 482,
   "id": "339d72bc",
   "metadata": {},
   "outputs": [
    {
     "data": {
      "text/plain": [
       "tensor([[0.0576, 0.5406, 0.1173, 0.9803, 0.2431, 0.4796, 0.3533, 0.0046, 0.5292,\n",
       "         0.3276],\n",
       "        [0.9222, 0.2657, 0.8204, 0.6207, 0.7436, 0.8692, 0.4392, 0.8062, 0.9672,\n",
       "         0.1869],\n",
       "        [0.3415, 0.3175, 0.6812, 0.7068, 0.0444, 0.6185, 0.2406, 0.6421, 0.9346,\n",
       "         0.5043],\n",
       "        [0.0566, 0.7213, 0.6812, 0.8553, 0.4135, 0.2455, 0.1979, 0.8144, 0.8970,\n",
       "         0.6631]])"
      ]
     },
     "execution_count": 482,
     "metadata": {},
     "output_type": "execute_result"
    }
   ],
   "source": [
    "prob = torch.rand(4, 10)\n",
    "prob"
   ]
  },
  {
   "cell_type": "code",
   "execution_count": 483,
   "id": "fe3bbe02",
   "metadata": {},
   "outputs": [],
   "source": [
    "idx = prob.topk(dim=1, k=3)"
   ]
  },
  {
   "cell_type": "code",
   "execution_count": 484,
   "id": "3b36356c",
   "metadata": {},
   "outputs": [
    {
     "data": {
      "text/plain": [
       "torch.return_types.topk(\n",
       "values=tensor([[0.9803, 0.5406, 0.5292],\n",
       "        [0.9672, 0.9222, 0.8692],\n",
       "        [0.9346, 0.7068, 0.6812],\n",
       "        [0.8970, 0.8553, 0.8144]]),\n",
       "indices=tensor([[3, 1, 8],\n",
       "        [8, 0, 5],\n",
       "        [8, 3, 2],\n",
       "        [8, 3, 7]]))"
      ]
     },
     "execution_count": 484,
     "metadata": {},
     "output_type": "execute_result"
    }
   ],
   "source": [
    "idx"
   ]
  },
  {
   "cell_type": "code",
   "execution_count": 485,
   "id": "8f4b269a",
   "metadata": {},
   "outputs": [
    {
     "data": {
      "text/plain": [
       "tensor([[0.9803, 0.5406, 0.5292],\n",
       "        [0.9672, 0.9222, 0.8692],\n",
       "        [0.9346, 0.7068, 0.6812],\n",
       "        [0.8970, 0.8553, 0.8144]])"
      ]
     },
     "execution_count": 485,
     "metadata": {},
     "output_type": "execute_result"
    }
   ],
   "source": [
    "idx[0]"
   ]
  },
  {
   "cell_type": "code",
   "execution_count": 486,
   "id": "20a2e9ba",
   "metadata": {},
   "outputs": [
    {
     "data": {
      "text/plain": [
       "tensor([[3, 1, 8],\n",
       "        [8, 0, 5],\n",
       "        [8, 3, 2],\n",
       "        [8, 3, 7]])"
      ]
     },
     "execution_count": 486,
     "metadata": {},
     "output_type": "execute_result"
    }
   ],
   "source": [
    "idx[1]"
   ]
  },
  {
   "cell_type": "code",
   "execution_count": 487,
   "id": "7a1ce4a9",
   "metadata": {},
   "outputs": [],
   "source": [
    "idx = idx[1]"
   ]
  },
  {
   "cell_type": "code",
   "execution_count": 488,
   "id": "ceea64cf",
   "metadata": {},
   "outputs": [],
   "source": [
    "label = torch.arange(10) + 100"
   ]
  },
  {
   "cell_type": "code",
   "execution_count": 489,
   "id": "032cddb9",
   "metadata": {},
   "outputs": [
    {
     "data": {
      "text/plain": [
       "tensor([100, 101, 102, 103, 104, 105, 106, 107, 108, 109])"
      ]
     },
     "execution_count": 489,
     "metadata": {},
     "output_type": "execute_result"
    }
   ],
   "source": [
    "label"
   ]
  },
  {
   "cell_type": "code",
   "execution_count": 490,
   "id": "b6058a20",
   "metadata": {},
   "outputs": [
    {
     "data": {
      "text/plain": [
       "tensor([[100, 101, 102, 103, 104, 105, 106, 107, 108, 109],\n",
       "        [100, 101, 102, 103, 104, 105, 106, 107, 108, 109],\n",
       "        [100, 101, 102, 103, 104, 105, 106, 107, 108, 109],\n",
       "        [100, 101, 102, 103, 104, 105, 106, 107, 108, 109]])"
      ]
     },
     "execution_count": 490,
     "metadata": {},
     "output_type": "execute_result"
    }
   ],
   "source": [
    "label.expand(4, 10)"
   ]
  },
  {
   "cell_type": "code",
   "execution_count": 491,
   "id": "f3076751",
   "metadata": {},
   "outputs": [
    {
     "data": {
      "text/plain": [
       "tensor([[3, 1, 8],\n",
       "        [8, 0, 5],\n",
       "        [8, 3, 2],\n",
       "        [8, 3, 7]])"
      ]
     },
     "execution_count": 491,
     "metadata": {},
     "output_type": "execute_result"
    }
   ],
   "source": [
    "idx.long()"
   ]
  },
  {
   "cell_type": "code",
   "execution_count": 492,
   "id": "ee9db969",
   "metadata": {},
   "outputs": [
    {
     "data": {
      "text/plain": [
       "tensor([[103, 101, 108],\n",
       "        [108, 100, 105],\n",
       "        [108, 103, 102],\n",
       "        [108, 103, 107]])"
      ]
     },
     "execution_count": 492,
     "metadata": {},
     "output_type": "execute_result"
    }
   ],
   "source": [
    "torch.gather(label.expand(4, 10), dim=1, index=idx.long())"
   ]
  },
  {
   "cell_type": "markdown",
   "id": "5e328199",
   "metadata": {},
   "source": [
    "# 维度变换操作"
   ]
  },
  {
   "cell_type": "markdown",
   "id": "7ed9cd52",
   "metadata": {},
   "source": [
    "## view或reshape"
   ]
  },
  {
   "cell_type": "code",
   "execution_count": 493,
   "id": "612e0b98",
   "metadata": {},
   "outputs": [],
   "source": [
    "a = torch.rand(4, 1, 28, 28)"
   ]
  },
  {
   "cell_type": "code",
   "execution_count": 494,
   "id": "9b950e55",
   "metadata": {},
   "outputs": [
    {
     "data": {
      "text/plain": [
       "torch.Size([4, 1, 28, 28])"
      ]
     },
     "execution_count": 494,
     "metadata": {},
     "output_type": "execute_result"
    }
   ],
   "source": [
    "a.shape"
   ]
  },
  {
   "cell_type": "code",
   "execution_count": 495,
   "id": "8233765a",
   "metadata": {},
   "outputs": [
    {
     "data": {
      "text/plain": [
       "tensor([[0.1880, 0.6344, 0.8994,  ..., 0.6564, 0.6437, 0.7584],\n",
       "        [0.5005, 0.4223, 0.2604,  ..., 0.7820, 0.5412, 0.0887],\n",
       "        [0.0632, 0.4828, 0.9339,  ..., 0.3441, 0.6145, 0.9602],\n",
       "        [0.7054, 0.6330, 0.1112,  ..., 0.1672, 0.6748, 0.2250]])"
      ]
     },
     "execution_count": 495,
     "metadata": {},
     "output_type": "execute_result"
    }
   ],
   "source": [
    "a.view(4, 28 * 28)"
   ]
  },
  {
   "cell_type": "code",
   "execution_count": 496,
   "id": "faa709da",
   "metadata": {},
   "outputs": [
    {
     "data": {
      "text/plain": [
       "torch.Size([4, 784])"
      ]
     },
     "execution_count": 496,
     "metadata": {},
     "output_type": "execute_result"
    }
   ],
   "source": [
    "a.view(4, 28 * 28).shape"
   ]
  },
  {
   "cell_type": "code",
   "execution_count": 497,
   "id": "28d7ae09",
   "metadata": {},
   "outputs": [
    {
     "data": {
      "text/plain": [
       "torch.Size([112, 28])"
      ]
     },
     "execution_count": 497,
     "metadata": {},
     "output_type": "execute_result"
    }
   ],
   "source": [
    "a.view(4 * 28, 28).shape"
   ]
  },
  {
   "cell_type": "code",
   "execution_count": 498,
   "id": "ea7a58a6",
   "metadata": {},
   "outputs": [
    {
     "data": {
      "text/plain": [
       "torch.Size([4, 28, 28])"
      ]
     },
     "execution_count": 498,
     "metadata": {},
     "output_type": "execute_result"
    }
   ],
   "source": [
    "a.view(4, 28, 28).shape"
   ]
  },
  {
   "cell_type": "code",
   "execution_count": 499,
   "id": "4b0f155d",
   "metadata": {},
   "outputs": [],
   "source": [
    "b = a.view(4, 784)"
   ]
  },
  {
   "cell_type": "code",
   "execution_count": 500,
   "id": "55d88643",
   "metadata": {},
   "outputs": [
    {
     "data": {
      "text/plain": [
       "torch.Size([4, 28, 28, 1])"
      ]
     },
     "execution_count": 500,
     "metadata": {},
     "output_type": "execute_result"
    }
   ],
   "source": [
    "b.view(4, 28, 28, 1).shape"
   ]
  },
  {
   "cell_type": "code",
   "execution_count": 501,
   "id": "f1cbd4ea",
   "metadata": {},
   "outputs": [
    {
     "ename": "RuntimeError",
     "evalue": "shape '[4, 783]' is invalid for input of size 3136",
     "output_type": "error",
     "traceback": [
      "\u001b[1;31m---------------------------------------------------------------------------\u001b[0m",
      "\u001b[1;31mRuntimeError\u001b[0m                              Traceback (most recent call last)",
      "Cell \u001b[1;32mIn[501], line 2\u001b[0m\n\u001b[0;32m      1\u001b[0m \u001b[38;5;66;03m# 以下语句会报错，因为28*28!=783\u001b[39;00m\n\u001b[1;32m----> 2\u001b[0m \u001b[43ma\u001b[49m\u001b[38;5;241;43m.\u001b[39;49m\u001b[43mview\u001b[49m\u001b[43m(\u001b[49m\u001b[38;5;241;43m4\u001b[39;49m\u001b[43m,\u001b[49m\u001b[43m \u001b[49m\u001b[38;5;241;43m783\u001b[39;49m\u001b[43m)\u001b[49m\n",
      "\u001b[1;31mRuntimeError\u001b[0m: shape '[4, 783]' is invalid for input of size 3136"
     ]
    }
   ],
   "source": [
    "# 以下语句会报错，因为28*28!=783\n",
    "a.view(4, 783)"
   ]
  },
  {
   "cell_type": "markdown",
   "id": "f7cd6a65",
   "metadata": {},
   "source": [
    "## unsqueeze（增加大小为1的维度）"
   ]
  },
  {
   "cell_type": "code",
   "execution_count": 502,
   "id": "b2993c66",
   "metadata": {},
   "outputs": [
    {
     "data": {
      "text/plain": [
       "torch.Size([4, 1, 28, 28])"
      ]
     },
     "execution_count": 502,
     "metadata": {},
     "output_type": "execute_result"
    }
   ],
   "source": [
    "a.shape"
   ]
  },
  {
   "cell_type": "code",
   "execution_count": 503,
   "id": "c7e964ea",
   "metadata": {},
   "outputs": [
    {
     "data": {
      "text/plain": [
       "torch.Size([1, 4, 1, 28, 28])"
      ]
     },
     "execution_count": 503,
     "metadata": {},
     "output_type": "execute_result"
    }
   ],
   "source": [
    "a.unsqueeze(0).shape"
   ]
  },
  {
   "cell_type": "code",
   "execution_count": 504,
   "id": "423731bb",
   "metadata": {},
   "outputs": [
    {
     "data": {
      "text/plain": [
       "torch.Size([4, 1, 28, 28, 1])"
      ]
     },
     "execution_count": 504,
     "metadata": {},
     "output_type": "execute_result"
    }
   ],
   "source": [
    "a.unsqueeze(-1).shape"
   ]
  },
  {
   "cell_type": "code",
   "execution_count": 505,
   "id": "b94a28c5",
   "metadata": {},
   "outputs": [
    {
     "data": {
      "text/plain": [
       "torch.Size([4, 1, 28, 28, 1])"
      ]
     },
     "execution_count": 505,
     "metadata": {},
     "output_type": "execute_result"
    }
   ],
   "source": [
    "a.unsqueeze(4).shape"
   ]
  },
  {
   "cell_type": "code",
   "execution_count": 506,
   "id": "2ea991f6",
   "metadata": {},
   "outputs": [
    {
     "data": {
      "text/plain": [
       "torch.Size([4, 1, 1, 28, 28])"
      ]
     },
     "execution_count": 506,
     "metadata": {},
     "output_type": "execute_result"
    }
   ],
   "source": [
    "a.unsqueeze(-4).shape"
   ]
  },
  {
   "cell_type": "code",
   "execution_count": 507,
   "id": "867f7e82",
   "metadata": {},
   "outputs": [
    {
     "data": {
      "text/plain": [
       "torch.Size([1, 4, 1, 28, 28])"
      ]
     },
     "execution_count": 507,
     "metadata": {},
     "output_type": "execute_result"
    }
   ],
   "source": [
    "a.unsqueeze(-5).shape"
   ]
  },
  {
   "cell_type": "code",
   "execution_count": 508,
   "id": "a02bf183",
   "metadata": {},
   "outputs": [
    {
     "ename": "IndexError",
     "evalue": "Dimension out of range (expected to be in range of [-5, 4], but got 5)",
     "output_type": "error",
     "traceback": [
      "\u001b[1;31m---------------------------------------------------------------------------\u001b[0m",
      "\u001b[1;31mIndexError\u001b[0m                                Traceback (most recent call last)",
      "Cell \u001b[1;32mIn[508], line 2\u001b[0m\n\u001b[0;32m      1\u001b[0m \u001b[38;5;66;03m# 以下语句会报错，维度超出范围\u001b[39;00m\n\u001b[1;32m----> 2\u001b[0m \u001b[43ma\u001b[49m\u001b[38;5;241;43m.\u001b[39;49m\u001b[43munsqueeze\u001b[49m\u001b[43m(\u001b[49m\u001b[38;5;241;43m5\u001b[39;49m\u001b[43m)\u001b[49m\u001b[38;5;241m.\u001b[39mshape\n",
      "\u001b[1;31mIndexError\u001b[0m: Dimension out of range (expected to be in range of [-5, 4], but got 5)"
     ]
    }
   ],
   "source": [
    "# 以下语句会报错，维度超出范围\n",
    "a.unsqueeze(5).shape"
   ]
  },
  {
   "cell_type": "code",
   "execution_count": 509,
   "id": "dcf585fc",
   "metadata": {},
   "outputs": [
    {
     "data": {
      "text/plain": [
       "tensor([1.2000, 2.3000])"
      ]
     },
     "execution_count": 509,
     "metadata": {},
     "output_type": "execute_result"
    }
   ],
   "source": [
    "a = torch.tensor([1.2, 2.3])\n",
    "a"
   ]
  },
  {
   "cell_type": "code",
   "execution_count": 510,
   "id": "9ff5e7b9",
   "metadata": {},
   "outputs": [
    {
     "data": {
      "text/plain": [
       "torch.Size([2])"
      ]
     },
     "execution_count": 510,
     "metadata": {},
     "output_type": "execute_result"
    }
   ],
   "source": [
    "a.shape"
   ]
  },
  {
   "cell_type": "code",
   "execution_count": 511,
   "id": "d32df5c4",
   "metadata": {},
   "outputs": [
    {
     "data": {
      "text/plain": [
       "tensor([[1.2000],\n",
       "        [2.3000]])"
      ]
     },
     "execution_count": 511,
     "metadata": {},
     "output_type": "execute_result"
    }
   ],
   "source": [
    "a.unsqueeze(-1)"
   ]
  },
  {
   "cell_type": "code",
   "execution_count": 512,
   "id": "b1f07c9d",
   "metadata": {},
   "outputs": [
    {
     "data": {
      "text/plain": [
       "tensor([[1.2000, 2.3000]])"
      ]
     },
     "execution_count": 512,
     "metadata": {},
     "output_type": "execute_result"
    }
   ],
   "source": [
    "a.unsqueeze(0)"
   ]
  },
  {
   "cell_type": "code",
   "execution_count": 513,
   "id": "357efe03",
   "metadata": {},
   "outputs": [
    {
     "data": {
      "text/plain": [
       "torch.Size([32])"
      ]
     },
     "execution_count": 513,
     "metadata": {},
     "output_type": "execute_result"
    }
   ],
   "source": [
    "b = torch.rand(32)\n",
    "b.shape"
   ]
  },
  {
   "cell_type": "code",
   "execution_count": 514,
   "id": "41d40e63",
   "metadata": {},
   "outputs": [
    {
     "data": {
      "text/plain": [
       "torch.Size([1, 32, 1, 1])"
      ]
     },
     "execution_count": 514,
     "metadata": {},
     "output_type": "execute_result"
    }
   ],
   "source": [
    "b = b.unsqueeze(1).unsqueeze(2).unsqueeze(0)\n",
    "b.shape"
   ]
  },
  {
   "cell_type": "markdown",
   "id": "a8ad6747",
   "metadata": {},
   "source": [
    "## squeeze（压缩大小为1的维度）"
   ]
  },
  {
   "cell_type": "code",
   "execution_count": 515,
   "id": "bdfddf36",
   "metadata": {},
   "outputs": [
    {
     "data": {
      "text/plain": [
       "torch.Size([1, 32, 1, 1])"
      ]
     },
     "execution_count": 515,
     "metadata": {},
     "output_type": "execute_result"
    }
   ],
   "source": [
    "b.shape"
   ]
  },
  {
   "cell_type": "code",
   "execution_count": 516,
   "id": "4390ed10",
   "metadata": {},
   "outputs": [
    {
     "data": {
      "text/plain": [
       "torch.Size([32])"
      ]
     },
     "execution_count": 516,
     "metadata": {},
     "output_type": "execute_result"
    }
   ],
   "source": [
    "b.squeeze().shape"
   ]
  },
  {
   "cell_type": "code",
   "execution_count": 517,
   "id": "9cfb986e",
   "metadata": {},
   "outputs": [
    {
     "data": {
      "text/plain": [
       "torch.Size([32, 1, 1])"
      ]
     },
     "execution_count": 517,
     "metadata": {},
     "output_type": "execute_result"
    }
   ],
   "source": [
    "b.squeeze(0).shape"
   ]
  },
  {
   "cell_type": "code",
   "execution_count": 518,
   "id": "1a30d060",
   "metadata": {},
   "outputs": [
    {
     "data": {
      "text/plain": [
       "torch.Size([1, 32, 1])"
      ]
     },
     "execution_count": 518,
     "metadata": {},
     "output_type": "execute_result"
    }
   ],
   "source": [
    "b.squeeze(-1).shape"
   ]
  },
  {
   "cell_type": "code",
   "execution_count": 519,
   "id": "fc4570c3",
   "metadata": {},
   "outputs": [
    {
     "data": {
      "text/plain": [
       "torch.Size([1, 32, 1, 1])"
      ]
     },
     "execution_count": 519,
     "metadata": {},
     "output_type": "execute_result"
    }
   ],
   "source": [
    "b.squeeze(1).shape"
   ]
  },
  {
   "cell_type": "code",
   "execution_count": 520,
   "id": "3d517da6",
   "metadata": {},
   "outputs": [
    {
     "data": {
      "text/plain": [
       "torch.Size([32, 1, 1])"
      ]
     },
     "execution_count": 520,
     "metadata": {},
     "output_type": "execute_result"
    }
   ],
   "source": [
    "b.squeeze(-4).shape"
   ]
  },
  {
   "cell_type": "markdown",
   "id": "f129b910",
   "metadata": {},
   "source": [
    "## expand（广播）"
   ]
  },
  {
   "cell_type": "code",
   "execution_count": 521,
   "id": "a8e7246a",
   "metadata": {},
   "outputs": [],
   "source": [
    "a = torch.rand(4, 32, 14, 14)"
   ]
  },
  {
   "cell_type": "code",
   "execution_count": 522,
   "id": "e1d4fc9b",
   "metadata": {},
   "outputs": [
    {
     "data": {
      "text/plain": [
       "torch.Size([1, 32, 1, 1])"
      ]
     },
     "execution_count": 522,
     "metadata": {},
     "output_type": "execute_result"
    }
   ],
   "source": [
    "b.shape"
   ]
  },
  {
   "cell_type": "code",
   "execution_count": 523,
   "id": "103c8036",
   "metadata": {},
   "outputs": [
    {
     "data": {
      "text/plain": [
       "torch.Size([4, 32, 14, 14])"
      ]
     },
     "execution_count": 523,
     "metadata": {},
     "output_type": "execute_result"
    }
   ],
   "source": [
    "b.expand(4, 32, 14, 14).shape"
   ]
  },
  {
   "cell_type": "code",
   "execution_count": 524,
   "id": "eb067702",
   "metadata": {},
   "outputs": [
    {
     "data": {
      "text/plain": [
       "torch.Size([1, 32, 1, 1])"
      ]
     },
     "execution_count": 524,
     "metadata": {},
     "output_type": "execute_result"
    }
   ],
   "source": [
    "b.expand(-1, 32, -1, -1).shape"
   ]
  },
  {
   "cell_type": "code",
   "execution_count": 525,
   "id": "47d7ec4e",
   "metadata": {},
   "outputs": [
    {
     "data": {
      "text/plain": [
       "torch.Size([1, 32, 1, -4])"
      ]
     },
     "execution_count": 525,
     "metadata": {},
     "output_type": "execute_result"
    }
   ],
   "source": [
    "b.expand(-1, 32, -1, -4).shape"
   ]
  },
  {
   "cell_type": "code",
   "execution_count": 526,
   "id": "8737dbcd",
   "metadata": {},
   "outputs": [],
   "source": [
    "c = torch.rand(1, 2)"
   ]
  },
  {
   "cell_type": "code",
   "execution_count": 527,
   "id": "9728b1c9",
   "metadata": {},
   "outputs": [
    {
     "data": {
      "text/plain": [
       "tensor([[0.3310, 0.4445]])"
      ]
     },
     "execution_count": 527,
     "metadata": {},
     "output_type": "execute_result"
    }
   ],
   "source": [
    "c"
   ]
  },
  {
   "cell_type": "code",
   "execution_count": 528,
   "id": "20327f5b",
   "metadata": {},
   "outputs": [
    {
     "data": {
      "text/plain": [
       "tensor([[0.3310, 0.4445],\n",
       "        [0.3310, 0.4445],\n",
       "        [0.3310, 0.4445]])"
      ]
     },
     "execution_count": 528,
     "metadata": {},
     "output_type": "execute_result"
    }
   ],
   "source": [
    "c.expand(3, -1)"
   ]
  },
  {
   "cell_type": "markdown",
   "id": "1c13b28e",
   "metadata": {},
   "source": [
    "## repeat"
   ]
  },
  {
   "cell_type": "code",
   "execution_count": 529,
   "id": "756af41a",
   "metadata": {},
   "outputs": [],
   "source": [
    "b = torch.randn(1, 32, 1, 1)"
   ]
  },
  {
   "cell_type": "code",
   "execution_count": 530,
   "id": "a6d6d6cf",
   "metadata": {},
   "outputs": [
    {
     "data": {
      "text/plain": [
       "torch.Size([1, 32, 1, 1])"
      ]
     },
     "execution_count": 530,
     "metadata": {},
     "output_type": "execute_result"
    }
   ],
   "source": [
    "b.shape"
   ]
  },
  {
   "cell_type": "code",
   "execution_count": 531,
   "id": "336f0e70",
   "metadata": {},
   "outputs": [
    {
     "data": {
      "text/plain": [
       "torch.Size([4, 1024, 1, 1])"
      ]
     },
     "execution_count": 531,
     "metadata": {},
     "output_type": "execute_result"
    }
   ],
   "source": [
    "b.repeat(4, 32, 1, 1).shape"
   ]
  },
  {
   "cell_type": "code",
   "execution_count": 532,
   "id": "4de8fddb",
   "metadata": {},
   "outputs": [
    {
     "data": {
      "text/plain": [
       "torch.Size([4, 32, 1, 1])"
      ]
     },
     "execution_count": 532,
     "metadata": {},
     "output_type": "execute_result"
    }
   ],
   "source": [
    "b.repeat(4, 1, 1, 1).shape"
   ]
  },
  {
   "cell_type": "code",
   "execution_count": 533,
   "id": "6b96c7ce",
   "metadata": {},
   "outputs": [
    {
     "data": {
      "text/plain": [
       "torch.Size([4, 32, 32, 32])"
      ]
     },
     "execution_count": 533,
     "metadata": {},
     "output_type": "execute_result"
    }
   ],
   "source": [
    "b.repeat(4, 1, 32, 32).shape"
   ]
  },
  {
   "cell_type": "markdown",
   "id": "5dc9e44b",
   "metadata": {},
   "source": [
    "## t（转置）"
   ]
  },
  {
   "cell_type": "code",
   "execution_count": 534,
   "id": "c8c58e92",
   "metadata": {},
   "outputs": [
    {
     "ename": "RuntimeError",
     "evalue": "t() expects a tensor with <= 2 dimensions, but self is 4D",
     "output_type": "error",
     "traceback": [
      "\u001b[1;31m---------------------------------------------------------------------------\u001b[0m",
      "\u001b[1;31mRuntimeError\u001b[0m                              Traceback (most recent call last)",
      "Cell \u001b[1;32mIn[534], line 2\u001b[0m\n\u001b[0;32m      1\u001b[0m \u001b[38;5;66;03m# 以下语句会报错，因为维度超出范围\u001b[39;00m\n\u001b[1;32m----> 2\u001b[0m \u001b[43mb\u001b[49m\u001b[38;5;241;43m.\u001b[39;49m\u001b[43mt\u001b[49m\u001b[43m(\u001b[49m\u001b[43m)\u001b[49m\n",
      "\u001b[1;31mRuntimeError\u001b[0m: t() expects a tensor with <= 2 dimensions, but self is 4D"
     ]
    }
   ],
   "source": [
    "# 以下语句会报错，因为维度超出范围\n",
    "b.t()"
   ]
  },
  {
   "cell_type": "code",
   "execution_count": 535,
   "id": "8619d454",
   "metadata": {},
   "outputs": [],
   "source": [
    "a = torch.randn(3, 4)"
   ]
  },
  {
   "cell_type": "code",
   "execution_count": 536,
   "id": "ebb2a89d",
   "metadata": {},
   "outputs": [
    {
     "data": {
      "text/plain": [
       "tensor([[ 0.8852,  1.2422, -2.1347],\n",
       "        [-1.6992,  1.0840, -0.9387],\n",
       "        [ 1.6018,  0.5944, -0.3059],\n",
       "        [ 0.8437,  0.1979, -1.6661]])"
      ]
     },
     "execution_count": 536,
     "metadata": {},
     "output_type": "execute_result"
    }
   ],
   "source": [
    "a.t()"
   ]
  },
  {
   "cell_type": "markdown",
   "id": "5ca22f34",
   "metadata": {},
   "source": [
    "## transpose（两两交换张量的维度）与contiguous"
   ]
  },
  {
   "cell_type": "code",
   "execution_count": 537,
   "id": "237e5a26",
   "metadata": {},
   "outputs": [],
   "source": [
    "a = torch.randn(4, 3, 32, 32)"
   ]
  },
  {
   "cell_type": "code",
   "execution_count": 538,
   "id": "b31b083d",
   "metadata": {},
   "outputs": [
    {
     "data": {
      "text/plain": [
       "torch.Size([4, 3, 32, 32])"
      ]
     },
     "execution_count": 538,
     "metadata": {},
     "output_type": "execute_result"
    }
   ],
   "source": [
    "a.shape"
   ]
  },
  {
   "cell_type": "code",
   "execution_count": 539,
   "id": "d6768bc4",
   "metadata": {},
   "outputs": [],
   "source": [
    "a1 = a.transpose(1, 3)"
   ]
  },
  {
   "cell_type": "code",
   "execution_count": 540,
   "id": "3877e353",
   "metadata": {},
   "outputs": [
    {
     "data": {
      "text/plain": [
       "torch.Size([4, 32, 32, 3])"
      ]
     },
     "execution_count": 540,
     "metadata": {},
     "output_type": "execute_result"
    }
   ],
   "source": [
    "a1.shape"
   ]
  },
  {
   "cell_type": "code",
   "execution_count": 541,
   "id": "3164f476",
   "metadata": {},
   "outputs": [],
   "source": [
    "a1 = a.transpose(1, 3).reshape(4, 3*32*32).reshape(4, 3, 32, 32)"
   ]
  },
  {
   "cell_type": "code",
   "execution_count": 542,
   "id": "6fa1f057",
   "metadata": {},
   "outputs": [
    {
     "ename": "RuntimeError",
     "evalue": "view size is not compatible with input tensor's size and stride (at least one dimension spans across two contiguous subspaces). Use .reshape(...) instead.",
     "output_type": "error",
     "traceback": [
      "\u001b[1;31m---------------------------------------------------------------------------\u001b[0m",
      "\u001b[1;31mRuntimeError\u001b[0m                              Traceback (most recent call last)",
      "Cell \u001b[1;32mIn[542], line 2\u001b[0m\n\u001b[0;32m      1\u001b[0m \u001b[38;5;66;03m# 以下语句会报错，因为不是连续内存，需要添加contiguous方法或者将view方法改为reshape方法\u001b[39;00m\n\u001b[1;32m----> 2\u001b[0m a1 \u001b[38;5;241m=\u001b[39m \u001b[43ma\u001b[49m\u001b[38;5;241;43m.\u001b[39;49m\u001b[43mtranspose\u001b[49m\u001b[43m(\u001b[49m\u001b[38;5;241;43m1\u001b[39;49m\u001b[43m,\u001b[49m\u001b[43m \u001b[49m\u001b[38;5;241;43m3\u001b[39;49m\u001b[43m)\u001b[49m\u001b[38;5;241;43m.\u001b[39;49m\u001b[43mview\u001b[49m\u001b[43m(\u001b[49m\u001b[38;5;241;43m4\u001b[39;49m\u001b[43m,\u001b[49m\u001b[43m \u001b[49m\u001b[38;5;241;43m3\u001b[39;49m\u001b[38;5;241;43m*\u001b[39;49m\u001b[38;5;241;43m32\u001b[39;49m\u001b[38;5;241;43m*\u001b[39;49m\u001b[38;5;241;43m32\u001b[39;49m\u001b[43m)\u001b[49m\u001b[38;5;241m.\u001b[39mview(\u001b[38;5;241m4\u001b[39m, \u001b[38;5;241m3\u001b[39m, \u001b[38;5;241m32\u001b[39m, \u001b[38;5;241m32\u001b[39m)\n",
      "\u001b[1;31mRuntimeError\u001b[0m: view size is not compatible with input tensor's size and stride (at least one dimension spans across two contiguous subspaces). Use .reshape(...) instead."
     ]
    }
   ],
   "source": [
    "# 以下语句会报错，因为不是连续内存，需要添加contiguous方法或者将view方法改为reshape方法\n",
    "a1 = a.transpose(1, 3).view(4, 3*32*32).view(4, 3, 32, 32)"
   ]
  },
  {
   "cell_type": "code",
   "execution_count": 543,
   "id": "cbb9ab65",
   "metadata": {},
   "outputs": [],
   "source": [
    "# contiguous：返回一个连续内存的张量副本\n",
    "a1 = a.transpose(1, 3).contiguous().view(4, 3*32*32).view(4, 3, 32, 32)"
   ]
  },
  {
   "cell_type": "code",
   "execution_count": 544,
   "id": "213fa54c",
   "metadata": {},
   "outputs": [],
   "source": [
    "a2 = a.transpose(1, 3).contiguous().view(4, 3*32*32).view(4, 32, 32, 3).transpose(1, 3)"
   ]
  },
  {
   "cell_type": "code",
   "execution_count": 545,
   "id": "5d70ef9b",
   "metadata": {},
   "outputs": [
    {
     "data": {
      "text/plain": [
       "(torch.Size([4, 3, 32, 32]),\n",
       " torch.Size([4, 3, 32, 32]),\n",
       " torch.Size([4, 3, 32, 32]))"
      ]
     },
     "execution_count": 545,
     "metadata": {},
     "output_type": "execute_result"
    }
   ],
   "source": [
    "a.shape, a1.shape, a2.shape"
   ]
  },
  {
   "cell_type": "code",
   "execution_count": 546,
   "id": "dfa48cf7",
   "metadata": {},
   "outputs": [
    {
     "data": {
      "text/plain": [
       "tensor([[[[ True, False, False,  ..., False, False, False],\n",
       "          [False, False, False,  ..., False, False, False],\n",
       "          [False, False, False,  ..., False, False, False],\n",
       "          ...,\n",
       "          [False, False, False,  ..., False, False, False],\n",
       "          [False, False, False,  ..., False, False, False],\n",
       "          [False, False, False,  ..., False, False, False]],\n",
       "\n",
       "         [[False, False, False,  ..., False, False, False],\n",
       "          [False, False, False,  ..., False, False, False],\n",
       "          [False, False, False,  ..., False, False, False],\n",
       "          ...,\n",
       "          [False, False, False,  ..., False, False, False],\n",
       "          [False, False, False,  ..., False, False, False],\n",
       "          [False, False, False,  ..., False, False, False]],\n",
       "\n",
       "         [[False, False, False,  ..., False, False, False],\n",
       "          [False, False, False,  ..., False, False, False],\n",
       "          [False, False, False,  ..., False, False, False],\n",
       "          ...,\n",
       "          [False, False, False,  ..., False, False, False],\n",
       "          [False, False, False,  ..., False, False, False],\n",
       "          [False, False, False,  ..., False, False,  True]]],\n",
       "\n",
       "\n",
       "        [[[ True, False, False,  ..., False, False, False],\n",
       "          [False, False, False,  ..., False, False, False],\n",
       "          [False, False, False,  ..., False, False, False],\n",
       "          ...,\n",
       "          [False, False, False,  ..., False, False, False],\n",
       "          [False, False, False,  ..., False, False, False],\n",
       "          [False, False, False,  ..., False, False, False]],\n",
       "\n",
       "         [[False, False, False,  ..., False, False, False],\n",
       "          [False, False, False,  ..., False, False, False],\n",
       "          [False, False, False,  ..., False, False, False],\n",
       "          ...,\n",
       "          [False, False, False,  ..., False, False, False],\n",
       "          [False, False, False,  ..., False, False, False],\n",
       "          [False, False, False,  ..., False, False, False]],\n",
       "\n",
       "         [[False, False, False,  ..., False, False, False],\n",
       "          [False, False, False,  ..., False, False, False],\n",
       "          [False, False, False,  ..., False, False, False],\n",
       "          ...,\n",
       "          [False, False, False,  ..., False, False, False],\n",
       "          [False, False, False,  ..., False, False, False],\n",
       "          [False, False, False,  ..., False, False,  True]]],\n",
       "\n",
       "\n",
       "        [[[ True, False, False,  ..., False, False, False],\n",
       "          [False, False, False,  ..., False, False, False],\n",
       "          [False, False, False,  ..., False, False, False],\n",
       "          ...,\n",
       "          [False, False, False,  ..., False, False, False],\n",
       "          [False, False, False,  ..., False, False, False],\n",
       "          [False, False, False,  ..., False, False, False]],\n",
       "\n",
       "         [[False, False, False,  ..., False, False, False],\n",
       "          [False, False, False,  ..., False, False, False],\n",
       "          [False, False, False,  ..., False, False, False],\n",
       "          ...,\n",
       "          [False, False, False,  ..., False, False, False],\n",
       "          [False, False, False,  ..., False, False, False],\n",
       "          [False, False, False,  ..., False, False, False]],\n",
       "\n",
       "         [[False, False, False,  ..., False, False, False],\n",
       "          [False, False, False,  ..., False, False, False],\n",
       "          [False, False, False,  ..., False, False, False],\n",
       "          ...,\n",
       "          [False, False, False,  ..., False, False, False],\n",
       "          [False, False, False,  ..., False, False, False],\n",
       "          [False, False, False,  ..., False, False,  True]]],\n",
       "\n",
       "\n",
       "        [[[ True, False, False,  ..., False, False, False],\n",
       "          [False, False, False,  ..., False, False, False],\n",
       "          [False, False, False,  ..., False, False, False],\n",
       "          ...,\n",
       "          [False, False, False,  ..., False, False, False],\n",
       "          [False, False, False,  ..., False, False, False],\n",
       "          [False, False, False,  ..., False, False, False]],\n",
       "\n",
       "         [[False, False, False,  ..., False, False, False],\n",
       "          [False, False, False,  ..., False, False, False],\n",
       "          [False, False, False,  ..., False, False, False],\n",
       "          ...,\n",
       "          [False, False, False,  ..., False, False, False],\n",
       "          [False, False, False,  ..., False, False, False],\n",
       "          [False, False, False,  ..., False, False, False]],\n",
       "\n",
       "         [[False, False, False,  ..., False, False, False],\n",
       "          [False, False, False,  ..., False, False, False],\n",
       "          [False, False, False,  ..., False, False, False],\n",
       "          ...,\n",
       "          [False, False, False,  ..., False, False, False],\n",
       "          [False, False, False,  ..., False, False, False],\n",
       "          [False, False, False,  ..., False, False,  True]]]])"
      ]
     },
     "execution_count": 546,
     "metadata": {},
     "output_type": "execute_result"
    }
   ],
   "source": [
    "torch.eq(a, a1)"
   ]
  },
  {
   "cell_type": "code",
   "execution_count": 547,
   "id": "fd719dcc",
   "metadata": {},
   "outputs": [
    {
     "data": {
      "text/plain": [
       "tensor(False)"
      ]
     },
     "execution_count": 547,
     "metadata": {},
     "output_type": "execute_result"
    }
   ],
   "source": [
    "torch.all(torch.eq(a, a1))"
   ]
  },
  {
   "cell_type": "code",
   "execution_count": 548,
   "id": "9932edc2",
   "metadata": {},
   "outputs": [
    {
     "data": {
      "text/plain": [
       "tensor([[[[True, True, True,  ..., True, True, True],\n",
       "          [True, True, True,  ..., True, True, True],\n",
       "          [True, True, True,  ..., True, True, True],\n",
       "          ...,\n",
       "          [True, True, True,  ..., True, True, True],\n",
       "          [True, True, True,  ..., True, True, True],\n",
       "          [True, True, True,  ..., True, True, True]],\n",
       "\n",
       "         [[True, True, True,  ..., True, True, True],\n",
       "          [True, True, True,  ..., True, True, True],\n",
       "          [True, True, True,  ..., True, True, True],\n",
       "          ...,\n",
       "          [True, True, True,  ..., True, True, True],\n",
       "          [True, True, True,  ..., True, True, True],\n",
       "          [True, True, True,  ..., True, True, True]],\n",
       "\n",
       "         [[True, True, True,  ..., True, True, True],\n",
       "          [True, True, True,  ..., True, True, True],\n",
       "          [True, True, True,  ..., True, True, True],\n",
       "          ...,\n",
       "          [True, True, True,  ..., True, True, True],\n",
       "          [True, True, True,  ..., True, True, True],\n",
       "          [True, True, True,  ..., True, True, True]]],\n",
       "\n",
       "\n",
       "        [[[True, True, True,  ..., True, True, True],\n",
       "          [True, True, True,  ..., True, True, True],\n",
       "          [True, True, True,  ..., True, True, True],\n",
       "          ...,\n",
       "          [True, True, True,  ..., True, True, True],\n",
       "          [True, True, True,  ..., True, True, True],\n",
       "          [True, True, True,  ..., True, True, True]],\n",
       "\n",
       "         [[True, True, True,  ..., True, True, True],\n",
       "          [True, True, True,  ..., True, True, True],\n",
       "          [True, True, True,  ..., True, True, True],\n",
       "          ...,\n",
       "          [True, True, True,  ..., True, True, True],\n",
       "          [True, True, True,  ..., True, True, True],\n",
       "          [True, True, True,  ..., True, True, True]],\n",
       "\n",
       "         [[True, True, True,  ..., True, True, True],\n",
       "          [True, True, True,  ..., True, True, True],\n",
       "          [True, True, True,  ..., True, True, True],\n",
       "          ...,\n",
       "          [True, True, True,  ..., True, True, True],\n",
       "          [True, True, True,  ..., True, True, True],\n",
       "          [True, True, True,  ..., True, True, True]]],\n",
       "\n",
       "\n",
       "        [[[True, True, True,  ..., True, True, True],\n",
       "          [True, True, True,  ..., True, True, True],\n",
       "          [True, True, True,  ..., True, True, True],\n",
       "          ...,\n",
       "          [True, True, True,  ..., True, True, True],\n",
       "          [True, True, True,  ..., True, True, True],\n",
       "          [True, True, True,  ..., True, True, True]],\n",
       "\n",
       "         [[True, True, True,  ..., True, True, True],\n",
       "          [True, True, True,  ..., True, True, True],\n",
       "          [True, True, True,  ..., True, True, True],\n",
       "          ...,\n",
       "          [True, True, True,  ..., True, True, True],\n",
       "          [True, True, True,  ..., True, True, True],\n",
       "          [True, True, True,  ..., True, True, True]],\n",
       "\n",
       "         [[True, True, True,  ..., True, True, True],\n",
       "          [True, True, True,  ..., True, True, True],\n",
       "          [True, True, True,  ..., True, True, True],\n",
       "          ...,\n",
       "          [True, True, True,  ..., True, True, True],\n",
       "          [True, True, True,  ..., True, True, True],\n",
       "          [True, True, True,  ..., True, True, True]]],\n",
       "\n",
       "\n",
       "        [[[True, True, True,  ..., True, True, True],\n",
       "          [True, True, True,  ..., True, True, True],\n",
       "          [True, True, True,  ..., True, True, True],\n",
       "          ...,\n",
       "          [True, True, True,  ..., True, True, True],\n",
       "          [True, True, True,  ..., True, True, True],\n",
       "          [True, True, True,  ..., True, True, True]],\n",
       "\n",
       "         [[True, True, True,  ..., True, True, True],\n",
       "          [True, True, True,  ..., True, True, True],\n",
       "          [True, True, True,  ..., True, True, True],\n",
       "          ...,\n",
       "          [True, True, True,  ..., True, True, True],\n",
       "          [True, True, True,  ..., True, True, True],\n",
       "          [True, True, True,  ..., True, True, True]],\n",
       "\n",
       "         [[True, True, True,  ..., True, True, True],\n",
       "          [True, True, True,  ..., True, True, True],\n",
       "          [True, True, True,  ..., True, True, True],\n",
       "          ...,\n",
       "          [True, True, True,  ..., True, True, True],\n",
       "          [True, True, True,  ..., True, True, True],\n",
       "          [True, True, True,  ..., True, True, True]]]])"
      ]
     },
     "execution_count": 548,
     "metadata": {},
     "output_type": "execute_result"
    }
   ],
   "source": [
    "torch.eq(a, a2)"
   ]
  },
  {
   "cell_type": "code",
   "execution_count": 549,
   "id": "29d12212",
   "metadata": {},
   "outputs": [
    {
     "data": {
      "text/plain": [
       "tensor(True)"
      ]
     },
     "execution_count": 549,
     "metadata": {},
     "output_type": "execute_result"
    }
   ],
   "source": [
    "torch.all(torch.eq(a, a2))"
   ]
  },
  {
   "cell_type": "markdown",
   "id": "31b7da5f",
   "metadata": {},
   "source": [
    "## permute（重新排列张量的维度）"
   ]
  },
  {
   "cell_type": "code",
   "execution_count": 550,
   "id": "309cd7e3",
   "metadata": {},
   "outputs": [],
   "source": [
    "a = torch.rand(4, 3, 28, 28)"
   ]
  },
  {
   "cell_type": "code",
   "execution_count": 551,
   "id": "48c077ee",
   "metadata": {},
   "outputs": [
    {
     "data": {
      "text/plain": [
       "torch.Size([4, 28, 28, 3])"
      ]
     },
     "execution_count": 551,
     "metadata": {},
     "output_type": "execute_result"
    }
   ],
   "source": [
    "a.transpose(1, 3).shape"
   ]
  },
  {
   "cell_type": "code",
   "execution_count": 552,
   "id": "ae343f8e",
   "metadata": {},
   "outputs": [],
   "source": [
    "b = torch.rand(4, 3, 28, 32)"
   ]
  },
  {
   "cell_type": "code",
   "execution_count": 553,
   "id": "a3499932",
   "metadata": {},
   "outputs": [
    {
     "data": {
      "text/plain": [
       "torch.Size([4, 32, 28, 3])"
      ]
     },
     "execution_count": 553,
     "metadata": {},
     "output_type": "execute_result"
    }
   ],
   "source": [
    "b.transpose(1, 3).shape"
   ]
  },
  {
   "cell_type": "code",
   "execution_count": 554,
   "id": "d3031dde",
   "metadata": {},
   "outputs": [
    {
     "data": {
      "text/plain": [
       "torch.Size([4, 28, 32, 3])"
      ]
     },
     "execution_count": 554,
     "metadata": {},
     "output_type": "execute_result"
    }
   ],
   "source": [
    "b.transpose(1, 3).transpose(1, 2).shape"
   ]
  },
  {
   "cell_type": "code",
   "execution_count": 555,
   "id": "ef1da0e1",
   "metadata": {},
   "outputs": [
    {
     "data": {
      "text/plain": [
       "torch.Size([4, 28, 32, 3])"
      ]
     },
     "execution_count": 555,
     "metadata": {},
     "output_type": "execute_result"
    }
   ],
   "source": [
    "b.permute(0, 2, 3, 1).shape"
   ]
  },
  {
   "cell_type": "markdown",
   "id": "9aeb761e",
   "metadata": {},
   "source": [
    "## Broadcast（自动广播）"
   ]
  },
  {
   "cell_type": "code",
   "execution_count": 556,
   "id": "ccbaefd2",
   "metadata": {},
   "outputs": [],
   "source": [
    "a = torch.rand(4, 32, 14, 14)"
   ]
  },
  {
   "cell_type": "code",
   "execution_count": 557,
   "id": "878c0140",
   "metadata": {},
   "outputs": [
    {
     "data": {
      "text/plain": [
       "torch.Size([4, 32, 14, 14])"
      ]
     },
     "execution_count": 557,
     "metadata": {},
     "output_type": "execute_result"
    }
   ],
   "source": [
    "(a + 5.0).shape"
   ]
  },
  {
   "cell_type": "code",
   "execution_count": 558,
   "id": "d1cf008e",
   "metadata": {},
   "outputs": [],
   "source": [
    "b = torch.rand(1, 32, 1, 1)"
   ]
  },
  {
   "cell_type": "code",
   "execution_count": 559,
   "id": "da7203cb",
   "metadata": {},
   "outputs": [
    {
     "data": {
      "text/plain": [
       "torch.Size([4, 32, 14, 14])"
      ]
     },
     "execution_count": 559,
     "metadata": {},
     "output_type": "execute_result"
    }
   ],
   "source": [
    "(a + b).shape"
   ]
  },
  {
   "cell_type": "code",
   "execution_count": 560,
   "id": "6ce7e392",
   "metadata": {},
   "outputs": [],
   "source": [
    "a = torch.rand(4, 32, 14, 14)"
   ]
  },
  {
   "cell_type": "code",
   "execution_count": 561,
   "id": "e5072722",
   "metadata": {},
   "outputs": [],
   "source": [
    "b = torch.rand(14, 14)"
   ]
  },
  {
   "cell_type": "code",
   "execution_count": 562,
   "id": "dc73b5dc",
   "metadata": {},
   "outputs": [
    {
     "data": {
      "text/plain": [
       "torch.Size([4, 32, 14, 14])"
      ]
     },
     "execution_count": 562,
     "metadata": {},
     "output_type": "execute_result"
    }
   ],
   "source": [
    "(a + b).shape"
   ]
  },
  {
   "cell_type": "code",
   "execution_count": 563,
   "id": "92bb4118",
   "metadata": {},
   "outputs": [],
   "source": [
    "a = torch.rand(4, 32, 14, 14)"
   ]
  },
  {
   "cell_type": "code",
   "execution_count": 564,
   "id": "81aadb3e",
   "metadata": {},
   "outputs": [],
   "source": [
    "b = torch.rand(2, 32, 14, 14)"
   ]
  },
  {
   "cell_type": "code",
   "execution_count": 565,
   "id": "e0acdd77",
   "metadata": {},
   "outputs": [
    {
     "ename": "RuntimeError",
     "evalue": "The size of tensor a (4) must match the size of tensor b (2) at non-singleton dimension 0",
     "output_type": "error",
     "traceback": [
      "\u001b[1;31m---------------------------------------------------------------------------\u001b[0m",
      "\u001b[1;31mRuntimeError\u001b[0m                              Traceback (most recent call last)",
      "Cell \u001b[1;32mIn[565], line 2\u001b[0m\n\u001b[0;32m      1\u001b[0m \u001b[38;5;66;03m# 以下语句会报错，因为不满足自动广播的条件\u001b[39;00m\n\u001b[1;32m----> 2\u001b[0m (\u001b[43ma\u001b[49m\u001b[43m \u001b[49m\u001b[38;5;241;43m+\u001b[39;49m\u001b[43m \u001b[49m\u001b[43mb\u001b[49m)\u001b[38;5;241m.\u001b[39mshape\n",
      "\u001b[1;31mRuntimeError\u001b[0m: The size of tensor a (4) must match the size of tensor b (2) at non-singleton dimension 0"
     ]
    }
   ],
   "source": [
    "# 以下语句会报错，因为不满足自动广播的条件\n",
    "(a + b).shape"
   ]
  },
  {
   "cell_type": "code",
   "execution_count": 566,
   "id": "bed38d72",
   "metadata": {},
   "outputs": [],
   "source": [
    "a = torch.rand(4, 3, 32, 32)"
   ]
  },
  {
   "cell_type": "code",
   "execution_count": 567,
   "id": "de82d071",
   "metadata": {},
   "outputs": [],
   "source": [
    "b = torch.rand(32, 32)"
   ]
  },
  {
   "cell_type": "code",
   "execution_count": 568,
   "id": "5dbfe899",
   "metadata": {},
   "outputs": [
    {
     "data": {
      "text/plain": [
       "torch.Size([4, 3, 32, 32])"
      ]
     },
     "execution_count": 568,
     "metadata": {},
     "output_type": "execute_result"
    }
   ],
   "source": [
    "(a + b).shape"
   ]
  },
  {
   "cell_type": "code",
   "execution_count": 569,
   "id": "67b3a771",
   "metadata": {},
   "outputs": [],
   "source": [
    "b = torch.rand(3, 1, 1)"
   ]
  },
  {
   "cell_type": "code",
   "execution_count": 570,
   "id": "520e12d8",
   "metadata": {},
   "outputs": [
    {
     "data": {
      "text/plain": [
       "torch.Size([4, 3, 32, 32])"
      ]
     },
     "execution_count": 570,
     "metadata": {},
     "output_type": "execute_result"
    }
   ],
   "source": [
    "(a + b).shape"
   ]
  },
  {
   "cell_type": "code",
   "execution_count": 571,
   "id": "275afab2",
   "metadata": {},
   "outputs": [],
   "source": [
    "b = torch.rand(1, 1, 1, 1)"
   ]
  },
  {
   "cell_type": "code",
   "execution_count": 572,
   "id": "1ca7373a",
   "metadata": {},
   "outputs": [
    {
     "data": {
      "text/plain": [
       "torch.Size([4, 3, 32, 32])"
      ]
     },
     "execution_count": 572,
     "metadata": {},
     "output_type": "execute_result"
    }
   ],
   "source": [
    "(a + b).shape"
   ]
  },
  {
   "cell_type": "code",
   "execution_count": 573,
   "id": "27abb831",
   "metadata": {},
   "outputs": [
    {
     "data": {
      "text/plain": [
       "tensor([[[[ 1.5918e+00, -9.1276e-01, -1.0572e+00,  ..., -1.5902e+00,\n",
       "            1.5675e+00, -3.0014e-01],\n",
       "          [-4.1147e-01,  1.2097e-01,  1.1191e+00,  ...,  1.8585e+00,\n",
       "           -1.8740e+00,  1.4371e+00],\n",
       "          [ 3.4123e+00, -2.7159e+00, -7.7433e-01,  ...,  5.2555e-01,\n",
       "           -4.1984e-01, -4.6692e-01],\n",
       "          ...,\n",
       "          [ 3.7377e-01, -1.2611e+00,  1.1759e+00,  ..., -2.0061e+00,\n",
       "           -1.5055e+00, -1.0576e+00],\n",
       "          [-5.7912e-01,  2.0296e+00, -1.5863e+00,  ...,  6.2675e-01,\n",
       "            2.1566e+00, -1.0203e+00],\n",
       "          [-9.4397e-01, -4.5876e-01,  1.1613e+00,  ..., -2.5645e+00,\n",
       "           -3.5190e+00,  4.5296e-02]],\n",
       "\n",
       "         [[-1.2100e+00, -1.2299e+00, -6.5159e-01,  ...,  2.9741e+00,\n",
       "            2.5350e-01, -1.4053e+00],\n",
       "          [ 2.0592e+00,  6.4845e-01,  7.1910e-02,  ..., -1.6886e+00,\n",
       "           -3.0242e+00,  1.0640e+00],\n",
       "          [-2.1995e+00,  1.1773e+00, -4.1358e-01,  ...,  2.1368e+00,\n",
       "           -1.5065e+00, -1.8433e+00],\n",
       "          ...,\n",
       "          [ 7.0132e-01,  1.3652e+00,  1.0459e+00,  ...,  1.2635e+00,\n",
       "            1.2759e+00, -1.4157e+00],\n",
       "          [ 2.4941e+00,  1.7871e+00,  1.0025e+00,  ...,  2.5699e+00,\n",
       "           -1.7771e+00,  2.3295e-01],\n",
       "          [-1.1748e+00,  2.5259e-01,  9.9229e-01,  ..., -1.0820e+00,\n",
       "           -7.3070e-01, -2.7284e+00]],\n",
       "\n",
       "         [[-2.4758e+00,  2.1325e+00,  7.7324e-01,  ..., -1.7492e-02,\n",
       "           -4.5422e-01, -1.2409e+00],\n",
       "          [-1.4814e+00, -6.2392e-01,  1.1546e+00,  ...,  1.0431e+00,\n",
       "            8.1334e-01, -5.2843e-01],\n",
       "          [ 1.3212e+00,  2.6707e-01,  3.8062e-01,  ...,  1.9622e+00,\n",
       "            4.9187e-01, -1.0386e+00],\n",
       "          ...,\n",
       "          [-7.7513e-01, -1.7837e+00,  8.2094e-01,  ..., -4.0249e-01,\n",
       "           -3.9424e-01,  8.3457e-01],\n",
       "          [ 2.4553e+00,  9.7260e-01,  2.6029e-01,  ...,  1.1824e+00,\n",
       "            4.3817e-01,  1.2514e+00],\n",
       "          [ 1.0906e+00, -3.5677e+00,  1.0301e+00,  ...,  5.1763e-01,\n",
       "            1.9855e+00,  1.9911e+00]],\n",
       "\n",
       "         ...,\n",
       "\n",
       "         [[ 3.5194e-01,  5.5312e-01,  8.3001e-01,  ...,  4.1140e-01,\n",
       "            1.3385e+00, -2.8262e+00],\n",
       "          [-8.1214e-01,  1.3125e+00,  1.6473e+00,  ...,  1.6539e+00,\n",
       "           -5.3624e-01, -3.0379e+00],\n",
       "          [ 1.2444e+00, -1.3573e-01, -1.0697e+00,  ...,  1.6898e+00,\n",
       "           -1.7672e-01, -1.2456e+00],\n",
       "          ...,\n",
       "          [ 2.4585e+00, -1.7289e+00, -4.6480e-01,  ..., -1.3100e+00,\n",
       "           -2.7899e+00, -1.5517e+00],\n",
       "          [-1.7407e-01,  3.2290e-01,  1.7193e+00,  ..., -9.7766e-01,\n",
       "           -1.8355e+00, -1.7736e+00],\n",
       "          [ 3.7492e-01, -2.8998e+00, -2.2707e+00,  ...,  2.6647e+00,\n",
       "            1.1839e-01, -9.9574e-01]],\n",
       "\n",
       "         [[-1.2601e+00,  9.4159e-01,  1.2039e+00,  ..., -4.9537e-01,\n",
       "           -1.1871e+00, -8.2376e-01],\n",
       "          [-1.1708e+00,  8.5853e-01, -1.3658e+00,  ..., -1.3763e+00,\n",
       "           -1.1453e+00,  5.0280e-01],\n",
       "          [-3.4173e+00, -1.0704e+00,  2.7515e-01,  ...,  1.7492e+00,\n",
       "           -1.4654e+00,  2.2646e+00],\n",
       "          ...,\n",
       "          [ 6.5941e-02,  3.2408e-01, -8.2232e-01,  ..., -2.9300e+00,\n",
       "            3.1681e+00, -1.0354e+00],\n",
       "          [-1.4385e+00,  2.2180e+00, -2.4151e-02,  ..., -2.8594e+00,\n",
       "           -7.0361e-01, -5.5455e-01],\n",
       "          [ 1.4152e+00,  1.0101e+00, -8.8903e-01,  ...,  6.1275e-02,\n",
       "            4.2622e-01,  9.1833e-01]],\n",
       "\n",
       "         [[ 3.3195e+00,  8.2451e-01, -1.1678e+00,  ..., -1.1576e+00,\n",
       "           -6.5843e-01,  6.7644e-01],\n",
       "          [-6.0812e-01, -1.8058e-01,  2.5129e-01,  ...,  1.8510e-01,\n",
       "           -1.3561e+00,  2.6796e+00],\n",
       "          [ 9.3343e-01,  6.0182e-01, -1.2751e+00,  ..., -6.3476e-02,\n",
       "            1.1655e+00,  2.9373e+00],\n",
       "          ...,\n",
       "          [ 1.6129e+00,  6.6380e-01, -5.0232e-01,  ...,  4.1177e-01,\n",
       "            2.3767e+00,  2.4913e+00],\n",
       "          [ 1.3468e+00, -3.0310e+00,  3.8978e-01,  ...,  1.4859e+00,\n",
       "           -1.7830e+00,  1.0989e+00],\n",
       "          [ 1.2404e+00,  1.5535e+00, -1.2624e+00,  ...,  2.2597e-01,\n",
       "           -3.8986e-01, -1.5648e+00]]],\n",
       "\n",
       "\n",
       "        [[[ 2.3937e+00,  1.5339e+00,  1.2372e-01,  ..., -1.3004e-01,\n",
       "            3.2646e-01, -6.2930e-01],\n",
       "          [ 9.1319e-02, -1.4599e+00,  1.9136e+00,  ...,  2.9306e+00,\n",
       "           -2.8141e+00,  1.7810e+00],\n",
       "          [ 8.4131e-01, -7.8383e-02,  2.6608e-01,  ...,  1.8630e+00,\n",
       "            5.9155e-01,  8.8999e-01],\n",
       "          ...,\n",
       "          [ 5.2890e-01, -1.4980e+00, -7.8489e-01,  ..., -2.3935e-01,\n",
       "            2.6358e+00, -1.2345e+00],\n",
       "          [-1.1296e+00,  7.1974e-01, -3.4238e-01,  ...,  2.4379e+00,\n",
       "            1.3417e+00,  1.3020e+00],\n",
       "          [-8.2602e-01, -1.2340e+00,  1.4771e+00,  ..., -2.9613e+00,\n",
       "           -1.1359e+00,  1.0356e+00]],\n",
       "\n",
       "         [[-6.1489e-01, -4.3649e-01, -2.0794e+00,  ...,  3.6045e+00,\n",
       "            2.8019e-02,  2.5276e+00],\n",
       "          [ 3.1419e+00,  1.4196e+00,  1.1790e+00,  ..., -1.9645e+00,\n",
       "           -3.1695e+00,  3.8379e-01],\n",
       "          [-3.9199e-01,  3.8637e-01,  3.4102e-02,  ..., -8.7428e-02,\n",
       "           -1.0787e+00, -1.8312e+00],\n",
       "          ...,\n",
       "          [-5.3383e-02,  5.1735e-01,  3.6904e-01,  ..., -1.2487e+00,\n",
       "            9.2273e-01,  4.1896e-02],\n",
       "          [ 2.3474e+00,  7.2871e-01,  1.1629e+00,  ...,  2.0204e+00,\n",
       "           -2.0746e+00, -3.3262e-01],\n",
       "          [-1.7532e+00, -6.5128e-01, -7.3687e-01,  ..., -2.3355e-01,\n",
       "           -8.4488e-01, -1.1615e+00]],\n",
       "\n",
       "         [[-1.3813e+00,  8.1281e-01, -2.7332e-01,  ..., -8.2945e-01,\n",
       "           -1.4662e+00, -2.1293e+00],\n",
       "          [ 7.3357e-02, -7.1961e-01, -2.7245e+00,  ..., -1.4463e+00,\n",
       "            1.3855e+00, -1.7705e-02],\n",
       "          [ 8.4611e-02,  7.5969e-01,  1.0410e+00,  ...,  2.1911e+00,\n",
       "            3.6771e-01,  2.8849e-01],\n",
       "          ...,\n",
       "          [-1.5138e+00,  1.7534e+00, -1.0254e-01,  ...,  2.3328e-01,\n",
       "           -2.8736e-01, -9.0502e-01],\n",
       "          [ 1.6714e+00,  3.3623e+00, -1.8991e+00,  ..., -6.3435e-01,\n",
       "           -2.7108e+00,  1.3840e+00],\n",
       "          [-9.1968e-02, -1.0543e+00, -2.5983e-01,  ...,  2.0728e+00,\n",
       "            7.1199e-01,  2.4286e+00]],\n",
       "\n",
       "         ...,\n",
       "\n",
       "         [[-3.8468e-01, -1.3502e-01,  1.0506e+00,  ...,  6.2281e-01,\n",
       "           -1.1467e-01, -7.5854e-01],\n",
       "          [-1.9666e-01,  6.5857e-01,  8.7240e-01,  ..., -1.8426e-01,\n",
       "            8.8851e-01, -1.5648e+00],\n",
       "          [ 3.5389e-02, -9.3745e-01, -2.3297e+00,  ..., -2.6170e-01,\n",
       "           -8.9747e-01, -1.8228e+00],\n",
       "          ...,\n",
       "          [ 1.2437e+00, -1.4008e+00, -1.3376e+00,  ..., -1.8230e+00,\n",
       "           -1.1482e+00, -9.3201e-02],\n",
       "          [ 2.7357e+00, -1.2795e-01,  2.7007e+00,  ...,  1.0243e+00,\n",
       "           -4.0348e-01, -2.3096e+00],\n",
       "          [-8.5728e-01, -7.8285e-01, -1.5537e+00,  ...,  6.5006e-01,\n",
       "           -1.2338e+00, -2.8524e+00]],\n",
       "\n",
       "         [[-2.0320e-01, -3.1652e-01,  9.7815e-02,  ...,  1.5870e-01,\n",
       "           -5.5277e-01,  4.5871e-02],\n",
       "          [-2.2532e+00,  1.4892e+00, -6.2632e-01,  ..., -4.8450e-01,\n",
       "            1.0698e+00,  5.4352e-01],\n",
       "          [-1.1827e+00, -1.6424e+00, -5.8125e-01,  ...,  2.9068e+00,\n",
       "            1.0603e+00,  4.7019e-01],\n",
       "          ...,\n",
       "          [ 1.0255e+00,  2.8532e-01,  5.0590e-01,  ...,  1.8640e-01,\n",
       "            3.2612e+00, -4.9779e-01],\n",
       "          [-7.6439e-01,  2.4432e+00,  1.8229e+00,  ..., -1.4957e+00,\n",
       "           -1.5383e+00, -2.6676e+00],\n",
       "          [ 8.9080e-01,  6.3175e-01, -7.1750e-01,  ..., -5.7013e-01,\n",
       "            7.1611e-02,  1.7108e+00]],\n",
       "\n",
       "         [[-5.2299e-01,  1.0103e-01, -2.4546e+00,  ..., -1.6105e+00,\n",
       "           -4.0991e-01, -5.2398e-01],\n",
       "          [-2.8935e-01, -1.1031e+00,  2.2630e+00,  ..., -8.5273e-03,\n",
       "           -1.2692e+00, -6.6960e-01],\n",
       "          [ 2.1658e+00, -6.3970e-01, -1.1110e+00,  ...,  8.4695e-01,\n",
       "            1.9886e+00,  9.0485e-01],\n",
       "          ...,\n",
       "          [-8.5722e-01,  1.0959e+00,  4.1928e-01,  ...,  8.9667e-01,\n",
       "            1.1163e+00,  3.2131e-01],\n",
       "          [ 8.8171e-01, -6.5093e-01, -2.0348e-01,  ...,  2.3680e+00,\n",
       "           -9.5135e-02,  1.4821e+00],\n",
       "          [ 4.9353e-01, -1.9877e+00, -1.2354e+00,  ..., -2.2737e-01,\n",
       "           -1.9270e+00, -2.2169e+00]]],\n",
       "\n",
       "\n",
       "        [[[ 7.0811e-02,  4.4080e-01, -1.0802e+00,  ..., -3.2797e+00,\n",
       "            3.5624e-01,  1.7914e+00],\n",
       "          [-1.5524e+00,  1.8493e-01, -2.4826e-01,  ...,  2.9054e+00,\n",
       "           -1.7283e+00,  2.4170e+00],\n",
       "          [ 5.0999e-01,  8.3689e-01, -6.5980e-01,  ...,  1.4625e+00,\n",
       "           -7.7739e-01, -1.9437e+00],\n",
       "          ...,\n",
       "          [ 1.8079e+00,  1.6355e+00,  1.4082e+00,  ..., -5.1759e-01,\n",
       "            1.3171e+00,  7.8139e-01],\n",
       "          [ 6.6439e-01,  1.3745e+00, -7.3929e-01,  ...,  1.0637e+00,\n",
       "            2.1146e+00, -2.5907e+00],\n",
       "          [-2.1995e+00, -3.0916e-01,  8.6494e-02,  ..., -2.9744e-01,\n",
       "           -7.4754e-01, -2.6785e-01]],\n",
       "\n",
       "         [[-1.5964e+00, -6.5182e-01, -5.0147e-01,  ...,  4.5517e+00,\n",
       "            1.0674e+00,  1.5007e+00],\n",
       "          [ 7.5935e-01,  9.0375e-01, -5.6650e-01,  ..., -2.1424e+00,\n",
       "           -1.3464e+00, -8.0432e-01],\n",
       "          [-6.6724e-01, -1.9195e-01,  1.0674e+00,  ...,  9.3471e-01,\n",
       "           -3.5056e-01, -2.0055e+00],\n",
       "          ...,\n",
       "          [-2.0660e+00,  4.3415e-01,  1.7139e+00,  ..., -7.8587e-01,\n",
       "            1.0044e+00, -8.1584e-01],\n",
       "          [ 2.8622e+00,  1.4039e+00,  1.5808e+00,  ...,  2.7289e+00,\n",
       "           -8.7338e-01, -9.0722e-01],\n",
       "          [-1.7806e+00,  5.0513e-01, -2.4153e+00,  ..., -7.6011e-01,\n",
       "           -2.0882e+00, -1.5437e+00]],\n",
       "\n",
       "         [[-5.1565e-01,  2.0627e+00, -6.8803e-01,  ..., -1.9172e+00,\n",
       "           -2.4001e-01, -2.3703e+00],\n",
       "          [-5.6132e-03, -1.3738e+00, -2.7594e-01,  ..., -3.5012e-02,\n",
       "            1.4583e+00,  1.3843e+00],\n",
       "          [ 5.8158e-01,  8.7542e-01,  4.7952e-02,  ...,  1.7625e+00,\n",
       "            5.6568e-03, -2.1569e+00],\n",
       "          ...,\n",
       "          [ 1.5771e-01, -3.1361e-01, -1.6165e+00,  ..., -5.2491e-01,\n",
       "            2.4049e-01,  6.2165e-01],\n",
       "          [ 1.1056e-02,  1.0544e+00,  3.5285e-01,  ..., -5.3244e-01,\n",
       "            2.8587e-01,  6.5456e-01],\n",
       "          [-1.4616e-01, -1.5503e+00, -1.0961e+00,  ...,  1.4049e+00,\n",
       "            4.3788e-01,  8.2992e-01]],\n",
       "\n",
       "         ...,\n",
       "\n",
       "         [[-2.2441e-01,  1.3464e-03,  2.4070e+00,  ...,  1.9811e+00,\n",
       "           -1.1667e+00, -3.0637e+00],\n",
       "          [ 2.0113e+00, -1.2222e+00,  3.2388e-01,  ...,  1.5600e+00,\n",
       "            7.5617e-01, -3.9179e+00],\n",
       "          [-2.7118e+00, -1.5103e+00, -2.0359e+00,  ...,  1.4839e+00,\n",
       "            8.1318e-01,  3.3369e-01],\n",
       "          ...,\n",
       "          [ 1.7312e+00, -2.9641e+00, -2.5563e+00,  ..., -7.9552e-01,\n",
       "           -1.5962e+00, -6.3903e-01],\n",
       "          [ 1.3309e+00,  2.0073e+00,  1.4983e+00,  ...,  1.5077e+00,\n",
       "           -5.9865e-01, -1.1511e+00],\n",
       "          [ 8.7290e-01, -1.9790e+00, -6.3447e-01,  ...,  3.3660e-01,\n",
       "           -7.0331e-01, -8.3766e-01]],\n",
       "\n",
       "         [[ 7.3825e-01,  9.8091e-01,  1.4045e+00,  ...,  1.8631e-01,\n",
       "           -2.1901e-01, -5.5301e-01],\n",
       "          [-1.2212e+00, -8.8364e-01, -2.5543e+00,  ..., -2.8703e+00,\n",
       "           -1.4138e+00, -9.7329e-01],\n",
       "          [-2.7240e+00,  3.9780e-01, -1.4555e+00,  ...,  2.5447e+00,\n",
       "           -4.9386e-01,  2.0442e+00],\n",
       "          ...,\n",
       "          [ 5.6283e-01,  1.7575e+00, -7.1786e-02,  ..., -3.6129e+00,\n",
       "            3.4707e+00, -5.8080e-01],\n",
       "          [-1.7258e+00,  1.6521e+00, -6.4697e-01,  ..., -8.9332e-01,\n",
       "           -1.3086e+00, -2.9158e-01],\n",
       "          [ 1.2154e+00,  1.7325e+00, -6.0558e-01,  ..., -1.4233e+00,\n",
       "            9.1814e-01,  1.3949e+00]],\n",
       "\n",
       "         [[ 1.0959e+00, -5.6677e-02,  1.5951e+00,  ..., -4.1062e+00,\n",
       "           -1.7104e+00,  1.6589e+00],\n",
       "          [-1.2253e-02, -1.8157e+00,  2.1613e+00,  ...,  5.5238e-01,\n",
       "           -1.7427e+00, -4.9679e-01],\n",
       "          [ 6.1976e-01,  1.0955e-01, -1.2027e+00,  ..., -6.5610e-01,\n",
       "            2.4357e+00,  1.4957e+00],\n",
       "          ...,\n",
       "          [ 7.6536e-03,  1.7475e+00, -5.0498e-02,  ...,  3.9943e-01,\n",
       "            1.9187e+00,  9.0383e-03],\n",
       "          [ 2.0865e+00, -7.2290e-01,  1.0965e+00,  ...,  9.0610e-01,\n",
       "            1.7103e+00,  2.1720e+00],\n",
       "          [-2.8888e-01,  3.2170e-01, -2.0003e+00,  ..., -7.0224e-01,\n",
       "            4.6791e-01, -2.7434e+00]]],\n",
       "\n",
       "\n",
       "        [[[ 2.0852e+00,  1.1817e+00,  1.3674e-01,  ..., -2.1042e+00,\n",
       "           -6.4519e-01, -9.9995e-01],\n",
       "          [-6.0104e-01, -7.8448e-01,  2.1750e+00,  ...,  3.2359e+00,\n",
       "           -2.0895e+00,  2.0187e+00],\n",
       "          [ 1.0921e+00,  1.1212e+00, -4.9639e-01,  ...,  4.1314e+00,\n",
       "           -1.3961e+00, -1.2152e+00],\n",
       "          ...,\n",
       "          [-1.6641e+00, -2.7160e+00,  9.4134e-01,  ...,  6.0520e-01,\n",
       "            1.7619e+00, -7.4187e-01],\n",
       "          [ 2.8109e-01,  2.5302e+00,  1.0446e+00,  ...,  8.7368e-01,\n",
       "            2.0140e+00, -1.3666e+00],\n",
       "          [-1.1861e+00, -2.6429e+00, -3.9378e-01,  ..., -2.7147e+00,\n",
       "           -2.1129e+00,  3.1925e-01]],\n",
       "\n",
       "         [[-2.8674e+00, -1.4614e+00,  2.9077e-01,  ...,  1.7017e+00,\n",
       "           -9.4764e-01,  1.8398e+00],\n",
       "          [ 1.4705e+00, -2.6738e-01,  4.6247e-01,  ..., -5.8429e-01,\n",
       "           -3.0422e+00, -1.1686e+00],\n",
       "          [-8.4230e-01,  2.3807e+00,  9.1335e-01,  ...,  1.4856e+00,\n",
       "           -2.1133e+00, -1.4516e+00],\n",
       "          ...,\n",
       "          [ 3.7831e-01,  7.8511e-01,  1.4466e+00,  ..., -7.9814e-01,\n",
       "            1.2435e+00,  8.1832e-01],\n",
       "          [ 2.1183e+00, -5.3680e-01,  8.5313e-01,  ...,  1.2081e+00,\n",
       "           -2.0326e+00, -3.2886e-01],\n",
       "          [-1.7997e+00,  7.8064e-01, -6.1292e-01,  ...,  5.6495e-03,\n",
       "           -1.8898e+00, -2.1831e+00]],\n",
       "\n",
       "         [[-1.2973e+00,  2.6551e+00,  8.6744e-01,  ..., -2.0687e+00,\n",
       "           -8.8481e-01, -1.0146e-02],\n",
       "          [-1.6469e+00, -3.3900e-01, -2.1647e+00,  ..., -3.9528e-02,\n",
       "            1.9616e+00,  1.3479e+00],\n",
       "          [ 1.6207e+00, -8.5033e-02, -1.6051e-01,  ...,  3.2902e-01,\n",
       "           -1.3512e+00, -7.0391e-02],\n",
       "          ...,\n",
       "          [ 6.1364e-01,  1.0702e-01, -1.1453e+00,  ...,  5.5948e-01,\n",
       "           -1.5486e+00, -3.4195e-01],\n",
       "          [ 1.3471e+00,  1.6671e+00,  3.5209e-01,  ...,  1.5893e+00,\n",
       "           -1.4676e+00, -1.9123e+00],\n",
       "          [-6.1111e-01, -2.5900e+00,  1.9835e-01,  ...,  9.2188e-01,\n",
       "            8.1874e-01,  7.6180e-01]],\n",
       "\n",
       "         ...,\n",
       "\n",
       "         [[ 1.3191e+00, -1.0386e+00,  9.7857e-01,  ..., -8.4834e-01,\n",
       "           -2.1537e+00, -1.2454e+00],\n",
       "          [-4.1436e-01,  2.1079e+00, -5.2982e-01,  ...,  3.6792e-01,\n",
       "            9.7896e-02, -1.9429e+00],\n",
       "          [ 1.2222e+00, -5.2683e-01,  1.9633e-01,  ...,  1.6635e+00,\n",
       "            4.9279e-01, -2.6330e-01],\n",
       "          ...,\n",
       "          [ 9.2718e-01, -7.8043e-01, -3.9110e-01,  ..., -3.5815e+00,\n",
       "           -3.9125e-01, -7.9317e-01],\n",
       "          [ 1.8541e+00,  1.8811e+00,  5.0445e-01,  ...,  1.7888e-01,\n",
       "           -6.9038e-01, -1.7753e+00],\n",
       "          [-6.4491e-02, -2.5941e+00, -1.6112e+00,  ..., -1.4428e-02,\n",
       "           -5.5004e-01, -1.7350e+00]],\n",
       "\n",
       "         [[-6.3382e-02,  1.1529e+00,  1.2184e+00,  ..., -8.4848e-01,\n",
       "           -2.8605e-01, -9.5901e-01],\n",
       "          [-1.3655e+00, -7.9557e-01, -1.3730e+00,  ..., -1.6251e-03,\n",
       "           -1.9818e+00,  9.3124e-01],\n",
       "          [-1.9372e+00,  1.4688e+00,  1.4408e-01,  ...,  2.0183e+00,\n",
       "           -1.2458e+00,  8.4576e-01],\n",
       "          ...,\n",
       "          [ 2.6787e-01, -1.7101e+00,  1.4136e+00,  ..., -3.0338e+00,\n",
       "            3.9214e+00, -4.1207e-01],\n",
       "          [-5.3358e-01,  3.6813e-01, -1.8508e-01,  ..., -1.1819e+00,\n",
       "           -3.1607e+00, -4.0705e-01],\n",
       "          [ 2.9094e-01,  7.2080e-01, -1.0868e+00,  ..., -2.1006e+00,\n",
       "           -4.9881e-01,  2.1075e+00]],\n",
       "\n",
       "         [[ 3.1757e+00,  4.8509e-01, -1.1121e+00,  ..., -1.5422e+00,\n",
       "           -5.1436e-01,  8.1517e-01],\n",
       "          [-1.9699e+00, -2.7346e-01,  1.8571e+00,  ...,  4.1458e-01,\n",
       "            4.5975e-01, -4.3049e-01],\n",
       "          [-4.9619e-01,  7.3178e-02, -1.5353e+00,  ..., -6.1387e-01,\n",
       "            1.5342e+00,  1.9954e+00],\n",
       "          ...,\n",
       "          [-6.3325e-01,  4.1713e-01, -2.0718e+00,  ...,  3.4593e-01,\n",
       "            3.4418e-01,  1.1634e+00],\n",
       "          [ 1.5610e-01, -3.4784e+00,  9.9181e-01,  ..., -1.0878e-01,\n",
       "            6.5386e-01,  2.4022e+00],\n",
       "          [-2.0460e+00,  1.2764e+00, -9.7187e-01,  ..., -2.4498e-01,\n",
       "           -7.3683e-01, -3.3756e-01]]]])"
      ]
     },
     "execution_count": 573,
     "metadata": {},
     "output_type": "execute_result"
    }
   ],
   "source": [
    "a = torch.randn(4, 32, 14, 14)\n",
    "b = torch.randn(1, 32, 14, 14)\n",
    "a + b"
   ]
  },
  {
   "cell_type": "markdown",
   "id": "48888f4b-7ca3-4302-81b3-b07a4e195e61",
   "metadata": {},
   "source": [
    "## F.interpolate（下/上采样）"
   ]
  },
  {
   "cell_type": "code",
   "execution_count": 574,
   "id": "bb8a3b75-37e6-4cc7-869d-4b1ae6584fa7",
   "metadata": {},
   "outputs": [
    {
     "data": {
      "text/plain": [
       "torch.Size([1, 3, 28, 28])"
      ]
     },
     "execution_count": 574,
     "metadata": {},
     "output_type": "execute_result"
    }
   ],
   "source": [
    "x = torch.randn(1, 3, 28, 28)\n",
    "x.shape"
   ]
  },
  {
   "cell_type": "code",
   "execution_count": 575,
   "id": "65a2f13b-1092-4889-81df-d4cb711f1ce6",
   "metadata": {},
   "outputs": [
    {
     "data": {
      "text/plain": [
       "torch.Size([1, 3, 56, 56])"
      ]
     },
     "execution_count": 575,
     "metadata": {},
     "output_type": "execute_result"
    }
   ],
   "source": [
    "out = F.interpolate(x, scale_factor=2, mode='nearest')\n",
    "out.shape"
   ]
  },
  {
   "cell_type": "code",
   "execution_count": 576,
   "id": "88e3338b-7804-45e9-b5a9-67ea0ad9b70f",
   "metadata": {},
   "outputs": [
    {
     "data": {
      "text/plain": [
       "torch.Size([1, 3, 84, 84])"
      ]
     },
     "execution_count": 576,
     "metadata": {},
     "output_type": "execute_result"
    }
   ],
   "source": [
    "out = F.interpolate(x, scale_factor=3, mode='nearest')\n",
    "out.shape"
   ]
  },
  {
   "cell_type": "markdown",
   "id": "536c950e",
   "metadata": {},
   "source": [
    "# 算术运算"
   ]
  },
  {
   "cell_type": "markdown",
   "id": "7c23ea5f-ebe5-4dab-aa17-182a80dbf8a7",
   "metadata": {},
   "source": [
    "## 乘法"
   ]
  },
  {
   "cell_type": "markdown",
   "id": "335f7944-e31d-4258-a076-06ba3373cf68",
   "metadata": {},
   "source": [
    "### 运算符*（逐元素乘）"
   ]
  },
  {
   "cell_type": "code",
   "execution_count": 577,
   "id": "9286fa2c",
   "metadata": {},
   "outputs": [],
   "source": [
    "a = torch.ones([2, 2]) * 3"
   ]
  },
  {
   "cell_type": "code",
   "execution_count": 578,
   "id": "926b9f52",
   "metadata": {},
   "outputs": [
    {
     "data": {
      "text/plain": [
       "tensor([[3., 3.],\n",
       "        [3., 3.]])"
      ]
     },
     "execution_count": 578,
     "metadata": {},
     "output_type": "execute_result"
    }
   ],
   "source": [
    "a"
   ]
  },
  {
   "cell_type": "code",
   "execution_count": 579,
   "id": "04fdfd20",
   "metadata": {},
   "outputs": [],
   "source": [
    "b = torch.ones([2, 2])"
   ]
  },
  {
   "cell_type": "code",
   "execution_count": 580,
   "id": "f0382bac",
   "metadata": {},
   "outputs": [
    {
     "data": {
      "text/plain": [
       "tensor([[1., 1.],\n",
       "        [1., 1.]])"
      ]
     },
     "execution_count": 580,
     "metadata": {},
     "output_type": "execute_result"
    }
   ],
   "source": [
    "b"
   ]
  },
  {
   "cell_type": "code",
   "execution_count": 581,
   "id": "d4731405-d978-48d2-98a8-a102727eb6f7",
   "metadata": {},
   "outputs": [
    {
     "data": {
      "text/plain": [
       "tensor([[3., 3.],\n",
       "        [3., 3.]])"
      ]
     },
     "execution_count": 581,
     "metadata": {},
     "output_type": "execute_result"
    }
   ],
   "source": [
    "a * b"
   ]
  },
  {
   "cell_type": "markdown",
   "id": "acd5fba6-0688-4a6d-8c83-7944884ef665",
   "metadata": {},
   "source": [
    "### mul（逐元素乘）"
   ]
  },
  {
   "cell_type": "code",
   "execution_count": 582,
   "id": "93438772-3ca0-4b86-8170-2a8dcf7625cf",
   "metadata": {},
   "outputs": [
    {
     "data": {
      "text/plain": [
       "tensor([[3., 3.],\n",
       "        [3., 3.]])"
      ]
     },
     "execution_count": 582,
     "metadata": {},
     "output_type": "execute_result"
    }
   ],
   "source": [
    "torch.mul(a, b)"
   ]
  },
  {
   "cell_type": "markdown",
   "id": "df2791b5-8c2a-49f7-b598-d639d60f7a7e",
   "metadata": {},
   "source": [
    "### mm（二维乘）"
   ]
  },
  {
   "cell_type": "code",
   "execution_count": 583,
   "id": "077e3255",
   "metadata": {},
   "outputs": [
    {
     "data": {
      "text/plain": [
       "tensor([[6., 6.],\n",
       "        [6., 6.]])"
      ]
     },
     "execution_count": 583,
     "metadata": {},
     "output_type": "execute_result"
    }
   ],
   "source": [
    "torch.mm(a, b)"
   ]
  },
  {
   "cell_type": "code",
   "execution_count": 584,
   "id": "25b8d7b9",
   "metadata": {},
   "outputs": [],
   "source": [
    "a = torch.rand(4, 3, 28, 64)"
   ]
  },
  {
   "cell_type": "code",
   "execution_count": 585,
   "id": "c945602c",
   "metadata": {},
   "outputs": [],
   "source": [
    "b = torch.rand(4, 3, 64, 32)"
   ]
  },
  {
   "cell_type": "code",
   "execution_count": 586,
   "id": "948954ea",
   "metadata": {
    "scrolled": true
   },
   "outputs": [
    {
     "ename": "RuntimeError",
     "evalue": "self must be a matrix",
     "output_type": "error",
     "traceback": [
      "\u001b[1;31m---------------------------------------------------------------------------\u001b[0m",
      "\u001b[1;31mRuntimeError\u001b[0m                              Traceback (most recent call last)",
      "Cell \u001b[1;32mIn[586], line 2\u001b[0m\n\u001b[0;32m      1\u001b[0m \u001b[38;5;66;03m# 以下语句会报错，因为不是二维矩阵\u001b[39;00m\n\u001b[1;32m----> 2\u001b[0m \u001b[43mtorch\u001b[49m\u001b[38;5;241;43m.\u001b[39;49m\u001b[43mmm\u001b[49m\u001b[43m(\u001b[49m\u001b[43ma\u001b[49m\u001b[43m,\u001b[49m\u001b[43m \u001b[49m\u001b[43mb\u001b[49m\u001b[43m)\u001b[49m\n",
      "\u001b[1;31mRuntimeError\u001b[0m: self must be a matrix"
     ]
    }
   ],
   "source": [
    "# 以下语句会报错，因为不是二维矩阵\n",
    "torch.mm(a, b)"
   ]
  },
  {
   "cell_type": "markdown",
   "id": "ec9721f5-3573-46f9-8dbd-aed2f992f44a",
   "metadata": {},
   "source": [
    "### bmm（三维带batch的矩阵乘法）"
   ]
  },
  {
   "cell_type": "code",
   "execution_count": 587,
   "id": "b989c369-6e7f-43e8-9138-4423af90e858",
   "metadata": {},
   "outputs": [],
   "source": [
    "a = torch.rand(4, 28, 64)"
   ]
  },
  {
   "cell_type": "code",
   "execution_count": 588,
   "id": "05c0207a-e75d-42e6-9644-62c890b6002f",
   "metadata": {},
   "outputs": [],
   "source": [
    "b = torch.rand(4, 64, 28)"
   ]
  },
  {
   "cell_type": "code",
   "execution_count": 589,
   "id": "4515259e-b6d9-4b31-9405-0f5e226d044e",
   "metadata": {},
   "outputs": [
    {
     "data": {
      "text/plain": [
       "torch.Size([4, 28, 28])"
      ]
     },
     "execution_count": 589,
     "metadata": {},
     "output_type": "execute_result"
    }
   ],
   "source": [
    "torch.bmm(a, b).shape"
   ]
  },
  {
   "cell_type": "markdown",
   "id": "1184febf-15b5-429e-a067-fd9411dff319",
   "metadata": {},
   "source": [
    "### matmul（多维乘）"
   ]
  },
  {
   "cell_type": "code",
   "execution_count": 590,
   "id": "f5273390",
   "metadata": {},
   "outputs": [
    {
     "data": {
      "text/plain": [
       "tensor([[[18.8244, 16.6040, 19.3866,  ..., 16.9298, 17.4349, 18.7379],\n",
       "         [14.3240, 13.9354, 15.9174,  ..., 13.4941, 13.6587, 15.7357],\n",
       "         [18.4139, 16.9579, 18.7171,  ..., 16.2763, 17.3621, 18.3540],\n",
       "         ...,\n",
       "         [17.5608, 16.3314, 19.5603,  ..., 16.6973, 15.7249, 18.9331],\n",
       "         [17.6832, 15.5344, 18.6889,  ..., 15.4917, 14.6570, 17.2341],\n",
       "         [16.9216, 15.1950, 17.2440,  ..., 14.8149, 13.5052, 16.8501]],\n",
       "\n",
       "        [[17.9589, 17.0600, 13.5480,  ..., 16.7421, 14.4874, 17.3890],\n",
       "         [17.6886, 15.8802, 14.3909,  ..., 16.5133, 14.7420, 15.2856],\n",
       "         [17.3812, 15.7007, 13.1730,  ..., 15.2073, 13.5019, 16.0716],\n",
       "         ...,\n",
       "         [17.4935, 14.4137, 14.3565,  ..., 15.7995, 13.4235, 15.2223],\n",
       "         [17.6749, 15.6465, 15.1062,  ..., 17.2423, 15.1139, 16.9194],\n",
       "         [18.6063, 15.6097, 14.0870,  ..., 16.7315, 15.5371, 16.8444]],\n",
       "\n",
       "        [[19.8911, 17.6193, 16.2931,  ..., 16.9950, 18.6973, 16.6616],\n",
       "         [14.0353, 12.5647, 13.6787,  ..., 13.6921, 13.7136, 13.0216],\n",
       "         [15.8630, 14.0596, 13.8727,  ..., 14.6904, 15.2016, 13.0857],\n",
       "         ...,\n",
       "         [18.0575, 16.6502, 17.0178,  ..., 16.8310, 19.0736, 15.2048],\n",
       "         [14.7620, 13.3421, 14.1734,  ..., 15.0217, 15.6913, 14.2235],\n",
       "         [16.5089, 13.0145, 14.8489,  ..., 16.9759, 17.2289, 13.3420]],\n",
       "\n",
       "        [[17.6456, 19.1041, 19.0454,  ..., 17.4401, 18.2967, 17.4311],\n",
       "         [16.6891, 17.5615, 17.7967,  ..., 17.6178, 19.2502, 19.0268],\n",
       "         [14.7336, 14.9392, 16.8947,  ..., 14.6600, 15.8033, 16.0276],\n",
       "         ...,\n",
       "         [15.5584, 17.3211, 15.8988,  ..., 16.0270, 17.2931, 16.9434],\n",
       "         [17.0076, 18.6018, 19.4638,  ..., 15.8874, 19.3815, 17.0536],\n",
       "         [14.0975, 14.7393, 15.5919,  ..., 12.6213, 15.3283, 14.2102]]])"
      ]
     },
     "execution_count": 590,
     "metadata": {},
     "output_type": "execute_result"
    }
   ],
   "source": [
    "torch.matmul(a, b)"
   ]
  },
  {
   "cell_type": "code",
   "execution_count": 591,
   "id": "32eeabe5",
   "metadata": {},
   "outputs": [
    {
     "data": {
      "text/plain": [
       "torch.Size([4, 28, 28])"
      ]
     },
     "execution_count": 591,
     "metadata": {},
     "output_type": "execute_result"
    }
   ],
   "source": [
    "torch.matmul(a, b).shape"
   ]
  },
  {
   "cell_type": "code",
   "execution_count": 592,
   "id": "4caf5926",
   "metadata": {},
   "outputs": [],
   "source": [
    "b = torch.rand(4, 1, 64, 32)"
   ]
  },
  {
   "cell_type": "code",
   "execution_count": 593,
   "id": "8144d5c0",
   "metadata": {},
   "outputs": [
    {
     "data": {
      "text/plain": [
       "torch.Size([4, 4, 28, 32])"
      ]
     },
     "execution_count": 593,
     "metadata": {},
     "output_type": "execute_result"
    }
   ],
   "source": [
    "torch.matmul(a, b).shape"
   ]
  },
  {
   "cell_type": "markdown",
   "id": "605187da-c08a-4d4d-a198-b49082cf25fb",
   "metadata": {},
   "source": [
    "### @（任意维乘）"
   ]
  },
  {
   "cell_type": "code",
   "execution_count": 594,
   "id": "054e289d",
   "metadata": {},
   "outputs": [],
   "source": [
    "x = torch.rand(4, 784)"
   ]
  },
  {
   "cell_type": "code",
   "execution_count": 595,
   "id": "a7c71415",
   "metadata": {},
   "outputs": [],
   "source": [
    "w = torch.rand(512, 784)"
   ]
  },
  {
   "cell_type": "code",
   "execution_count": 596,
   "id": "cf44d828",
   "metadata": {},
   "outputs": [
    {
     "data": {
      "text/plain": [
       "torch.Size([4, 512])"
      ]
     },
     "execution_count": 596,
     "metadata": {},
     "output_type": "execute_result"
    }
   ],
   "source": [
    "(x@w.t()).shape"
   ]
  },
  {
   "cell_type": "markdown",
   "id": "fa3f346b-d939-4e32-83ae-cb88bdd714ab",
   "metadata": {},
   "source": [
    "## add(+), sub(-)与div(/)"
   ]
  },
  {
   "cell_type": "code",
   "execution_count": 597,
   "id": "00409641",
   "metadata": {},
   "outputs": [],
   "source": [
    "a = torch.rand(3, 4)"
   ]
  },
  {
   "cell_type": "code",
   "execution_count": 598,
   "id": "652b6018",
   "metadata": {},
   "outputs": [
    {
     "data": {
      "text/plain": [
       "tensor([[0.2315, 0.0988, 0.2261, 0.0284],\n",
       "        [0.1885, 0.4454, 0.4499, 0.1001],\n",
       "        [0.8782, 0.9185, 0.6589, 0.0934]])"
      ]
     },
     "execution_count": 598,
     "metadata": {},
     "output_type": "execute_result"
    }
   ],
   "source": [
    "a"
   ]
  },
  {
   "cell_type": "code",
   "execution_count": 599,
   "id": "002957c3",
   "metadata": {},
   "outputs": [],
   "source": [
    "b = torch.rand(4)"
   ]
  },
  {
   "cell_type": "code",
   "execution_count": 600,
   "id": "9669cedc",
   "metadata": {},
   "outputs": [
    {
     "data": {
      "text/plain": [
       "tensor([0.4719, 0.9271, 0.5333, 0.3220])"
      ]
     },
     "execution_count": 600,
     "metadata": {},
     "output_type": "execute_result"
    }
   ],
   "source": [
    "b"
   ]
  },
  {
   "cell_type": "code",
   "execution_count": 601,
   "id": "45598ba2",
   "metadata": {},
   "outputs": [
    {
     "data": {
      "text/plain": [
       "tensor([[0.7034, 1.0259, 0.7593, 0.3504],\n",
       "        [0.6604, 1.3725, 0.9832, 0.4221],\n",
       "        [1.3502, 1.8456, 1.1922, 0.4154]])"
      ]
     },
     "execution_count": 601,
     "metadata": {},
     "output_type": "execute_result"
    }
   ],
   "source": [
    "a + b"
   ]
  },
  {
   "cell_type": "code",
   "execution_count": 602,
   "id": "b3545812",
   "metadata": {},
   "outputs": [
    {
     "data": {
      "text/plain": [
       "tensor([[0.7034, 1.0259, 0.7593, 0.3504],\n",
       "        [0.6604, 1.3725, 0.9832, 0.4221],\n",
       "        [1.3502, 1.8456, 1.1922, 0.4154]])"
      ]
     },
     "execution_count": 602,
     "metadata": {},
     "output_type": "execute_result"
    }
   ],
   "source": [
    "torch.add(a, b)"
   ]
  },
  {
   "cell_type": "code",
   "execution_count": 603,
   "id": "81ee5df4-fda2-4fea-981f-734e4c6dcf09",
   "metadata": {},
   "outputs": [
    {
     "data": {
      "text/plain": [
       "tensor([[-0.2404, -0.8283, -0.3072, -0.2936],\n",
       "        [-0.2834, -0.4817, -0.0833, -0.2219],\n",
       "        [ 0.4063, -0.0086,  0.1257, -0.2287]])"
      ]
     },
     "execution_count": 603,
     "metadata": {},
     "output_type": "execute_result"
    }
   ],
   "source": [
    "a - b"
   ]
  },
  {
   "cell_type": "code",
   "execution_count": 604,
   "id": "227e43c4-cb03-4d30-bea3-1264c8f323db",
   "metadata": {},
   "outputs": [
    {
     "data": {
      "text/plain": [
       "tensor([[-0.2404, -0.8283, -0.3072, -0.2936],\n",
       "        [-0.2834, -0.4817, -0.0833, -0.2219],\n",
       "        [ 0.4063, -0.0086,  0.1257, -0.2287]])"
      ]
     },
     "execution_count": 604,
     "metadata": {},
     "output_type": "execute_result"
    }
   ],
   "source": [
    "torch.sub(a, b)"
   ]
  },
  {
   "cell_type": "code",
   "execution_count": 605,
   "id": "459c954b-7538-4ba6-a72a-6859c2f6e05a",
   "metadata": {},
   "outputs": [
    {
     "data": {
      "text/plain": [
       "tensor([[0.4906, 0.1066, 0.4240, 0.0881],\n",
       "        [0.3994, 0.4804, 0.8437, 0.3108],\n",
       "        [1.8609, 0.9907, 1.2356, 0.2900]])"
      ]
     },
     "execution_count": 605,
     "metadata": {},
     "output_type": "execute_result"
    }
   ],
   "source": [
    "a / b"
   ]
  },
  {
   "cell_type": "code",
   "execution_count": 606,
   "id": "7509d040-f18d-47b0-be1b-8c9bde05b7bb",
   "metadata": {},
   "outputs": [
    {
     "data": {
      "text/plain": [
       "tensor([[0.4906, 0.1066, 0.4240, 0.0881],\n",
       "        [0.3994, 0.4804, 0.8437, 0.3108],\n",
       "        [1.8609, 0.9907, 1.2356, 0.2900]])"
      ]
     },
     "execution_count": 606,
     "metadata": {},
     "output_type": "execute_result"
    }
   ],
   "source": [
    "torch.div(a, b)"
   ]
  },
  {
   "cell_type": "markdown",
   "id": "b5c20d6c",
   "metadata": {},
   "source": [
    "## pow(**), sqrt与rsqrt"
   ]
  },
  {
   "cell_type": "code",
   "execution_count": 607,
   "id": "fb08ced2",
   "metadata": {},
   "outputs": [],
   "source": [
    "a = torch.full([2, 2], 3)"
   ]
  },
  {
   "cell_type": "code",
   "execution_count": 608,
   "id": "3f9d9184",
   "metadata": {},
   "outputs": [
    {
     "data": {
      "text/plain": [
       "tensor([[3, 3],\n",
       "        [3, 3]])"
      ]
     },
     "execution_count": 608,
     "metadata": {},
     "output_type": "execute_result"
    }
   ],
   "source": [
    "a"
   ]
  },
  {
   "cell_type": "code",
   "execution_count": 609,
   "id": "99d495ad",
   "metadata": {},
   "outputs": [
    {
     "data": {
      "text/plain": [
       "tensor([[9, 9],\n",
       "        [9, 9]])"
      ]
     },
     "execution_count": 609,
     "metadata": {},
     "output_type": "execute_result"
    }
   ],
   "source": [
    "a.pow(2)"
   ]
  },
  {
   "cell_type": "code",
   "execution_count": 610,
   "id": "c0cd692e",
   "metadata": {},
   "outputs": [
    {
     "data": {
      "text/plain": [
       "tensor([[9, 9],\n",
       "        [9, 9]])"
      ]
     },
     "execution_count": 610,
     "metadata": {},
     "output_type": "execute_result"
    }
   ],
   "source": [
    "a**2"
   ]
  },
  {
   "cell_type": "code",
   "execution_count": 611,
   "id": "4615e70a",
   "metadata": {},
   "outputs": [],
   "source": [
    "aa = a**2"
   ]
  },
  {
   "cell_type": "code",
   "execution_count": 612,
   "id": "e401a52e",
   "metadata": {},
   "outputs": [
    {
     "data": {
      "text/plain": [
       "tensor([[9, 9],\n",
       "        [9, 9]])"
      ]
     },
     "execution_count": 612,
     "metadata": {},
     "output_type": "execute_result"
    }
   ],
   "source": [
    "aa"
   ]
  },
  {
   "cell_type": "code",
   "execution_count": 613,
   "id": "0ad3b920",
   "metadata": {},
   "outputs": [
    {
     "data": {
      "text/plain": [
       "tensor([[3., 3.],\n",
       "        [3., 3.]])"
      ]
     },
     "execution_count": 613,
     "metadata": {},
     "output_type": "execute_result"
    }
   ],
   "source": [
    "aa.sqrt()"
   ]
  },
  {
   "cell_type": "code",
   "execution_count": 614,
   "id": "2dd4d0e0",
   "metadata": {},
   "outputs": [
    {
     "data": {
      "text/plain": [
       "tensor([[0.3333, 0.3333],\n",
       "        [0.3333, 0.3333]])"
      ]
     },
     "execution_count": 614,
     "metadata": {},
     "output_type": "execute_result"
    }
   ],
   "source": [
    "# 平方根的倒数\n",
    "aa.rsqrt()"
   ]
  },
  {
   "cell_type": "code",
   "execution_count": 615,
   "id": "16795f28",
   "metadata": {},
   "outputs": [
    {
     "data": {
      "text/plain": [
       "tensor([[3., 3.],\n",
       "        [3., 3.]])"
      ]
     },
     "execution_count": 615,
     "metadata": {},
     "output_type": "execute_result"
    }
   ],
   "source": [
    "aa**(0.5)"
   ]
  },
  {
   "cell_type": "markdown",
   "id": "a1097714",
   "metadata": {},
   "source": [
    "## exp "
   ]
  },
  {
   "cell_type": "code",
   "execution_count": 616,
   "id": "9be5c3f3",
   "metadata": {},
   "outputs": [],
   "source": [
    "# e约为2.71828\n",
    "a = torch.exp(torch.ones(2, 2))"
   ]
  },
  {
   "cell_type": "code",
   "execution_count": 617,
   "id": "31196617",
   "metadata": {},
   "outputs": [
    {
     "data": {
      "text/plain": [
       "tensor([[2.7183, 2.7183],\n",
       "        [2.7183, 2.7183]])"
      ]
     },
     "execution_count": 617,
     "metadata": {},
     "output_type": "execute_result"
    }
   ],
   "source": [
    "a"
   ]
  },
  {
   "cell_type": "markdown",
   "id": "5ade720a",
   "metadata": {},
   "source": [
    "## log"
   ]
  },
  {
   "cell_type": "code",
   "execution_count": 618,
   "id": "416646ce",
   "metadata": {},
   "outputs": [
    {
     "data": {
      "text/plain": [
       "tensor([[1., 1.],\n",
       "        [1., 1.]])"
      ]
     },
     "execution_count": 618,
     "metadata": {},
     "output_type": "execute_result"
    }
   ],
   "source": [
    "torch.log(a)"
   ]
  },
  {
   "cell_type": "markdown",
   "id": "067a2c2d",
   "metadata": {},
   "source": [
    "## floor, ceil, trunc（取整数）, frac（取小数）与round"
   ]
  },
  {
   "cell_type": "code",
   "execution_count": 619,
   "id": "c7b27c91",
   "metadata": {},
   "outputs": [],
   "source": [
    "a = torch.tensor(3.14)"
   ]
  },
  {
   "cell_type": "code",
   "execution_count": 620,
   "id": "ff537150",
   "metadata": {},
   "outputs": [
    {
     "data": {
      "text/plain": [
       "(tensor(3.), tensor(4.), tensor(3.), tensor(0.1400), tensor(3.))"
      ]
     },
     "execution_count": 620,
     "metadata": {},
     "output_type": "execute_result"
    }
   ],
   "source": [
    "# trunc: 取整数部分\n",
    "# frac: 取小数部分\n",
    "# round: 舍入到最近的整数\n",
    "a.floor(), a.ceil(), a.trunc(), a.frac(), a.round()"
   ]
  },
  {
   "cell_type": "markdown",
   "id": "1afabbf9",
   "metadata": {},
   "source": [
    "## clamp（将张量中的元素限制在一个指定的范围内）"
   ]
  },
  {
   "cell_type": "code",
   "execution_count": 621,
   "id": "653d5ac6",
   "metadata": {},
   "outputs": [],
   "source": [
    "grad = torch.rand(2, 3) * 15"
   ]
  },
  {
   "cell_type": "code",
   "execution_count": 622,
   "id": "56c0189a",
   "metadata": {},
   "outputs": [
    {
     "data": {
      "text/plain": [
       "tensor(12.9646)"
      ]
     },
     "execution_count": 622,
     "metadata": {},
     "output_type": "execute_result"
    }
   ],
   "source": [
    "grad.max()"
   ]
  },
  {
   "cell_type": "code",
   "execution_count": 623,
   "id": "43d0fab0",
   "metadata": {},
   "outputs": [
    {
     "data": {
      "text/plain": [
       "tensor(5.1831)"
      ]
     },
     "execution_count": 623,
     "metadata": {},
     "output_type": "execute_result"
    }
   ],
   "source": [
    "grad.median()"
   ]
  },
  {
   "cell_type": "code",
   "execution_count": 624,
   "id": "22850225",
   "metadata": {},
   "outputs": [
    {
     "data": {
      "text/plain": [
       "tensor([[10.0000, 10.0000, 10.0000],\n",
       "        [10.0000, 12.9646, 10.0000]])"
      ]
     },
     "execution_count": 624,
     "metadata": {},
     "output_type": "execute_result"
    }
   ],
   "source": [
    "# 将输入张量的每个元素夹紧到区间[min, max]\n",
    "grad.clamp(10)"
   ]
  },
  {
   "cell_type": "code",
   "execution_count": 625,
   "id": "0bbc457f",
   "metadata": {},
   "outputs": [
    {
     "data": {
      "text/plain": [
       "tensor([[ 5.8666,  5.0438,  4.9563],\n",
       "        [ 6.0884, 12.9646,  5.1831]])"
      ]
     },
     "execution_count": 625,
     "metadata": {},
     "output_type": "execute_result"
    }
   ],
   "source": [
    "grad"
   ]
  },
  {
   "cell_type": "code",
   "execution_count": 626,
   "id": "6cf5d81f",
   "metadata": {},
   "outputs": [
    {
     "data": {
      "text/plain": [
       "tensor([[ 5.8666,  5.0438,  4.9563],\n",
       "        [ 6.0884, 10.0000,  5.1831]])"
      ]
     },
     "execution_count": 626,
     "metadata": {},
     "output_type": "execute_result"
    }
   ],
   "source": [
    "grad.clamp(0, 10)"
   ]
  },
  {
   "cell_type": "markdown",
   "id": "465af3fa-63b2-423a-b6fb-ad4741716089",
   "metadata": {},
   "source": [
    "# 关系运算"
   ]
  },
  {
   "cell_type": "markdown",
   "id": "8ed072ea-4db0-482b-922c-19bd8bce890b",
   "metadata": {},
   "source": [
    "## gt(>), ge(>=), lt(<), le(<=)"
   ]
  },
  {
   "cell_type": "code",
   "execution_count": 627,
   "id": "3e65a173-40b1-448a-8a11-34442f820896",
   "metadata": {},
   "outputs": [
    {
     "data": {
      "text/plain": [
       "tensor([[ 0.0907, -1.2705, -0.2124],\n",
       "        [ 1.5578,  1.3154, -0.5008]])"
      ]
     },
     "execution_count": 627,
     "metadata": {},
     "output_type": "execute_result"
    }
   ],
   "source": [
    "a = torch.randn(2, 3)\n",
    "a"
   ]
  },
  {
   "cell_type": "code",
   "execution_count": 628,
   "id": "bf09bdc9",
   "metadata": {},
   "outputs": [
    {
     "data": {
      "text/plain": [
       "tensor([[ True, False, False],\n",
       "        [ True,  True, False]])"
      ]
     },
     "execution_count": 628,
     "metadata": {},
     "output_type": "execute_result"
    }
   ],
   "source": [
    "a > 0"
   ]
  },
  {
   "cell_type": "code",
   "execution_count": 629,
   "id": "199540d1",
   "metadata": {},
   "outputs": [
    {
     "data": {
      "text/plain": [
       "tensor([[ True, False, False],\n",
       "        [ True,  True, False]])"
      ]
     },
     "execution_count": 629,
     "metadata": {},
     "output_type": "execute_result"
    }
   ],
   "source": [
    "torch.gt(a, 0)"
   ]
  },
  {
   "cell_type": "code",
   "execution_count": 630,
   "id": "896682a8-b91d-4c65-9f58-9f5f348522f0",
   "metadata": {},
   "outputs": [
    {
     "data": {
      "text/plain": [
       "tensor([[ True, False, False],\n",
       "        [ True,  True, False]])"
      ]
     },
     "execution_count": 630,
     "metadata": {},
     "output_type": "execute_result"
    }
   ],
   "source": [
    "a >= 0"
   ]
  },
  {
   "cell_type": "code",
   "execution_count": 631,
   "id": "1b98853a-05b3-4af6-9844-9f9cb0fb3ac5",
   "metadata": {},
   "outputs": [
    {
     "data": {
      "text/plain": [
       "tensor([[ True, False, False],\n",
       "        [ True,  True, False]])"
      ]
     },
     "execution_count": 631,
     "metadata": {},
     "output_type": "execute_result"
    }
   ],
   "source": [
    "torch.ge(a, 0)"
   ]
  },
  {
   "cell_type": "code",
   "execution_count": 632,
   "id": "d106ceac-b458-457f-ae2c-e3036b0271e2",
   "metadata": {},
   "outputs": [
    {
     "data": {
      "text/plain": [
       "tensor([[False,  True,  True],\n",
       "        [False, False,  True]])"
      ]
     },
     "execution_count": 632,
     "metadata": {},
     "output_type": "execute_result"
    }
   ],
   "source": [
    "a < 0"
   ]
  },
  {
   "cell_type": "code",
   "execution_count": 633,
   "id": "040c42cb-a7da-4efc-8f80-ac172f9bf7ce",
   "metadata": {},
   "outputs": [
    {
     "data": {
      "text/plain": [
       "tensor([[False,  True,  True],\n",
       "        [False, False,  True]])"
      ]
     },
     "execution_count": 633,
     "metadata": {},
     "output_type": "execute_result"
    }
   ],
   "source": [
    "torch.lt(a, 0)"
   ]
  },
  {
   "cell_type": "code",
   "execution_count": 634,
   "id": "8a7634a4-df05-4327-a7b1-ff56a37eabed",
   "metadata": {},
   "outputs": [
    {
     "data": {
      "text/plain": [
       "tensor([[False,  True,  True],\n",
       "        [False, False,  True]])"
      ]
     },
     "execution_count": 634,
     "metadata": {},
     "output_type": "execute_result"
    }
   ],
   "source": [
    "a <= 0"
   ]
  },
  {
   "cell_type": "code",
   "execution_count": 635,
   "id": "66f611c7-403a-4da4-9d00-e04cb0d9e9ba",
   "metadata": {},
   "outputs": [
    {
     "data": {
      "text/plain": [
       "tensor([[False,  True,  True],\n",
       "        [False, False,  True]])"
      ]
     },
     "execution_count": 635,
     "metadata": {},
     "output_type": "execute_result"
    }
   ],
   "source": [
    "torch.le(a, 0)"
   ]
  },
  {
   "cell_type": "markdown",
   "id": "df2a5a6d-d6f5-427a-9ff3-475c4c0877cd",
   "metadata": {},
   "source": [
    "## ne(!=), eq(==)与equal"
   ]
  },
  {
   "cell_type": "code",
   "execution_count": 636,
   "id": "030849d7",
   "metadata": {},
   "outputs": [
    {
     "data": {
      "text/plain": [
       "tensor([[True, True, True],\n",
       "        [True, True, True]])"
      ]
     },
     "execution_count": 636,
     "metadata": {},
     "output_type": "execute_result"
    }
   ],
   "source": [
    "a != 0"
   ]
  },
  {
   "cell_type": "code",
   "execution_count": 637,
   "id": "85e1718d-f70d-47b2-a87a-2c91a2484b2e",
   "metadata": {},
   "outputs": [
    {
     "data": {
      "text/plain": [
       "tensor([[True, True, True],\n",
       "        [True, True, True]])"
      ]
     },
     "execution_count": 637,
     "metadata": {},
     "output_type": "execute_result"
    }
   ],
   "source": [
    "torch.ne(a, 0)"
   ]
  },
  {
   "cell_type": "code",
   "execution_count": 638,
   "id": "04c5d61e-e1aa-4473-ab5f-ef2dbbef2e9c",
   "metadata": {},
   "outputs": [
    {
     "data": {
      "text/plain": [
       "tensor([[False, False, False],\n",
       "        [False, False, False]])"
      ]
     },
     "execution_count": 638,
     "metadata": {},
     "output_type": "execute_result"
    }
   ],
   "source": [
    "a == 0"
   ]
  },
  {
   "cell_type": "code",
   "execution_count": 639,
   "id": "dca38d2f-63b2-4693-977f-4371122825fe",
   "metadata": {},
   "outputs": [
    {
     "data": {
      "text/plain": [
       "tensor([[False, False, False],\n",
       "        [False, False, False]])"
      ]
     },
     "execution_count": 639,
     "metadata": {},
     "output_type": "execute_result"
    }
   ],
   "source": [
    "torch.eq(a, 0)"
   ]
  },
  {
   "cell_type": "code",
   "execution_count": 640,
   "id": "65633a84",
   "metadata": {},
   "outputs": [],
   "source": [
    "a = torch.ones(2, 3)"
   ]
  },
  {
   "cell_type": "code",
   "execution_count": 641,
   "id": "ab356fff",
   "metadata": {},
   "outputs": [],
   "source": [
    "b = torch.randn(2, 3)"
   ]
  },
  {
   "cell_type": "code",
   "execution_count": 642,
   "id": "0bd8931e",
   "metadata": {},
   "outputs": [
    {
     "data": {
      "text/plain": [
       "tensor([[False, False, False],\n",
       "        [False, False, False]])"
      ]
     },
     "execution_count": 642,
     "metadata": {},
     "output_type": "execute_result"
    }
   ],
   "source": [
    "torch.eq(a, b)"
   ]
  },
  {
   "cell_type": "code",
   "execution_count": 643,
   "id": "1905c144",
   "metadata": {},
   "outputs": [
    {
     "data": {
      "text/plain": [
       "tensor([[True, True, True],\n",
       "        [True, True, True]])"
      ]
     },
     "execution_count": 643,
     "metadata": {},
     "output_type": "execute_result"
    }
   ],
   "source": [
    "torch.eq(a, a)"
   ]
  },
  {
   "cell_type": "code",
   "execution_count": 644,
   "id": "fb06e310",
   "metadata": {},
   "outputs": [
    {
     "data": {
      "text/plain": [
       "True"
      ]
     },
     "execution_count": 644,
     "metadata": {},
     "output_type": "execute_result"
    }
   ],
   "source": [
    "torch.equal(a, a)"
   ]
  },
  {
   "cell_type": "markdown",
   "id": "bf04ce3d-fac6-404e-90d5-ade6bc559dce",
   "metadata": {},
   "source": [
    "## all"
   ]
  },
  {
   "cell_type": "code",
   "execution_count": 645,
   "id": "4fbc564b",
   "metadata": {},
   "outputs": [
    {
     "data": {
      "text/plain": [
       "tensor(True)"
      ]
     },
     "execution_count": 645,
     "metadata": {},
     "output_type": "execute_result"
    }
   ],
   "source": [
    "torch.all(torch.eq(a + b, torch.add(a, b)))"
   ]
  },
  {
   "cell_type": "code",
   "execution_count": 646,
   "id": "a39422cf",
   "metadata": {},
   "outputs": [
    {
     "data": {
      "text/plain": [
       "tensor(True)"
      ]
     },
     "execution_count": 646,
     "metadata": {},
     "output_type": "execute_result"
    }
   ],
   "source": [
    "torch.all(torch.eq(a - b, torch.sub(a, b)))"
   ]
  },
  {
   "cell_type": "code",
   "execution_count": 647,
   "id": "33912248",
   "metadata": {},
   "outputs": [
    {
     "data": {
      "text/plain": [
       "tensor(True)"
      ]
     },
     "execution_count": 647,
     "metadata": {},
     "output_type": "execute_result"
    }
   ],
   "source": [
    "torch.all(torch.eq(a * b, torch.mul(a, b)))"
   ]
  },
  {
   "cell_type": "code",
   "execution_count": 648,
   "id": "3b4ed2c6",
   "metadata": {
    "scrolled": true
   },
   "outputs": [
    {
     "data": {
      "text/plain": [
       "tensor(True)"
      ]
     },
     "execution_count": 648,
     "metadata": {},
     "output_type": "execute_result"
    }
   ],
   "source": [
    "torch.all(torch.eq(a / b, torch.div(a, b)))"
   ]
  },
  {
   "cell_type": "markdown",
   "id": "6ba63776-8295-4b8f-a6f9-7f1fa880be1f",
   "metadata": {},
   "source": [
    "# 逻辑运算"
   ]
  },
  {
   "cell_type": "markdown",
   "id": "f1c11d9a-487c-4d65-ba87-942a9bca26a6",
   "metadata": {},
   "source": [
    "## logical_and"
   ]
  },
  {
   "cell_type": "code",
   "execution_count": 649,
   "id": "e152c13f-7a44-43f4-b107-66e65b5ca3f7",
   "metadata": {},
   "outputs": [
    {
     "data": {
      "text/plain": [
       "tensor([ True, False, False])"
      ]
     },
     "execution_count": 649,
     "metadata": {},
     "output_type": "execute_result"
    }
   ],
   "source": [
    "c = torch.tensor([True, False, True])\n",
    "d = torch.tensor([True, True, False])\n",
    "torch.logical_and(c, d)"
   ]
  },
  {
   "cell_type": "markdown",
   "id": "2f12a186-7376-4f00-8754-ff97044daa50",
   "metadata": {},
   "source": [
    "## logical_or"
   ]
  },
  {
   "cell_type": "code",
   "execution_count": 650,
   "id": "b28a1c1e-39c0-422e-9da4-8c02959a7166",
   "metadata": {},
   "outputs": [
    {
     "data": {
      "text/plain": [
       "tensor([True, True, True])"
      ]
     },
     "execution_count": 650,
     "metadata": {},
     "output_type": "execute_result"
    }
   ],
   "source": [
    "torch.logical_or(c, d)"
   ]
  },
  {
   "cell_type": "markdown",
   "id": "3abb8cb0-ccd3-4bdf-b586-9a8576a83adf",
   "metadata": {},
   "source": [
    "## logical_not"
   ]
  },
  {
   "cell_type": "code",
   "execution_count": 651,
   "id": "17938dde-417d-47db-83e3-2f553d1a959d",
   "metadata": {},
   "outputs": [
    {
     "data": {
      "text/plain": [
       "tensor([False,  True, False])"
      ]
     },
     "execution_count": 651,
     "metadata": {},
     "output_type": "execute_result"
    }
   ],
   "source": [
    "torch.logical_not(c)"
   ]
  },
  {
   "cell_type": "markdown",
   "id": "31793e62-66fb-410d-aee7-8481ef7aa1d0",
   "metadata": {},
   "source": [
    "## logical_xor"
   ]
  },
  {
   "cell_type": "code",
   "execution_count": 652,
   "id": "14a6ca5d-1865-42c9-956f-c0496287b02b",
   "metadata": {},
   "outputs": [
    {
     "data": {
      "text/plain": [
       "tensor([False,  True,  True])"
      ]
     },
     "execution_count": 652,
     "metadata": {},
     "output_type": "execute_result"
    }
   ],
   "source": [
    "torch.logical_xor(c, d)"
   ]
  },
  {
   "cell_type": "markdown",
   "id": "2913db10",
   "metadata": {},
   "source": [
    "# 拼接与拆分操作"
   ]
  },
  {
   "cell_type": "markdown",
   "id": "6e202880",
   "metadata": {},
   "source": [
    "## cat（concatence，拼接）"
   ]
  },
  {
   "cell_type": "code",
   "execution_count": 653,
   "id": "f8e39b3e",
   "metadata": {},
   "outputs": [],
   "source": [
    "a = torch.rand(4, 32, 8)"
   ]
  },
  {
   "cell_type": "code",
   "execution_count": 654,
   "id": "7c12cdb5",
   "metadata": {},
   "outputs": [],
   "source": [
    "b = torch.rand(5, 32, 8)"
   ]
  },
  {
   "cell_type": "code",
   "execution_count": 655,
   "id": "d1f5d1b9",
   "metadata": {},
   "outputs": [
    {
     "data": {
      "text/plain": [
       "torch.Size([9, 32, 8])"
      ]
     },
     "execution_count": 655,
     "metadata": {},
     "output_type": "execute_result"
    }
   ],
   "source": [
    "torch.cat([a, b], dim = 0).shape"
   ]
  },
  {
   "cell_type": "code",
   "execution_count": 656,
   "id": "9674a501",
   "metadata": {},
   "outputs": [],
   "source": [
    "a1 = torch.rand(4, 3, 32, 32)"
   ]
  },
  {
   "cell_type": "code",
   "execution_count": 657,
   "id": "1e354817",
   "metadata": {},
   "outputs": [],
   "source": [
    "a2 = torch.rand(5, 3, 32, 32)"
   ]
  },
  {
   "cell_type": "code",
   "execution_count": 658,
   "id": "945bd92f",
   "metadata": {},
   "outputs": [
    {
     "data": {
      "text/plain": [
       "torch.Size([9, 3, 32, 32])"
      ]
     },
     "execution_count": 658,
     "metadata": {},
     "output_type": "execute_result"
    }
   ],
   "source": [
    "torch.cat([a1, a2], dim=0).shape"
   ]
  },
  {
   "cell_type": "code",
   "execution_count": 659,
   "id": "676caddf",
   "metadata": {},
   "outputs": [],
   "source": [
    "a2 = torch.rand(4, 1, 32, 32)"
   ]
  },
  {
   "cell_type": "code",
   "execution_count": 660,
   "id": "d6989762",
   "metadata": {},
   "outputs": [
    {
     "ename": "RuntimeError",
     "evalue": "Sizes of tensors must match except in dimension 0. Expected size 3 but got size 1 for tensor number 1 in the list.",
     "output_type": "error",
     "traceback": [
      "\u001b[1;31m---------------------------------------------------------------------------\u001b[0m",
      "\u001b[1;31mRuntimeError\u001b[0m                              Traceback (most recent call last)",
      "Cell \u001b[1;32mIn[660], line 2\u001b[0m\n\u001b[0;32m      1\u001b[0m \u001b[38;5;66;03m# 以下语句会报错，因为不满足cat的条件\u001b[39;00m\n\u001b[1;32m----> 2\u001b[0m \u001b[43mtorch\u001b[49m\u001b[38;5;241;43m.\u001b[39;49m\u001b[43mcat\u001b[49m\u001b[43m(\u001b[49m\u001b[43m[\u001b[49m\u001b[43ma1\u001b[49m\u001b[43m,\u001b[49m\u001b[43m \u001b[49m\u001b[43ma2\u001b[49m\u001b[43m]\u001b[49m\u001b[43m,\u001b[49m\u001b[43m \u001b[49m\u001b[43mdim\u001b[49m\u001b[38;5;241;43m=\u001b[39;49m\u001b[38;5;241;43m0\u001b[39;49m\u001b[43m)\u001b[49m\u001b[38;5;241m.\u001b[39mshape\n",
      "\u001b[1;31mRuntimeError\u001b[0m: Sizes of tensors must match except in dimension 0. Expected size 3 but got size 1 for tensor number 1 in the list."
     ]
    }
   ],
   "source": [
    "# 以下语句会报错，因为不满足cat的条件\n",
    "torch.cat([a1, a2], dim=0).shape"
   ]
  },
  {
   "cell_type": "code",
   "execution_count": 661,
   "id": "3eb460eb",
   "metadata": {},
   "outputs": [
    {
     "data": {
      "text/plain": [
       "torch.Size([4, 4, 32, 32])"
      ]
     },
     "execution_count": 661,
     "metadata": {},
     "output_type": "execute_result"
    }
   ],
   "source": [
    "torch.cat([a1, a2], dim=1).shape"
   ]
  },
  {
   "cell_type": "code",
   "execution_count": 662,
   "id": "d60d3abb",
   "metadata": {},
   "outputs": [],
   "source": [
    "a1 = torch.rand(4, 3, 16, 32)"
   ]
  },
  {
   "cell_type": "code",
   "execution_count": 663,
   "id": "9914dfd1",
   "metadata": {},
   "outputs": [],
   "source": [
    "a2 = torch.rand(4, 3, 16, 32)"
   ]
  },
  {
   "cell_type": "code",
   "execution_count": 664,
   "id": "04758502",
   "metadata": {},
   "outputs": [
    {
     "data": {
      "text/plain": [
       "torch.Size([4, 3, 32, 32])"
      ]
     },
     "execution_count": 664,
     "metadata": {},
     "output_type": "execute_result"
    }
   ],
   "source": [
    "torch.cat([a1, a2], dim = 2).shape"
   ]
  },
  {
   "cell_type": "markdown",
   "id": "75d30004",
   "metadata": {},
   "source": [
    "## stack（堆叠）"
   ]
  },
  {
   "cell_type": "code",
   "execution_count": 665,
   "id": "db54f44c",
   "metadata": {},
   "outputs": [],
   "source": [
    "a = torch.randn(4, 3, 16, 32)"
   ]
  },
  {
   "cell_type": "code",
   "execution_count": 666,
   "id": "bd66c1b7",
   "metadata": {},
   "outputs": [
    {
     "data": {
      "text/plain": [
       "torch.Size([4, 3, 32, 32])"
      ]
     },
     "execution_count": 666,
     "metadata": {},
     "output_type": "execute_result"
    }
   ],
   "source": [
    "torch.cat([a, a], dim=2).shape"
   ]
  },
  {
   "cell_type": "code",
   "execution_count": 667,
   "id": "321549da",
   "metadata": {},
   "outputs": [
    {
     "data": {
      "text/plain": [
       "torch.Size([4, 3, 4, 16, 32])"
      ]
     },
     "execution_count": 667,
     "metadata": {},
     "output_type": "execute_result"
    }
   ],
   "source": [
    "torch.stack([a, a, a, a], dim=2).shape"
   ]
  },
  {
   "cell_type": "code",
   "execution_count": 668,
   "id": "c4d3c49b",
   "metadata": {},
   "outputs": [],
   "source": [
    "a = torch.rand(32, 8)"
   ]
  },
  {
   "cell_type": "code",
   "execution_count": 669,
   "id": "0cda93c0",
   "metadata": {},
   "outputs": [],
   "source": [
    "b = torch.rand(32, 8)"
   ]
  },
  {
   "cell_type": "code",
   "execution_count": 670,
   "id": "e589495d",
   "metadata": {},
   "outputs": [
    {
     "data": {
      "text/plain": [
       "torch.Size([2, 32, 8])"
      ]
     },
     "execution_count": 670,
     "metadata": {},
     "output_type": "execute_result"
    }
   ],
   "source": [
    "torch.stack([a, b], dim=0).shape"
   ]
  },
  {
   "cell_type": "code",
   "execution_count": 671,
   "id": "10828167",
   "metadata": {},
   "outputs": [
    {
     "data": {
      "text/plain": [
       "torch.Size([32, 8])"
      ]
     },
     "execution_count": 671,
     "metadata": {},
     "output_type": "execute_result"
    }
   ],
   "source": [
    "a.shape"
   ]
  },
  {
   "cell_type": "code",
   "execution_count": 672,
   "id": "7779fc84",
   "metadata": {},
   "outputs": [],
   "source": [
    "b = torch.rand(30, 8)"
   ]
  },
  {
   "cell_type": "code",
   "execution_count": 673,
   "id": "6ce09dc7",
   "metadata": {},
   "outputs": [
    {
     "ename": "RuntimeError",
     "evalue": "stack expects each tensor to be equal size, but got [32, 8] at entry 0 and [30, 8] at entry 1",
     "output_type": "error",
     "traceback": [
      "\u001b[1;31m---------------------------------------------------------------------------\u001b[0m",
      "\u001b[1;31mRuntimeError\u001b[0m                              Traceback (most recent call last)",
      "Cell \u001b[1;32mIn[673], line 2\u001b[0m\n\u001b[0;32m      1\u001b[0m \u001b[38;5;66;03m# 以下语句会报错，因为不满足stack的条件\u001b[39;00m\n\u001b[1;32m----> 2\u001b[0m \u001b[43mtorch\u001b[49m\u001b[38;5;241;43m.\u001b[39;49m\u001b[43mstack\u001b[49m\u001b[43m(\u001b[49m\u001b[43m[\u001b[49m\u001b[43ma\u001b[49m\u001b[43m,\u001b[49m\u001b[43m \u001b[49m\u001b[43mb\u001b[49m\u001b[43m]\u001b[49m\u001b[43m,\u001b[49m\u001b[43m \u001b[49m\u001b[43mdim\u001b[49m\u001b[38;5;241;43m=\u001b[39;49m\u001b[38;5;241;43m0\u001b[39;49m\u001b[43m)\u001b[49m\u001b[38;5;241m.\u001b[39mshape\n",
      "\u001b[1;31mRuntimeError\u001b[0m: stack expects each tensor to be equal size, but got [32, 8] at entry 0 and [30, 8] at entry 1"
     ]
    }
   ],
   "source": [
    "# 以下语句会报错，因为不满足stack的条件\n",
    "torch.stack([a, b], dim=0).shape"
   ]
  },
  {
   "cell_type": "code",
   "execution_count": 674,
   "id": "b21fda0b",
   "metadata": {},
   "outputs": [
    {
     "data": {
      "text/plain": [
       "torch.Size([62, 8])"
      ]
     },
     "execution_count": 674,
     "metadata": {},
     "output_type": "execute_result"
    }
   ],
   "source": [
    "torch.cat([a, b], dim=0).shape"
   ]
  },
  {
   "cell_type": "markdown",
   "id": "66e5c7ae",
   "metadata": {},
   "source": [
    "## split（根据长度拆分）"
   ]
  },
  {
   "cell_type": "code",
   "execution_count": 675,
   "id": "8d64a018",
   "metadata": {},
   "outputs": [],
   "source": [
    "b = torch.rand(32, 8)"
   ]
  },
  {
   "cell_type": "code",
   "execution_count": 676,
   "id": "c4ebed27",
   "metadata": {},
   "outputs": [
    {
     "data": {
      "text/plain": [
       "torch.Size([32, 8])"
      ]
     },
     "execution_count": 676,
     "metadata": {},
     "output_type": "execute_result"
    }
   ],
   "source": [
    "a.shape"
   ]
  },
  {
   "cell_type": "code",
   "execution_count": 677,
   "id": "3eb76149",
   "metadata": {},
   "outputs": [],
   "source": [
    "c = torch.stack([a, b], dim=0)"
   ]
  },
  {
   "cell_type": "code",
   "execution_count": 678,
   "id": "40297d3f",
   "metadata": {},
   "outputs": [
    {
     "data": {
      "text/plain": [
       "torch.Size([2, 32, 8])"
      ]
     },
     "execution_count": 678,
     "metadata": {},
     "output_type": "execute_result"
    }
   ],
   "source": [
    "c.shape"
   ]
  },
  {
   "cell_type": "code",
   "execution_count": 679,
   "id": "1cd623a5",
   "metadata": {},
   "outputs": [],
   "source": [
    "c = torch.randn(4, 32, 8)"
   ]
  },
  {
   "cell_type": "code",
   "execution_count": 680,
   "id": "fa15e5d2",
   "metadata": {},
   "outputs": [
    {
     "data": {
      "text/plain": [
       "torch.Size([4, 32, 8])"
      ]
     },
     "execution_count": 680,
     "metadata": {},
     "output_type": "execute_result"
    }
   ],
   "source": [
    "c.shape"
   ]
  },
  {
   "cell_type": "code",
   "execution_count": 681,
   "id": "ec847863",
   "metadata": {},
   "outputs": [],
   "source": [
    "aa, bb = c.split(2, dim=0)"
   ]
  },
  {
   "cell_type": "code",
   "execution_count": 682,
   "id": "046026a5",
   "metadata": {},
   "outputs": [
    {
     "data": {
      "text/plain": [
       "(torch.Size([2, 32, 8]), torch.Size([2, 32, 8]))"
      ]
     },
     "execution_count": 682,
     "metadata": {},
     "output_type": "execute_result"
    }
   ],
   "source": [
    "aa.shape, bb.shape"
   ]
  },
  {
   "cell_type": "code",
   "execution_count": 683,
   "id": "4ec011cb",
   "metadata": {},
   "outputs": [
    {
     "ename": "ValueError",
     "evalue": "too many values to unpack (expected 2)",
     "output_type": "error",
     "traceback": [
      "\u001b[1;31m---------------------------------------------------------------------------\u001b[0m",
      "\u001b[1;31mValueError\u001b[0m                                Traceback (most recent call last)",
      "Cell \u001b[1;32mIn[683], line 2\u001b[0m\n\u001b[0;32m      1\u001b[0m \u001b[38;5;66;03m# 以下语句会报错，因为不满足split的条件\u001b[39;00m\n\u001b[1;32m----> 2\u001b[0m aa, bb \u001b[38;5;241m=\u001b[39m c\u001b[38;5;241m.\u001b[39msplit(\u001b[38;5;241m1\u001b[39m, dim\u001b[38;5;241m=\u001b[39m\u001b[38;5;241m0\u001b[39m)\n",
      "\u001b[1;31mValueError\u001b[0m: too many values to unpack (expected 2)"
     ]
    }
   ],
   "source": [
    "# 以下语句会报错，因为不满足split的条件\n",
    "aa, bb = c.split(1, dim=0)"
   ]
  },
  {
   "cell_type": "code",
   "execution_count": 684,
   "id": "502659d4",
   "metadata": {},
   "outputs": [
    {
     "data": {
      "text/plain": [
       "(torch.Size([2, 32, 8]), torch.Size([2, 32, 8]))"
      ]
     },
     "execution_count": 684,
     "metadata": {},
     "output_type": "execute_result"
    }
   ],
   "source": [
    "aa.shape, bb.shape"
   ]
  },
  {
   "cell_type": "code",
   "execution_count": 685,
   "id": "f14cb698",
   "metadata": {},
   "outputs": [],
   "source": [
    "aa, bb = c.split(2, dim=0)"
   ]
  },
  {
   "cell_type": "code",
   "execution_count": 686,
   "id": "922a35e0",
   "metadata": {},
   "outputs": [
    {
     "ename": "RuntimeError",
     "evalue": "split_with_sizes expects split_sizes to sum exactly to 4 (input tensor's size at dimension 0), but got split_sizes=[0, 2]",
     "output_type": "error",
     "traceback": [
      "\u001b[1;31m---------------------------------------------------------------------------\u001b[0m",
      "\u001b[1;31mRuntimeError\u001b[0m                              Traceback (most recent call last)",
      "Cell \u001b[1;32mIn[686], line 2\u001b[0m\n\u001b[0;32m      1\u001b[0m \u001b[38;5;66;03m# 以下语句会报错，因为不满足split的条件\u001b[39;00m\n\u001b[1;32m----> 2\u001b[0m aa, bb \u001b[38;5;241m=\u001b[39m \u001b[43mc\u001b[49m\u001b[38;5;241;43m.\u001b[39;49m\u001b[43msplit\u001b[49m\u001b[43m(\u001b[49m\u001b[43m[\u001b[49m\u001b[38;5;241;43m0\u001b[39;49m\u001b[43m,\u001b[49m\u001b[43m \u001b[49m\u001b[38;5;241;43m2\u001b[39;49m\u001b[43m]\u001b[49m\u001b[43m,\u001b[49m\u001b[43m \u001b[49m\u001b[43mdim\u001b[49m\u001b[38;5;241;43m=\u001b[39;49m\u001b[38;5;241;43m0\u001b[39;49m\u001b[43m)\u001b[49m\n",
      "File \u001b[1;32md:\\ProgramData\\Anaconda3\\envs\\DL_Basic\\lib\\site-packages\\torch\\_tensor.py:1053\u001b[0m, in \u001b[0;36mTensor.split\u001b[1;34m(self, split_size, dim)\u001b[0m\n\u001b[0;32m   1051\u001b[0m     \u001b[38;5;28;01mreturn\u001b[39;00m torch\u001b[38;5;241m.\u001b[39m_VF\u001b[38;5;241m.\u001b[39msplit(\u001b[38;5;28mself\u001b[39m, split_size, dim)  \u001b[38;5;66;03m# type: ignore[attr-defined]\u001b[39;00m\n\u001b[0;32m   1052\u001b[0m \u001b[38;5;28;01melse\u001b[39;00m:\n\u001b[1;32m-> 1053\u001b[0m     \u001b[38;5;28;01mreturn\u001b[39;00m \u001b[43mtorch\u001b[49m\u001b[38;5;241;43m.\u001b[39;49m\u001b[43m_VF\u001b[49m\u001b[38;5;241;43m.\u001b[39;49m\u001b[43msplit_with_sizes\u001b[49m\u001b[43m(\u001b[49m\u001b[38;5;28;43mself\u001b[39;49m\u001b[43m,\u001b[49m\u001b[43m \u001b[49m\u001b[43msplit_size\u001b[49m\u001b[43m,\u001b[49m\u001b[43m \u001b[49m\u001b[43mdim\u001b[49m\u001b[43m)\u001b[49m\n",
      "\u001b[1;31mRuntimeError\u001b[0m: split_with_sizes expects split_sizes to sum exactly to 4 (input tensor's size at dimension 0), but got split_sizes=[0, 2]"
     ]
    }
   ],
   "source": [
    "# 以下语句会报错，因为不满足split的条件\n",
    "aa, bb = c.split([0, 2], dim=0)"
   ]
  },
  {
   "cell_type": "code",
   "execution_count": 687,
   "id": "5b5835d1",
   "metadata": {},
   "outputs": [
    {
     "data": {
      "text/plain": [
       "(torch.Size([2, 32, 8]), torch.Size([2, 32, 8]))"
      ]
     },
     "execution_count": 687,
     "metadata": {},
     "output_type": "execute_result"
    }
   ],
   "source": [
    "aa.shape, bb.shape"
   ]
  },
  {
   "cell_type": "markdown",
   "id": "624a14a7",
   "metadata": {},
   "source": [
    "## chunk（根据数量拆分）"
   ]
  },
  {
   "cell_type": "code",
   "execution_count": 688,
   "id": "fdaf60c9",
   "metadata": {},
   "outputs": [],
   "source": [
    "b = torch.rand(32, 8)"
   ]
  },
  {
   "cell_type": "code",
   "execution_count": 689,
   "id": "26ba776f",
   "metadata": {},
   "outputs": [
    {
     "data": {
      "text/plain": [
       "torch.Size([32, 8])"
      ]
     },
     "execution_count": 689,
     "metadata": {},
     "output_type": "execute_result"
    }
   ],
   "source": [
    "a.shape"
   ]
  },
  {
   "cell_type": "code",
   "execution_count": 690,
   "id": "b7483f49",
   "metadata": {},
   "outputs": [],
   "source": [
    "c = torch.stack([a, b], dim=0)"
   ]
  },
  {
   "cell_type": "code",
   "execution_count": 691,
   "id": "9f076e39",
   "metadata": {},
   "outputs": [],
   "source": [
    "c = torch.randn(2, 32, 8)"
   ]
  },
  {
   "cell_type": "code",
   "execution_count": 692,
   "id": "35457407",
   "metadata": {},
   "outputs": [
    {
     "data": {
      "text/plain": [
       "torch.Size([2, 32, 8])"
      ]
     },
     "execution_count": 692,
     "metadata": {},
     "output_type": "execute_result"
    }
   ],
   "source": [
    "c.shape"
   ]
  },
  {
   "cell_type": "code",
   "execution_count": 693,
   "id": "27213ab7",
   "metadata": {},
   "outputs": [],
   "source": [
    "aa, bb = c.chunk(2, dim=0)"
   ]
  },
  {
   "cell_type": "code",
   "execution_count": 694,
   "id": "73b96666",
   "metadata": {},
   "outputs": [
    {
     "data": {
      "text/plain": [
       "(torch.Size([1, 32, 8]), torch.Size([1, 32, 8]))"
      ]
     },
     "execution_count": 694,
     "metadata": {},
     "output_type": "execute_result"
    }
   ],
   "source": [
    "aa.shape, bb.shape"
   ]
  },
  {
   "cell_type": "markdown",
   "id": "676c1ec7",
   "metadata": {},
   "source": [
    "# 统计操作"
   ]
  },
  {
   "cell_type": "markdown",
   "id": "1f1217a9",
   "metadata": {},
   "source": [
    "## min, max, mean, median（中位数）, sum（元素和）与prod（元素积）"
   ]
  },
  {
   "cell_type": "code",
   "execution_count": 695,
   "id": "fe7faac2",
   "metadata": {},
   "outputs": [
    {
     "data": {
      "text/plain": [
       "tensor([0, 1, 2, 3, 4, 5, 6, 7])"
      ]
     },
     "execution_count": 695,
     "metadata": {},
     "output_type": "execute_result"
    }
   ],
   "source": [
    "torch.arange(8)"
   ]
  },
  {
   "cell_type": "code",
   "execution_count": 696,
   "id": "d5f0435d",
   "metadata": {},
   "outputs": [],
   "source": [
    "a = torch.arange(8).view(2, 4).float()"
   ]
  },
  {
   "cell_type": "code",
   "execution_count": 697,
   "id": "0fed13e9",
   "metadata": {},
   "outputs": [
    {
     "data": {
      "text/plain": [
       "tensor([[0., 1., 2., 3.],\n",
       "        [4., 5., 6., 7.]], dtype=torch.float32)"
      ]
     },
     "execution_count": 697,
     "metadata": {},
     "output_type": "execute_result"
    }
   ],
   "source": [
    "a"
   ]
  },
  {
   "cell_type": "code",
   "execution_count": 698,
   "id": "7a043e3c",
   "metadata": {},
   "outputs": [
    {
     "data": {
      "text/plain": [
       "(tensor(0., dtype=torch.float32),\n",
       " tensor(7., dtype=torch.float32),\n",
       " tensor(3.5000, dtype=torch.float32),\n",
       " tensor(3., dtype=torch.float32),\n",
       " tensor(28., dtype=torch.float32),\n",
       " tensor(0., dtype=torch.float32))"
      ]
     },
     "execution_count": 698,
     "metadata": {},
     "output_type": "execute_result"
    }
   ],
   "source": [
    "a.min(), a.max(), a.mean(), a.median(), a.sum(), a.prod()"
   ]
  },
  {
   "cell_type": "markdown",
   "id": "55239ba7",
   "metadata": {},
   "source": [
    "## argmax（最大值的索引）与argmin（最小值的索引）"
   ]
  },
  {
   "cell_type": "code",
   "execution_count": 699,
   "id": "d582a47d",
   "metadata": {},
   "outputs": [
    {
     "data": {
      "text/plain": [
       "(tensor(7), tensor(0))"
      ]
     },
     "execution_count": 699,
     "metadata": {},
     "output_type": "execute_result"
    }
   ],
   "source": [
    "a.argmax(), a.argmin()"
   ]
  },
  {
   "cell_type": "code",
   "execution_count": 700,
   "id": "51a47067",
   "metadata": {},
   "outputs": [
    {
     "data": {
      "text/plain": [
       "tensor([[0., 1., 2., 3.],\n",
       "        [4., 5., 6., 7.]], dtype=torch.float32)"
      ]
     },
     "execution_count": 700,
     "metadata": {},
     "output_type": "execute_result"
    }
   ],
   "source": [
    "a"
   ]
  },
  {
   "cell_type": "code",
   "execution_count": 701,
   "id": "b82fcb51",
   "metadata": {},
   "outputs": [],
   "source": [
    "a = a.view(1, 2, 4)"
   ]
  },
  {
   "cell_type": "code",
   "execution_count": 702,
   "id": "68bf2a19",
   "metadata": {},
   "outputs": [
    {
     "data": {
      "text/plain": [
       "tensor(7)"
      ]
     },
     "execution_count": 702,
     "metadata": {},
     "output_type": "execute_result"
    }
   ],
   "source": [
    "a.argmax()"
   ]
  },
  {
   "cell_type": "code",
   "execution_count": 703,
   "id": "55893925",
   "metadata": {},
   "outputs": [
    {
     "data": {
      "text/plain": [
       "tensor(0)"
      ]
     },
     "execution_count": 703,
     "metadata": {},
     "output_type": "execute_result"
    }
   ],
   "source": [
    "a.argmin()"
   ]
  },
  {
   "cell_type": "code",
   "execution_count": 704,
   "id": "045e616d",
   "metadata": {},
   "outputs": [],
   "source": [
    "a = torch.rand(2, 3, 4)"
   ]
  },
  {
   "cell_type": "code",
   "execution_count": 705,
   "id": "37ce34db",
   "metadata": {},
   "outputs": [
    {
     "data": {
      "text/plain": [
       "(tensor(0), tensor(1))"
      ]
     },
     "execution_count": 705,
     "metadata": {},
     "output_type": "execute_result"
    }
   ],
   "source": [
    "a.argmax(), a.argmin()"
   ]
  },
  {
   "cell_type": "code",
   "execution_count": 706,
   "id": "3ad3ba33",
   "metadata": {},
   "outputs": [],
   "source": [
    "a = torch.randn(4, 10)"
   ]
  },
  {
   "cell_type": "code",
   "execution_count": 707,
   "id": "962cd665",
   "metadata": {},
   "outputs": [
    {
     "data": {
      "text/plain": [
       "tensor([[-1.2356,  0.6874, -1.3478, -1.3104, -0.9571, -1.8671, -0.5941,  0.5568,\n",
       "         -1.3134, -0.0877],\n",
       "        [-0.7692,  0.5214, -0.5936,  0.8442,  0.7307,  0.1262,  0.5050, -0.4720,\n",
       "         -1.5647, -1.6788],\n",
       "        [-0.4388, -0.2661, -1.2882,  0.9870, -2.6292, -0.4162, -1.3685,  0.0824,\n",
       "          0.1719,  0.7527],\n",
       "        [ 1.1052,  1.1558, -0.0644, -0.0294,  0.9656,  0.8240, -1.2425,  1.6834,\n",
       "         -0.5566, -0.2451]])"
      ]
     },
     "execution_count": 707,
     "metadata": {},
     "output_type": "execute_result"
    }
   ],
   "source": [
    "a"
   ]
  },
  {
   "cell_type": "code",
   "execution_count": 708,
   "id": "6a5c48e7",
   "metadata": {},
   "outputs": [
    {
     "data": {
      "text/plain": [
       "tensor([-1.2356,  0.6874, -1.3478, -1.3104, -0.9571, -1.8671, -0.5941,  0.5568,\n",
       "        -1.3134, -0.0877])"
      ]
     },
     "execution_count": 708,
     "metadata": {},
     "output_type": "execute_result"
    }
   ],
   "source": [
    "a[0]"
   ]
  },
  {
   "cell_type": "code",
   "execution_count": 709,
   "id": "956bbfed",
   "metadata": {},
   "outputs": [
    {
     "data": {
      "text/plain": [
       "tensor(37)"
      ]
     },
     "execution_count": 709,
     "metadata": {},
     "output_type": "execute_result"
    }
   ],
   "source": [
    "a.argmax()"
   ]
  },
  {
   "cell_type": "code",
   "execution_count": 710,
   "id": "88a9bd50",
   "metadata": {},
   "outputs": [
    {
     "data": {
      "text/plain": [
       "tensor([1, 3, 3, 7])"
      ]
     },
     "execution_count": 710,
     "metadata": {},
     "output_type": "execute_result"
    }
   ],
   "source": [
    "a.argmax(dim=1)"
   ]
  },
  {
   "cell_type": "code",
   "execution_count": 711,
   "id": "c6277bbb",
   "metadata": {},
   "outputs": [
    {
     "data": {
      "text/plain": [
       "tensor([3, 3, 3, 2, 3, 3, 1, 3, 2, 2])"
      ]
     },
     "execution_count": 711,
     "metadata": {},
     "output_type": "execute_result"
    }
   ],
   "source": [
    "a.argmax(dim=0)"
   ]
  },
  {
   "cell_type": "code",
   "execution_count": 712,
   "id": "30c76fb6",
   "metadata": {},
   "outputs": [
    {
     "data": {
      "text/plain": [
       "tensor([5, 9, 4, 6])"
      ]
     },
     "execution_count": 712,
     "metadata": {},
     "output_type": "execute_result"
    }
   ],
   "source": [
    "a.argmin(dim=1)"
   ]
  },
  {
   "cell_type": "code",
   "execution_count": 713,
   "id": "fee83ae0",
   "metadata": {},
   "outputs": [
    {
     "data": {
      "text/plain": [
       "tensor([0, 2, 0, 0, 2, 0, 2, 1, 1, 1])"
      ]
     },
     "execution_count": 713,
     "metadata": {},
     "output_type": "execute_result"
    }
   ],
   "source": [
    "a.argmin(dim=0)"
   ]
  },
  {
   "cell_type": "markdown",
   "id": "7357b8f1",
   "metadata": {},
   "source": [
    "## dim（dimension，维度）与keepdim"
   ]
  },
  {
   "cell_type": "code",
   "execution_count": 714,
   "id": "e7afbe23",
   "metadata": {},
   "outputs": [
    {
     "data": {
      "text/plain": [
       "tensor([[-1.2356,  0.6874, -1.3478, -1.3104, -0.9571, -1.8671, -0.5941,  0.5568,\n",
       "         -1.3134, -0.0877],\n",
       "        [-0.7692,  0.5214, -0.5936,  0.8442,  0.7307,  0.1262,  0.5050, -0.4720,\n",
       "         -1.5647, -1.6788],\n",
       "        [-0.4388, -0.2661, -1.2882,  0.9870, -2.6292, -0.4162, -1.3685,  0.0824,\n",
       "          0.1719,  0.7527],\n",
       "        [ 1.1052,  1.1558, -0.0644, -0.0294,  0.9656,  0.8240, -1.2425,  1.6834,\n",
       "         -0.5566, -0.2451]])"
      ]
     },
     "execution_count": 714,
     "metadata": {},
     "output_type": "execute_result"
    }
   ],
   "source": [
    "a"
   ]
  },
  {
   "cell_type": "code",
   "execution_count": 715,
   "id": "e270498b",
   "metadata": {},
   "outputs": [
    {
     "data": {
      "text/plain": [
       "torch.return_types.max(\n",
       "values=tensor([0.6874, 0.8442, 0.9870, 1.6834]),\n",
       "indices=tensor([1, 3, 3, 7]))"
      ]
     },
     "execution_count": 715,
     "metadata": {},
     "output_type": "execute_result"
    }
   ],
   "source": [
    "a.max(dim=1)"
   ]
  },
  {
   "cell_type": "code",
   "execution_count": 716,
   "id": "6dd255bf",
   "metadata": {},
   "outputs": [
    {
     "data": {
      "text/plain": [
       "tensor([1, 3, 3, 7])"
      ]
     },
     "execution_count": 716,
     "metadata": {},
     "output_type": "execute_result"
    }
   ],
   "source": [
    "a.argmax(dim=1)"
   ]
  },
  {
   "cell_type": "code",
   "execution_count": 717,
   "id": "9a2f6b69",
   "metadata": {},
   "outputs": [
    {
     "data": {
      "text/plain": [
       "torch.return_types.max(\n",
       "values=tensor([[0.6874],\n",
       "        [0.8442],\n",
       "        [0.9870],\n",
       "        [1.6834]]),\n",
       "indices=tensor([[1],\n",
       "        [3],\n",
       "        [3],\n",
       "        [7]]))"
      ]
     },
     "execution_count": 717,
     "metadata": {},
     "output_type": "execute_result"
    }
   ],
   "source": [
    "a.max(dim=1, keepdim=True)"
   ]
  },
  {
   "cell_type": "code",
   "execution_count": 718,
   "id": "c2f9ef89",
   "metadata": {},
   "outputs": [
    {
     "data": {
      "text/plain": [
       "tensor([[1],\n",
       "        [3],\n",
       "        [3],\n",
       "        [7]])"
      ]
     },
     "execution_count": 718,
     "metadata": {},
     "output_type": "execute_result"
    }
   ],
   "source": [
    "a.argmax(dim=1, keepdim=True)"
   ]
  },
  {
   "cell_type": "markdown",
   "id": "0439cfd0",
   "metadata": {},
   "source": [
    "## topk"
   ]
  },
  {
   "cell_type": "code",
   "execution_count": 719,
   "id": "4eff3f4b",
   "metadata": {},
   "outputs": [
    {
     "data": {
      "text/plain": [
       "tensor([[-1.2356,  0.6874, -1.3478, -1.3104, -0.9571, -1.8671, -0.5941,  0.5568,\n",
       "         -1.3134, -0.0877],\n",
       "        [-0.7692,  0.5214, -0.5936,  0.8442,  0.7307,  0.1262,  0.5050, -0.4720,\n",
       "         -1.5647, -1.6788],\n",
       "        [-0.4388, -0.2661, -1.2882,  0.9870, -2.6292, -0.4162, -1.3685,  0.0824,\n",
       "          0.1719,  0.7527],\n",
       "        [ 1.1052,  1.1558, -0.0644, -0.0294,  0.9656,  0.8240, -1.2425,  1.6834,\n",
       "         -0.5566, -0.2451]])"
      ]
     },
     "execution_count": 719,
     "metadata": {},
     "output_type": "execute_result"
    }
   ],
   "source": [
    "a"
   ]
  },
  {
   "cell_type": "code",
   "execution_count": 720,
   "id": "f859d7e6",
   "metadata": {},
   "outputs": [
    {
     "data": {
      "text/plain": [
       "torch.return_types.topk(\n",
       "values=tensor([[ 0.6874,  0.5568, -0.0877],\n",
       "        [ 0.8442,  0.7307,  0.5214],\n",
       "        [ 0.9870,  0.7527,  0.1719],\n",
       "        [ 1.6834,  1.1558,  1.1052]]),\n",
       "indices=tensor([[1, 7, 9],\n",
       "        [3, 4, 1],\n",
       "        [3, 9, 8],\n",
       "        [7, 1, 0]]))"
      ]
     },
     "execution_count": 720,
     "metadata": {},
     "output_type": "execute_result"
    }
   ],
   "source": [
    "a.topk(3, dim=1)"
   ]
  },
  {
   "cell_type": "code",
   "execution_count": 721,
   "id": "7f522fcb",
   "metadata": {},
   "outputs": [
    {
     "data": {
      "text/plain": [
       "torch.return_types.topk(\n",
       "values=tensor([[-1.8671, -1.3478, -1.3134],\n",
       "        [-1.6788, -1.5647, -0.7692],\n",
       "        [-2.6292, -1.3685, -1.2882],\n",
       "        [-1.2425, -0.5566, -0.2451]]),\n",
       "indices=tensor([[5, 2, 8],\n",
       "        [9, 8, 0],\n",
       "        [4, 6, 2],\n",
       "        [6, 8, 9]]))"
      ]
     },
     "execution_count": 721,
     "metadata": {},
     "output_type": "execute_result"
    }
   ],
   "source": [
    "a.topk(3, dim=1, largest=False)"
   ]
  },
  {
   "cell_type": "markdown",
   "id": "d14304fe",
   "metadata": {},
   "source": [
    "## kthvalue"
   ]
  },
  {
   "cell_type": "code",
   "execution_count": 722,
   "id": "725e20e0",
   "metadata": {},
   "outputs": [
    {
     "data": {
      "text/plain": [
       "tensor([[-1.2356,  0.6874, -1.3478, -1.3104, -0.9571, -1.8671, -0.5941,  0.5568,\n",
       "         -1.3134, -0.0877],\n",
       "        [-0.7692,  0.5214, -0.5936,  0.8442,  0.7307,  0.1262,  0.5050, -0.4720,\n",
       "         -1.5647, -1.6788],\n",
       "        [-0.4388, -0.2661, -1.2882,  0.9870, -2.6292, -0.4162, -1.3685,  0.0824,\n",
       "          0.1719,  0.7527],\n",
       "        [ 1.1052,  1.1558, -0.0644, -0.0294,  0.9656,  0.8240, -1.2425,  1.6834,\n",
       "         -0.5566, -0.2451]])"
      ]
     },
     "execution_count": 722,
     "metadata": {},
     "output_type": "execute_result"
    }
   ],
   "source": [
    "a"
   ]
  },
  {
   "cell_type": "code",
   "execution_count": 723,
   "id": "77a30c24",
   "metadata": {},
   "outputs": [
    {
     "data": {
      "text/plain": [
       "torch.return_types.kthvalue(\n",
       "values=tensor([-0.0877,  0.5214,  0.1719,  1.1052]),\n",
       "indices=tensor([9, 1, 8, 0]))"
      ]
     },
     "execution_count": 723,
     "metadata": {},
     "output_type": "execute_result"
    }
   ],
   "source": [
    "# kthvalue函数用于返回输入张量在指定维度上的第k个最小值及其索引\n",
    "a.kthvalue(8, dim=1)"
   ]
  },
  {
   "cell_type": "code",
   "execution_count": 724,
   "id": "f5624d20",
   "metadata": {},
   "outputs": [
    {
     "data": {
      "text/plain": [
       "torch.return_types.kthvalue(\n",
       "values=tensor([-1.3134, -0.7692, -1.2882, -0.2451]),\n",
       "indices=tensor([8, 0, 2, 9]))"
      ]
     },
     "execution_count": 724,
     "metadata": {},
     "output_type": "execute_result"
    }
   ],
   "source": [
    "a.kthvalue(3)"
   ]
  },
  {
   "cell_type": "code",
   "execution_count": 725,
   "id": "0fe6c77c",
   "metadata": {
    "scrolled": true
   },
   "outputs": [
    {
     "data": {
      "text/plain": [
       "torch.return_types.kthvalue(\n",
       "values=tensor([-1.3134, -0.7692, -1.2882, -0.2451]),\n",
       "indices=tensor([8, 0, 2, 9]))"
      ]
     },
     "execution_count": 725,
     "metadata": {},
     "output_type": "execute_result"
    }
   ],
   "source": [
    "a.kthvalue(3, dim=1)"
   ]
  },
  {
   "cell_type": "markdown",
   "id": "e00ac8ef-ad91-4230-818a-b2f4581418a0",
   "metadata": {},
   "source": [
    "## norm（范数）"
   ]
  },
  {
   "cell_type": "code",
   "execution_count": 726,
   "id": "bb9bc4f1",
   "metadata": {},
   "outputs": [],
   "source": [
    "a = torch.full([8], 1.0)"
   ]
  },
  {
   "cell_type": "code",
   "execution_count": 727,
   "id": "b9d50b90",
   "metadata": {},
   "outputs": [],
   "source": [
    "b = a.view(2, 4)"
   ]
  },
  {
   "cell_type": "code",
   "execution_count": 728,
   "id": "0cd74e14",
   "metadata": {},
   "outputs": [],
   "source": [
    "c = a.view(2, 2, 2)"
   ]
  },
  {
   "cell_type": "code",
   "execution_count": 729,
   "id": "91015dc6",
   "metadata": {},
   "outputs": [
    {
     "data": {
      "text/plain": [
       "tensor([1., 1., 1., 1., 1., 1., 1., 1.])"
      ]
     },
     "execution_count": 729,
     "metadata": {},
     "output_type": "execute_result"
    }
   ],
   "source": [
    "a"
   ]
  },
  {
   "cell_type": "code",
   "execution_count": 730,
   "id": "5c592d95",
   "metadata": {},
   "outputs": [
    {
     "data": {
      "text/plain": [
       "tensor([[1., 1., 1., 1.],\n",
       "        [1., 1., 1., 1.]])"
      ]
     },
     "execution_count": 730,
     "metadata": {},
     "output_type": "execute_result"
    }
   ],
   "source": [
    "b"
   ]
  },
  {
   "cell_type": "code",
   "execution_count": 731,
   "id": "bd9f2b9a",
   "metadata": {},
   "outputs": [
    {
     "data": {
      "text/plain": [
       "tensor([[[1., 1.],\n",
       "         [1., 1.]],\n",
       "\n",
       "        [[1., 1.],\n",
       "         [1., 1.]]])"
      ]
     },
     "execution_count": 731,
     "metadata": {},
     "output_type": "execute_result"
    }
   ],
   "source": [
    "c"
   ]
  },
  {
   "cell_type": "code",
   "execution_count": 732,
   "id": "ca17f41e",
   "metadata": {},
   "outputs": [
    {
     "data": {
      "text/plain": [
       "(tensor(8.), tensor(8.), tensor(8.))"
      ]
     },
     "execution_count": 732,
     "metadata": {},
     "output_type": "execute_result"
    }
   ],
   "source": [
    "# 范数1：绝对值求和 \n",
    "a.norm(1), b.norm(1), c.norm(1)"
   ]
  },
  {
   "cell_type": "code",
   "execution_count": 733,
   "id": "e050f2fc",
   "metadata": {},
   "outputs": [
    {
     "data": {
      "text/plain": [
       "(tensor(2.8284), tensor(2.8284), tensor(2.8284))"
      ]
     },
     "execution_count": 733,
     "metadata": {},
     "output_type": "execute_result"
    }
   ],
   "source": [
    "# 范数2：平方和开根号\n",
    "a.norm(2), b.norm(2), c.norm(2)"
   ]
  },
  {
   "cell_type": "code",
   "execution_count": 734,
   "id": "d870a053",
   "metadata": {},
   "outputs": [
    {
     "data": {
      "text/plain": [
       "tensor([[1., 1., 1., 1.],\n",
       "        [1., 1., 1., 1.]])"
      ]
     },
     "execution_count": 734,
     "metadata": {},
     "output_type": "execute_result"
    }
   ],
   "source": [
    "b"
   ]
  },
  {
   "cell_type": "code",
   "execution_count": 735,
   "id": "92220c9f",
   "metadata": {},
   "outputs": [
    {
     "data": {
      "text/plain": [
       "tensor([4., 4.])"
      ]
     },
     "execution_count": 735,
     "metadata": {},
     "output_type": "execute_result"
    }
   ],
   "source": [
    "b.norm(1, dim=1)"
   ]
  },
  {
   "cell_type": "code",
   "execution_count": 736,
   "id": "a764b2bc",
   "metadata": {},
   "outputs": [
    {
     "data": {
      "text/plain": [
       "tensor([2., 2.])"
      ]
     },
     "execution_count": 736,
     "metadata": {},
     "output_type": "execute_result"
    }
   ],
   "source": [
    "b.norm(2, dim=1)"
   ]
  },
  {
   "cell_type": "code",
   "execution_count": 737,
   "id": "3558aeea",
   "metadata": {},
   "outputs": [
    {
     "data": {
      "text/plain": [
       "tensor([[[1., 1.],\n",
       "         [1., 1.]],\n",
       "\n",
       "        [[1., 1.],\n",
       "         [1., 1.]]])"
      ]
     },
     "execution_count": 737,
     "metadata": {},
     "output_type": "execute_result"
    }
   ],
   "source": [
    "c"
   ]
  },
  {
   "cell_type": "code",
   "execution_count": 738,
   "id": "ccc86c55",
   "metadata": {},
   "outputs": [
    {
     "data": {
      "text/plain": [
       "tensor([[2., 2.],\n",
       "        [2., 2.]])"
      ]
     },
     "execution_count": 738,
     "metadata": {},
     "output_type": "execute_result"
    }
   ],
   "source": [
    "c.norm(1, dim=0)"
   ]
  },
  {
   "cell_type": "code",
   "execution_count": 739,
   "id": "0c572d22",
   "metadata": {},
   "outputs": [
    {
     "data": {
      "text/plain": [
       "tensor([[1.4142, 1.4142],\n",
       "        [1.4142, 1.4142]])"
      ]
     },
     "execution_count": 739,
     "metadata": {},
     "output_type": "execute_result"
    }
   ],
   "source": [
    "c.norm(2, dim=0)"
   ]
  },
  {
   "cell_type": "code",
   "execution_count": null,
   "id": "ac02d032",
   "metadata": {},
   "outputs": [],
   "source": []
  }
 ],
 "metadata": {
  "kernelspec": {
   "display_name": "Python 3 (ipykernel)",
   "language": "python",
   "name": "python3"
  },
  "language_info": {
   "codemirror_mode": {
    "name": "ipython",
    "version": 3
   },
   "file_extension": ".py",
   "mimetype": "text/x-python",
   "name": "python",
   "nbconvert_exporter": "python",
   "pygments_lexer": "ipython3",
   "version": "3.9.21"
  },
  "toc": {
   "base_numbering": 1,
   "nav_menu": {},
   "number_sections": true,
   "sideBar": true,
   "skip_h1_title": false,
   "title_cell": "Table of Contents",
   "title_sidebar": "Contents",
   "toc_cell": false,
   "toc_position": {
    "height": "calc(100% - 180px)",
    "left": "10px",
    "top": "150px",
    "width": "284.318px"
   },
   "toc_section_display": true,
   "toc_window_display": true
  }
 },
 "nbformat": 4,
 "nbformat_minor": 5
}
