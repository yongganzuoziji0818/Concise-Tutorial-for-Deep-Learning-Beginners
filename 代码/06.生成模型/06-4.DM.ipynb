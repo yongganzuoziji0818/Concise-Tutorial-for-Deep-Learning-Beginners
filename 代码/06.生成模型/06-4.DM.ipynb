{
 "cells": [
  {
   "cell_type": "code",
   "execution_count": 1,
   "id": "b4b9da3a-5a7a-458e-9aa9-6dafd044177a",
   "metadata": {},
   "outputs": [],
   "source": [
    "import torch\n",
    "import torch.nn as nn\n",
    "import torch.nn.functional as F\n",
    "import torch.optim as optim\n",
    "from torch.utils.data import DataLoader\n",
    "import torchvision\n",
    "from torchvision import datasets, transforms\n",
    "from torchvision.transforms import Compose, ToTensor, Lambda\n",
    "import matplotlib.pyplot as plt\n",
    "import cv2\n",
    "import numpy as np\n",
    "import einops\n",
    "import time"
   ]
  },
  {
   "cell_type": "code",
   "execution_count": 2,
   "id": "96b563e7-7821-44a3-ae62-1054f4b11b92",
   "metadata": {},
   "outputs": [],
   "source": [
    "batch_size = 512\n",
    "n_epochs = 50\n",
    "n_steps = 1000\n",
    "device = 'cuda'\n",
    "model_path = 'model/unet.pt'\n",
    "image_path = 'image/dm/sample.png'"
   ]
  },
  {
   "cell_type": "markdown",
   "id": "638b2eea-72a5-44e2-8b24-6b3a0f106e5e",
   "metadata": {},
   "source": [
    "# 数据加载"
   ]
  },
  {
   "cell_type": "code",
   "execution_count": 3,
   "id": "0c2aeef0-7958-4565-bc11-705f41581ad7",
   "metadata": {},
   "outputs": [],
   "source": [
    "def get_dataloader(batch_size: int):\n",
    "    transform = Compose([ToTensor(), Lambda(lambda x: (x - 0.5) * 2)])\n",
    "    dataset = torchvision.datasets.MNIST(root='data/',\n",
    "                                         transform=transform)\n",
    "    return DataLoader(dataset, batch_size=batch_size, shuffle=True)"
   ]
  },
  {
   "cell_type": "markdown",
   "id": "2242363b-27a6-4302-854a-49a98b4b8d20",
   "metadata": {},
   "source": [
    "# 算法定义"
   ]
  },
  {
   "cell_type": "code",
   "execution_count": 4,
   "id": "2a32d60f-e98c-4e44-8127-b6710a6bb6e4",
   "metadata": {},
   "outputs": [],
   "source": [
    "class DDPM():\n",
    "    # n_steps就是论文里的T\n",
    "    def __init__(self,\n",
    "                 device,\n",
    "                 n_steps: int,\n",
    "                 min_beta: float = 0.0001,\n",
    "                 max_beta: float = 0.02):\n",
    "        betas = torch.linspace(min_beta, max_beta, n_steps).to(device)\n",
    "        alphas = 1 - betas\n",
    "        alpha_bars = torch.empty_like(alphas)\n",
    "        product = 1\n",
    "        for i, alpha in enumerate(alphas):\n",
    "            product *= alpha\n",
    "            alpha_bars[i] = product\n",
    "        self.betas = betas\n",
    "        self.n_steps = n_steps\n",
    "        self.alphas = alphas\n",
    "        self.alpha_bars = alpha_bars\n",
    "    def sample_forward(self, x, t, eps=None):\n",
    "        alpha_bar = self.alpha_bars[t].reshape(-1, 1, 1, 1)\n",
    "        if eps is None:\n",
    "            eps = torch.randn_like(x)\n",
    "        res = eps * torch.sqrt(1 - alpha_bar) + torch.sqrt(alpha_bar) * x\n",
    "        return res\n",
    "    def sample_backward(self, img_shape, net, device, simple_var=True):\n",
    "        x = torch.randn(img_shape).to(device)\n",
    "        net = net.to(device)\n",
    "        for t in range(self.n_steps - 1, -1, -1):\n",
    "            x = self.sample_backward_step(x, t, net, simple_var)\n",
    "        return x\n",
    "    def sample_backward_step(self, x_t, t, net, simple_var=True):\n",
    "        n = x_t.shape[0]\n",
    "        t_tensor = torch.tensor([t] * n,\n",
    "                                dtype=torch.long).to(x_t.device).unsqueeze(1)\n",
    "        eps = net(x_t, t_tensor)\n",
    "        if t == 0:\n",
    "            noise = 0\n",
    "        else:\n",
    "            if simple_var:\n",
    "                var = self.betas[t]\n",
    "            else:\n",
    "                var = (1 - self.alpha_bars[t - 1]) / (\n",
    "                    1 - self.alpha_bars[t]) * self.betas[t]\n",
    "            noise = torch.randn_like(x_t)\n",
    "            noise *= torch.sqrt(var)\n",
    "        mean = (x_t -\n",
    "                (1 - self.alphas[t]) / torch.sqrt(1 - self.alpha_bars[t]) *\n",
    "                eps) / torch.sqrt(self.alphas[t])\n",
    "        x_t = mean + noise\n",
    "        return x_t"
   ]
  },
  {
   "cell_type": "markdown",
   "id": "df010b1d-ee43-4b25-8920-b09969bc578b",
   "metadata": {},
   "source": [
    "# 模型定义"
   ]
  },
  {
   "cell_type": "code",
   "execution_count": 5,
   "id": "334fdb3b-621e-4d84-8807-d635f645738f",
   "metadata": {},
   "outputs": [],
   "source": [
    "def get_img_shape():\n",
    "    return (1, 28, 28)"
   ]
  },
  {
   "cell_type": "markdown",
   "id": "c1338907-3354-4183-a351-599484bb120d",
   "metadata": {},
   "source": [
    "## 时间戳位置编码"
   ]
  },
  {
   "cell_type": "code",
   "execution_count": 6,
   "id": "f025fb81-ac27-448f-9584-5a04c781bc37",
   "metadata": {},
   "outputs": [],
   "source": [
    "# 去噪网络的输入除了图像外，还有一个时间戳t。\n",
    "# 我们要考虑怎么把t的信息和输入图像信息融合起来。\n",
    "# 大部分人的做法是对t进行Transformer中的位置编码，把该编码加到图像的每一处上。\n",
    "class PositionalEncoding(nn.Module):\n",
    "    def __init__(self, max_seq_len: int, d_model: int):\n",
    "        super().__init__()\n",
    "        # Assume d_model is an even number for convenience\n",
    "        assert d_model % 2 == 0\n",
    "        pe = torch.zeros(max_seq_len, d_model)\n",
    "        i_seq = torch.linspace(0, max_seq_len - 1, max_seq_len)\n",
    "        j_seq = torch.linspace(0, d_model - 2, d_model // 2)\n",
    "        pos, two_i = torch.meshgrid(i_seq, j_seq)\n",
    "        pe_2i = torch.sin(pos / 10000**(two_i / d_model))\n",
    "        pe_2i_1 = torch.cos(pos / 10000**(two_i / d_model))\n",
    "        pe = torch.stack((pe_2i, pe_2i_1), 2).reshape(max_seq_len, d_model)\n",
    "        self.embedding = nn.Embedding(max_seq_len, d_model)\n",
    "        self.embedding.weight.data = pe\n",
    "        self.embedding.requires_grad_(False)\n",
    "\n",
    "    def forward(self, t):\n",
    "        return self.embedding(t)"
   ]
  },
  {
   "cell_type": "markdown",
   "id": "6b2b5191-863a-4b4a-b6ec-74cb1d584da7",
   "metadata": {},
   "source": [
    "## ConvNet"
   ]
  },
  {
   "cell_type": "code",
   "execution_count": 7,
   "id": "d3bb3271-e5d2-420f-9eff-280dd22bbb99",
   "metadata": {},
   "outputs": [],
   "source": [
    "class ConvNet(nn.Module):\n",
    "    def __init__(self,\n",
    "                 n_steps,\n",
    "                 intermediate_channels=[10, 20, 40],\n",
    "                 pe_dim=10,\n",
    "                 insert_t_to_all_layers=False):\n",
    "        super().__init__()\n",
    "        C, H, W = get_img_shape()  # 1, 28, 28\n",
    "        self.pe = PositionalEncoding(n_steps, pe_dim)\n",
    "        self.pe_linears = nn.ModuleList()\n",
    "        self.all_t = insert_t_to_all_layers\n",
    "        if not insert_t_to_all_layers:\n",
    "            self.pe_linears.append(nn.Linear(pe_dim, C))\n",
    "        self.residual_blocks = nn.ModuleList()\n",
    "        prev_channel = C\n",
    "        for channel in intermediate_channels:\n",
    "            self.residual_blocks.append(ResidualBlock(prev_channel, channel))\n",
    "            if insert_t_to_all_layers:\n",
    "                self.pe_linears.append(nn.Linear(pe_dim, prev_channel))\n",
    "            else:\n",
    "                self.pe_linears.append(None)\n",
    "            prev_channel = channel\n",
    "        self.output_layer = nn.Conv2d(prev_channel, C, 3, 1, 1)\n",
    "\n",
    "    def forward(self, x, t):\n",
    "        n = t.shape[0]\n",
    "        t = self.pe(t)\n",
    "        for m_x, m_t in zip(self.residual_blocks, self.pe_linears):\n",
    "            if m_t is not None:\n",
    "                pe = m_t(t).reshape(n, -1, 1, 1)\n",
    "                x = x + pe\n",
    "            x = m_x(x)\n",
    "        x = self.output_layer(x)\n",
    "        return x"
   ]
  },
  {
   "cell_type": "markdown",
   "id": "705ae3e2-2de6-4e94-8c82-36ae302a261d",
   "metadata": {},
   "source": [
    "## UNet"
   ]
  },
  {
   "cell_type": "code",
   "execution_count": 8,
   "id": "c6701aa4-77b3-4f8a-9748-378d39ac1889",
   "metadata": {},
   "outputs": [],
   "source": [
    "class UNet(nn.Module):\n",
    "    def __init__(self,\n",
    "                 n_steps,\n",
    "                 channels=[10, 20, 40, 80],\n",
    "                 pe_dim=10,\n",
    "                 residual=False) -> None:\n",
    "        super().__init__()\n",
    "        C, H, W = get_img_shape()\n",
    "        layers = len(channels)\n",
    "        Hs = [H]\n",
    "        Ws = [W]\n",
    "        cH = H\n",
    "        cW = W\n",
    "        for _ in range(layers - 1):\n",
    "            cH //= 2\n",
    "            cW //= 2\n",
    "            Hs.append(cH)\n",
    "            Ws.append(cW)\n",
    "        self.pe = PositionalEncoding(n_steps, pe_dim)\n",
    "        self.encoders = nn.ModuleList()\n",
    "        self.decoders = nn.ModuleList()\n",
    "        self.pe_linears_en = nn.ModuleList()\n",
    "        self.pe_linears_de = nn.ModuleList()\n",
    "        self.downs = nn.ModuleList()\n",
    "        self.ups = nn.ModuleList()\n",
    "        prev_channel = C\n",
    "        for channel, cH, cW in zip(channels[0:-1], Hs[0:-1], Ws[0:-1]):\n",
    "            self.pe_linears_en.append(\n",
    "                nn.Sequential(nn.Linear(pe_dim, prev_channel), nn.ReLU(),\n",
    "                              nn.Linear(prev_channel, prev_channel)))\n",
    "            self.encoders.append(\n",
    "                nn.Sequential(\n",
    "                    UNetBlock((prev_channel, cH, cW),\n",
    "                              prev_channel,\n",
    "                              channel,\n",
    "                              residual=residual),\n",
    "                    UNetBlock((channel, cH, cW),\n",
    "                              channel,\n",
    "                              channel,\n",
    "                              residual=residual)))\n",
    "            self.downs.append(nn.Conv2d(channel, channel, 2, 2))\n",
    "            prev_channel = channel\n",
    "        self.pe_mid = nn.Linear(pe_dim, prev_channel)\n",
    "        channel = channels[-1]\n",
    "        self.mid = nn.Sequential(\n",
    "            UNetBlock((prev_channel, Hs[-1], Ws[-1]),\n",
    "                      prev_channel,\n",
    "                      channel,\n",
    "                      residual=residual),\n",
    "            UNetBlock((channel, Hs[-1], Ws[-1]),\n",
    "                      channel,\n",
    "                      channel,\n",
    "                      residual=residual),\n",
    "        )\n",
    "        prev_channel = channel\n",
    "        for channel, cH, cW in zip(channels[-2::-1], Hs[-2::-1], Ws[-2::-1]):\n",
    "            self.pe_linears_de.append(nn.Linear(pe_dim, prev_channel))\n",
    "            self.ups.append(nn.ConvTranspose2d(prev_channel, channel, 2, 2))\n",
    "            self.decoders.append(\n",
    "                nn.Sequential(\n",
    "                    UNetBlock((channel * 2, cH, cW),\n",
    "                              channel * 2,\n",
    "                              channel,\n",
    "                              residual=residual),\n",
    "                    UNetBlock((channel, cH, cW),\n",
    "                              channel,\n",
    "                              channel,\n",
    "                              residual=residual)))\n",
    "\n",
    "            prev_channel = channel\n",
    "        self.conv_out = nn.Conv2d(prev_channel, C, 3, 1, 1)\n",
    "\n",
    "    def forward(self, x, t):\n",
    "        n = t.shape[0]\n",
    "        t = self.pe(t)\n",
    "        encoder_outs = []\n",
    "        for pe_linear, encoder, down in zip(self.pe_linears_en, self.encoders,\n",
    "                                            self.downs):\n",
    "            pe = pe_linear(t).reshape(n, -1, 1, 1)\n",
    "            x = encoder(x + pe)\n",
    "            encoder_outs.append(x)\n",
    "            x = down(x)\n",
    "        pe = self.pe_mid(t).reshape(n, -1, 1, 1)\n",
    "        x = self.mid(x + pe)\n",
    "        for pe_linear, decoder, up, encoder_out in zip(self.pe_linears_de,\n",
    "                                                       self.decoders, self.ups,\n",
    "                                                       encoder_outs[::-1]):\n",
    "            pe = pe_linear(t).reshape(n, -1, 1, 1)\n",
    "            x = up(x)\n",
    "            pad_x = encoder_out.shape[2] - x.shape[2]\n",
    "            pad_y = encoder_out.shape[3] - x.shape[3]\n",
    "            x = F.pad(x, (pad_x // 2, pad_x - pad_x // 2, pad_y // 2,\n",
    "                          pad_y - pad_y // 2))\n",
    "            x = torch.cat((encoder_out, x), dim=1)\n",
    "            x = decoder(x + pe)\n",
    "        x = self.conv_out(x)\n",
    "        return x"
   ]
  },
  {
   "cell_type": "markdown",
   "id": "1a5782fa-a8f4-401e-bd46-ca02a2c98e38",
   "metadata": {},
   "source": [
    "## ResidualBlock"
   ]
  },
  {
   "cell_type": "code",
   "execution_count": 9,
   "id": "460a27db-2fc3-4b93-a37d-7cfb5384324a",
   "metadata": {},
   "outputs": [],
   "source": [
    "class ResidualBlock(nn.Module):\n",
    "    def __init__(self, in_c: int, out_c: int):\n",
    "        super().__init__()\n",
    "        self.conv1 = nn.Conv2d(in_c, out_c, 3, 1, 1)\n",
    "        self.bn1 = nn.BatchNorm2d(out_c)\n",
    "        self.actvation1 = nn.ReLU()\n",
    "        self.conv2 = nn.Conv2d(out_c, out_c, 3, 1, 1)\n",
    "        self.bn2 = nn.BatchNorm2d(out_c)\n",
    "        self.actvation2 = nn.ReLU()\n",
    "        if in_c != out_c:\n",
    "            self.shortcut = nn.Sequential(nn.Conv2d(in_c, out_c, 1),\n",
    "                                          nn.BatchNorm2d(out_c))\n",
    "        else:\n",
    "            self.shortcut = nn.Identity()\n",
    "\n",
    "    def forward(self, input):\n",
    "        x = self.conv1(input)\n",
    "        x = self.bn1(x)\n",
    "        x = self.actvation1(x)\n",
    "        x = self.conv2(x)\n",
    "        x = self.bn2(x)\n",
    "        x += self.shortcut(input)\n",
    "        x = self.actvation2(x)\n",
    "        return x"
   ]
  },
  {
   "cell_type": "markdown",
   "id": "668830c2-5c19-4491-aad4-a49f5839c005",
   "metadata": {},
   "source": [
    "## UNetBlock"
   ]
  },
  {
   "cell_type": "code",
   "execution_count": 10,
   "id": "c44fc561-c00d-44f5-b479-7b40a0fe55f4",
   "metadata": {},
   "outputs": [],
   "source": [
    "class UNetBlock(nn.Module):\n",
    "    def __init__(self, shape, in_c, out_c, residual=False):\n",
    "        super().__init__()\n",
    "        self.ln = nn.LayerNorm(shape)\n",
    "        self.conv1 = nn.Conv2d(in_c, out_c, 3, 1, 1)\n",
    "        self.conv2 = nn.Conv2d(out_c, out_c, 3, 1, 1)\n",
    "        self.activation = nn.ReLU()\n",
    "        self.residual = residual\n",
    "        if residual:\n",
    "            if in_c == out_c:\n",
    "                self.residual_conv = nn.Identity()\n",
    "            else:\n",
    "                self.residual_conv = nn.Conv2d(in_c, out_c, 1)\n",
    "\n",
    "    def forward(self, x):\n",
    "        out = self.ln(x)\n",
    "        out = self.conv1(out)\n",
    "        out = self.activation(out)\n",
    "        out = self.conv2(out)\n",
    "        if self.residual:\n",
    "            out += self.residual_conv(x)\n",
    "        out = self.activation(out)\n",
    "        return out"
   ]
  },
  {
   "cell_type": "markdown",
   "id": "b63e2bdf-b24f-4052-85e9-bea6a8e13db1",
   "metadata": {},
   "source": [
    "## build_network"
   ]
  },
  {
   "cell_type": "code",
   "execution_count": 11,
   "id": "c6c6c2ba-fe9e-42a2-98ee-6e7f9f3edadb",
   "metadata": {},
   "outputs": [],
   "source": [
    "convnet_small_cfg = {\n",
    "    'type': 'ConvNet',\n",
    "    'intermediate_channels': [10, 20],\n",
    "    'pe_dim': 128\n",
    "}\n",
    "\n",
    "convnet_medium_cfg = {\n",
    "    'type': 'ConvNet',\n",
    "    'intermediate_channels': [10, 10, 20, 20, 40, 40, 80, 80],\n",
    "    'pe_dim': 256,\n",
    "    'insert_t_to_all_layers': True\n",
    "}\n",
    "convnet_big_cfg = {\n",
    "    'type': 'ConvNet',\n",
    "    'intermediate_channels': [20, 20, 40, 40, 80, 80, 160, 160],\n",
    "    'pe_dim': 256,\n",
    "    'insert_t_to_all_layers': True\n",
    "}\n",
    "\n",
    "unet_1_cfg = {\n",
    "    'type': 'UNet', \n",
    "    'channels': [10, 20, 40, 80], \n",
    "    'pe_dim': 128\n",
    "}\n",
    "\n",
    "unet_res_cfg = {\n",
    "    'type': 'UNet',\n",
    "    'channels': [10, 20, 40, 80],\n",
    "    'pe_dim': 128,\n",
    "    'residual': True\n",
    "}"
   ]
  },
  {
   "cell_type": "code",
   "execution_count": 12,
   "id": "0b6c2e1b-580e-4bdd-b722-51cb5db2d183",
   "metadata": {},
   "outputs": [],
   "source": [
    "def build_network(config: dict, n_steps):\n",
    "    network_type = config.pop('type')\n",
    "    if network_type == 'ConvNet':\n",
    "        network_cls = ConvNet\n",
    "    elif network_type == 'UNet':\n",
    "        network_cls = UNet\n",
    "    network = network_cls(n_steps, **config)\n",
    "    return network"
   ]
  },
  {
   "cell_type": "markdown",
   "id": "9c6e9ce1-ae94-4c40-a720-f08a20af1683",
   "metadata": {},
   "source": [
    "# 模型训练"
   ]
  },
  {
   "cell_type": "code",
   "execution_count": 13,
   "id": "a54e49ad-110e-4379-a206-99da83071274",
   "metadata": {},
   "outputs": [],
   "source": [
    "def train(ddpm: DDPM, net, device, ckpt_path):\n",
    "    # n_steps就是公式里的T\n",
    "    # net是某个继承自torch.nn.Module的神经网络\n",
    "    n_steps = ddpm.n_steps\n",
    "    dataloader = get_dataloader(batch_size)\n",
    "    net = net.to(device)\n",
    "    loss_fn = nn.MSELoss()\n",
    "    optimizer = torch.optim.Adam(net.parameters(), 1e-3)\n",
    "    start_time = time.time()\n",
    "    for e in range(n_epochs):\n",
    "        for x, _ in dataloader:\n",
    "            current_batch_size = x.shape[0]\n",
    "            x = x.to(device)\n",
    "            t = torch.randint(0, n_steps, (current_batch_size, )).to(device)\n",
    "            eps = torch.randn_like(x).to(device)\n",
    "            x_t = ddpm.sample_forward(x, t, eps)\n",
    "            eps_theta = net(x_t, t.reshape(current_batch_size, 1))\n",
    "            loss = loss_fn(eps_theta, eps)\n",
    "            optimizer.zero_grad()\n",
    "            loss.backward()\n",
    "            optimizer.step()\n",
    "        if e % 5 == 0:\n",
    "            elapsed = time.time() - start_time\n",
    "            print(\"Iteration: {}, loss {}, elapsed {}s\".format(e, loss.item(), elapsed))\n",
    "            start_time = time.time()\n",
    "    torch.save(net.state_dict(), ckpt_path)"
   ]
  },
  {
   "cell_type": "markdown",
   "id": "adc72d4d-6656-40a9-b194-689a75d8e2d7",
   "metadata": {},
   "source": [
    "# 图片采样"
   ]
  },
  {
   "cell_type": "code",
   "execution_count": 14,
   "id": "0ea51676-a8b6-4c15-9fbb-0a16c98b275e",
   "metadata": {},
   "outputs": [],
   "source": [
    "def sample_imgs(ddpm,\n",
    "                net,\n",
    "                image_path=image_path,\n",
    "                n_sample=81,\n",
    "                device='cuda',\n",
    "                simple_var=True):\n",
    "    net = net.to(device)\n",
    "    net = net.eval()\n",
    "    with torch.no_grad():\n",
    "        shape = (n_sample, *get_img_shape())  # 1, 28, 28\n",
    "        imgs = ddpm.sample_backward(shape,\n",
    "                                    net,\n",
    "                                    device=device,\n",
    "                                    simple_var=simple_var).detach().cpu()\n",
    "        imgs = (imgs + 1) / 2 * 255\n",
    "        imgs = imgs.clamp(0, 255)\n",
    "        imgs = einops.rearrange(imgs,\n",
    "                                '(b1 b2) c h w -> (b1 h) (b2 w) c',\n",
    "                                b1=int(n_sample**0.5))\n",
    "        imgs = imgs.numpy().astype(np.uint8)\n",
    "        cv2.imwrite(image_path, imgs)"
   ]
  },
  {
   "cell_type": "code",
   "execution_count": 15,
   "id": "87136b80-990f-4076-8545-b51425de81f6",
   "metadata": {},
   "outputs": [],
   "source": [
    "def main():\n",
    "    # 在DDPM中，理论上我们可以用任意一种神经网络架构。\n",
    "    # 但由于DDPM任务十分接近图像去噪任务，而U-Net又是去噪任务中最常见的网络架构，\n",
    "    # 因此绝大多数DDPM都会使用基于U-Net的神经网络。\n",
    "    # 哪怕是对于比较简单的MNIST数据集，结构差一点的网络（比如纯ResNet）都不太行，\n",
    "    # 只有带了残差块和时序编码的U-Net才能较好地完成去噪。\n",
    "    # 注意力模块倒是可以不用加上。\n",
    "    config = unet_res_cfg\n",
    "    net = build_network(config, n_steps)\n",
    "    ddpm = DDPM(device, n_steps)\n",
    "    train(ddpm, net, device=device, ckpt_path=model_path)\n",
    "    sample_imgs(ddpm, net)"
   ]
  },
  {
   "cell_type": "code",
   "execution_count": 16,
   "id": "fcef5214-1592-4115-9ea0-19833e2823b9",
   "metadata": {},
   "outputs": [
    {
     "name": "stderr",
     "output_type": "stream",
     "text": [
      "d:\\ProgramData\\Anaconda3\\envs\\DL_Basic\\lib\\site-packages\\torch\\functional.py:554: UserWarning: torch.meshgrid: in an upcoming release, it will be required to pass the indexing argument. (Triggered internally at C:\\actions-runner\\_work\\pytorch\\pytorch\\pytorch\\aten\\src\\ATen\\native\\TensorShape.cpp:4316.)\n",
      "  return _VF.meshgrid(tensors, **kwargs)  # type: ignore[attr-defined]\n"
     ]
    },
    {
     "name": "stdout",
     "output_type": "stream",
     "text": [
      "Iteration: 0, loss 0.09012152254581451, elapsed 183.88099312782288s\n",
      "Iteration: 5, loss 0.03933417797088623, elapsed 421.4480867385864s\n",
      "Iteration: 10, loss 0.029016850516200066, elapsed 410.12997579574585s\n",
      "Iteration: 15, loss 0.03070586733520031, elapsed 385.1125214099884s\n",
      "Iteration: 20, loss 0.02846142277121544, elapsed 380.750892162323s\n",
      "Iteration: 25, loss 0.020598622038960457, elapsed 372.9340400695801s\n",
      "Iteration: 30, loss 0.030252572149038315, elapsed 369.31800079345703s\n",
      "Iteration: 35, loss 0.03361942619085312, elapsed 362.86945104599s\n",
      "Iteration: 40, loss 0.026862170547246933, elapsed 363.79298281669617s\n",
      "Iteration: 45, loss 0.027840808033943176, elapsed 377.10678911209106s\n"
     ]
    }
   ],
   "source": [
    "if __name__ == '__main__':\n",
    "    main()"
   ]
  },
  {
   "cell_type": "code",
   "execution_count": null,
   "id": "6808c3e4-1564-421b-84f9-bd5678050cf3",
   "metadata": {},
   "outputs": [],
   "source": []
  }
 ],
 "metadata": {
  "kernelspec": {
   "display_name": "Python 3 (ipykernel)",
   "language": "python",
   "name": "python3"
  },
  "language_info": {
   "codemirror_mode": {
    "name": "ipython",
    "version": 3
   },
   "file_extension": ".py",
   "mimetype": "text/x-python",
   "name": "python",
   "nbconvert_exporter": "python",
   "pygments_lexer": "ipython3",
   "version": "3.9.21"
  },
  "toc": {
   "base_numbering": 1,
   "nav_menu": {},
   "number_sections": true,
   "sideBar": true,
   "skip_h1_title": false,
   "title_cell": "Table of Contents",
   "title_sidebar": "Contents",
   "toc_cell": false,
   "toc_position": {},
   "toc_section_display": true,
   "toc_window_display": true
  }
 },
 "nbformat": 4,
 "nbformat_minor": 5
}
